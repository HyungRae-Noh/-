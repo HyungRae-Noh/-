{
 "cells": [
  {
   "cell_type": "markdown",
   "metadata": {},
   "source": [
    "## **문제상황**\n",
    "---"
   ]
  },
  {
   "cell_type": "markdown",
   "metadata": {},
   "source": [
    "> 시나리오\n",
    "\n",
    "현재는 2021년\\\n",
    "000님은 가상의 홈쇼핑 기반 온라인 커머스 기업 ‘다잇다'의 데이터 분석가로 해당 서비스의 데이터 분석을 진행하려고 합니다.\\\n",
    "‘다잇다'의 고객 구매 이력 데이터를 기반으로 고객의 추가 구매 유도를 하기 위한 방안을 수립하고자 합니다. "
   ]
  },
  {
   "cell_type": "markdown",
   "metadata": {},
   "source": [
    "## **분석 목표 및 예상 결과물**\n",
    "---\n",
    "\n",
    "**분석 목표**\n",
    "\n",
    "고객의 추가구매 유도를 위한 방안 수립\n",
    "\n",
    "> 분석 방법론\n",
    "1. 전체 데이터 EDA\n",
    "2. Z차트를 이용한 카테고리별 매출 트렌드 파악\n",
    "3. RFM분석을 통한 고객 세분화\n",
    "\n",
    "> 예상 결과물\n",
    "1. 다잇다 쇼핑몰의 매출 트렌드, 고객 구매 활동성을 분석을 통해 타겟 마케팅 전략 수립 "
   ]
  },
  {
   "cell_type": "code",
   "execution_count": 2,
   "metadata": {},
   "outputs": [],
   "source": [
    "## 모듈 임포트\n",
    "import pandas as pd\n",
    "import numpy as np\n",
    "import matplotlib.pyplot as plt\n",
    "import plotly.graph_objs as go\n",
    "import plotly.express as px\n",
    "import seaborn as sns\n",
    "import warnings\n",
    "from datetime import datetime\n",
    "warnings.filterwarnings(action='ignore')\n",
    "import platform\n",
    "if platform.system() == 'Darwin': #맥\n",
    "        plt.rc('font', family='AppleGothic')\n",
    "elif platform.system() == 'Windows': #윈도우\n",
    "        plt.rc('font', family='Malgun Gothic')\n",
    "        plt.rcParams['axes.unicode_minus'] = False"
   ]
  },
  {
   "cell_type": "markdown",
   "metadata": {},
   "source": [
    "## **데이터 Info Check**\n",
    "---"
   ]
  },
  {
   "cell_type": "code",
   "execution_count": 3,
   "metadata": {},
   "outputs": [
    {
     "data": {
      "text/html": [
       "<div>\n",
       "<style scoped>\n",
       "    .dataframe tbody tr th:only-of-type {\n",
       "        vertical-align: middle;\n",
       "    }\n",
       "\n",
       "    .dataframe tbody tr th {\n",
       "        vertical-align: top;\n",
       "    }\n",
       "\n",
       "    .dataframe thead th {\n",
       "        text-align: right;\n",
       "    }\n",
       "</style>\n",
       "<table border=\"1\" class=\"dataframe\">\n",
       "  <thead>\n",
       "    <tr style=\"text-align: right;\">\n",
       "      <th></th>\n",
       "      <th>customer_no</th>\n",
       "      <th>age</th>\n",
       "      <th>gender</th>\n",
       "      <th>order_no</th>\n",
       "      <th>order_date</th>\n",
       "      <th>channel</th>\n",
       "      <th>item_category</th>\n",
       "      <th>item_code</th>\n",
       "      <th>item_name</th>\n",
       "      <th>price</th>\n",
       "      <th>qty</th>\n",
       "      <th>order_amount</th>\n",
       "      <th>discount_amount</th>\n",
       "      <th>paid_amount</th>\n",
       "    </tr>\n",
       "  </thead>\n",
       "  <tbody>\n",
       "    <tr>\n",
       "      <th>0</th>\n",
       "      <td>2021059651101</td>\n",
       "      <td>68.0</td>\n",
       "      <td>9</td>\n",
       "      <td>202106072433746</td>\n",
       "      <td>2021/06/07</td>\n",
       "      <td>TV</td>\n",
       "      <td>캐쥬얼</td>\n",
       "      <td>323421750</td>\n",
       "      <td>밴딩팬츠</td>\n",
       "      <td>49900</td>\n",
       "      <td>1</td>\n",
       "      <td>49900</td>\n",
       "      <td>4990</td>\n",
       "      <td>44910</td>\n",
       "    </tr>\n",
       "    <tr>\n",
       "      <th>1</th>\n",
       "      <td>2018069800502</td>\n",
       "      <td>49.0</td>\n",
       "      <td>2</td>\n",
       "      <td>202105311957155</td>\n",
       "      <td>2021/05/31</td>\n",
       "      <td>TV</td>\n",
       "      <td>레포츠패션</td>\n",
       "      <td>323516657</td>\n",
       "      <td>트랙수트</td>\n",
       "      <td>39000</td>\n",
       "      <td>1</td>\n",
       "      <td>39000</td>\n",
       "      <td>1000</td>\n",
       "      <td>38000</td>\n",
       "    </tr>\n",
       "    <tr>\n",
       "      <th>2</th>\n",
       "      <td>2019073300103</td>\n",
       "      <td>35.0</td>\n",
       "      <td>1</td>\n",
       "      <td>202105138020462</td>\n",
       "      <td>2021/05/13</td>\n",
       "      <td>TV</td>\n",
       "      <td>뷰티</td>\n",
       "      <td>323393459</td>\n",
       "      <td>기초세트</td>\n",
       "      <td>72000</td>\n",
       "      <td>2</td>\n",
       "      <td>144000</td>\n",
       "      <td>27600</td>\n",
       "      <td>116400</td>\n",
       "    </tr>\n",
       "    <tr>\n",
       "      <th>3</th>\n",
       "      <td>2020075283364</td>\n",
       "      <td>41.0</td>\n",
       "      <td>9</td>\n",
       "      <td>202106171444319</td>\n",
       "      <td>2021/06/17</td>\n",
       "      <td>TV</td>\n",
       "      <td>건강식품</td>\n",
       "      <td>323420069</td>\n",
       "      <td>유산균</td>\n",
       "      <td>119000</td>\n",
       "      <td>2</td>\n",
       "      <td>238000</td>\n",
       "      <td>72920</td>\n",
       "      <td>165080</td>\n",
       "    </tr>\n",
       "    <tr>\n",
       "      <th>4</th>\n",
       "      <td>2020104780765</td>\n",
       "      <td>46.0</td>\n",
       "      <td>1</td>\n",
       "      <td>202106024431989</td>\n",
       "      <td>2021/06/02</td>\n",
       "      <td>TV</td>\n",
       "      <td>일반식품</td>\n",
       "      <td>321820178</td>\n",
       "      <td>건강주스</td>\n",
       "      <td>45900</td>\n",
       "      <td>1</td>\n",
       "      <td>45900</td>\n",
       "      <td>2290</td>\n",
       "      <td>43610</td>\n",
       "    </tr>\n",
       "    <tr>\n",
       "      <th>...</th>\n",
       "      <td>...</td>\n",
       "      <td>...</td>\n",
       "      <td>...</td>\n",
       "      <td>...</td>\n",
       "      <td>...</td>\n",
       "      <td>...</td>\n",
       "      <td>...</td>\n",
       "      <td>...</td>\n",
       "      <td>...</td>\n",
       "      <td>...</td>\n",
       "      <td>...</td>\n",
       "      <td>...</td>\n",
       "      <td>...</td>\n",
       "      <td>...</td>\n",
       "    </tr>\n",
       "    <tr>\n",
       "      <th>147306</th>\n",
       "      <td>2021010562805</td>\n",
       "      <td>45.0</td>\n",
       "      <td>9</td>\n",
       "      <td>202106018639694</td>\n",
       "      <td>2021/06/01</td>\n",
       "      <td>TV</td>\n",
       "      <td>건강식품</td>\n",
       "      <td>323492393</td>\n",
       "      <td>유산균</td>\n",
       "      <td>99000</td>\n",
       "      <td>3</td>\n",
       "      <td>297000</td>\n",
       "      <td>17700</td>\n",
       "      <td>279300</td>\n",
       "    </tr>\n",
       "    <tr>\n",
       "      <th>147307</th>\n",
       "      <td>2019124982759</td>\n",
       "      <td>40.0</td>\n",
       "      <td>2</td>\n",
       "      <td>202104155934763</td>\n",
       "      <td>2021/04/15</td>\n",
       "      <td>TV</td>\n",
       "      <td>뷰티</td>\n",
       "      <td>321803513</td>\n",
       "      <td>파운데이션</td>\n",
       "      <td>69900</td>\n",
       "      <td>20</td>\n",
       "      <td>1398000</td>\n",
       "      <td>346400</td>\n",
       "      <td>1051600</td>\n",
       "    </tr>\n",
       "    <tr>\n",
       "      <th>147308</th>\n",
       "      <td>2019083044089</td>\n",
       "      <td>38.0</td>\n",
       "      <td>2</td>\n",
       "      <td>202104026508012</td>\n",
       "      <td>2021/04/02</td>\n",
       "      <td>Mobile</td>\n",
       "      <td>일반식품</td>\n",
       "      <td>320105539</td>\n",
       "      <td>생수</td>\n",
       "      <td>3360</td>\n",
       "      <td>1</td>\n",
       "      <td>3360</td>\n",
       "      <td>0</td>\n",
       "      <td>3360</td>\n",
       "    </tr>\n",
       "    <tr>\n",
       "      <th>147309</th>\n",
       "      <td>2019010788799</td>\n",
       "      <td>67.0</td>\n",
       "      <td>1</td>\n",
       "      <td>202103247950735</td>\n",
       "      <td>2021/03/24</td>\n",
       "      <td>Mobile</td>\n",
       "      <td>일반식품</td>\n",
       "      <td>321742510</td>\n",
       "      <td>커피믹스</td>\n",
       "      <td>23500</td>\n",
       "      <td>1</td>\n",
       "      <td>23500</td>\n",
       "      <td>0</td>\n",
       "      <td>23500</td>\n",
       "    </tr>\n",
       "    <tr>\n",
       "      <th>147310</th>\n",
       "      <td>2016105844716</td>\n",
       "      <td>57.0</td>\n",
       "      <td>2</td>\n",
       "      <td>202105140486768</td>\n",
       "      <td>2021/05/14</td>\n",
       "      <td>Mobile</td>\n",
       "      <td>뷰티</td>\n",
       "      <td>323477903</td>\n",
       "      <td>구강/위생용품</td>\n",
       "      <td>9900</td>\n",
       "      <td>1</td>\n",
       "      <td>9900</td>\n",
       "      <td>1980</td>\n",
       "      <td>7920</td>\n",
       "    </tr>\n",
       "  </tbody>\n",
       "</table>\n",
       "<p>147311 rows × 14 columns</p>\n",
       "</div>"
      ],
      "text/plain": [
       "          customer_no   age  gender         order_no  order_date channel  \\\n",
       "0       2021059651101  68.0       9  202106072433746  2021/06/07      TV   \n",
       "1       2018069800502  49.0       2  202105311957155  2021/05/31      TV   \n",
       "2       2019073300103  35.0       1  202105138020462  2021/05/13      TV   \n",
       "3       2020075283364  41.0       9  202106171444319  2021/06/17      TV   \n",
       "4       2020104780765  46.0       1  202106024431989  2021/06/02      TV   \n",
       "...               ...   ...     ...              ...         ...     ...   \n",
       "147306  2021010562805  45.0       9  202106018639694  2021/06/01      TV   \n",
       "147307  2019124982759  40.0       2  202104155934763  2021/04/15      TV   \n",
       "147308  2019083044089  38.0       2  202104026508012  2021/04/02  Mobile   \n",
       "147309  2019010788799  67.0       1  202103247950735  2021/03/24  Mobile   \n",
       "147310  2016105844716  57.0       2  202105140486768  2021/05/14  Mobile   \n",
       "\n",
       "       item_category  item_code item_name   price  qty  order_amount  \\\n",
       "0                캐쥬얼  323421750      밴딩팬츠   49900    1         49900   \n",
       "1              레포츠패션  323516657      트랙수트   39000    1         39000   \n",
       "2                 뷰티  323393459      기초세트   72000    2        144000   \n",
       "3               건강식품  323420069       유산균  119000    2        238000   \n",
       "4               일반식품  321820178      건강주스   45900    1         45900   \n",
       "...              ...        ...       ...     ...  ...           ...   \n",
       "147306          건강식품  323492393       유산균   99000    3        297000   \n",
       "147307            뷰티  321803513     파운데이션   69900   20       1398000   \n",
       "147308          일반식품  320105539        생수    3360    1          3360   \n",
       "147309          일반식품  321742510      커피믹스   23500    1         23500   \n",
       "147310            뷰티  323477903   구강/위생용품    9900    1          9900   \n",
       "\n",
       "        discount_amount  paid_amount  \n",
       "0                  4990        44910  \n",
       "1                  1000        38000  \n",
       "2                 27600       116400  \n",
       "3                 72920       165080  \n",
       "4                  2290        43610  \n",
       "...                 ...          ...  \n",
       "147306            17700       279300  \n",
       "147307           346400      1051600  \n",
       "147308                0         3360  \n",
       "147309                0        23500  \n",
       "147310             1980         7920  \n",
       "\n",
       "[147311 rows x 14 columns]"
      ]
     },
     "execution_count": 3,
     "metadata": {},
     "output_type": "execute_result"
    }
   ],
   "source": [
    "# 데이터 불러오기\n",
    "customer = pd.read_csv(\"C:/Users/user/Desktop/Data-Analysis-Portfolio/마케팅 데이터 분석 2024.04.11/Dataset/online_commerce_data.csv\")\n",
    "customer"
   ]
  },
  {
   "cell_type": "markdown",
   "metadata": {},
   "source": [
    "약 15만건의 구매 데이터가 존재함"
   ]
  },
  {
   "cell_type": "markdown",
   "metadata": {},
   "source": [
    "## 데이터 전처리\n",
    "---\n",
    "> 데이터 type 변경"
   ]
  },
  {
   "cell_type": "code",
   "execution_count": 4,
   "metadata": {},
   "outputs": [
    {
     "name": "stdout",
     "output_type": "stream",
     "text": [
      "<class 'pandas.core.frame.DataFrame'>\n",
      "RangeIndex: 147311 entries, 0 to 147310\n",
      "Data columns (total 14 columns):\n",
      " #   Column           Non-Null Count   Dtype         \n",
      "---  ------           --------------   -----         \n",
      " 0   customer_no      147311 non-null  int64         \n",
      " 1   age              147273 non-null  float64       \n",
      " 2   gender           147311 non-null  int64         \n",
      " 3   order_no         147311 non-null  int64         \n",
      " 4   order_date       147311 non-null  datetime64[ns]\n",
      " 5   channel          147311 non-null  object        \n",
      " 6   item_category    147311 non-null  object        \n",
      " 7   item_code        147311 non-null  int64         \n",
      " 8   item_name        147311 non-null  object        \n",
      " 9   price            147311 non-null  int64         \n",
      " 10  qty              147311 non-null  int64         \n",
      " 11  order_amount     147311 non-null  int64         \n",
      " 12  discount_amount  147311 non-null  int64         \n",
      " 13  paid_amount      147311 non-null  int64         \n",
      "dtypes: datetime64[ns](1), float64(1), int64(9), object(3)\n",
      "memory usage: 15.7+ MB\n"
     ]
    }
   ],
   "source": [
    "## order_date 칼럼 타입 변경(datetime)\n",
    "customer['order_date'] = pd.to_datetime(customer['order_date'])\n",
    "customer.info()                                    "
   ]
  },
  {
   "cell_type": "markdown",
   "metadata": {},
   "source": [
    "order_date칼럼이 int type 이므로 datetime type으로 변경 필요"
   ]
  },
  {
   "cell_type": "code",
   "execution_count": 5,
   "metadata": {},
   "outputs": [
    {
     "data": {
      "text/plain": [
       "count                  147311\n",
       "unique                    175\n",
       "top       2021-04-20 00:00:00\n",
       "freq                     4272\n",
       "first     2021-01-01 00:00:00\n",
       "last      2021-06-24 00:00:00\n",
       "Name: order_date, dtype: object"
      ]
     },
     "execution_count": 5,
     "metadata": {},
     "output_type": "execute_result"
    }
   ],
   "source": [
    "customer['order_date'].describe()"
   ]
  },
  {
   "cell_type": "markdown",
   "metadata": {},
   "source": [
    "2021년 1월1일부터 2021년 6월24일까지의 상반기 거래 내역 데이터임을 알 수 있음"
   ]
  },
  {
   "cell_type": "markdown",
   "metadata": {},
   "source": [
    "> 결측치 확인 및 가공"
   ]
  },
  {
   "cell_type": "code",
   "execution_count": 6,
   "metadata": {},
   "outputs": [
    {
     "data": {
      "text/plain": [
       "customer_no         0\n",
       "age                38\n",
       "gender              0\n",
       "order_no            0\n",
       "order_date          0\n",
       "channel             0\n",
       "item_category       0\n",
       "item_code           0\n",
       "item_name           0\n",
       "price               0\n",
       "qty                 0\n",
       "order_amount        0\n",
       "discount_amount     0\n",
       "paid_amount         0\n",
       "dtype: int64"
      ]
     },
     "execution_count": 6,
     "metadata": {},
     "output_type": "execute_result"
    }
   ],
   "source": [
    "customer.isnull().sum()"
   ]
  },
  {
   "cell_type": "markdown",
   "metadata": {},
   "source": [
    "age 컬럼에 결측지 존재, 약 140000개의 데이터 중 38개에 데이터중 38개의 데이터만이 결측치를 가지므로,\\\n",
    "분석의 용이성을 위해 결측치 데이터를 따로 분류 하고, 기존 데이터프레임에서는 삭제하도록 함.  "
   ]
  },
  {
   "cell_type": "code",
   "execution_count": 7,
   "metadata": {},
   "outputs": [
    {
     "data": {
      "text/plain": [
       "customer_no        0\n",
       "age                0\n",
       "gender             0\n",
       "order_no           0\n",
       "order_date         0\n",
       "channel            0\n",
       "item_category      0\n",
       "item_code          0\n",
       "item_name          0\n",
       "price              0\n",
       "qty                0\n",
       "order_amount       0\n",
       "discount_amount    0\n",
       "paid_amount        0\n",
       "dtype: int64"
      ]
     },
     "execution_count": 7,
     "metadata": {},
     "output_type": "execute_result"
    }
   ],
   "source": [
    "## 결측치 데이터 분류\n",
    "customer_null =customer[customer['age'].isnull()]\n",
    "## 결측치 데이터 제거\n",
    "customer = customer.dropna(subset = 'age')\n",
    "customer.isnull().sum()"
   ]
  },
  {
   "cell_type": "markdown",
   "metadata": {},
   "source": [
    "> 이상치 제거"
   ]
  },
  {
   "cell_type": "code",
   "execution_count": 8,
   "metadata": {},
   "outputs": [
    {
     "data": {
      "text/html": [
       "<div>\n",
       "<style scoped>\n",
       "    .dataframe tbody tr th:only-of-type {\n",
       "        vertical-align: middle;\n",
       "    }\n",
       "\n",
       "    .dataframe tbody tr th {\n",
       "        vertical-align: top;\n",
       "    }\n",
       "\n",
       "    .dataframe thead th {\n",
       "        text-align: right;\n",
       "    }\n",
       "</style>\n",
       "<table border=\"1\" class=\"dataframe\">\n",
       "  <thead>\n",
       "    <tr style=\"text-align: right;\">\n",
       "      <th></th>\n",
       "      <th>customer_no</th>\n",
       "      <th>age</th>\n",
       "      <th>gender</th>\n",
       "      <th>order_no</th>\n",
       "      <th>order_date</th>\n",
       "      <th>channel</th>\n",
       "      <th>item_category</th>\n",
       "      <th>item_code</th>\n",
       "      <th>item_name</th>\n",
       "      <th>price</th>\n",
       "      <th>qty</th>\n",
       "      <th>order_amount</th>\n",
       "      <th>discount_amount</th>\n",
       "      <th>paid_amount</th>\n",
       "    </tr>\n",
       "  </thead>\n",
       "  <tbody>\n",
       "  </tbody>\n",
       "</table>\n",
       "</div>"
      ],
      "text/plain": [
       "Empty DataFrame\n",
       "Columns: [customer_no, age, gender, order_no, order_date, channel, item_category, item_code, item_name, price, qty, order_amount, discount_amount, paid_amount]\n",
       "Index: []"
      ]
     },
     "execution_count": 8,
     "metadata": {},
     "output_type": "execute_result"
    }
   ],
   "source": [
    "# 주문수량,주문금액,할인금액,구매금액,나이,가격이 0 이하인 열 탐색\n",
    "customer_qty = customer[(customer['qty'] <=0) |\n",
    "                        (customer['order_amount'] <=0) |\n",
    "                        (customer['discount_amount'] < 0) |\n",
    "                        (customer['paid_amount'] <= 0) |\n",
    "                        (customer['age'] <= 0 ) |\n",
    "                        (customer['price'] <= 0)] \n",
    "customer_qty"
   ]
  },
  {
   "cell_type": "markdown",
   "metadata": {},
   "source": [
    "주문수량,주문금액,할인금액,구매금액,나이,가격이 0 이하인 열은 존재하지 않는다."
   ]
  },
  {
   "cell_type": "code",
   "execution_count": 9,
   "metadata": {},
   "outputs": [
    {
     "data": {
      "image/png": "[encoded data removed]",
      "text/plain": [
       "<Figure size 4200x1000 with 6 Axes>"
      ]
     },
     "metadata": {},
     "output_type": "display_data"
    }
   ],
   "source": [
    "customer_box_plot = customer[['age','price','qty','order_amount','discount_amount','paid_amount']]\n",
    "customer_box_plot['age'] = customer_box_plot['age'].astype('int64')\n",
    "columns_to_plot = ['age', 'price', 'qty', 'order_amount', 'discount_amount', 'paid_amount']\n",
    "n_cols = len(columns_to_plot)\n",
    "\n",
    "# 서브플롯 생성\n",
    "fig, axes = plt.subplots(nrows=1, ncols=n_cols, figsize=(n_cols*7, 10), constrained_layout=True)\n",
    "\n",
    "for i, col in enumerate(columns_to_plot):\n",
    "    sns.boxplot(y=customer_box_plot[col], ax=axes[i])\n",
    "    axes[i].set_title(col)\n",
    "    axes[i].set_ylabel('')\n",
    "\n",
    "plt.show()"
   ]
  },
  {
   "cell_type": "markdown",
   "metadata": {},
   "source": [
    "나이가 100 이상인 데이터가 존재하고,\\\n",
    "가격과 수량에 이상치로 추정되는  데이터도 존재하는것으로 보임.\\\n",
    "dataframe 특성상 온라인 판매 플랫폼이기 때문에 나이의 경우 100세 이상의 경우 이상치로 간주하고 제거하고,\\\n",
    "가격과 판매수량의 이상치는 분석한 뒤 처리하기로 함."
   ]
  },
  {
   "cell_type": "markdown",
   "metadata": {},
   "source": [
    "> 나이 이상치 제거"
   ]
  },
  {
   "cell_type": "code",
   "execution_count": 10,
   "metadata": {},
   "outputs": [
    {
     "data": {
      "text/html": [
       "<div>\n",
       "<style scoped>\n",
       "    .dataframe tbody tr th:only-of-type {\n",
       "        vertical-align: middle;\n",
       "    }\n",
       "\n",
       "    .dataframe tbody tr th {\n",
       "        vertical-align: top;\n",
       "    }\n",
       "\n",
       "    .dataframe thead th {\n",
       "        text-align: right;\n",
       "    }\n",
       "</style>\n",
       "<table border=\"1\" class=\"dataframe\">\n",
       "  <thead>\n",
       "    <tr style=\"text-align: right;\">\n",
       "      <th></th>\n",
       "      <th>customer_no</th>\n",
       "      <th>age</th>\n",
       "      <th>gender</th>\n",
       "      <th>order_no</th>\n",
       "      <th>order_date</th>\n",
       "      <th>channel</th>\n",
       "      <th>item_category</th>\n",
       "      <th>item_code</th>\n",
       "      <th>item_name</th>\n",
       "      <th>price</th>\n",
       "      <th>qty</th>\n",
       "      <th>order_amount</th>\n",
       "      <th>discount_amount</th>\n",
       "      <th>paid_amount</th>\n",
       "    </tr>\n",
       "  </thead>\n",
       "  <tbody>\n",
       "    <tr>\n",
       "      <th>13956</th>\n",
       "      <td>2020087768838</td>\n",
       "      <td>102.0</td>\n",
       "      <td>2</td>\n",
       "      <td>202105187554305</td>\n",
       "      <td>2021-05-18</td>\n",
       "      <td>TV</td>\n",
       "      <td>건강식품</td>\n",
       "      <td>322675570</td>\n",
       "      <td>갱년기</td>\n",
       "      <td>198000</td>\n",
       "      <td>5</td>\n",
       "      <td>990000</td>\n",
       "      <td>153500</td>\n",
       "      <td>836500</td>\n",
       "    </tr>\n",
       "    <tr>\n",
       "      <th>29938</th>\n",
       "      <td>2020087768838</td>\n",
       "      <td>102.0</td>\n",
       "      <td>2</td>\n",
       "      <td>202104014708209</td>\n",
       "      <td>2021-04-01</td>\n",
       "      <td>TV</td>\n",
       "      <td>건강식품</td>\n",
       "      <td>322633844</td>\n",
       "      <td>녹용즙</td>\n",
       "      <td>459000</td>\n",
       "      <td>1</td>\n",
       "      <td>459000</td>\n",
       "      <td>33400</td>\n",
       "      <td>425600</td>\n",
       "    </tr>\n",
       "    <tr>\n",
       "      <th>42622</th>\n",
       "      <td>2020087431606</td>\n",
       "      <td>143.0</td>\n",
       "      <td>9</td>\n",
       "      <td>202103036266699</td>\n",
       "      <td>2021-03-03</td>\n",
       "      <td>Mobile</td>\n",
       "      <td>건강식품</td>\n",
       "      <td>322423553</td>\n",
       "      <td>농축액</td>\n",
       "      <td>128000</td>\n",
       "      <td>3</td>\n",
       "      <td>384000</td>\n",
       "      <td>0</td>\n",
       "      <td>384000</td>\n",
       "    </tr>\n",
       "    <tr>\n",
       "      <th>47292</th>\n",
       "      <td>2020087768838</td>\n",
       "      <td>102.0</td>\n",
       "      <td>2</td>\n",
       "      <td>202106089430620</td>\n",
       "      <td>2021-06-08</td>\n",
       "      <td>TV</td>\n",
       "      <td>건강식품</td>\n",
       "      <td>322675570</td>\n",
       "      <td>갱년기</td>\n",
       "      <td>198000</td>\n",
       "      <td>1</td>\n",
       "      <td>198000</td>\n",
       "      <td>30700</td>\n",
       "      <td>167300</td>\n",
       "    </tr>\n",
       "    <tr>\n",
       "      <th>51587</th>\n",
       "      <td>2020087431606</td>\n",
       "      <td>143.0</td>\n",
       "      <td>9</td>\n",
       "      <td>202104064304757</td>\n",
       "      <td>2021-04-06</td>\n",
       "      <td>TV</td>\n",
       "      <td>건강식품</td>\n",
       "      <td>322676462</td>\n",
       "      <td>오메가3</td>\n",
       "      <td>198000</td>\n",
       "      <td>2</td>\n",
       "      <td>396000</td>\n",
       "      <td>99400</td>\n",
       "      <td>296600</td>\n",
       "    </tr>\n",
       "    <tr>\n",
       "      <th>53415</th>\n",
       "      <td>2020080345063</td>\n",
       "      <td>149.0</td>\n",
       "      <td>9</td>\n",
       "      <td>202104014463918</td>\n",
       "      <td>2021-04-01</td>\n",
       "      <td>TV</td>\n",
       "      <td>건강식품</td>\n",
       "      <td>322407454</td>\n",
       "      <td>오메가3</td>\n",
       "      <td>198000</td>\n",
       "      <td>5</td>\n",
       "      <td>990000</td>\n",
       "      <td>248500</td>\n",
       "      <td>741500</td>\n",
       "    </tr>\n",
       "    <tr>\n",
       "      <th>65046</th>\n",
       "      <td>2020087768838</td>\n",
       "      <td>102.0</td>\n",
       "      <td>2</td>\n",
       "      <td>202105038784675</td>\n",
       "      <td>2021-05-03</td>\n",
       "      <td>TV</td>\n",
       "      <td>건강식품</td>\n",
       "      <td>322675570</td>\n",
       "      <td>갱년기</td>\n",
       "      <td>198000</td>\n",
       "      <td>3</td>\n",
       "      <td>594000</td>\n",
       "      <td>91650</td>\n",
       "      <td>502350</td>\n",
       "    </tr>\n",
       "    <tr>\n",
       "      <th>66750</th>\n",
       "      <td>2020080345063</td>\n",
       "      <td>149.0</td>\n",
       "      <td>9</td>\n",
       "      <td>202103154611879</td>\n",
       "      <td>2021-03-15</td>\n",
       "      <td>TV</td>\n",
       "      <td>건강식품</td>\n",
       "      <td>322407454</td>\n",
       "      <td>오메가3</td>\n",
       "      <td>198000</td>\n",
       "      <td>5</td>\n",
       "      <td>990000</td>\n",
       "      <td>248500</td>\n",
       "      <td>741500</td>\n",
       "    </tr>\n",
       "    <tr>\n",
       "      <th>67102</th>\n",
       "      <td>2020087431606</td>\n",
       "      <td>143.0</td>\n",
       "      <td>9</td>\n",
       "      <td>202105011265965</td>\n",
       "      <td>2021-05-01</td>\n",
       "      <td>Mobile</td>\n",
       "      <td>건강식품</td>\n",
       "      <td>322423553</td>\n",
       "      <td>농축액</td>\n",
       "      <td>79900</td>\n",
       "      <td>7</td>\n",
       "      <td>559300</td>\n",
       "      <td>67830</td>\n",
       "      <td>491470</td>\n",
       "    </tr>\n",
       "    <tr>\n",
       "      <th>68059</th>\n",
       "      <td>2021034904743</td>\n",
       "      <td>122.0</td>\n",
       "      <td>9</td>\n",
       "      <td>202105022625069</td>\n",
       "      <td>2021-05-02</td>\n",
       "      <td>TV</td>\n",
       "      <td>생활용품</td>\n",
       "      <td>322990162</td>\n",
       "      <td>리빙박스</td>\n",
       "      <td>64900</td>\n",
       "      <td>1</td>\n",
       "      <td>64900</td>\n",
       "      <td>8290</td>\n",
       "      <td>56610</td>\n",
       "    </tr>\n",
       "    <tr>\n",
       "      <th>89863</th>\n",
       "      <td>2020080345063</td>\n",
       "      <td>149.0</td>\n",
       "      <td>9</td>\n",
       "      <td>202105170416110</td>\n",
       "      <td>2021-05-17</td>\n",
       "      <td>TV</td>\n",
       "      <td>건강식품</td>\n",
       "      <td>322407454</td>\n",
       "      <td>오메가3</td>\n",
       "      <td>198000</td>\n",
       "      <td>5</td>\n",
       "      <td>990000</td>\n",
       "      <td>248500</td>\n",
       "      <td>741500</td>\n",
       "    </tr>\n",
       "    <tr>\n",
       "      <th>92198</th>\n",
       "      <td>2020087431606</td>\n",
       "      <td>143.0</td>\n",
       "      <td>9</td>\n",
       "      <td>202105046679626</td>\n",
       "      <td>2021-05-04</td>\n",
       "      <td>TV</td>\n",
       "      <td>건강식품</td>\n",
       "      <td>322676462</td>\n",
       "      <td>오메가3</td>\n",
       "      <td>198000</td>\n",
       "      <td>4</td>\n",
       "      <td>792000</td>\n",
       "      <td>198800</td>\n",
       "      <td>593200</td>\n",
       "    </tr>\n",
       "    <tr>\n",
       "      <th>96981</th>\n",
       "      <td>2020087431606</td>\n",
       "      <td>143.0</td>\n",
       "      <td>9</td>\n",
       "      <td>202106024252960</td>\n",
       "      <td>2021-06-02</td>\n",
       "      <td>Mobile</td>\n",
       "      <td>건강식품</td>\n",
       "      <td>322377154</td>\n",
       "      <td>농축액</td>\n",
       "      <td>326250</td>\n",
       "      <td>1</td>\n",
       "      <td>326250</td>\n",
       "      <td>0</td>\n",
       "      <td>326250</td>\n",
       "    </tr>\n",
       "    <tr>\n",
       "      <th>101018</th>\n",
       "      <td>2020087768838</td>\n",
       "      <td>102.0</td>\n",
       "      <td>2</td>\n",
       "      <td>202101150146920</td>\n",
       "      <td>2021-01-15</td>\n",
       "      <td>TV</td>\n",
       "      <td>건강식품</td>\n",
       "      <td>322547654</td>\n",
       "      <td>녹용즙</td>\n",
       "      <td>459000</td>\n",
       "      <td>1</td>\n",
       "      <td>459000</td>\n",
       "      <td>16200</td>\n",
       "      <td>442800</td>\n",
       "    </tr>\n",
       "    <tr>\n",
       "      <th>101962</th>\n",
       "      <td>2020087768838</td>\n",
       "      <td>102.0</td>\n",
       "      <td>2</td>\n",
       "      <td>202104056128638</td>\n",
       "      <td>2021-04-05</td>\n",
       "      <td>TV</td>\n",
       "      <td>건강식품</td>\n",
       "      <td>322633844</td>\n",
       "      <td>녹용즙</td>\n",
       "      <td>459000</td>\n",
       "      <td>10</td>\n",
       "      <td>4590000</td>\n",
       "      <td>798500</td>\n",
       "      <td>3791500</td>\n",
       "    </tr>\n",
       "    <tr>\n",
       "      <th>107867</th>\n",
       "      <td>2021046848878</td>\n",
       "      <td>148.0</td>\n",
       "      <td>9</td>\n",
       "      <td>202105067195641</td>\n",
       "      <td>2021-05-06</td>\n",
       "      <td>Mobile</td>\n",
       "      <td>남성의류</td>\n",
       "      <td>323173031</td>\n",
       "      <td>데님/스트레이트팬츠</td>\n",
       "      <td>19900</td>\n",
       "      <td>2</td>\n",
       "      <td>39800</td>\n",
       "      <td>2380</td>\n",
       "      <td>37420</td>\n",
       "    </tr>\n",
       "    <tr>\n",
       "      <th>109288</th>\n",
       "      <td>2020080345063</td>\n",
       "      <td>149.0</td>\n",
       "      <td>9</td>\n",
       "      <td>202105240798930</td>\n",
       "      <td>2021-05-24</td>\n",
       "      <td>TV</td>\n",
       "      <td>건강식품</td>\n",
       "      <td>321558860</td>\n",
       "      <td>밀크씨슬</td>\n",
       "      <td>119000</td>\n",
       "      <td>1</td>\n",
       "      <td>119000</td>\n",
       "      <td>32850</td>\n",
       "      <td>86150</td>\n",
       "    </tr>\n",
       "    <tr>\n",
       "      <th>111670</th>\n",
       "      <td>2020087768838</td>\n",
       "      <td>102.0</td>\n",
       "      <td>2</td>\n",
       "      <td>202105093047509</td>\n",
       "      <td>2021-05-09</td>\n",
       "      <td>TV</td>\n",
       "      <td>건강식품</td>\n",
       "      <td>321986648</td>\n",
       "      <td>녹용즙</td>\n",
       "      <td>459000</td>\n",
       "      <td>2</td>\n",
       "      <td>918000</td>\n",
       "      <td>197320</td>\n",
       "      <td>720680</td>\n",
       "    </tr>\n",
       "    <tr>\n",
       "      <th>113909</th>\n",
       "      <td>2020087768838</td>\n",
       "      <td>102.0</td>\n",
       "      <td>2</td>\n",
       "      <td>202104014705656</td>\n",
       "      <td>2021-04-01</td>\n",
       "      <td>TV</td>\n",
       "      <td>건강식품</td>\n",
       "      <td>322633844</td>\n",
       "      <td>녹용즙</td>\n",
       "      <td>459000</td>\n",
       "      <td>1</td>\n",
       "      <td>459000</td>\n",
       "      <td>33400</td>\n",
       "      <td>425600</td>\n",
       "    </tr>\n",
       "    <tr>\n",
       "      <th>114447</th>\n",
       "      <td>2020080345063</td>\n",
       "      <td>149.0</td>\n",
       "      <td>9</td>\n",
       "      <td>202104079055314</td>\n",
       "      <td>2021-04-07</td>\n",
       "      <td>TV</td>\n",
       "      <td>건강식품</td>\n",
       "      <td>322407454</td>\n",
       "      <td>오메가3</td>\n",
       "      <td>198000</td>\n",
       "      <td>5</td>\n",
       "      <td>990000</td>\n",
       "      <td>248500</td>\n",
       "      <td>741500</td>\n",
       "    </tr>\n",
       "    <tr>\n",
       "      <th>116009</th>\n",
       "      <td>2020087768838</td>\n",
       "      <td>102.0</td>\n",
       "      <td>2</td>\n",
       "      <td>202103183411056</td>\n",
       "      <td>2021-03-18</td>\n",
       "      <td>TV</td>\n",
       "      <td>건강식품</td>\n",
       "      <td>322633844</td>\n",
       "      <td>녹용즙</td>\n",
       "      <td>459000</td>\n",
       "      <td>10</td>\n",
       "      <td>4590000</td>\n",
       "      <td>1109800</td>\n",
       "      <td>3480200</td>\n",
       "    </tr>\n",
       "    <tr>\n",
       "      <th>116503</th>\n",
       "      <td>2020080345063</td>\n",
       "      <td>149.0</td>\n",
       "      <td>9</td>\n",
       "      <td>202104238432695</td>\n",
       "      <td>2021-04-23</td>\n",
       "      <td>TV</td>\n",
       "      <td>건강식품</td>\n",
       "      <td>323346803</td>\n",
       "      <td>유산균</td>\n",
       "      <td>168000</td>\n",
       "      <td>2</td>\n",
       "      <td>336000</td>\n",
       "      <td>72400</td>\n",
       "      <td>263600</td>\n",
       "    </tr>\n",
       "    <tr>\n",
       "      <th>133624</th>\n",
       "      <td>2020087768838</td>\n",
       "      <td>102.0</td>\n",
       "      <td>2</td>\n",
       "      <td>202105038788372</td>\n",
       "      <td>2021-05-03</td>\n",
       "      <td>TV</td>\n",
       "      <td>건강식품</td>\n",
       "      <td>321986648</td>\n",
       "      <td>녹용즙</td>\n",
       "      <td>459000</td>\n",
       "      <td>1</td>\n",
       "      <td>459000</td>\n",
       "      <td>79700</td>\n",
       "      <td>379300</td>\n",
       "    </tr>\n",
       "    <tr>\n",
       "      <th>134730</th>\n",
       "      <td>2020087431606</td>\n",
       "      <td>143.0</td>\n",
       "      <td>9</td>\n",
       "      <td>202102034123874</td>\n",
       "      <td>2021-02-03</td>\n",
       "      <td>Mobile</td>\n",
       "      <td>건강식품</td>\n",
       "      <td>322377154</td>\n",
       "      <td>농축액</td>\n",
       "      <td>250000</td>\n",
       "      <td>1</td>\n",
       "      <td>250000</td>\n",
       "      <td>0</td>\n",
       "      <td>250000</td>\n",
       "    </tr>\n",
       "    <tr>\n",
       "      <th>137874</th>\n",
       "      <td>2020087768838</td>\n",
       "      <td>102.0</td>\n",
       "      <td>2</td>\n",
       "      <td>202106183575672</td>\n",
       "      <td>2021-06-18</td>\n",
       "      <td>TV</td>\n",
       "      <td>건강식품</td>\n",
       "      <td>322675570</td>\n",
       "      <td>갱년기</td>\n",
       "      <td>198000</td>\n",
       "      <td>3</td>\n",
       "      <td>594000</td>\n",
       "      <td>32550</td>\n",
       "      <td>561450</td>\n",
       "    </tr>\n",
       "    <tr>\n",
       "      <th>138129</th>\n",
       "      <td>2020080345063</td>\n",
       "      <td>149.0</td>\n",
       "      <td>9</td>\n",
       "      <td>202104014488240</td>\n",
       "      <td>2021-04-01</td>\n",
       "      <td>TV</td>\n",
       "      <td>건강식품</td>\n",
       "      <td>321558860</td>\n",
       "      <td>밀크씨슬</td>\n",
       "      <td>119000</td>\n",
       "      <td>1</td>\n",
       "      <td>119000</td>\n",
       "      <td>32850</td>\n",
       "      <td>86150</td>\n",
       "    </tr>\n",
       "  </tbody>\n",
       "</table>\n",
       "</div>"
      ],
      "text/plain": [
       "          customer_no    age  gender         order_no order_date channel  \\\n",
       "13956   2020087768838  102.0       2  202105187554305 2021-05-18      TV   \n",
       "29938   2020087768838  102.0       2  202104014708209 2021-04-01      TV   \n",
       "42622   2020087431606  143.0       9  202103036266699 2021-03-03  Mobile   \n",
       "47292   2020087768838  102.0       2  202106089430620 2021-06-08      TV   \n",
       "51587   2020087431606  143.0       9  202104064304757 2021-04-06      TV   \n",
       "53415   2020080345063  149.0       9  202104014463918 2021-04-01      TV   \n",
       "65046   2020087768838  102.0       2  202105038784675 2021-05-03      TV   \n",
       "66750   2020080345063  149.0       9  202103154611879 2021-03-15      TV   \n",
       "67102   2020087431606  143.0       9  202105011265965 2021-05-01  Mobile   \n",
       "68059   2021034904743  122.0       9  202105022625069 2021-05-02      TV   \n",
       "89863   2020080345063  149.0       9  202105170416110 2021-05-17      TV   \n",
       "92198   2020087431606  143.0       9  202105046679626 2021-05-04      TV   \n",
       "96981   2020087431606  143.0       9  202106024252960 2021-06-02  Mobile   \n",
       "101018  2020087768838  102.0       2  202101150146920 2021-01-15      TV   \n",
       "101962  2020087768838  102.0       2  202104056128638 2021-04-05      TV   \n",
       "107867  2021046848878  148.0       9  202105067195641 2021-05-06  Mobile   \n",
       "109288  2020080345063  149.0       9  202105240798930 2021-05-24      TV   \n",
       "111670  2020087768838  102.0       2  202105093047509 2021-05-09      TV   \n",
       "113909  2020087768838  102.0       2  202104014705656 2021-04-01      TV   \n",
       "114447  2020080345063  149.0       9  202104079055314 2021-04-07      TV   \n",
       "116009  2020087768838  102.0       2  202103183411056 2021-03-18      TV   \n",
       "116503  2020080345063  149.0       9  202104238432695 2021-04-23      TV   \n",
       "133624  2020087768838  102.0       2  202105038788372 2021-05-03      TV   \n",
       "134730  2020087431606  143.0       9  202102034123874 2021-02-03  Mobile   \n",
       "137874  2020087768838  102.0       2  202106183575672 2021-06-18      TV   \n",
       "138129  2020080345063  149.0       9  202104014488240 2021-04-01      TV   \n",
       "\n",
       "       item_category  item_code   item_name   price  qty  order_amount  \\\n",
       "13956           건강식품  322675570         갱년기  198000    5        990000   \n",
       "29938           건강식품  322633844         녹용즙  459000    1        459000   \n",
       "42622           건강식품  322423553         농축액  128000    3        384000   \n",
       "47292           건강식품  322675570         갱년기  198000    1        198000   \n",
       "51587           건강식품  322676462        오메가3  198000    2        396000   \n",
       "53415           건강식품  322407454        오메가3  198000    5        990000   \n",
       "65046           건강식품  322675570         갱년기  198000    3        594000   \n",
       "66750           건강식품  322407454        오메가3  198000    5        990000   \n",
       "67102           건강식품  322423553         농축액   79900    7        559300   \n",
       "68059           생활용품  322990162        리빙박스   64900    1         64900   \n",
       "89863           건강식품  322407454        오메가3  198000    5        990000   \n",
       "92198           건강식품  322676462        오메가3  198000    4        792000   \n",
       "96981           건강식품  322377154         농축액  326250    1        326250   \n",
       "101018          건강식품  322547654         녹용즙  459000    1        459000   \n",
       "101962          건강식품  322633844         녹용즙  459000   10       4590000   \n",
       "107867          남성의류  323173031  데님/스트레이트팬츠   19900    2         39800   \n",
       "109288          건강식품  321558860        밀크씨슬  119000    1        119000   \n",
       "111670          건강식품  321986648         녹용즙  459000    2        918000   \n",
       "113909          건강식품  322633844         녹용즙  459000    1        459000   \n",
       "114447          건강식품  322407454        오메가3  198000    5        990000   \n",
       "116009          건강식품  322633844         녹용즙  459000   10       4590000   \n",
       "116503          건강식품  323346803         유산균  168000    2        336000   \n",
       "133624          건강식품  321986648         녹용즙  459000    1        459000   \n",
       "134730          건강식품  322377154         농축액  250000    1        250000   \n",
       "137874          건강식품  322675570         갱년기  198000    3        594000   \n",
       "138129          건강식품  321558860        밀크씨슬  119000    1        119000   \n",
       "\n",
       "        discount_amount  paid_amount  \n",
       "13956            153500       836500  \n",
       "29938             33400       425600  \n",
       "42622                 0       384000  \n",
       "47292             30700       167300  \n",
       "51587             99400       296600  \n",
       "53415            248500       741500  \n",
       "65046             91650       502350  \n",
       "66750            248500       741500  \n",
       "67102             67830       491470  \n",
       "68059              8290        56610  \n",
       "89863            248500       741500  \n",
       "92198            198800       593200  \n",
       "96981                 0       326250  \n",
       "101018            16200       442800  \n",
       "101962           798500      3791500  \n",
       "107867             2380        37420  \n",
       "109288            32850        86150  \n",
       "111670           197320       720680  \n",
       "113909            33400       425600  \n",
       "114447           248500       741500  \n",
       "116009          1109800      3480200  \n",
       "116503            72400       263600  \n",
       "133624            79700       379300  \n",
       "134730                0       250000  \n",
       "137874            32550       561450  \n",
       "138129            32850        86150  "
      ]
     },
     "execution_count": 10,
     "metadata": {},
     "output_type": "execute_result"
    }
   ],
   "source": [
    "age_100_over = customer[customer['age'] > 100]\n",
    "age_100_over"
   ]
  },
  {
   "cell_type": "code",
   "execution_count": 11,
   "metadata": {},
   "outputs": [
    {
     "data": {
      "text/html": [
       "<div>\n",
       "<style scoped>\n",
       "    .dataframe tbody tr th:only-of-type {\n",
       "        vertical-align: middle;\n",
       "    }\n",
       "\n",
       "    .dataframe tbody tr th {\n",
       "        vertical-align: top;\n",
       "    }\n",
       "\n",
       "    .dataframe thead th {\n",
       "        text-align: right;\n",
       "    }\n",
       "</style>\n",
       "<table border=\"1\" class=\"dataframe\">\n",
       "  <thead>\n",
       "    <tr style=\"text-align: right;\">\n",
       "      <th></th>\n",
       "      <th>customer_no</th>\n",
       "      <th>age</th>\n",
       "      <th>gender</th>\n",
       "      <th>order_no</th>\n",
       "      <th>order_date</th>\n",
       "      <th>channel</th>\n",
       "      <th>item_category</th>\n",
       "      <th>item_code</th>\n",
       "      <th>item_name</th>\n",
       "      <th>price</th>\n",
       "      <th>qty</th>\n",
       "      <th>order_amount</th>\n",
       "      <th>discount_amount</th>\n",
       "      <th>paid_amount</th>\n",
       "    </tr>\n",
       "  </thead>\n",
       "  <tbody>\n",
       "    <tr>\n",
       "      <th>0</th>\n",
       "      <td>2021059651101</td>\n",
       "      <td>68.0</td>\n",
       "      <td>9</td>\n",
       "      <td>202106072433746</td>\n",
       "      <td>2021-06-07</td>\n",
       "      <td>TV</td>\n",
       "      <td>캐쥬얼</td>\n",
       "      <td>323421750</td>\n",
       "      <td>밴딩팬츠</td>\n",
       "      <td>49900</td>\n",
       "      <td>1</td>\n",
       "      <td>49900</td>\n",
       "      <td>4990</td>\n",
       "      <td>44910</td>\n",
       "    </tr>\n",
       "    <tr>\n",
       "      <th>1</th>\n",
       "      <td>2018069800502</td>\n",
       "      <td>49.0</td>\n",
       "      <td>2</td>\n",
       "      <td>202105311957155</td>\n",
       "      <td>2021-05-31</td>\n",
       "      <td>TV</td>\n",
       "      <td>레포츠패션</td>\n",
       "      <td>323516657</td>\n",
       "      <td>트랙수트</td>\n",
       "      <td>39000</td>\n",
       "      <td>1</td>\n",
       "      <td>39000</td>\n",
       "      <td>1000</td>\n",
       "      <td>38000</td>\n",
       "    </tr>\n",
       "    <tr>\n",
       "      <th>2</th>\n",
       "      <td>2019073300103</td>\n",
       "      <td>35.0</td>\n",
       "      <td>1</td>\n",
       "      <td>202105138020462</td>\n",
       "      <td>2021-05-13</td>\n",
       "      <td>TV</td>\n",
       "      <td>뷰티</td>\n",
       "      <td>323393459</td>\n",
       "      <td>기초세트</td>\n",
       "      <td>72000</td>\n",
       "      <td>2</td>\n",
       "      <td>144000</td>\n",
       "      <td>27600</td>\n",
       "      <td>116400</td>\n",
       "    </tr>\n",
       "    <tr>\n",
       "      <th>3</th>\n",
       "      <td>2020075283364</td>\n",
       "      <td>41.0</td>\n",
       "      <td>9</td>\n",
       "      <td>202106171444319</td>\n",
       "      <td>2021-06-17</td>\n",
       "      <td>TV</td>\n",
       "      <td>건강식품</td>\n",
       "      <td>323420069</td>\n",
       "      <td>유산균</td>\n",
       "      <td>119000</td>\n",
       "      <td>2</td>\n",
       "      <td>238000</td>\n",
       "      <td>72920</td>\n",
       "      <td>165080</td>\n",
       "    </tr>\n",
       "    <tr>\n",
       "      <th>4</th>\n",
       "      <td>2020104780765</td>\n",
       "      <td>46.0</td>\n",
       "      <td>1</td>\n",
       "      <td>202106024431989</td>\n",
       "      <td>2021-06-02</td>\n",
       "      <td>TV</td>\n",
       "      <td>일반식품</td>\n",
       "      <td>321820178</td>\n",
       "      <td>건강주스</td>\n",
       "      <td>45900</td>\n",
       "      <td>1</td>\n",
       "      <td>45900</td>\n",
       "      <td>2290</td>\n",
       "      <td>43610</td>\n",
       "    </tr>\n",
       "    <tr>\n",
       "      <th>...</th>\n",
       "      <td>...</td>\n",
       "      <td>...</td>\n",
       "      <td>...</td>\n",
       "      <td>...</td>\n",
       "      <td>...</td>\n",
       "      <td>...</td>\n",
       "      <td>...</td>\n",
       "      <td>...</td>\n",
       "      <td>...</td>\n",
       "      <td>...</td>\n",
       "      <td>...</td>\n",
       "      <td>...</td>\n",
       "      <td>...</td>\n",
       "      <td>...</td>\n",
       "    </tr>\n",
       "    <tr>\n",
       "      <th>147306</th>\n",
       "      <td>2021010562805</td>\n",
       "      <td>45.0</td>\n",
       "      <td>9</td>\n",
       "      <td>202106018639694</td>\n",
       "      <td>2021-06-01</td>\n",
       "      <td>TV</td>\n",
       "      <td>건강식품</td>\n",
       "      <td>323492393</td>\n",
       "      <td>유산균</td>\n",
       "      <td>99000</td>\n",
       "      <td>3</td>\n",
       "      <td>297000</td>\n",
       "      <td>17700</td>\n",
       "      <td>279300</td>\n",
       "    </tr>\n",
       "    <tr>\n",
       "      <th>147307</th>\n",
       "      <td>2019124982759</td>\n",
       "      <td>40.0</td>\n",
       "      <td>2</td>\n",
       "      <td>202104155934763</td>\n",
       "      <td>2021-04-15</td>\n",
       "      <td>TV</td>\n",
       "      <td>뷰티</td>\n",
       "      <td>321803513</td>\n",
       "      <td>파운데이션</td>\n",
       "      <td>69900</td>\n",
       "      <td>20</td>\n",
       "      <td>1398000</td>\n",
       "      <td>346400</td>\n",
       "      <td>1051600</td>\n",
       "    </tr>\n",
       "    <tr>\n",
       "      <th>147308</th>\n",
       "      <td>2019083044089</td>\n",
       "      <td>38.0</td>\n",
       "      <td>2</td>\n",
       "      <td>202104026508012</td>\n",
       "      <td>2021-04-02</td>\n",
       "      <td>Mobile</td>\n",
       "      <td>일반식품</td>\n",
       "      <td>320105539</td>\n",
       "      <td>생수</td>\n",
       "      <td>3360</td>\n",
       "      <td>1</td>\n",
       "      <td>3360</td>\n",
       "      <td>0</td>\n",
       "      <td>3360</td>\n",
       "    </tr>\n",
       "    <tr>\n",
       "      <th>147309</th>\n",
       "      <td>2019010788799</td>\n",
       "      <td>67.0</td>\n",
       "      <td>1</td>\n",
       "      <td>202103247950735</td>\n",
       "      <td>2021-03-24</td>\n",
       "      <td>Mobile</td>\n",
       "      <td>일반식품</td>\n",
       "      <td>321742510</td>\n",
       "      <td>커피믹스</td>\n",
       "      <td>23500</td>\n",
       "      <td>1</td>\n",
       "      <td>23500</td>\n",
       "      <td>0</td>\n",
       "      <td>23500</td>\n",
       "    </tr>\n",
       "    <tr>\n",
       "      <th>147310</th>\n",
       "      <td>2016105844716</td>\n",
       "      <td>57.0</td>\n",
       "      <td>2</td>\n",
       "      <td>202105140486768</td>\n",
       "      <td>2021-05-14</td>\n",
       "      <td>Mobile</td>\n",
       "      <td>뷰티</td>\n",
       "      <td>323477903</td>\n",
       "      <td>구강/위생용품</td>\n",
       "      <td>9900</td>\n",
       "      <td>1</td>\n",
       "      <td>9900</td>\n",
       "      <td>1980</td>\n",
       "      <td>7920</td>\n",
       "    </tr>\n",
       "  </tbody>\n",
       "</table>\n",
       "<p>147247 rows × 14 columns</p>\n",
       "</div>"
      ],
      "text/plain": [
       "          customer_no   age  gender         order_no order_date channel  \\\n",
       "0       2021059651101  68.0       9  202106072433746 2021-06-07      TV   \n",
       "1       2018069800502  49.0       2  202105311957155 2021-05-31      TV   \n",
       "2       2019073300103  35.0       1  202105138020462 2021-05-13      TV   \n",
       "3       2020075283364  41.0       9  202106171444319 2021-06-17      TV   \n",
       "4       2020104780765  46.0       1  202106024431989 2021-06-02      TV   \n",
       "...               ...   ...     ...              ...        ...     ...   \n",
       "147306  2021010562805  45.0       9  202106018639694 2021-06-01      TV   \n",
       "147307  2019124982759  40.0       2  202104155934763 2021-04-15      TV   \n",
       "147308  2019083044089  38.0       2  202104026508012 2021-04-02  Mobile   \n",
       "147309  2019010788799  67.0       1  202103247950735 2021-03-24  Mobile   \n",
       "147310  2016105844716  57.0       2  202105140486768 2021-05-14  Mobile   \n",
       "\n",
       "       item_category  item_code item_name   price  qty  order_amount  \\\n",
       "0                캐쥬얼  323421750      밴딩팬츠   49900    1         49900   \n",
       "1              레포츠패션  323516657      트랙수트   39000    1         39000   \n",
       "2                 뷰티  323393459      기초세트   72000    2        144000   \n",
       "3               건강식품  323420069       유산균  119000    2        238000   \n",
       "4               일반식품  321820178      건강주스   45900    1         45900   \n",
       "...              ...        ...       ...     ...  ...           ...   \n",
       "147306          건강식품  323492393       유산균   99000    3        297000   \n",
       "147307            뷰티  321803513     파운데이션   69900   20       1398000   \n",
       "147308          일반식품  320105539        생수    3360    1          3360   \n",
       "147309          일반식품  321742510      커피믹스   23500    1         23500   \n",
       "147310            뷰티  323477903   구강/위생용품    9900    1          9900   \n",
       "\n",
       "        discount_amount  paid_amount  \n",
       "0                  4990        44910  \n",
       "1                  1000        38000  \n",
       "2                 27600       116400  \n",
       "3                 72920       165080  \n",
       "4                  2290        43610  \n",
       "...                 ...          ...  \n",
       "147306            17700       279300  \n",
       "147307           346400      1051600  \n",
       "147308                0         3360  \n",
       "147309                0        23500  \n",
       "147310             1980         7920  \n",
       "\n",
       "[147247 rows x 14 columns]"
      ]
     },
     "execution_count": 11,
     "metadata": {},
     "output_type": "execute_result"
    }
   ],
   "source": [
    "customer = customer[customer['age'] < 100]\n",
    "customer"
   ]
  },
  {
   "cell_type": "markdown",
   "metadata": {},
   "source": [
    ">가격, 판매수량 이상치 분석"
   ]
  },
  {
   "cell_type": "code",
   "execution_count": 12,
   "metadata": {},
   "outputs": [
    {
     "data": {
      "text/html": [
       "<div>\n",
       "<style scoped>\n",
       "    .dataframe tbody tr th:only-of-type {\n",
       "        vertical-align: middle;\n",
       "    }\n",
       "\n",
       "    .dataframe tbody tr th {\n",
       "        vertical-align: top;\n",
       "    }\n",
       "\n",
       "    .dataframe thead th {\n",
       "        text-align: right;\n",
       "    }\n",
       "</style>\n",
       "<table border=\"1\" class=\"dataframe\">\n",
       "  <thead>\n",
       "    <tr style=\"text-align: right;\">\n",
       "      <th></th>\n",
       "      <th>customer_no</th>\n",
       "      <th>age</th>\n",
       "      <th>gender</th>\n",
       "      <th>order_no</th>\n",
       "      <th>order_date</th>\n",
       "      <th>channel</th>\n",
       "      <th>item_category</th>\n",
       "      <th>item_code</th>\n",
       "      <th>item_name</th>\n",
       "      <th>price</th>\n",
       "      <th>qty</th>\n",
       "      <th>order_amount</th>\n",
       "      <th>discount_amount</th>\n",
       "      <th>paid_amount</th>\n",
       "    </tr>\n",
       "  </thead>\n",
       "  <tbody>\n",
       "    <tr>\n",
       "      <th>28497</th>\n",
       "      <td>2021029811003</td>\n",
       "      <td>60.0</td>\n",
       "      <td>9</td>\n",
       "      <td>202104134719919</td>\n",
       "      <td>2021-04-13</td>\n",
       "      <td>Mobile</td>\n",
       "      <td>패션잡화</td>\n",
       "      <td>322635031</td>\n",
       "      <td>골드바/코인</td>\n",
       "      <td>8334000</td>\n",
       "      <td>1</td>\n",
       "      <td>8334000</td>\n",
       "      <td>666720</td>\n",
       "      <td>7667280</td>\n",
       "    </tr>\n",
       "  </tbody>\n",
       "</table>\n",
       "</div>"
      ],
      "text/plain": [
       "         customer_no   age  gender         order_no order_date channel  \\\n",
       "28497  2021029811003  60.0       9  202104134719919 2021-04-13  Mobile   \n",
       "\n",
       "      item_category  item_code item_name    price  qty  order_amount  \\\n",
       "28497          패션잡화  322635031    골드바/코인  8334000    1       8334000   \n",
       "\n",
       "       discount_amount  paid_amount  \n",
       "28497           666720      7667280  "
      ]
     },
     "execution_count": 12,
     "metadata": {},
     "output_type": "execute_result"
    }
   ],
   "source": [
    "customer_1 = customer[customer['price'] > 8000000]\n",
    "customer_1"
   ]
  },
  {
   "cell_type": "markdown",
   "metadata": {},
   "source": [
    "골드바를 구매한것으로 보인다.\\\n",
    "골드바의 경우 크기에 따라 가격이 매우 높아질 수 있기때문에 이상치로 처리하지 않는다."
   ]
  },
  {
   "cell_type": "code",
   "execution_count": 13,
   "metadata": {},
   "outputs": [
    {
     "data": {
      "text/html": [
       "<div>\n",
       "<style scoped>\n",
       "    .dataframe tbody tr th:only-of-type {\n",
       "        vertical-align: middle;\n",
       "    }\n",
       "\n",
       "    .dataframe tbody tr th {\n",
       "        vertical-align: top;\n",
       "    }\n",
       "\n",
       "    .dataframe thead th {\n",
       "        text-align: right;\n",
       "    }\n",
       "</style>\n",
       "<table border=\"1\" class=\"dataframe\">\n",
       "  <thead>\n",
       "    <tr style=\"text-align: right;\">\n",
       "      <th></th>\n",
       "      <th>customer_no</th>\n",
       "      <th>age</th>\n",
       "      <th>gender</th>\n",
       "      <th>order_no</th>\n",
       "      <th>order_date</th>\n",
       "      <th>channel</th>\n",
       "      <th>item_category</th>\n",
       "      <th>item_code</th>\n",
       "      <th>item_name</th>\n",
       "      <th>price</th>\n",
       "      <th>qty</th>\n",
       "      <th>order_amount</th>\n",
       "      <th>discount_amount</th>\n",
       "      <th>paid_amount</th>\n",
       "    </tr>\n",
       "  </thead>\n",
       "  <tbody>\n",
       "    <tr>\n",
       "      <th>90366</th>\n",
       "      <td>2019123095161</td>\n",
       "      <td>46.0</td>\n",
       "      <td>2</td>\n",
       "      <td>202104197240465</td>\n",
       "      <td>2021-04-19</td>\n",
       "      <td>Mobile</td>\n",
       "      <td>건강식품</td>\n",
       "      <td>322071419</td>\n",
       "      <td>농축액</td>\n",
       "      <td>138600</td>\n",
       "      <td>260</td>\n",
       "      <td>36036000</td>\n",
       "      <td>0</td>\n",
       "      <td>36036000</td>\n",
       "    </tr>\n",
       "  </tbody>\n",
       "</table>\n",
       "</div>"
      ],
      "text/plain": [
       "         customer_no   age  gender         order_no order_date channel  \\\n",
       "90366  2019123095161  46.0       2  202104197240465 2021-04-19  Mobile   \n",
       "\n",
       "      item_category  item_code item_name   price  qty  order_amount  \\\n",
       "90366          건강식품  322071419       농축액  138600  260      36036000   \n",
       "\n",
       "       discount_amount  paid_amount  \n",
       "90366                0     36036000  "
      ]
     },
     "execution_count": 13,
     "metadata": {},
     "output_type": "execute_result"
    }
   ],
   "source": [
    "customer_1 = customer[customer['qty'] > 250]\n",
    "customer_1"
   ]
  },
  {
   "cell_type": "markdown",
   "metadata": {},
   "source": [
    "qty, order_amount, paid_amount가 이상치로 분류된 데이터이다.\\\n",
    "건강식품을 다량 구매해 발생한것으로 보이므로 이상치로 보이지 않는다."
   ]
  },
  {
   "cell_type": "code",
   "execution_count": 14,
   "metadata": {},
   "outputs": [
    {
     "data": {
      "text/html": [
       "<div>\n",
       "<style scoped>\n",
       "    .dataframe tbody tr th:only-of-type {\n",
       "        vertical-align: middle;\n",
       "    }\n",
       "\n",
       "    .dataframe tbody tr th {\n",
       "        vertical-align: top;\n",
       "    }\n",
       "\n",
       "    .dataframe thead th {\n",
       "        text-align: right;\n",
       "    }\n",
       "</style>\n",
       "<table border=\"1\" class=\"dataframe\">\n",
       "  <thead>\n",
       "    <tr style=\"text-align: right;\">\n",
       "      <th></th>\n",
       "      <th>customer_no</th>\n",
       "      <th>age</th>\n",
       "      <th>gender</th>\n",
       "      <th>order_no</th>\n",
       "      <th>order_date</th>\n",
       "      <th>channel</th>\n",
       "      <th>item_category</th>\n",
       "      <th>item_code</th>\n",
       "      <th>item_name</th>\n",
       "      <th>price</th>\n",
       "      <th>qty</th>\n",
       "      <th>order_amount</th>\n",
       "      <th>discount_amount</th>\n",
       "      <th>paid_amount</th>\n",
       "    </tr>\n",
       "  </thead>\n",
       "  <tbody>\n",
       "    <tr>\n",
       "      <th>13453</th>\n",
       "      <td>2019124982759</td>\n",
       "      <td>40.0</td>\n",
       "      <td>2</td>\n",
       "      <td>202106220404988</td>\n",
       "      <td>2021-06-22</td>\n",
       "      <td>TV</td>\n",
       "      <td>뷰티</td>\n",
       "      <td>323495974</td>\n",
       "      <td>염색제</td>\n",
       "      <td>79900</td>\n",
       "      <td>70</td>\n",
       "      <td>5593000</td>\n",
       "      <td>1789200</td>\n",
       "      <td>3803800</td>\n",
       "    </tr>\n",
       "    <tr>\n",
       "      <th>53956</th>\n",
       "      <td>2020073682406</td>\n",
       "      <td>28.0</td>\n",
       "      <td>2</td>\n",
       "      <td>202101273371932</td>\n",
       "      <td>2021-01-27</td>\n",
       "      <td>Mobile</td>\n",
       "      <td>뷰티</td>\n",
       "      <td>322614329</td>\n",
       "      <td>스킨케어</td>\n",
       "      <td>122950</td>\n",
       "      <td>150</td>\n",
       "      <td>18442500</td>\n",
       "      <td>2017500</td>\n",
       "      <td>16425000</td>\n",
       "    </tr>\n",
       "  </tbody>\n",
       "</table>\n",
       "</div>"
      ],
      "text/plain": [
       "         customer_no   age  gender         order_no order_date channel  \\\n",
       "13453  2019124982759  40.0       2  202106220404988 2021-06-22      TV   \n",
       "53956  2020073682406  28.0       2  202101273371932 2021-01-27  Mobile   \n",
       "\n",
       "      item_category  item_code item_name   price  qty  order_amount  \\\n",
       "13453            뷰티  323495974       염색제   79900   70       5593000   \n",
       "53956            뷰티  322614329      스킨케어  122950  150      18442500   \n",
       "\n",
       "       discount_amount  paid_amount  \n",
       "13453          1789200      3803800  \n",
       "53956          2017500     16425000  "
      ]
     },
     "execution_count": 14,
     "metadata": {},
     "output_type": "execute_result"
    }
   ],
   "source": [
    "customer_1 = customer[customer['discount_amount'] > 1750000]\n",
    "customer_1"
   ]
  },
  {
   "cell_type": "markdown",
   "metadata": {},
   "source": [
    "할인율 이상치로 분류된 데이터로, 할인된 가격이 판매금액보다 높지 않기 때문에 정상 데이터로 판단해 이상치로 분류하지 않는다."
   ]
  },
  {
   "cell_type": "markdown",
   "metadata": {},
   "source": [
    "## **전체 데이터 EDA**\n",
    "---"
   ]
  },
  {
   "cell_type": "markdown",
   "metadata": {},
   "source": [
    "> 기간 별 매출 분석"
   ]
  },
  {
   "cell_type": "code",
   "execution_count": 15,
   "metadata": {},
   "outputs": [
    {
     "data": {
      "image/png": "[encoded data removed]",
      "text/plain": [
       "<Figure size 2300x600 with 1 Axes>"
      ]
     },
     "metadata": {},
     "output_type": "display_data"
    }
   ],
   "source": [
    "daily_sales = customer.groupby('order_date')['paid_amount'].sum()\n",
    "\n",
    "# 7일 및 30일 이동 평균 계산\n",
    "rolling_7d = daily_sales.rolling(window=7).mean()\n",
    "rolling_30d = daily_sales.rolling(window=30).mean()\n",
    "\n",
    "# 결과 시각화\n",
    "plt.figure(figsize=(23, 6))  # 그래프의 크기 설정\n",
    "plt.plot(daily_sales.index, daily_sales.values, linestyle='-', color='skyblue', label='Daily Sales')\n",
    "plt.plot(daily_sales.index, rolling_7d, color='red', linestyle='--', label='7-Day Moving Average')\n",
    "plt.plot(daily_sales.index, rolling_30d, color='green', linestyle='--', label='30-Day Moving Average')\n",
    "\n",
    "plt.title('기간 별 매출 합계')  # 그래프 제목 설정\n",
    "plt.xlabel('주문일자')  # x축 레이블 설정\n",
    "plt.ylabel('매출 합계')  # y축 레이블 설정\n",
    "plt.xticks(rotation=45)  # x축 레이블 회전\n",
    "plt.grid(True)  # 그리드 표시\n",
    "plt.legend()\n",
    "plt.show()"
   ]
  },
  {
   "cell_type": "markdown",
   "metadata": {},
   "source": [
    "7일 이동평균선의 변화를 보았을때, 매출이 약 우상향하는것을 볼 수 있음.\\\n",
    "2021-3월부터는 월 초에 매출량이 크게 상승하고,월말로 갈 수록 매출량이 감소하는것을 볼 수 있음.\n",
    "\n",
    "\n",
    "**2021-3월 중순, 2021-05월초, 2021-06초에 매출량이 크게 상승했던 날이 존재함.**"
   ]
  },
  {
   "cell_type": "code",
   "execution_count": 16,
   "metadata": {},
   "outputs": [
    {
     "data": {
      "image/png": "[encoded data removed]",
      "text/plain": [
       "<Figure size 2000x600 with 2 Axes>"
      ]
     },
     "metadata": {},
     "output_type": "display_data"
    }
   ],
   "source": [
    "customer['day_of_week'] = customer['order_date'].dt.day_name()\n",
    "\n",
    "# 고객별 구매 요일별 구매 건수 집계\n",
    "day_of_week_df = customer[customer['qty'] > 0] # 취소 건 제외\n",
    "cust_summary = day_of_week_df.groupby(['day_of_week'])['order_no'].nunique().reset_index()\n",
    "\n",
    "# 요일 순서를 정의\n",
    "day_order = ['Monday', 'Tuesday', 'Wednesday', 'Thursday', 'Friday', 'Saturday', 'Sunday']\n",
    "# day_of_week를 Categorical 타입으로 변환하고 순서를 지정\n",
    "cust_summary['day_of_week'] = pd.Categorical(cust_summary['day_of_week'], categories=day_order, ordered=True)\n",
    "# 요일 순서로 정렬\n",
    "cust_summary = cust_summary.sort_values('day_of_week')\n",
    "\n",
    "# 요일별 매출 합계 집계\n",
    "sales_summary = day_of_week_df.groupby(['day_of_week'])['paid_amount'].sum().reset_index()\n",
    "\n",
    "# day_of_week를 Categorical 타입으로 변환하고 순서를 지정\n",
    "sales_summary['day_of_week'] = pd.Categorical(sales_summary['day_of_week'], categories=day_order, ordered=True)\n",
    "\n",
    "# 요일 순서로 정렬\n",
    "sales_summary = sales_summary.sort_values('day_of_week')\n",
    "\n",
    "# 평균 및 중앙값 계산\n",
    "mean_val = np.mean(cust_summary['order_no'])\n",
    "mean_val_2 = np.mean(sales_summary['paid_amount'])\n",
    "\n",
    "# 그래프 스타일 설정\n",
    "sns.set(style=\"whitegrid\")\n",
    "\n",
    "# 서브플롯 설정\n",
    "fig, axes = plt.subplots(nrows=1, ncols=2, figsize=(20, 6))\n",
    "\n",
    "# 요일별 구매 건수 그래프\n",
    "ax = sns.barplot(x='day_of_week', y='order_no', color='lightblue', data=cust_summary, ax=axes[0])\n",
    "# 평균을 선으로 표시\n",
    "axes[0].axhline(mean_val, color='red', linestyle='dashed', linewidth=2, label=f'Mean: {mean_val:.2f}')\n",
    "# 데이터 라벨 표기\n",
    "for p in ax.patches:\n",
    "    height = p.get_height()\n",
    "    axes[0].text(p.get_x() + p.get_width() / 2., height, f'{height:.0f}', ha='center', va='bottom')\n",
    "# 축 및 제목 설정\n",
    "axes[0].set_ylabel('Number of purchase')\n",
    "axes[0].set_title('요일 별 구매건수')\n",
    "axes[0].legend()\n",
    "\n",
    "# 요일별 매출 합계 그래프\n",
    "ax1 = sns.barplot(x='day_of_week', y='paid_amount', color='skyblue', data=sales_summary, ax=axes[1])\n",
    "# 평균을 선으로 표시\n",
    "mean_val_2 = sales_summary['paid_amount'].mean()\n",
    "axes[1].axhline(mean_val_2, color='red', linestyle='dashed', linewidth=2, label=f'Mean: {mean_val_2:.2f}')\n",
    "# 데이터 라벨 표기\n",
    "for p in ax1.patches:\n",
    "    height = p.get_height()\n",
    "    axes[1].text(p.get_x() + p.get_width() / 2., height, f'{height:.0f}', ha='center', va='bottom')\n",
    "# 축 및 제목 설정\n",
    "axes[1].set_ylabel('amount')\n",
    "axes[1].set_title('요일 별 매출 합계')\n",
    "axes[1].legend()\n",
    "\n",
    "plt.tight_layout()\n",
    "plt.show()\n",
    "\n"
   ]
  },
  {
   "cell_type": "markdown",
   "metadata": {},
   "source": [
    "요일 별 구매건수 그래프 **왼쪽**\\\n",
    "요일 별 매출 합계 그래프 **오른쪽** 이다.\n",
    "\n",
    "   평일의 매출량과, 구매건수가 높게 나타나는것으로 보이며,\\\n",
    "**토요일의 경우 구매건수는 높지만 매출액이 현저히 적은것으로 보아 식료품등의 저가의 물품을 구매하는것으로 추정됨.**"
   ]
  },
  {
   "cell_type": "markdown",
   "metadata": {},
   "source": [
    "> 재방문 고객 분석\n",
    "\n",
    "다잇다의 판매 채널은 TV홈쇼핑, 모바일 샵 두가지이다.\\\n",
    "판매 채널별로 재방문 고객을 수치화함으로 채널 별 고객특성을 파악할 수 있을 것이다."
   ]
  },
  {
   "cell_type": "code",
   "execution_count": 17,
   "metadata": {},
   "outputs": [],
   "source": [
    "customer_tv = customer[customer['channel'] == 'TV']\n",
    "customer_mobile = customer[customer['channel'] == 'Mobile']"
   ]
  },
  {
   "cell_type": "code",
   "execution_count": 18,
   "metadata": {},
   "outputs": [
    {
     "data": {
      "application/vnd.plotly.v1+json": {
       "config": {
        "plotlyServerURL": "https://plot.ly"
       },
       "data": [
        {
         "alignmentgroup": "True",
         "hovertemplate": "=%{x}<br>고객 수=%{y}<br>Percentage=%{text}<extra></extra>",
         "legendgroup": "",
         "marker": {
          "color": "#636efa",
          "pattern": {
           "shape": ""
          }
         },
         "name": "",
         "offsetgroup": "",
         "orientation": "v",
         "showlegend": false,
         "text": [
          86.52,
          11.89,
          1.01,
          0.58
         ],
         "textposition": "outside",
         "texttemplate": "%{text}%",
         "type": "bar",
         "x": [
          "01 : 최초 방문자",
          "02 : 2회 이상 방문자",
          "03 : 5회 이상 방문자",
          "04: 10회이상 방문자"
         ],
         "xaxis": "x",
         "y": [
          40095,
          5511,
          468,
          267
         ],
         "yaxis": "y"
        }
       ],
       "layout": {
        "barmode": "relative",
        "legend": {
         "tracegroupgap": 0
        },
        "template": {
         "data": {
          "bar": [
           {
            "error_x": {
             "color": "#2a3f5f"
            },
            "error_y": {
             "color": "#2a3f5f"
            },
            "marker": {
             "line": {
              "color": "#E5ECF6",
              "width": 0.5
             },
             "pattern": {
              "fillmode": "overlay",
              "size": 10,
              "solidity": 0.2
             }
            },
            "type": "bar"
           }
          ],
          "barpolar": [
           {
            "marker": {
             "line": {
              "color": "#E5ECF6",
              "width": 0.5
             },
             "pattern": {
              "fillmode": "overlay",
              "size": 10,
              "solidity": 0.2
             }
            },
            "type": "barpolar"
           }
          ],
          "carpet": [
           {
            "aaxis": {
             "endlinecolor": "#2a3f5f",
             "gridcolor": "white",
             "linecolor": "white",
             "minorgridcolor": "white",
             "startlinecolor": "#2a3f5f"
            },
            "baxis": {
             "endlinecolor": "#2a3f5f",
             "gridcolor": "white",
             "linecolor": "white",
             "minorgridcolor": "white",
             "startlinecolor": "#2a3f5f"
            },
            "type": "carpet"
           }
          ],
          "choropleth": [
           {
            "colorbar": {
             "outlinewidth": 0,
             "ticks": ""
            },
            "type": "choropleth"
           }
          ],
          "contour": [
           {
            "colorbar": {
             "outlinewidth": 0,
             "ticks": ""
            },
            "colorscale": [
             [
              0,
              "#0d0887"
             ],
             [
              0.1111111111111111,
              "#46039f"
             ],
             [
              0.2222222222222222,
              "#7201a8"
             ],
             [
              0.3333333333333333,
              "#9c179e"
             ],
             [
              0.4444444444444444,
              "#bd3786"
             ],
             [
              0.5555555555555556,
              "#d8576b"
             ],
             [
              0.6666666666666666,
              "#ed7953"
             ],
             [
              0.7777777777777778,
              "#fb9f3a"
             ],
             [
              0.8888888888888888,
              "#fdca26"
             ],
             [
              1,
              "#f0f921"
             ]
            ],
            "type": "contour"
           }
          ],
          "contourcarpet": [
           {
            "colorbar": {
             "outlinewidth": 0,
             "ticks": ""
            },
            "type": "contourcarpet"
           }
          ],
          "heatmap": [
           {
            "colorbar": {
             "outlinewidth": 0,
             "ticks": ""
            },
            "colorscale": [
             [
              0,
              "#0d0887"
             ],
             [
              0.1111111111111111,
              "#46039f"
             ],
             [
              0.2222222222222222,
              "#7201a8"
             ],
             [
              0.3333333333333333,
              "#9c179e"
             ],
             [
              0.4444444444444444,
              "#bd3786"
             ],
             [
              0.5555555555555556,
              "#d8576b"
             ],
             [
              0.6666666666666666,
              "#ed7953"
             ],
             [
              0.7777777777777778,
              "#fb9f3a"
             ],
             [
              0.8888888888888888,
              "#fdca26"
             ],
             [
              1,
              "#f0f921"
             ]
            ],
            "type": "heatmap"
           }
          ],
          "heatmapgl": [
           {
            "colorbar": {
             "outlinewidth": 0,
             "ticks": ""
            },
            "colorscale": [
             [
              0,
              "#0d0887"
             ],
             [
              0.1111111111111111,
              "#46039f"
             ],
             [
              0.2222222222222222,
              "#7201a8"
             ],
             [
              0.3333333333333333,
              "#9c179e"
             ],
             [
              0.4444444444444444,
              "#bd3786"
             ],
             [
              0.5555555555555556,
              "#d8576b"
             ],
             [
              0.6666666666666666,
              "#ed7953"
             ],
             [
              0.7777777777777778,
              "#fb9f3a"
             ],
             [
              0.8888888888888888,
              "#fdca26"
             ],
             [
              1,
              "#f0f921"
             ]
            ],
            "type": "heatmapgl"
           }
          ],
          "histogram": [
           {
            "marker": {
             "pattern": {
              "fillmode": "overlay",
              "size": 10,
              "solidity": 0.2
             }
            },
            "type": "histogram"
           }
          ],
          "histogram2d": [
           {
            "colorbar": {
             "outlinewidth": 0,
             "ticks": ""
            },
            "colorscale": [
             [
              0,
              "#0d0887"
             ],
             [
              0.1111111111111111,
              "#46039f"
             ],
             [
              0.2222222222222222,
              "#7201a8"
             ],
             [
              0.3333333333333333,
              "#9c179e"
             ],
             [
              0.4444444444444444,
              "#bd3786"
             ],
             [
              0.5555555555555556,
              "#d8576b"
             ],
             [
              0.6666666666666666,
              "#ed7953"
             ],
             [
              0.7777777777777778,
              "#fb9f3a"
             ],
             [
              0.8888888888888888,
              "#fdca26"
             ],
             [
              1,
              "#f0f921"
             ]
            ],
            "type": "histogram2d"
           }
          ],
          "histogram2dcontour": [
           {
            "colorbar": {
             "outlinewidth": 0,
             "ticks": ""
            },
            "colorscale": [
             [
              0,
              "#0d0887"
             ],
             [
              0.1111111111111111,
              "#46039f"
             ],
             [
              0.2222222222222222,
              "#7201a8"
             ],
             [
              0.3333333333333333,
              "#9c179e"
             ],
             [
              0.4444444444444444,
              "#bd3786"
             ],
             [
              0.5555555555555556,
              "#d8576b"
             ],
             [
              0.6666666666666666,
              "#ed7953"
             ],
             [
              0.7777777777777778,
              "#fb9f3a"
             ],
             [
              0.8888888888888888,
              "#fdca26"
             ],
             [
              1,
              "#f0f921"
             ]
            ],
            "type": "histogram2dcontour"
           }
          ],
          "mesh3d": [
           {
            "colorbar": {
             "outlinewidth": 0,
             "ticks": ""
            },
            "type": "mesh3d"
           }
          ],
          "parcoords": [
           {
            "line": {
             "colorbar": {
              "outlinewidth": 0,
              "ticks": ""
             }
            },
            "type": "parcoords"
           }
          ],
          "pie": [
           {
            "automargin": true,
            "type": "pie"
           }
          ],
          "scatter": [
           {
            "fillpattern": {
             "fillmode": "overlay",
             "size": 10,
             "solidity": 0.2
            },
            "type": "scatter"
           }
          ],
          "scatter3d": [
           {
            "line": {
             "colorbar": {
              "outlinewidth": 0,
              "ticks": ""
             }
            },
            "marker": {
             "colorbar": {
              "outlinewidth": 0,
              "ticks": ""
             }
            },
            "type": "scatter3d"
           }
          ],
          "scattercarpet": [
           {
            "marker": {
             "colorbar": {
              "outlinewidth": 0,
              "ticks": ""
             }
            },
            "type": "scattercarpet"
           }
          ],
          "scattergeo": [
           {
            "marker": {
             "colorbar": {
              "outlinewidth": 0,
              "ticks": ""
             }
            },
            "type": "scattergeo"
           }
          ],
          "scattergl": [
           {
            "marker": {
             "colorbar": {
              "outlinewidth": 0,
              "ticks": ""
             }
            },
            "type": "scattergl"
           }
          ],
          "scattermapbox": [
           {
            "marker": {
             "colorbar": {
              "outlinewidth": 0,
              "ticks": ""
             }
            },
            "type": "scattermapbox"
           }
          ],
          "scatterpolar": [
           {
            "marker": {
             "colorbar": {
              "outlinewidth": 0,
              "ticks": ""
             }
            },
            "type": "scatterpolar"
           }
          ],
          "scatterpolargl": [
           {
            "marker": {
             "colorbar": {
              "outlinewidth": 0,
              "ticks": ""
             }
            },
            "type": "scatterpolargl"
           }
          ],
          "scatterternary": [
           {
            "marker": {
             "colorbar": {
              "outlinewidth": 0,
              "ticks": ""
             }
            },
            "type": "scatterternary"
           }
          ],
          "surface": [
           {
            "colorbar": {
             "outlinewidth": 0,
             "ticks": ""
            },
            "colorscale": [
             [
              0,
              "#0d0887"
             ],
             [
              0.1111111111111111,
              "#46039f"
             ],
             [
              0.2222222222222222,
              "#7201a8"
             ],
             [
              0.3333333333333333,
              "#9c179e"
             ],
             [
              0.4444444444444444,
              "#bd3786"
             ],
             [
              0.5555555555555556,
              "#d8576b"
             ],
             [
              0.6666666666666666,
              "#ed7953"
             ],
             [
              0.7777777777777778,
              "#fb9f3a"
             ],
             [
              0.8888888888888888,
              "#fdca26"
             ],
             [
              1,
              "#f0f921"
             ]
            ],
            "type": "surface"
           }
          ],
          "table": [
           {
            "cells": {
             "fill": {
              "color": "#EBF0F8"
             },
             "line": {
              "color": "white"
             }
            },
            "header": {
             "fill": {
              "color": "#C8D4E3"
             },
             "line": {
              "color": "white"
             }
            },
            "type": "table"
           }
          ]
         },
         "layout": {
          "annotationdefaults": {
           "arrowcolor": "#2a3f5f",
           "arrowhead": 0,
           "arrowwidth": 1
          },
          "autotypenumbers": "strict",
          "coloraxis": {
           "colorbar": {
            "outlinewidth": 0,
            "ticks": ""
           }
          },
          "colorscale": {
           "diverging": [
            [
             0,
             "#8e0152"
            ],
            [
             0.1,
             "#c51b7d"
            ],
            [
             0.2,
             "#de77ae"
            ],
            [
             0.3,
             "#f1b6da"
            ],
            [
             0.4,
             "#fde0ef"
            ],
            [
             0.5,
             "#f7f7f7"
            ],
            [
             0.6,
             "#e6f5d0"
            ],
            [
             0.7,
             "#b8e186"
            ],
            [
             0.8,
             "#7fbc41"
            ],
            [
             0.9,
             "#4d9221"
            ],
            [
             1,
             "#276419"
            ]
           ],
           "sequential": [
            [
             0,
             "#0d0887"
            ],
            [
             0.1111111111111111,
             "#46039f"
            ],
            [
             0.2222222222222222,
             "#7201a8"
            ],
            [
             0.3333333333333333,
             "#9c179e"
            ],
            [
             0.4444444444444444,
             "#bd3786"
            ],
            [
             0.5555555555555556,
             "#d8576b"
            ],
            [
             0.6666666666666666,
             "#ed7953"
            ],
            [
             0.7777777777777778,
             "#fb9f3a"
            ],
            [
             0.8888888888888888,
             "#fdca26"
            ],
            [
             1,
             "#f0f921"
            ]
           ],
           "sequentialminus": [
            [
             0,
             "#0d0887"
            ],
            [
             0.1111111111111111,
             "#46039f"
            ],
            [
             0.2222222222222222,
             "#7201a8"
            ],
            [
             0.3333333333333333,
             "#9c179e"
            ],
            [
             0.4444444444444444,
             "#bd3786"
            ],
            [
             0.5555555555555556,
             "#d8576b"
            ],
            [
             0.6666666666666666,
             "#ed7953"
            ],
            [
             0.7777777777777778,
             "#fb9f3a"
            ],
            [
             0.8888888888888888,
             "#fdca26"
            ],
            [
             1,
             "#f0f921"
            ]
           ]
          },
          "colorway": [
           "#636efa",
           "#EF553B",
           "#00cc96",
           "#ab63fa",
           "#FFA15A",
           "#19d3f3",
           "#FF6692",
           "#B6E880",
           "#FF97FF",
           "#FECB52"
          ],
          "font": {
           "color": "#2a3f5f"
          },
          "geo": {
           "bgcolor": "white",
           "lakecolor": "white",
           "landcolor": "#E5ECF6",
           "showlakes": true,
           "showland": true,
           "subunitcolor": "white"
          },
          "hoverlabel": {
           "align": "left"
          },
          "hovermode": "closest",
          "mapbox": {
           "style": "light"
          },
          "paper_bgcolor": "white",
          "plot_bgcolor": "#E5ECF6",
          "polar": {
           "angularaxis": {
            "gridcolor": "white",
            "linecolor": "white",
            "ticks": ""
           },
           "bgcolor": "#E5ECF6",
           "radialaxis": {
            "gridcolor": "white",
            "linecolor": "white",
            "ticks": ""
           }
          },
          "scene": {
           "xaxis": {
            "backgroundcolor": "#E5ECF6",
            "gridcolor": "white",
            "gridwidth": 2,
            "linecolor": "white",
            "showbackground": true,
            "ticks": "",
            "zerolinecolor": "white"
           },
           "yaxis": {
            "backgroundcolor": "#E5ECF6",
            "gridcolor": "white",
            "gridwidth": 2,
            "linecolor": "white",
            "showbackground": true,
            "ticks": "",
            "zerolinecolor": "white"
           },
           "zaxis": {
            "backgroundcolor": "#E5ECF6",
            "gridcolor": "white",
            "gridwidth": 2,
            "linecolor": "white",
            "showbackground": true,
            "ticks": "",
            "zerolinecolor": "white"
           }
          },
          "shapedefaults": {
           "line": {
            "color": "#2a3f5f"
           }
          },
          "ternary": {
           "aaxis": {
            "gridcolor": "white",
            "linecolor": "white",
            "ticks": ""
           },
           "baxis": {
            "gridcolor": "white",
            "linecolor": "white",
            "ticks": ""
           },
           "bgcolor": "#E5ECF6",
           "caxis": {
            "gridcolor": "white",
            "linecolor": "white",
            "ticks": ""
           }
          },
          "title": {
           "x": 0.05
          },
          "xaxis": {
           "automargin": true,
           "gridcolor": "white",
           "linecolor": "white",
           "ticks": "",
           "title": {
            "standoff": 15
           },
           "zerolinecolor": "white",
           "zerolinewidth": 2
          },
          "yaxis": {
           "automargin": true,
           "gridcolor": "white",
           "linecolor": "white",
           "ticks": "",
           "title": {
            "standoff": 15
           },
           "zerolinecolor": "white",
           "zerolinewidth": 2
          }
         }
        },
        "title": {
         "text": "TV홈쇼핑 고객 구간 별 재방문율"
        },
        "uniformtext": {
         "minsize": 8,
         "mode": "hide"
        },
        "xaxis": {
         "anchor": "y",
         "domain": [
          0,
          1
         ],
         "title": {
          "text": ""
         }
        },
        "yaxis": {
         "anchor": "x",
         "domain": [
          0,
          1
         ],
         "title": {
          "text": "고객 수"
         }
        }
       }
      }
     },
     "metadata": {},
     "output_type": "display_data"
    }
   ],
   "source": [
    "## 구간 별 재방문율 그래프 시각화\n",
    "customer_retention_tv = customer_tv.groupby(['customer_no'])['order_no'].count().reset_index()\n",
    "\n",
    "# order_no 구간 나누기\n",
    "def label_order_range(row):\n",
    "    if row['order_no'] == 1:\n",
    "        return '01 : 최초 방문자'\n",
    "    elif 2 <= row['order_no'] <= 4:\n",
    "        return '02 : 2회 이상 방문자'\n",
    "    elif 5 <= row['order_no'] <= 10:\n",
    "        return '03 : 5회 이상 방문자'\n",
    "    else:\n",
    "        return '04: 10회이상 방문자'\n",
    "\n",
    "customer_retention_tv['order_range'] = customer_retention_tv.apply(label_order_range, axis=1)\n",
    "\n",
    "# 구간별 고객 수 계산\n",
    "order_counts = customer_retention_tv.groupby('order_range').size().reset_index(name='count')\n",
    "\n",
    "# 데이터를 'order_range' 기준으로 오름차순 정렬\n",
    "order_counts.sort_values('order_range', inplace=True)\n",
    "\n",
    "# 전체 고객 수를 사용하여 각 구간의 비율 계산\n",
    "total_count = customer_retention_tv['customer_no'].count()\n",
    "order_counts['percentage'] = (order_counts['count'] / total_count * 100).round(2)\n",
    "\n",
    "# Plotly 막대그래프 생성\n",
    "fig = px.bar(order_counts, x='order_range', y='count', text='percentage',\n",
    "             title='TV홈쇼핑 고객 구간 별 재방문율',\n",
    "             labels={'order_range': '', 'count': '고객 수', 'percentage': 'Percentage'})\n",
    "fig.update_traces(texttemplate='%{text}%', textposition='outside')\n",
    "fig.update_layout(uniformtext_minsize=8, uniformtext_mode='hide')\n",
    "fig.show()"
   ]
  },
  {
   "cell_type": "code",
   "execution_count": 19,
   "metadata": {},
   "outputs": [
    {
     "data": {
      "application/vnd.plotly.v1+json": {
       "config": {
        "plotlyServerURL": "https://plot.ly"
       },
       "data": [
        {
         "alignmentgroup": "True",
         "hovertemplate": "=%{x}<br>고객 수=%{y}<br>Percentage=%{text}<extra></extra>",
         "legendgroup": "",
         "marker": {
          "color": "#636efa",
          "pattern": {
           "shape": ""
          }
         },
         "name": "",
         "offsetgroup": "",
         "orientation": "v",
         "showlegend": false,
         "text": [
          43.31,
          38.2,
          16.07,
          2.42
         ],
         "textposition": "outside",
         "texttemplate": "%{text}%",
         "type": "bar",
         "x": [
          "01 : 최초 방문자",
          "02 : 2회 이상 방문자",
          "03 : 5회 이상 방문자",
          "04: 10회이상 방문자"
         ],
         "xaxis": "x",
         "y": [
          11841,
          10444,
          4395,
          663
         ],
         "yaxis": "y"
        }
       ],
       "layout": {
        "barmode": "relative",
        "legend": {
         "tracegroupgap": 0
        },
        "template": {
         "data": {
          "bar": [
           {
            "error_x": {
             "color": "#2a3f5f"
            },
            "error_y": {
             "color": "#2a3f5f"
            },
            "marker": {
             "line": {
              "color": "#E5ECF6",
              "width": 0.5
             },
             "pattern": {
              "fillmode": "overlay",
              "size": 10,
              "solidity": 0.2
             }
            },
            "type": "bar"
           }
          ],
          "barpolar": [
           {
            "marker": {
             "line": {
              "color": "#E5ECF6",
              "width": 0.5
             },
             "pattern": {
              "fillmode": "overlay",
              "size": 10,
              "solidity": 0.2
             }
            },
            "type": "barpolar"
           }
          ],
          "carpet": [
           {
            "aaxis": {
             "endlinecolor": "#2a3f5f",
             "gridcolor": "white",
             "linecolor": "white",
             "minorgridcolor": "white",
             "startlinecolor": "#2a3f5f"
            },
            "baxis": {
             "endlinecolor": "#2a3f5f",
             "gridcolor": "white",
             "linecolor": "white",
             "minorgridcolor": "white",
             "startlinecolor": "#2a3f5f"
            },
            "type": "carpet"
           }
          ],
          "choropleth": [
           {
            "colorbar": {
             "outlinewidth": 0,
             "ticks": ""
            },
            "type": "choropleth"
           }
          ],
          "contour": [
           {
            "colorbar": {
             "outlinewidth": 0,
             "ticks": ""
            },
            "colorscale": [
             [
              0,
              "#0d0887"
             ],
             [
              0.1111111111111111,
              "#46039f"
             ],
             [
              0.2222222222222222,
              "#7201a8"
             ],
             [
              0.3333333333333333,
              "#9c179e"
             ],
             [
              0.4444444444444444,
              "#bd3786"
             ],
             [
              0.5555555555555556,
              "#d8576b"
             ],
             [
              0.6666666666666666,
              "#ed7953"
             ],
             [
              0.7777777777777778,
              "#fb9f3a"
             ],
             [
              0.8888888888888888,
              "#fdca26"
             ],
             [
              1,
              "#f0f921"
             ]
            ],
            "type": "contour"
           }
          ],
          "contourcarpet": [
           {
            "colorbar": {
             "outlinewidth": 0,
             "ticks": ""
            },
            "type": "contourcarpet"
           }
          ],
          "heatmap": [
           {
            "colorbar": {
             "outlinewidth": 0,
             "ticks": ""
            },
            "colorscale": [
             [
              0,
              "#0d0887"
             ],
             [
              0.1111111111111111,
              "#46039f"
             ],
             [
              0.2222222222222222,
              "#7201a8"
             ],
             [
              0.3333333333333333,
              "#9c179e"
             ],
             [
              0.4444444444444444,
              "#bd3786"
             ],
             [
              0.5555555555555556,
              "#d8576b"
             ],
             [
              0.6666666666666666,
              "#ed7953"
             ],
             [
              0.7777777777777778,
              "#fb9f3a"
             ],
             [
              0.8888888888888888,
              "#fdca26"
             ],
             [
              1,
              "#f0f921"
             ]
            ],
            "type": "heatmap"
           }
          ],
          "heatmapgl": [
           {
            "colorbar": {
             "outlinewidth": 0,
             "ticks": ""
            },
            "colorscale": [
             [
              0,
              "#0d0887"
             ],
             [
              0.1111111111111111,
              "#46039f"
             ],
             [
              0.2222222222222222,
              "#7201a8"
             ],
             [
              0.3333333333333333,
              "#9c179e"
             ],
             [
              0.4444444444444444,
              "#bd3786"
             ],
             [
              0.5555555555555556,
              "#d8576b"
             ],
             [
              0.6666666666666666,
              "#ed7953"
             ],
             [
              0.7777777777777778,
              "#fb9f3a"
             ],
             [
              0.8888888888888888,
              "#fdca26"
             ],
             [
              1,
              "#f0f921"
             ]
            ],
            "type": "heatmapgl"
           }
          ],
          "histogram": [
           {
            "marker": {
             "pattern": {
              "fillmode": "overlay",
              "size": 10,
              "solidity": 0.2
             }
            },
            "type": "histogram"
           }
          ],
          "histogram2d": [
           {
            "colorbar": {
             "outlinewidth": 0,
             "ticks": ""
            },
            "colorscale": [
             [
              0,
              "#0d0887"
             ],
             [
              0.1111111111111111,
              "#46039f"
             ],
             [
              0.2222222222222222,
              "#7201a8"
             ],
             [
              0.3333333333333333,
              "#9c179e"
             ],
             [
              0.4444444444444444,
              "#bd3786"
             ],
             [
              0.5555555555555556,
              "#d8576b"
             ],
             [
              0.6666666666666666,
              "#ed7953"
             ],
             [
              0.7777777777777778,
              "#fb9f3a"
             ],
             [
              0.8888888888888888,
              "#fdca26"
             ],
             [
              1,
              "#f0f921"
             ]
            ],
            "type": "histogram2d"
           }
          ],
          "histogram2dcontour": [
           {
            "colorbar": {
             "outlinewidth": 0,
             "ticks": ""
            },
            "colorscale": [
             [
              0,
              "#0d0887"
             ],
             [
              0.1111111111111111,
              "#46039f"
             ],
             [
              0.2222222222222222,
              "#7201a8"
             ],
             [
              0.3333333333333333,
              "#9c179e"
             ],
             [
              0.4444444444444444,
              "#bd3786"
             ],
             [
              0.5555555555555556,
              "#d8576b"
             ],
             [
              0.6666666666666666,
              "#ed7953"
             ],
             [
              0.7777777777777778,
              "#fb9f3a"
             ],
             [
              0.8888888888888888,
              "#fdca26"
             ],
             [
              1,
              "#f0f921"
             ]
            ],
            "type": "histogram2dcontour"
           }
          ],
          "mesh3d": [
           {
            "colorbar": {
             "outlinewidth": 0,
             "ticks": ""
            },
            "type": "mesh3d"
           }
          ],
          "parcoords": [
           {
            "line": {
             "colorbar": {
              "outlinewidth": 0,
              "ticks": ""
             }
            },
            "type": "parcoords"
           }
          ],
          "pie": [
           {
            "automargin": true,
            "type": "pie"
           }
          ],
          "scatter": [
           {
            "fillpattern": {
             "fillmode": "overlay",
             "size": 10,
             "solidity": 0.2
            },
            "type": "scatter"
           }
          ],
          "scatter3d": [
           {
            "line": {
             "colorbar": {
              "outlinewidth": 0,
              "ticks": ""
             }
            },
            "marker": {
             "colorbar": {
              "outlinewidth": 0,
              "ticks": ""
             }
            },
            "type": "scatter3d"
           }
          ],
          "scattercarpet": [
           {
            "marker": {
             "colorbar": {
              "outlinewidth": 0,
              "ticks": ""
             }
            },
            "type": "scattercarpet"
           }
          ],
          "scattergeo": [
           {
            "marker": {
             "colorbar": {
              "outlinewidth": 0,
              "ticks": ""
             }
            },
            "type": "scattergeo"
           }
          ],
          "scattergl": [
           {
            "marker": {
             "colorbar": {
              "outlinewidth": 0,
              "ticks": ""
             }
            },
            "type": "scattergl"
           }
          ],
          "scattermapbox": [
           {
            "marker": {
             "colorbar": {
              "outlinewidth": 0,
              "ticks": ""
             }
            },
            "type": "scattermapbox"
           }
          ],
          "scatterpolar": [
           {
            "marker": {
             "colorbar": {
              "outlinewidth": 0,
              "ticks": ""
             }
            },
            "type": "scatterpolar"
           }
          ],
          "scatterpolargl": [
           {
            "marker": {
             "colorbar": {
              "outlinewidth": 0,
              "ticks": ""
             }
            },
            "type": "scatterpolargl"
           }
          ],
          "scatterternary": [
           {
            "marker": {
             "colorbar": {
              "outlinewidth": 0,
              "ticks": ""
             }
            },
            "type": "scatterternary"
           }
          ],
          "surface": [
           {
            "colorbar": {
             "outlinewidth": 0,
             "ticks": ""
            },
            "colorscale": [
             [
              0,
              "#0d0887"
             ],
             [
              0.1111111111111111,
              "#46039f"
             ],
             [
              0.2222222222222222,
              "#7201a8"
             ],
             [
              0.3333333333333333,
              "#9c179e"
             ],
             [
              0.4444444444444444,
              "#bd3786"
             ],
             [
              0.5555555555555556,
              "#d8576b"
             ],
             [
              0.6666666666666666,
              "#ed7953"
             ],
             [
              0.7777777777777778,
              "#fb9f3a"
             ],
             [
              0.8888888888888888,
              "#fdca26"
             ],
             [
              1,
              "#f0f921"
             ]
            ],
            "type": "surface"
           }
          ],
          "table": [
           {
            "cells": {
             "fill": {
              "color": "#EBF0F8"
             },
             "line": {
              "color": "white"
             }
            },
            "header": {
             "fill": {
              "color": "#C8D4E3"
             },
             "line": {
              "color": "white"
             }
            },
            "type": "table"
           }
          ]
         },
         "layout": {
          "annotationdefaults": {
           "arrowcolor": "#2a3f5f",
           "arrowhead": 0,
           "arrowwidth": 1
          },
          "autotypenumbers": "strict",
          "coloraxis": {
           "colorbar": {
            "outlinewidth": 0,
            "ticks": ""
           }
          },
          "colorscale": {
           "diverging": [
            [
             0,
             "#8e0152"
            ],
            [
             0.1,
             "#c51b7d"
            ],
            [
             0.2,
             "#de77ae"
            ],
            [
             0.3,
             "#f1b6da"
            ],
            [
             0.4,
             "#fde0ef"
            ],
            [
             0.5,
             "#f7f7f7"
            ],
            [
             0.6,
             "#e6f5d0"
            ],
            [
             0.7,
             "#b8e186"
            ],
            [
             0.8,
             "#7fbc41"
            ],
            [
             0.9,
             "#4d9221"
            ],
            [
             1,
             "#276419"
            ]
           ],
           "sequential": [
            [
             0,
             "#0d0887"
            ],
            [
             0.1111111111111111,
             "#46039f"
            ],
            [
             0.2222222222222222,
             "#7201a8"
            ],
            [
             0.3333333333333333,
             "#9c179e"
            ],
            [
             0.4444444444444444,
             "#bd3786"
            ],
            [
             0.5555555555555556,
             "#d8576b"
            ],
            [
             0.6666666666666666,
             "#ed7953"
            ],
            [
             0.7777777777777778,
             "#fb9f3a"
            ],
            [
             0.8888888888888888,
             "#fdca26"
            ],
            [
             1,
             "#f0f921"
            ]
           ],
           "sequentialminus": [
            [
             0,
             "#0d0887"
            ],
            [
             0.1111111111111111,
             "#46039f"
            ],
            [
             0.2222222222222222,
             "#7201a8"
            ],
            [
             0.3333333333333333,
             "#9c179e"
            ],
            [
             0.4444444444444444,
             "#bd3786"
            ],
            [
             0.5555555555555556,
             "#d8576b"
            ],
            [
             0.6666666666666666,
             "#ed7953"
            ],
            [
             0.7777777777777778,
             "#fb9f3a"
            ],
            [
             0.8888888888888888,
             "#fdca26"
            ],
            [
             1,
             "#f0f921"
            ]
           ]
          },
          "colorway": [
           "#636efa",
           "#EF553B",
           "#00cc96",
           "#ab63fa",
           "#FFA15A",
           "#19d3f3",
           "#FF6692",
           "#B6E880",
           "#FF97FF",
           "#FECB52"
          ],
          "font": {
           "color": "#2a3f5f"
          },
          "geo": {
           "bgcolor": "white",
           "lakecolor": "white",
           "landcolor": "#E5ECF6",
           "showlakes": true,
           "showland": true,
           "subunitcolor": "white"
          },
          "hoverlabel": {
           "align": "left"
          },
          "hovermode": "closest",
          "mapbox": {
           "style": "light"
          },
          "paper_bgcolor": "white",
          "plot_bgcolor": "#E5ECF6",
          "polar": {
           "angularaxis": {
            "gridcolor": "white",
            "linecolor": "white",
            "ticks": ""
           },
           "bgcolor": "#E5ECF6",
           "radialaxis": {
            "gridcolor": "white",
            "linecolor": "white",
            "ticks": ""
           }
          },
          "scene": {
           "xaxis": {
            "backgroundcolor": "#E5ECF6",
            "gridcolor": "white",
            "gridwidth": 2,
            "linecolor": "white",
            "showbackground": true,
            "ticks": "",
            "zerolinecolor": "white"
           },
           "yaxis": {
            "backgroundcolor": "#E5ECF6",
            "gridcolor": "white",
            "gridwidth": 2,
            "linecolor": "white",
            "showbackground": true,
            "ticks": "",
            "zerolinecolor": "white"
           },
           "zaxis": {
            "backgroundcolor": "#E5ECF6",
            "gridcolor": "white",
            "gridwidth": 2,
            "linecolor": "white",
            "showbackground": true,
            "ticks": "",
            "zerolinecolor": "white"
           }
          },
          "shapedefaults": {
           "line": {
            "color": "#2a3f5f"
           }
          },
          "ternary": {
           "aaxis": {
            "gridcolor": "white",
            "linecolor": "white",
            "ticks": ""
           },
           "baxis": {
            "gridcolor": "white",
            "linecolor": "white",
            "ticks": ""
           },
           "bgcolor": "#E5ECF6",
           "caxis": {
            "gridcolor": "white",
            "linecolor": "white",
            "ticks": ""
           }
          },
          "title": {
           "x": 0.05
          },
          "xaxis": {
           "automargin": true,
           "gridcolor": "white",
           "linecolor": "white",
           "ticks": "",
           "title": {
            "standoff": 15
           },
           "zerolinecolor": "white",
           "zerolinewidth": 2
          },
          "yaxis": {
           "automargin": true,
           "gridcolor": "white",
           "linecolor": "white",
           "ticks": "",
           "title": {
            "standoff": 15
           },
           "zerolinecolor": "white",
           "zerolinewidth": 2
          }
         }
        },
        "title": {
         "text": "모바일 고객 구간 별 재방문율"
        },
        "uniformtext": {
         "minsize": 8,
         "mode": "hide"
        },
        "xaxis": {
         "anchor": "y",
         "domain": [
          0,
          1
         ],
         "title": {
          "text": ""
         }
        },
        "yaxis": {
         "anchor": "x",
         "domain": [
          0,
          1
         ],
         "title": {
          "text": "고객 수"
         }
        }
       }
      }
     },
     "metadata": {},
     "output_type": "display_data"
    }
   ],
   "source": [
    "## 구간 별 재방문율 그래프 시각화\n",
    "customer_retention_mobile = customer_mobile.groupby(['customer_no'])['order_no'].count().reset_index()\n",
    "\n",
    "# order_no 구간 나누기\n",
    "def label_order_range(row):\n",
    "    if row['order_no'] == 1:\n",
    "        return '01 : 최초 방문자'\n",
    "    elif 2 <= row['order_no'] <= 4:\n",
    "        return '02 : 2회 이상 방문자'\n",
    "    elif 5 <= row['order_no'] <= 10:\n",
    "        return '03 : 5회 이상 방문자'\n",
    "    else:\n",
    "        return '04: 10회이상 방문자'\n",
    "\n",
    "customer_retention_mobile['order_range'] = customer_retention_mobile.apply(label_order_range, axis=1)\n",
    "\n",
    "# 구간별 고객 수 계산\n",
    "order_counts = customer_retention_mobile.groupby('order_range').size().reset_index(name='count')\n",
    "\n",
    "# 데이터를 'order_range' 기준으로 오름차순 정렬\n",
    "order_counts.sort_values('order_range', inplace=True)\n",
    "\n",
    "# 전체 고객 수를 사용하여 각 구간의 비율 계산\n",
    "total_count = customer_retention_mobile['customer_no'].count()\n",
    "order_counts['percentage'] = (order_counts['count'] / total_count * 100).round(2)\n",
    "\n",
    "# Plotly 막대그래프 생성\n",
    "fig = px.bar(order_counts, x='order_range', y='count', text='percentage',\n",
    "             title='모바일 고객 구간 별 재방문율',\n",
    "             labels={'order_range': '', 'count': '고객 수', 'percentage': 'Percentage'})\n",
    "fig.update_traces(texttemplate='%{text}%', textposition='outside')\n",
    "fig.update_layout(uniformtext_minsize=8, uniformtext_mode='hide')\n",
    "fig.show()"
   ]
  },
  {
   "cell_type": "markdown",
   "metadata": {},
   "source": [
    "TV홈쇼핑의 경우, 총 구매 건수는 모바일에 비해 높지만, 모바일 고객의 재구매 비율이 압도적으로 높은것으로 보인다.\n",
    "\n",
    "- TV 홈쇼핑의 경우 고객의 재구매 증가를 위한 전략을 수립해야 할 것이며\n",
    "- 모바일의 경우 방문 고객을 늘릴 수 있는 전략을 수립해야 할 것임."
   ]
  },
  {
   "cell_type": "markdown",
   "metadata": {},
   "source": [
    "> 연령별, 성별 고객 분석"
   ]
  },
  {
   "cell_type": "code",
   "execution_count": 20,
   "metadata": {},
   "outputs": [],
   "source": [
    "## 연령 구간\n",
    "bins = [0, 20, 25, 30, 34, 40, 45, 50, 55, 60, 65, float('inf')]\n",
    "labels = ['20under', '21-25', '26-30', '31-34', '35-40', '41-45','45-50','51-55','56-60','61-65','65over' ]\n",
    "customer['age_grp'] = pd.cut(customer['age'], bins=bins, labels=labels, right=False)\n",
    "customer['age_grp'] = customer['age_grp'].astype('object')\n",
    "\n",
    "\n",
    "##연령 성별 별 집계\n",
    "age_group_count = customer.groupby(['gender','age_grp'])['customer_no'].count().reset_index()\n",
    "age_group_count\n",
    "\n",
    "# gender 값을 컬럼으로 두고 customer_no 집계\n",
    "pivot_table_result = age_group_count.pivot_table(index='age_grp', columns='gender', values='customer_no', fill_value=0)\n",
    "pivot_table_df = pd.DataFrame(pivot_table_result.to_records())\n",
    "\n",
    "pivot_table_df_gender = pivot_table_df.drop('9',axis=1)\n",
    "pivot_table_df_unknown = pivot_table_df[['age_grp','9']]"
   ]
  },
  {
   "cell_type": "code",
   "execution_count": 21,
   "metadata": {},
   "outputs": [
    {
     "data": {
      "application/vnd.plotly.v1+json": {
       "config": {
        "plotlyServerURL": "https://plot.ly"
       },
       "data": [
        {
         "name": "여성",
         "orientation": "h",
         "text": [
          97,
          546,
          3162,
          5149,
          10514,
          10196,
          9724,
          11002,
          9827,
          9196,
          10008
         ],
         "type": "bar",
         "x": [
          -97,
          -546,
          -3162,
          -5149,
          -10514,
          -10196,
          -9724,
          -11002,
          -9827,
          -9196,
          -10008
         ],
         "y": [
          "20under",
          "21-25",
          "26-30",
          "31-34",
          "35-40",
          "41-45",
          "45-50",
          "51-55",
          "56-60",
          "61-65",
          "65over"
         ]
        },
        {
         "name": "남성",
         "orientation": "h",
         "text": [
          95,
          379,
          1847,
          2495,
          9473,
          7202,
          5832,
          5176,
          3116,
          2591,
          4321
         ],
         "type": "bar",
         "x": [
          95,
          379,
          1847,
          2495,
          9473,
          7202,
          5832,
          5176,
          3116,
          2591,
          4321
         ],
         "y": [
          "20under",
          "21-25",
          "26-30",
          "31-34",
          "35-40",
          "41-45",
          "45-50",
          "51-55",
          "56-60",
          "61-65",
          "65over"
         ]
        }
       ],
       "layout": {
        "bargap": 0,
        "bargroupgap": 0,
        "barmode": "overlay",
        "template": {
         "data": {
          "bar": [
           {
            "error_x": {
             "color": "#2a3f5f"
            },
            "error_y": {
             "color": "#2a3f5f"
            },
            "marker": {
             "line": {
              "color": "#E5ECF6",
              "width": 0.5
             },
             "pattern": {
              "fillmode": "overlay",
              "size": 10,
              "solidity": 0.2
             }
            },
            "type": "bar"
           }
          ],
          "barpolar": [
           {
            "marker": {
             "line": {
              "color": "#E5ECF6",
              "width": 0.5
             },
             "pattern": {
              "fillmode": "overlay",
              "size": 10,
              "solidity": 0.2
             }
            },
            "type": "barpolar"
           }
          ],
          "carpet": [
           {
            "aaxis": {
             "endlinecolor": "#2a3f5f",
             "gridcolor": "white",
             "linecolor": "white",
             "minorgridcolor": "white",
             "startlinecolor": "#2a3f5f"
            },
            "baxis": {
             "endlinecolor": "#2a3f5f",
             "gridcolor": "white",
             "linecolor": "white",
             "minorgridcolor": "white",
             "startlinecolor": "#2a3f5f"
            },
            "type": "carpet"
           }
          ],
          "choropleth": [
           {
            "colorbar": {
             "outlinewidth": 0,
             "ticks": ""
            },
            "type": "choropleth"
           }
          ],
          "contour": [
           {
            "colorbar": {
             "outlinewidth": 0,
             "ticks": ""
            },
            "colorscale": [
             [
              0,
              "#0d0887"
             ],
             [
              0.1111111111111111,
              "#46039f"
             ],
             [
              0.2222222222222222,
              "#7201a8"
             ],
             [
              0.3333333333333333,
              "#9c179e"
             ],
             [
              0.4444444444444444,
              "#bd3786"
             ],
             [
              0.5555555555555556,
              "#d8576b"
             ],
             [
              0.6666666666666666,
              "#ed7953"
             ],
             [
              0.7777777777777778,
              "#fb9f3a"
             ],
             [
              0.8888888888888888,
              "#fdca26"
             ],
             [
              1,
              "#f0f921"
             ]
            ],
            "type": "contour"
           }
          ],
          "contourcarpet": [
           {
            "colorbar": {
             "outlinewidth": 0,
             "ticks": ""
            },
            "type": "contourcarpet"
           }
          ],
          "heatmap": [
           {
            "colorbar": {
             "outlinewidth": 0,
             "ticks": ""
            },
            "colorscale": [
             [
              0,
              "#0d0887"
             ],
             [
              0.1111111111111111,
              "#46039f"
             ],
             [
              0.2222222222222222,
              "#7201a8"
             ],
             [
              0.3333333333333333,
              "#9c179e"
             ],
             [
              0.4444444444444444,
              "#bd3786"
             ],
             [
              0.5555555555555556,
              "#d8576b"
             ],
             [
              0.6666666666666666,
              "#ed7953"
             ],
             [
              0.7777777777777778,
              "#fb9f3a"
             ],
             [
              0.8888888888888888,
              "#fdca26"
             ],
             [
              1,
              "#f0f921"
             ]
            ],
            "type": "heatmap"
           }
          ],
          "heatmapgl": [
           {
            "colorbar": {
             "outlinewidth": 0,
             "ticks": ""
            },
            "colorscale": [
             [
              0,
              "#0d0887"
             ],
             [
              0.1111111111111111,
              "#46039f"
             ],
             [
              0.2222222222222222,
              "#7201a8"
             ],
             [
              0.3333333333333333,
              "#9c179e"
             ],
             [
              0.4444444444444444,
              "#bd3786"
             ],
             [
              0.5555555555555556,
              "#d8576b"
             ],
             [
              0.6666666666666666,
              "#ed7953"
             ],
             [
              0.7777777777777778,
              "#fb9f3a"
             ],
             [
              0.8888888888888888,
              "#fdca26"
             ],
             [
              1,
              "#f0f921"
             ]
            ],
            "type": "heatmapgl"
           }
          ],
          "histogram": [
           {
            "marker": {
             "pattern": {
              "fillmode": "overlay",
              "size": 10,
              "solidity": 0.2
             }
            },
            "type": "histogram"
           }
          ],
          "histogram2d": [
           {
            "colorbar": {
             "outlinewidth": 0,
             "ticks": ""
            },
            "colorscale": [
             [
              0,
              "#0d0887"
             ],
             [
              0.1111111111111111,
              "#46039f"
             ],
             [
              0.2222222222222222,
              "#7201a8"
             ],
             [
              0.3333333333333333,
              "#9c179e"
             ],
             [
              0.4444444444444444,
              "#bd3786"
             ],
             [
              0.5555555555555556,
              "#d8576b"
             ],
             [
              0.6666666666666666,
              "#ed7953"
             ],
             [
              0.7777777777777778,
              "#fb9f3a"
             ],
             [
              0.8888888888888888,
              "#fdca26"
             ],
             [
              1,
              "#f0f921"
             ]
            ],
            "type": "histogram2d"
           }
          ],
          "histogram2dcontour": [
           {
            "colorbar": {
             "outlinewidth": 0,
             "ticks": ""
            },
            "colorscale": [
             [
              0,
              "#0d0887"
             ],
             [
              0.1111111111111111,
              "#46039f"
             ],
             [
              0.2222222222222222,
              "#7201a8"
             ],
             [
              0.3333333333333333,
              "#9c179e"
             ],
             [
              0.4444444444444444,
              "#bd3786"
             ],
             [
              0.5555555555555556,
              "#d8576b"
             ],
             [
              0.6666666666666666,
              "#ed7953"
             ],
             [
              0.7777777777777778,
              "#fb9f3a"
             ],
             [
              0.8888888888888888,
              "#fdca26"
             ],
             [
              1,
              "#f0f921"
             ]
            ],
            "type": "histogram2dcontour"
           }
          ],
          "mesh3d": [
           {
            "colorbar": {
             "outlinewidth": 0,
             "ticks": ""
            },
            "type": "mesh3d"
           }
          ],
          "parcoords": [
           {
            "line": {
             "colorbar": {
              "outlinewidth": 0,
              "ticks": ""
             }
            },
            "type": "parcoords"
           }
          ],
          "pie": [
           {
            "automargin": true,
            "type": "pie"
           }
          ],
          "scatter": [
           {
            "fillpattern": {
             "fillmode": "overlay",
             "size": 10,
             "solidity": 0.2
            },
            "type": "scatter"
           }
          ],
          "scatter3d": [
           {
            "line": {
             "colorbar": {
              "outlinewidth": 0,
              "ticks": ""
             }
            },
            "marker": {
             "colorbar": {
              "outlinewidth": 0,
              "ticks": ""
             }
            },
            "type": "scatter3d"
           }
          ],
          "scattercarpet": [
           {
            "marker": {
             "colorbar": {
              "outlinewidth": 0,
              "ticks": ""
             }
            },
            "type": "scattercarpet"
           }
          ],
          "scattergeo": [
           {
            "marker": {
             "colorbar": {
              "outlinewidth": 0,
              "ticks": ""
             }
            },
            "type": "scattergeo"
           }
          ],
          "scattergl": [
           {
            "marker": {
             "colorbar": {
              "outlinewidth": 0,
              "ticks": ""
             }
            },
            "type": "scattergl"
           }
          ],
          "scattermapbox": [
           {
            "marker": {
             "colorbar": {
              "outlinewidth": 0,
              "ticks": ""
             }
            },
            "type": "scattermapbox"
           }
          ],
          "scatterpolar": [
           {
            "marker": {
             "colorbar": {
              "outlinewidth": 0,
              "ticks": ""
             }
            },
            "type": "scatterpolar"
           }
          ],
          "scatterpolargl": [
           {
            "marker": {
             "colorbar": {
              "outlinewidth": 0,
              "ticks": ""
             }
            },
            "type": "scatterpolargl"
           }
          ],
          "scatterternary": [
           {
            "marker": {
             "colorbar": {
              "outlinewidth": 0,
              "ticks": ""
             }
            },
            "type": "scatterternary"
           }
          ],
          "surface": [
           {
            "colorbar": {
             "outlinewidth": 0,
             "ticks": ""
            },
            "colorscale": [
             [
              0,
              "#0d0887"
             ],
             [
              0.1111111111111111,
              "#46039f"
             ],
             [
              0.2222222222222222,
              "#7201a8"
             ],
             [
              0.3333333333333333,
              "#9c179e"
             ],
             [
              0.4444444444444444,
              "#bd3786"
             ],
             [
              0.5555555555555556,
              "#d8576b"
             ],
             [
              0.6666666666666666,
              "#ed7953"
             ],
             [
              0.7777777777777778,
              "#fb9f3a"
             ],
             [
              0.8888888888888888,
              "#fdca26"
             ],
             [
              1,
              "#f0f921"
             ]
            ],
            "type": "surface"
           }
          ],
          "table": [
           {
            "cells": {
             "fill": {
              "color": "#EBF0F8"
             },
             "line": {
              "color": "white"
             }
            },
            "header": {
             "fill": {
              "color": "#C8D4E3"
             },
             "line": {
              "color": "white"
             }
            },
            "type": "table"
           }
          ]
         },
         "layout": {
          "annotationdefaults": {
           "arrowcolor": "#2a3f5f",
           "arrowhead": 0,
           "arrowwidth": 1
          },
          "autotypenumbers": "strict",
          "coloraxis": {
           "colorbar": {
            "outlinewidth": 0,
            "ticks": ""
           }
          },
          "colorscale": {
           "diverging": [
            [
             0,
             "#8e0152"
            ],
            [
             0.1,
             "#c51b7d"
            ],
            [
             0.2,
             "#de77ae"
            ],
            [
             0.3,
             "#f1b6da"
            ],
            [
             0.4,
             "#fde0ef"
            ],
            [
             0.5,
             "#f7f7f7"
            ],
            [
             0.6,
             "#e6f5d0"
            ],
            [
             0.7,
             "#b8e186"
            ],
            [
             0.8,
             "#7fbc41"
            ],
            [
             0.9,
             "#4d9221"
            ],
            [
             1,
             "#276419"
            ]
           ],
           "sequential": [
            [
             0,
             "#0d0887"
            ],
            [
             0.1111111111111111,
             "#46039f"
            ],
            [
             0.2222222222222222,
             "#7201a8"
            ],
            [
             0.3333333333333333,
             "#9c179e"
            ],
            [
             0.4444444444444444,
             "#bd3786"
            ],
            [
             0.5555555555555556,
             "#d8576b"
            ],
            [
             0.6666666666666666,
             "#ed7953"
            ],
            [
             0.7777777777777778,
             "#fb9f3a"
            ],
            [
             0.8888888888888888,
             "#fdca26"
            ],
            [
             1,
             "#f0f921"
            ]
           ],
           "sequentialminus": [
            [
             0,
             "#0d0887"
            ],
            [
             0.1111111111111111,
             "#46039f"
            ],
            [
             0.2222222222222222,
             "#7201a8"
            ],
            [
             0.3333333333333333,
             "#9c179e"
            ],
            [
             0.4444444444444444,
             "#bd3786"
            ],
            [
             0.5555555555555556,
             "#d8576b"
            ],
            [
             0.6666666666666666,
             "#ed7953"
            ],
            [
             0.7777777777777778,
             "#fb9f3a"
            ],
            [
             0.8888888888888888,
             "#fdca26"
            ],
            [
             1,
             "#f0f921"
            ]
           ]
          },
          "colorway": [
           "#636efa",
           "#EF553B",
           "#00cc96",
           "#ab63fa",
           "#FFA15A",
           "#19d3f3",
           "#FF6692",
           "#B6E880",
           "#FF97FF",
           "#FECB52"
          ],
          "font": {
           "color": "#2a3f5f"
          },
          "geo": {
           "bgcolor": "white",
           "lakecolor": "white",
           "landcolor": "#E5ECF6",
           "showlakes": true,
           "showland": true,
           "subunitcolor": "white"
          },
          "hoverlabel": {
           "align": "left"
          },
          "hovermode": "closest",
          "mapbox": {
           "style": "light"
          },
          "paper_bgcolor": "white",
          "plot_bgcolor": "#E5ECF6",
          "polar": {
           "angularaxis": {
            "gridcolor": "white",
            "linecolor": "white",
            "ticks": ""
           },
           "bgcolor": "#E5ECF6",
           "radialaxis": {
            "gridcolor": "white",
            "linecolor": "white",
            "ticks": ""
           }
          },
          "scene": {
           "xaxis": {
            "backgroundcolor": "#E5ECF6",
            "gridcolor": "white",
            "gridwidth": 2,
            "linecolor": "white",
            "showbackground": true,
            "ticks": "",
            "zerolinecolor": "white"
           },
           "yaxis": {
            "backgroundcolor": "#E5ECF6",
            "gridcolor": "white",
            "gridwidth": 2,
            "linecolor": "white",
            "showbackground": true,
            "ticks": "",
            "zerolinecolor": "white"
           },
           "zaxis": {
            "backgroundcolor": "#E5ECF6",
            "gridcolor": "white",
            "gridwidth": 2,
            "linecolor": "white",
            "showbackground": true,
            "ticks": "",
            "zerolinecolor": "white"
           }
          },
          "shapedefaults": {
           "line": {
            "color": "#2a3f5f"
           }
          },
          "ternary": {
           "aaxis": {
            "gridcolor": "white",
            "linecolor": "white",
            "ticks": ""
           },
           "baxis": {
            "gridcolor": "white",
            "linecolor": "white",
            "ticks": ""
           },
           "bgcolor": "#E5ECF6",
           "caxis": {
            "gridcolor": "white",
            "linecolor": "white",
            "ticks": ""
           }
          },
          "title": {
           "x": 0.05
          },
          "xaxis": {
           "automargin": true,
           "gridcolor": "white",
           "linecolor": "white",
           "ticks": "",
           "title": {
            "standoff": 15
           },
           "zerolinecolor": "white",
           "zerolinewidth": 2
          },
          "yaxis": {
           "automargin": true,
           "gridcolor": "white",
           "linecolor": "white",
           "ticks": "",
           "title": {
            "standoff": 15
           },
           "zerolinecolor": "white",
           "zerolinewidth": 2
          }
         }
        },
        "title": {
         "font": {
          "size": 22
         },
         "text": "연령대/성별 고객 수 현황"
        },
        "xaxis": {
         "ticktext": [
          "1.2만명",
          "1만명",
          "8천명",
          "6천명",
          "4천명",
          "2천명",
          "0",
          "2천명",
          "4천명",
          "6천명",
          "8천명",
          "1만명",
          "1.2만명"
         ],
         "tickvals": [
          -12000,
          -10000,
          -8000,
          -6000,
          -4000,
          -2000,
          0,
          2000,
          4000,
          6000,
          8000,
          10000,
          12000
         ],
         "title": {
          "font": {
           "size": 14
          },
          "text": "고객 수(백명)"
         }
        }
       }
      }
     },
     "metadata": {},
     "output_type": "display_data"
    }
   ],
   "source": [
    "# 피라미드 차트로 나타내기 위한 데이터 전처리\n",
    "age_grp = pivot_table_df['age_grp']\n",
    "female_data = pivot_table_df['2']*-1\n",
    "male_data = pivot_table_df['1']\n",
    "\n",
    "# Created figure\n",
    "fig = go.Figure()\n",
    "\n",
    "# Adding Female Data\n",
    "fig.add_trace(go.Bar(x = female_data,\n",
    "                    y = age_grp,\n",
    "                    name = '여성',\n",
    "                    orientation = 'h',\n",
    "                    text = -1*female_data))\n",
    "# Adding Male Data\n",
    "fig.add_trace(go.Bar(x = male_data,\n",
    "                    y = age_grp,\n",
    "                    name = '남성',\n",
    "                    orientation = 'h',\n",
    "                    text = male_data))\n",
    "\n",
    "# Updating the layout for our graph\n",
    "fig.update_layout(title = '연령대/성별 고객 수 현황',\n",
    "                 title_font_size = 22,\n",
    "                 barmode = 'overlay',\n",
    "                 bargap = 0.0,\n",
    "                 bargroupgap = 0,\n",
    "                 xaxis = dict(tickvals = [-12000,-10000,-8000,-6000,-4000,-2000, 0, 2000, 4000, 6000, 8000, 10000, 12000],\n",
    "                             ticktext = ['1.2만명','1만명','8천명','6천명','4천명','2천명', '0', '2천명', '4천명', '6천명', '8천명', '1만명','1.2만명'],\n",
    "                             title = '고객 수(백명)',\n",
    "                             title_font_size = 14))\n",
    "\n",
    "fig.show()"
   ]
  },
  {
   "cell_type": "markdown",
   "metadata": {},
   "source": [
    "**고객 수**의 경우 여성이 남성보다 높은 것을 볼 수 있음.\\\n",
    "**25세 이하 고객**의 수가 남성여성 통틀어 매우 적게 분포하고 있으며,\\\n",
    "특히나 **50대 이상의 고객**의 경우에 여성 고객의 수가 남성 고객의 수 보다 **2배** 가량 많은 것을 알 수 있음."
   ]
  },
  {
   "cell_type": "code",
   "execution_count": 22,
   "metadata": {},
   "outputs": [
    {
     "data": {
      "application/vnd.plotly.v1+json": {
       "config": {
        "plotlyServerURL": "https://plot.ly"
       },
       "data": [
        {
         "domain": {
          "x": [
           0,
           1
          ],
          "y": [
           0,
           1
          ]
         },
         "hovertemplate": "age_grp=%{label}<br>9=%{value}<extra></extra>",
         "labels": [
          "20under",
          "21-25",
          "26-30",
          "31-34",
          "35-40",
          "41-45",
          "45-50",
          "51-55",
          "56-60",
          "61-65",
          "65over"
         ],
         "legendgroup": "",
         "name": "",
         "showlegend": true,
         "type": "pie",
         "values": [
          48,
          402,
          1436,
          1786,
          3759,
          4586,
          3957,
          3426,
          2425,
          1855,
          1619
         ]
        }
       ],
       "layout": {
        "height": 600,
        "legend": {
         "tracegroupgap": 0
        },
        "template": {
         "data": {
          "bar": [
           {
            "error_x": {
             "color": "#2a3f5f"
            },
            "error_y": {
             "color": "#2a3f5f"
            },
            "marker": {
             "line": {
              "color": "#E5ECF6",
              "width": 0.5
             },
             "pattern": {
              "fillmode": "overlay",
              "size": 10,
              "solidity": 0.2
             }
            },
            "type": "bar"
           }
          ],
          "barpolar": [
           {
            "marker": {
             "line": {
              "color": "#E5ECF6",
              "width": 0.5
             },
             "pattern": {
              "fillmode": "overlay",
              "size": 10,
              "solidity": 0.2
             }
            },
            "type": "barpolar"
           }
          ],
          "carpet": [
           {
            "aaxis": {
             "endlinecolor": "#2a3f5f",
             "gridcolor": "white",
             "linecolor": "white",
             "minorgridcolor": "white",
             "startlinecolor": "#2a3f5f"
            },
            "baxis": {
             "endlinecolor": "#2a3f5f",
             "gridcolor": "white",
             "linecolor": "white",
             "minorgridcolor": "white",
             "startlinecolor": "#2a3f5f"
            },
            "type": "carpet"
           }
          ],
          "choropleth": [
           {
            "colorbar": {
             "outlinewidth": 0,
             "ticks": ""
            },
            "type": "choropleth"
           }
          ],
          "contour": [
           {
            "colorbar": {
             "outlinewidth": 0,
             "ticks": ""
            },
            "colorscale": [
             [
              0,
              "#0d0887"
             ],
             [
              0.1111111111111111,
              "#46039f"
             ],
             [
              0.2222222222222222,
              "#7201a8"
             ],
             [
              0.3333333333333333,
              "#9c179e"
             ],
             [
              0.4444444444444444,
              "#bd3786"
             ],
             [
              0.5555555555555556,
              "#d8576b"
             ],
             [
              0.6666666666666666,
              "#ed7953"
             ],
             [
              0.7777777777777778,
              "#fb9f3a"
             ],
             [
              0.8888888888888888,
              "#fdca26"
             ],
             [
              1,
              "#f0f921"
             ]
            ],
            "type": "contour"
           }
          ],
          "contourcarpet": [
           {
            "colorbar": {
             "outlinewidth": 0,
             "ticks": ""
            },
            "type": "contourcarpet"
           }
          ],
          "heatmap": [
           {
            "colorbar": {
             "outlinewidth": 0,
             "ticks": ""
            },
            "colorscale": [
             [
              0,
              "#0d0887"
             ],
             [
              0.1111111111111111,
              "#46039f"
             ],
             [
              0.2222222222222222,
              "#7201a8"
             ],
             [
              0.3333333333333333,
              "#9c179e"
             ],
             [
              0.4444444444444444,
              "#bd3786"
             ],
             [
              0.5555555555555556,
              "#d8576b"
             ],
             [
              0.6666666666666666,
              "#ed7953"
             ],
             [
              0.7777777777777778,
              "#fb9f3a"
             ],
             [
              0.8888888888888888,
              "#fdca26"
             ],
             [
              1,
              "#f0f921"
             ]
            ],
            "type": "heatmap"
           }
          ],
          "heatmapgl": [
           {
            "colorbar": {
             "outlinewidth": 0,
             "ticks": ""
            },
            "colorscale": [
             [
              0,
              "#0d0887"
             ],
             [
              0.1111111111111111,
              "#46039f"
             ],
             [
              0.2222222222222222,
              "#7201a8"
             ],
             [
              0.3333333333333333,
              "#9c179e"
             ],
             [
              0.4444444444444444,
              "#bd3786"
             ],
             [
              0.5555555555555556,
              "#d8576b"
             ],
             [
              0.6666666666666666,
              "#ed7953"
             ],
             [
              0.7777777777777778,
              "#fb9f3a"
             ],
             [
              0.8888888888888888,
              "#fdca26"
             ],
             [
              1,
              "#f0f921"
             ]
            ],
            "type": "heatmapgl"
           }
          ],
          "histogram": [
           {
            "marker": {
             "pattern": {
              "fillmode": "overlay",
              "size": 10,
              "solidity": 0.2
             }
            },
            "type": "histogram"
           }
          ],
          "histogram2d": [
           {
            "colorbar": {
             "outlinewidth": 0,
             "ticks": ""
            },
            "colorscale": [
             [
              0,
              "#0d0887"
             ],
             [
              0.1111111111111111,
              "#46039f"
             ],
             [
              0.2222222222222222,
              "#7201a8"
             ],
             [
              0.3333333333333333,
              "#9c179e"
             ],
             [
              0.4444444444444444,
              "#bd3786"
             ],
             [
              0.5555555555555556,
              "#d8576b"
             ],
             [
              0.6666666666666666,
              "#ed7953"
             ],
             [
              0.7777777777777778,
              "#fb9f3a"
             ],
             [
              0.8888888888888888,
              "#fdca26"
             ],
             [
              1,
              "#f0f921"
             ]
            ],
            "type": "histogram2d"
           }
          ],
          "histogram2dcontour": [
           {
            "colorbar": {
             "outlinewidth": 0,
             "ticks": ""
            },
            "colorscale": [
             [
              0,
              "#0d0887"
             ],
             [
              0.1111111111111111,
              "#46039f"
             ],
             [
              0.2222222222222222,
              "#7201a8"
             ],
             [
              0.3333333333333333,
              "#9c179e"
             ],
             [
              0.4444444444444444,
              "#bd3786"
             ],
             [
              0.5555555555555556,
              "#d8576b"
             ],
             [
              0.6666666666666666,
              "#ed7953"
             ],
             [
              0.7777777777777778,
              "#fb9f3a"
             ],
             [
              0.8888888888888888,
              "#fdca26"
             ],
             [
              1,
              "#f0f921"
             ]
            ],
            "type": "histogram2dcontour"
           }
          ],
          "mesh3d": [
           {
            "colorbar": {
             "outlinewidth": 0,
             "ticks": ""
            },
            "type": "mesh3d"
           }
          ],
          "parcoords": [
           {
            "line": {
             "colorbar": {
              "outlinewidth": 0,
              "ticks": ""
             }
            },
            "type": "parcoords"
           }
          ],
          "pie": [
           {
            "automargin": true,
            "type": "pie"
           }
          ],
          "scatter": [
           {
            "fillpattern": {
             "fillmode": "overlay",
             "size": 10,
             "solidity": 0.2
            },
            "type": "scatter"
           }
          ],
          "scatter3d": [
           {
            "line": {
             "colorbar": {
              "outlinewidth": 0,
              "ticks": ""
             }
            },
            "marker": {
             "colorbar": {
              "outlinewidth": 0,
              "ticks": ""
             }
            },
            "type": "scatter3d"
           }
          ],
          "scattercarpet": [
           {
            "marker": {
             "colorbar": {
              "outlinewidth": 0,
              "ticks": ""
             }
            },
            "type": "scattercarpet"
           }
          ],
          "scattergeo": [
           {
            "marker": {
             "colorbar": {
              "outlinewidth": 0,
              "ticks": ""
             }
            },
            "type": "scattergeo"
           }
          ],
          "scattergl": [
           {
            "marker": {
             "colorbar": {
              "outlinewidth": 0,
              "ticks": ""
             }
            },
            "type": "scattergl"
           }
          ],
          "scattermapbox": [
           {
            "marker": {
             "colorbar": {
              "outlinewidth": 0,
              "ticks": ""
             }
            },
            "type": "scattermapbox"
           }
          ],
          "scatterpolar": [
           {
            "marker": {
             "colorbar": {
              "outlinewidth": 0,
              "ticks": ""
             }
            },
            "type": "scatterpolar"
           }
          ],
          "scatterpolargl": [
           {
            "marker": {
             "colorbar": {
              "outlinewidth": 0,
              "ticks": ""
             }
            },
            "type": "scatterpolargl"
           }
          ],
          "scatterternary": [
           {
            "marker": {
             "colorbar": {
              "outlinewidth": 0,
              "ticks": ""
             }
            },
            "type": "scatterternary"
           }
          ],
          "surface": [
           {
            "colorbar": {
             "outlinewidth": 0,
             "ticks": ""
            },
            "colorscale": [
             [
              0,
              "#0d0887"
             ],
             [
              0.1111111111111111,
              "#46039f"
             ],
             [
              0.2222222222222222,
              "#7201a8"
             ],
             [
              0.3333333333333333,
              "#9c179e"
             ],
             [
              0.4444444444444444,
              "#bd3786"
             ],
             [
              0.5555555555555556,
              "#d8576b"
             ],
             [
              0.6666666666666666,
              "#ed7953"
             ],
             [
              0.7777777777777778,
              "#fb9f3a"
             ],
             [
              0.8888888888888888,
              "#fdca26"
             ],
             [
              1,
              "#f0f921"
             ]
            ],
            "type": "surface"
           }
          ],
          "table": [
           {
            "cells": {
             "fill": {
              "color": "#EBF0F8"
             },
             "line": {
              "color": "white"
             }
            },
            "header": {
             "fill": {
              "color": "#C8D4E3"
             },
             "line": {
              "color": "white"
             }
            },
            "type": "table"
           }
          ]
         },
         "layout": {
          "annotationdefaults": {
           "arrowcolor": "#2a3f5f",
           "arrowhead": 0,
           "arrowwidth": 1
          },
          "autotypenumbers": "strict",
          "coloraxis": {
           "colorbar": {
            "outlinewidth": 0,
            "ticks": ""
           }
          },
          "colorscale": {
           "diverging": [
            [
             0,
             "#8e0152"
            ],
            [
             0.1,
             "#c51b7d"
            ],
            [
             0.2,
             "#de77ae"
            ],
            [
             0.3,
             "#f1b6da"
            ],
            [
             0.4,
             "#fde0ef"
            ],
            [
             0.5,
             "#f7f7f7"
            ],
            [
             0.6,
             "#e6f5d0"
            ],
            [
             0.7,
             "#b8e186"
            ],
            [
             0.8,
             "#7fbc41"
            ],
            [
             0.9,
             "#4d9221"
            ],
            [
             1,
             "#276419"
            ]
           ],
           "sequential": [
            [
             0,
             "#0d0887"
            ],
            [
             0.1111111111111111,
             "#46039f"
            ],
            [
             0.2222222222222222,
             "#7201a8"
            ],
            [
             0.3333333333333333,
             "#9c179e"
            ],
            [
             0.4444444444444444,
             "#bd3786"
            ],
            [
             0.5555555555555556,
             "#d8576b"
            ],
            [
             0.6666666666666666,
             "#ed7953"
            ],
            [
             0.7777777777777778,
             "#fb9f3a"
            ],
            [
             0.8888888888888888,
             "#fdca26"
            ],
            [
             1,
             "#f0f921"
            ]
           ],
           "sequentialminus": [
            [
             0,
             "#0d0887"
            ],
            [
             0.1111111111111111,
             "#46039f"
            ],
            [
             0.2222222222222222,
             "#7201a8"
            ],
            [
             0.3333333333333333,
             "#9c179e"
            ],
            [
             0.4444444444444444,
             "#bd3786"
            ],
            [
             0.5555555555555556,
             "#d8576b"
            ],
            [
             0.6666666666666666,
             "#ed7953"
            ],
            [
             0.7777777777777778,
             "#fb9f3a"
            ],
            [
             0.8888888888888888,
             "#fdca26"
            ],
            [
             1,
             "#f0f921"
            ]
           ]
          },
          "colorway": [
           "#636efa",
           "#EF553B",
           "#00cc96",
           "#ab63fa",
           "#FFA15A",
           "#19d3f3",
           "#FF6692",
           "#B6E880",
           "#FF97FF",
           "#FECB52"
          ],
          "font": {
           "color": "#2a3f5f"
          },
          "geo": {
           "bgcolor": "white",
           "lakecolor": "white",
           "landcolor": "#E5ECF6",
           "showlakes": true,
           "showland": true,
           "subunitcolor": "white"
          },
          "hoverlabel": {
           "align": "left"
          },
          "hovermode": "closest",
          "mapbox": {
           "style": "light"
          },
          "paper_bgcolor": "white",
          "plot_bgcolor": "#E5ECF6",
          "polar": {
           "angularaxis": {
            "gridcolor": "white",
            "linecolor": "white",
            "ticks": ""
           },
           "bgcolor": "#E5ECF6",
           "radialaxis": {
            "gridcolor": "white",
            "linecolor": "white",
            "ticks": ""
           }
          },
          "scene": {
           "xaxis": {
            "backgroundcolor": "#E5ECF6",
            "gridcolor": "white",
            "gridwidth": 2,
            "linecolor": "white",
            "showbackground": true,
            "ticks": "",
            "zerolinecolor": "white"
           },
           "yaxis": {
            "backgroundcolor": "#E5ECF6",
            "gridcolor": "white",
            "gridwidth": 2,
            "linecolor": "white",
            "showbackground": true,
            "ticks": "",
            "zerolinecolor": "white"
           },
           "zaxis": {
            "backgroundcolor": "#E5ECF6",
            "gridcolor": "white",
            "gridwidth": 2,
            "linecolor": "white",
            "showbackground": true,
            "ticks": "",
            "zerolinecolor": "white"
           }
          },
          "shapedefaults": {
           "line": {
            "color": "#2a3f5f"
           }
          },
          "ternary": {
           "aaxis": {
            "gridcolor": "white",
            "linecolor": "white",
            "ticks": ""
           },
           "baxis": {
            "gridcolor": "white",
            "linecolor": "white",
            "ticks": ""
           },
           "bgcolor": "#E5ECF6",
           "caxis": {
            "gridcolor": "white",
            "linecolor": "white",
            "ticks": ""
           }
          },
          "title": {
           "x": 0.05
          },
          "xaxis": {
           "automargin": true,
           "gridcolor": "white",
           "linecolor": "white",
           "ticks": "",
           "title": {
            "standoff": 15
           },
           "zerolinecolor": "white",
           "zerolinewidth": 2
          },
          "yaxis": {
           "automargin": true,
           "gridcolor": "white",
           "linecolor": "white",
           "ticks": "",
           "title": {
            "standoff": 15
           },
           "zerolinecolor": "white",
           "zerolinewidth": 2
          }
         }
        },
        "title": {
         "text": "성별 미상 고객 연령분포"
        },
        "width": 800
       }
      }
     },
     "metadata": {},
     "output_type": "display_data"
    }
   ],
   "source": [
    "import plotly.express as px\n",
    "pivot_table_df_unknown_value = pivot_table_df_unknown['9'].value_counts()\n",
    "\n",
    "fig = px.pie(pivot_table_df_unknown, names='age_grp', values='9', title='성별 미상 고객 연령분포')\n",
    "fig.update_layout(width=800, height=600)\n",
    "fig.show()"
   ]
  },
  {
   "cell_type": "code",
   "execution_count": 23,
   "metadata": {},
   "outputs": [
    {
     "data": {
      "text/plain": [
       "48      1\n",
       "402     1\n",
       "1436    1\n",
       "1786    1\n",
       "3759    1\n",
       "4586    1\n",
       "3957    1\n",
       "3426    1\n",
       "2425    1\n",
       "1855    1\n",
       "1619    1\n",
       "Name: 9, dtype: int64"
      ]
     },
     "execution_count": 23,
     "metadata": {},
     "output_type": "execute_result"
    }
   ],
   "source": [
    "pivot_table_df_unknown_value"
   ]
  },
  {
   "cell_type": "markdown",
   "metadata": {},
   "source": [
    ">카테고리별 판매 수량, 매출 분석"
   ]
  },
  {
   "cell_type": "code",
   "execution_count": 24,
   "metadata": {},
   "outputs": [
    {
     "data": {
      "application/vnd.plotly.v1+json": {
       "config": {
        "plotlyServerURL": "https://plot.ly"
       },
       "data": [
        {
         "domain": {
          "x": [
           0,
           1
          ],
          "y": [
           0,
           1
          ]
         },
         "hole": 0.4,
         "hovertemplate": "item_category=%{label}<br>qty=%{value}<extra></extra>",
         "labels": [
          "가구/인테리어",
          "가구/인테리어",
          "가구/인테리어",
          "가구/인테리어",
          "가구/인테리어",
          "가구/인테리어",
          "가구/인테리어",
          "가구/인테리어",
          "가구/인테리어",
          "가구/인테리어",
          "가구/인테리어",
          "가구/인테리어",
          "가구/인테리어",
          "가구/인테리어",
          "가구/인테리어",
          "가구/인테리어",
          "가구/인테리어",
          "가구/인테리어",
          "가구/인테리어",
          "가구/인테리어",
          "가구/인테리어",
          "가구/인테리어",
          "가구/인테리어",
          "가구/인테리어",
          "가구/인테리어",
          "가구/인테리어",
          "가구/인테리어",
          "가구/인테리어",
          "가구/인테리어",
          "가구/인테리어",
          "가구/인테리어",
          "가구/인테리어",
          "가구/인테리어",
          "가구/인테리어",
          "가구/인테리어",
          "가구/인테리어",
          "가구/인테리어",
          "가구/인테리어",
          "가구/인테리어",
          "가구/인테리어",
          "가구/인테리어",
          "가구/인테리어",
          "가구/인테리어",
          "가구/인테리어",
          "가구/인테리어",
          "가구/인테리어",
          "가구/인테리어",
          "가구/인테리어",
          "가구/인테리어",
          "건강식품",
          "건강식품",
          "건강식품",
          "건강식품",
          "건강식품",
          "건강식품",
          "건강식품",
          "건강식품",
          "건강식품",
          "건강식품",
          "건강식품",
          "건강식품",
          "건강식품",
          "건강식품",
          "건강식품",
          "건강식품",
          "건강식품",
          "건강식품",
          "건강식품",
          "건강식품",
          "건강식품",
          "건강식품",
          "건강식품",
          "건강식품",
          "건강식품",
          "건강식품",
          "건강식품",
          "건강식품",
          "건강식품",
          "건강식품",
          "건강식품",
          "건강식품",
          "건강식품",
          "건강식품",
          "건강식품",
          "건강식품",
          "건강식품",
          "건강식품",
          "건강식품",
          "건강식품",
          "건강식품",
          "건강식품",
          "건강식품",
          "건강식품",
          "건강식품",
          "건강식품",
          "건강식품",
          "건강식품",
          "건강식품",
          "건강식품",
          "건강식품",
          "건강식품",
          "건강식품",
          "건강식품",
          "건강식품",
          "건강식품",
          "건강식품",
          "건강식품",
          "건강식품",
          "건강식품",
          "건강식품",
          "건강식품",
          "건강식품",
          "건강식품",
          "건강식품",
          "건강식품",
          "건강식품",
          "건강식품",
          "건강식품",
          "건강식품",
          "남성의류",
          "남성의류",
          "남성의류",
          "남성의류",
          "남성의류",
          "남성의류",
          "남성의류",
          "남성의류",
          "남성의류",
          "남성의류",
          "남성의류",
          "남성의류",
          "남성의류",
          "남성의류",
          "남성의류",
          "남성의류",
          "남성의류",
          "남성의류",
          "남성의류",
          "남성의류",
          "남성의류",
          "남성의류",
          "남성의류",
          "남성의류",
          "남성의류",
          "남성의류",
          "남성의류",
          "남성의류",
          "남성의류",
          "남성의류",
          "대형가전",
          "대형가전",
          "대형가전",
          "대형가전",
          "대형가전",
          "대형가전",
          "대형가전",
          "대형가전",
          "대형가전",
          "대형가전",
          "대형가전",
          "대형가전",
          "대형가전",
          "대형가전",
          "대형가전",
          "대형가전",
          "대형가전",
          "대형가전",
          "대형가전",
          "대형가전",
          "대형가전",
          "대형가전",
          "대형가전",
          "대형가전",
          "대형가전",
          "대형가전",
          "대형가전",
          "대형가전",
          "대형가전",
          "대형가전",
          "대형가전",
          "대형가전",
          "대형가전",
          "대형가전",
          "대형가전",
          "대형가전",
          "대형가전",
          "대형가전",
          "대형가전",
          "대형가전",
          "대형가전",
          "대형가전",
          "대형가전",
          "대형가전",
          "대형가전",
          "대형가전",
          "대형가전",
          "대형가전",
          "레저/스포츠",
          "레저/스포츠",
          "레저/스포츠",
          "레저/스포츠",
          "레저/스포츠",
          "레저/스포츠",
          "레저/스포츠",
          "레저/스포츠",
          "레저/스포츠",
          "레저/스포츠",
          "레저/스포츠",
          "레저/스포츠",
          "레저/스포츠",
          "레저/스포츠",
          "레저/스포츠",
          "레저/스포츠",
          "레저/스포츠",
          "레저/스포츠",
          "레저/스포츠",
          "레저/스포츠",
          "레저/스포츠",
          "레저/스포츠",
          "레저/스포츠",
          "레저/스포츠",
          "레저/스포츠",
          "레저/스포츠",
          "레저/스포츠",
          "레저/스포츠",
          "레저/스포츠",
          "레저/스포츠",
          "레저/스포츠",
          "레저/스포츠",
          "레저/스포츠",
          "레저/스포츠",
          "레저/스포츠",
          "레저/스포츠",
          "레저/스포츠",
          "레저/스포츠",
          "레저/스포츠",
          "레저/스포츠",
          "레저/스포츠",
          "레포츠패션",
          "레포츠패션",
          "레포츠패션",
          "레포츠패션",
          "레포츠패션",
          "레포츠패션",
          "레포츠패션",
          "레포츠패션",
          "레포츠패션",
          "레포츠패션",
          "레포츠패션",
          "레포츠패션",
          "레포츠패션",
          "레포츠패션",
          "레포츠패션",
          "레포츠패션",
          "레포츠패션",
          "레포츠패션",
          "레포츠패션",
          "레포츠패션",
          "레포츠패션",
          "레포츠패션",
          "레포츠패션",
          "레포츠패션",
          "레포츠패션",
          "레포츠패션",
          "레포츠패션",
          "레포츠패션",
          "레포츠패션",
          "레포츠패션",
          "레포츠패션",
          "레포츠패션",
          "레포츠패션",
          "레포츠패션",
          "레포츠패션",
          "레포츠패션",
          "레포츠패션",
          "레포츠패션",
          "레포츠패션",
          "레포츠패션",
          "레포츠패션",
          "레포츠패션",
          "레포츠패션",
          "레포츠패션",
          "레포츠패션",
          "레포츠패션",
          "레포츠패션",
          "레포츠패션",
          "레포츠패션",
          "레포츠패션",
          "레포츠패션",
          "레포츠패션",
          "레포츠패션",
          "레포츠패션",
          "레포츠패션",
          "레포츠패션",
          "레포츠패션",
          "레포츠패션",
          "레포츠패션",
          "반려용품",
          "반려용품",
          "반려용품",
          "반려용품",
          "반려용품",
          "반려용품",
          "반려용품",
          "반려용품",
          "뷰티",
          "뷰티",
          "뷰티",
          "뷰티",
          "뷰티",
          "뷰티",
          "뷰티",
          "뷰티",
          "뷰티",
          "뷰티",
          "뷰티",
          "뷰티",
          "뷰티",
          "뷰티",
          "뷰티",
          "뷰티",
          "뷰티",
          "뷰티",
          "뷰티",
          "뷰티",
          "뷰티",
          "뷰티",
          "뷰티",
          "뷰티",
          "뷰티",
          "뷰티",
          "뷰티",
          "뷰티",
          "뷰티",
          "뷰티",
          "뷰티",
          "뷰티",
          "뷰티",
          "뷰티",
          "뷰티",
          "뷰티",
          "뷰티",
          "뷰티",
          "뷰티",
          "뷰티",
          "뷰티",
          "뷰티",
          "뷰티",
          "뷰티",
          "뷰티",
          "뷰티",
          "뷰티",
          "뷰티",
          "뷰티",
          "뷰티",
          "뷰티",
          "뷰티",
          "뷰티",
          "뷰티",
          "뷰티",
          "뷰티",
          "뷰티",
          "뷰티",
          "뷰티",
          "뷰티",
          "뷰티",
          "뷰티",
          "뷰티",
          "뷰티",
          "뷰티",
          "뷰티",
          "뷰티",
          "뷰티",
          "뷰티",
          "뷰티",
          "뷰티",
          "뷰티",
          "상품권",
          "생활가전",
          "생활가전",
          "생활가전",
          "생활가전",
          "생활가전",
          "생활가전",
          "생활가전",
          "생활가전",
          "생활가전",
          "생활가전",
          "생활가전",
          "생활가전",
          "생활가전",
          "생활가전",
          "생활가전",
          "생활가전",
          "생활가전",
          "생활가전",
          "생활가전",
          "생활가전",
          "생활가전",
          "생활가전",
          "생활가전",
          "생활가전",
          "생활가전",
          "생활가전",
          "생활가전",
          "생활가전",
          "생활가전",
          "생활가전",
          "생활가전",
          "생활가전",
          "생활가전",
          "생활가전",
          "생활가전",
          "생활가전",
          "생활가전",
          "생활가전",
          "생활가전",
          "생활가전",
          "생활가전",
          "생활가전",
          "생활가전",
          "생활가전",
          "생활가전",
          "생활가전",
          "생활가전",
          "생활가전",
          "생활가전",
          "생활가전",
          "생활가전",
          "생활가전",
          "생활가전",
          "생활가전",
          "생활가전",
          "생활가전",
          "생활가전",
          "생활가전",
          "생활가전",
          "생활가전",
          "생활가전",
          "생활가전",
          "생활가전",
          "생활가전",
          "생활가전",
          "생활가전",
          "생활가전",
          "생활가전",
          "생활가전",
          "생활가전",
          "생활가전",
          "생활가전",
          "생활가전",
          "생활가전",
          "생활가전",
          "생활가전",
          "생활가전",
          "생활가전",
          "생활가전",
          "생활가전",
          "생활가전",
          "생활가전",
          "생활가전",
          "생활가전",
          "생활가전",
          "생활가전",
          "생활가전",
          "생활가전",
          "생활가전",
          "생활가전",
          "생활가전",
          "생활가전",
          "생활가전",
          "생활가전",
          "생활가전",
          "생활가전",
          "생활가전",
          "생활가전",
          "생활가전",
          "생활가전",
          "생활용품",
          "생활용품",
          "생활용품",
          "생활용품",
          "생활용품",
          "생활용품",
          "생활용품",
          "생활용품",
          "생활용품",
          "생활용품",
          "생활용품",
          "생활용품",
          "생활용품",
          "생활용품",
          "생활용품",
          "생활용품",
          "생활용품",
          "생활용품",
          "생활용품",
          "생활용품",
          "생활용품",
          "생활용품",
          "생활용품",
          "생활용품",
          "생활용품",
          "생활용품",
          "생활용품",
          "생활용품",
          "생활용품",
          "생활용품",
          "생활용품",
          "생활용품",
          "생활용품",
          "생활용품",
          "생활용품",
          "생활용품",
          "생활용품",
          "생활용품",
          "생활용품",
          "생활용품",
          "생활용품",
          "생활용품",
          "생활용품",
          "생활용품",
          "생활용품",
          "생활용품",
          "생활용품",
          "생활용품",
          "생활용품",
          "생활용품",
          "생활용품",
          "생활용품",
          "생활용품",
          "생활용품",
          "생활용품",
          "생활용품",
          "생활용품",
          "생활용품",
          "생활용품",
          "생활용품",
          "생활용품",
          "생활용품",
          "생활용품",
          "생활용품",
          "생활용품",
          "생활용품",
          "생활용품",
          "생활용품",
          "생활용품",
          "생활용품",
          "생활용품",
          "생활용품",
          "생활용품",
          "생활용품",
          "생활용품",
          "생활용품",
          "생활용품",
          "생활용품",
          "생활용품",
          "생활용품",
          "생활용품",
          "생활용품",
          "생활용품",
          "생활용품",
          "생활용품",
          "생활용품",
          "생활용품",
          "생활용품",
          "생활용품",
          "생활용품",
          "생활용품",
          "생활용품",
          "생활용품",
          "생활용품",
          "생활용품",
          "생활용품",
          "생활용품",
          "생활용품",
          "생활용품",
          "생활용품",
          "생활용품",
          "생활용품",
          "생활용품",
          "생활용품",
          "생활용품",
          "생활용품",
          "생활용품",
          "생활용품",
          "생활용품",
          "생활용품",
          "생활용품",
          "생활용품",
          "생활용품",
          "생활용품",
          "생활용품",
          "생활용품",
          "생활용품",
          "생활용품",
          "생활용품",
          "생활용품",
          "생활용품",
          "생활용품",
          "생활용품",
          "생활용품",
          "생활용품",
          "생활용품",
          "생활용품",
          "생활용품",
          "생활용품",
          "생활용품",
          "생활용품",
          "생활용품",
          "생활용품",
          "생활용품",
          "생활용품",
          "생활용품",
          "생활용품",
          "생활용품",
          "생활용품",
          "생활용품",
          "생활용품",
          "생활용품",
          "생활용품",
          "생활용품",
          "생활용품",
          "생활용품",
          "생활용품",
          "생활용품",
          "생활용품",
          "생활용품",
          "생활용품",
          "생활용품",
          "생활용품",
          "생활용품",
          "생활용품",
          "생활용품",
          "생활용품",
          "생활용품",
          "생활용품",
          "생활용품",
          "생활용품",
          "생활용품",
          "생활용품",
          "생활용품",
          "생활용품",
          "생활용품",
          "생활용품",
          "생활용품",
          "생활용품",
          "생활용품",
          "생활용품",
          "생활용품",
          "생활용품",
          "생활용품",
          "생활용품",
          "생활용품",
          "생활용품",
          "언더웨어",
          "언더웨어",
          "언더웨어",
          "언더웨어",
          "언더웨어",
          "언더웨어",
          "언더웨어",
          "언더웨어",
          "언더웨어",
          "언더웨어",
          "언더웨어",
          "언더웨어",
          "언더웨어",
          "언더웨어",
          "언더웨어",
          "언더웨어",
          "언더웨어",
          "언더웨어",
          "언더웨어",
          "언더웨어",
          "언더웨어",
          "언더웨어",
          "언더웨어",
          "언더웨어",
          "언더웨어",
          "언더웨어",
          "언더웨어",
          "언더웨어",
          "언더웨어",
          "언더웨어",
          "언더웨어",
          "언더웨어",
          "언더웨어",
          "언더웨어",
          "언더웨어",
          "언더웨어",
          "언더웨어",
          "언더웨어",
          "언더웨어",
          "언더웨어",
          "언더웨어",
          "언더웨어",
          "언더웨어",
          "언더웨어",
          "언더웨어",
          "언더웨어",
          "언더웨어",
          "언더웨어",
          "언더웨어",
          "언더웨어",
          "언더웨어",
          "언더웨어",
          "언더웨어",
          "언더웨어",
          "언더웨어",
          "언더웨어",
          "언더웨어",
          "언더웨어",
          "언더웨어",
          "언더웨어",
          "언더웨어",
          "언더웨어",
          "언더웨어",
          "언더웨어",
          "여성의류",
          "여성의류",
          "여성의류",
          "여성의류",
          "여성의류",
          "여성의류",
          "여성의류",
          "여성의류",
          "여성의류",
          "여성의류",
          "여성의류",
          "여성의류",
          "여성의류",
          "여성의류",
          "여성의류",
          "여성의류",
          "여성의류",
          "여성의류",
          "여성의류",
          "여성의류",
          "여성의류",
          "여성의류",
          "여성의류",
          "여성의류",
          "여성의류",
          "여성의류",
          "여성의류",
          "여성의류",
          "여성의류",
          "여성의류",
          "여성의류",
          "여성의류",
          "여성의류",
          "여성의류",
          "여성의류",
          "여성의류",
          "여성의류",
          "여성의류",
          "여성의류",
          "여성의류",
          "여성의류",
          "여성의류",
          "여성의류",
          "여성의류",
          "여성의류",
          "여성의류",
          "여성의류",
          "여성의류",
          "여성의류",
          "여성의류",
          "여성의류",
          "여성의류",
          "여성의류",
          "여성의류",
          "여성의류",
          "여성의류",
          "여성의류",
          "여성의류",
          "여성의류",
          "여성의류",
          "여성의류",
          "여성의류",
          "여성의류",
          "여성의류",
          "여성의류",
          "여성의류",
          "여성의류",
          "여성의류",
          "여성의류",
          "여성의류",
          "여성의류",
          "여성의류",
          "여성의류",
          "여성의류",
          "여성의류",
          "여성의류",
          "여성의류",
          "여성의류",
          "여성의류",
          "여성의류",
          "여성의류",
          "여성의류",
          "여성의류",
          "여성의류",
          "여성의류",
          "여성의류",
          "여성의류",
          "여성의류",
          "여성의류",
          "여성의류",
          "여성의류",
          "여성의류",
          "여성의류",
          "여성의류",
          "여성의류",
          "여성의류",
          "여성의류",
          "여행",
          "여행",
          "일반식품",
          "일반식품",
          "일반식품",
          "일반식품",
          "일반식품",
          "일반식품",
          "일반식품",
          "일반식품",
          "일반식품",
          "일반식품",
          "일반식품",
          "일반식품",
          "일반식품",
          "일반식품",
          "일반식품",
          "일반식품",
          "일반식품",
          "일반식품",
          "일반식품",
          "일반식품",
          "일반식품",
          "일반식품",
          "일반식품",
          "일반식품",
          "일반식품",
          "일반식품",
          "일반식품",
          "일반식품",
          "일반식품",
          "일반식품",
          "일반식품",
          "일반식품",
          "일반식품",
          "일반식품",
          "일반식품",
          "일반식품",
          "일반식품",
          "일반식품",
          "일반식품",
          "일반식품",
          "일반식품",
          "일반식품",
          "일반식품",
          "일반식품",
          "일반식품",
          "일반식품",
          "일반식품",
          "일반식품",
          "일반식품",
          "일반식품",
          "일반식품",
          "일반식품",
          "일반식품",
          "일반식품",
          "일반식품",
          "일반식품",
          "일반식품",
          "일반식품",
          "일반식품",
          "일반식품",
          "일반식품",
          "일반식품",
          "일반식품",
          "일반식품",
          "일반식품",
          "일반식품",
          "일반식품",
          "일반식품",
          "일반식품",
          "일반식품",
          "일반식품",
          "일반식품",
          "일반식품",
          "일반식품",
          "일반식품",
          "일반식품",
          "일반식품",
          "일반식품",
          "일반식품",
          "일반식품",
          "일반식품",
          "일반식품",
          "일반식품",
          "일반식품",
          "일반식품",
          "일반식품",
          "일반식품",
          "일반식품",
          "일반식품",
          "일반식품",
          "일반식품",
          "일반식품",
          "일반식품",
          "일반식품",
          "일반식품",
          "일반식품",
          "일반식품",
          "일반식품",
          "일반식품",
          "일반식품",
          "일반식품",
          "일반식품",
          "일반식품",
          "일반식품",
          "일반식품",
          "일반식품",
          "일반식품",
          "일반식품",
          "일반식품",
          "일반식품",
          "일반식품",
          "일반식품",
          "일반식품",
          "일반식품",
          "일반식품",
          "일반식품",
          "일반식품",
          "일반식품",
          "일반식품",
          "일반식품",
          "일반식품",
          "일반식품",
          "일반식품",
          "일반식품",
          "일반식품",
          "일반식품",
          "일반식품",
          "일반식품",
          "일반식품",
          "일반식품",
          "일반식품",
          "일반식품",
          "일반식품",
          "일반식품",
          "일반식품",
          "일반식품",
          "일반식품",
          "일반식품",
          "일반식품",
          "일반식품",
          "일반식품",
          "일반식품",
          "일반식품",
          "일반식품",
          "일반식품",
          "일반식품",
          "일반식품",
          "일반식품",
          "일반식품",
          "일반식품",
          "일반식품",
          "일반식품",
          "일반식품",
          "일반식품",
          "일반식품",
          "일반식품",
          "일반식품",
          "일반식품",
          "일반식품",
          "일반식품",
          "일반식품",
          "일반식품",
          "일반식품",
          "일반식품",
          "일반식품",
          "일반식품",
          "일반식품",
          "일반식품",
          "일반식품",
          "일반식품",
          "일반식품",
          "일반식품",
          "일반식품",
          "일반식품",
          "일반식품",
          "일반식품",
          "일반식품",
          "일반식품",
          "일반식품",
          "일반식품",
          "일반식품",
          "일반식품",
          "일반식품",
          "일반식품",
          "일반식품",
          "일반식품",
          "일반식품",
          "일반식품",
          "일반식품",
          "일반식품",
          "일반식품",
          "일반식품",
          "일반식품",
          "일반식품",
          "일반식품",
          "일반식품",
          "일반식품",
          "일반식품",
          "일반식품",
          "일반식품",
          "일반식품",
          "일반식품",
          "일반식품",
          "일반식품",
          "일반식품",
          "일반식품",
          "일반식품",
          "일반식품",
          "일반식품",
          "일반식품",
          "일반식품",
          "일반식품",
          "일반식품",
          "일반식품",
          "일반식품",
          "일반식품",
          "일반식품",
          "일반식품",
          "일반식품",
          "일반식품",
          "일반식품",
          "일반식품",
          "일반식품",
          "일반식품",
          "일반식품",
          "일반식품",
          "일반식품",
          "일반식품",
          "일반식품",
          "일반식품",
          "일반식품",
          "일반식품",
          "일반식품",
          "일반식품",
          "일반식품",
          "일반식품",
          "일반식품",
          "일반식품",
          "일반식품",
          "일반식품",
          "일반식품",
          "일반식품",
          "일반식품",
          "일반식품",
          "일반식품",
          "일반식품",
          "일반식품",
          "일반식품",
          "일반식품",
          "일반식품",
          "일반식품",
          "일반식품",
          "일반식품",
          "일반식품",
          "일반식품",
          "일반식품",
          "일반식품",
          "일반식품",
          "일반식품",
          "일반식품",
          "일반식품",
          "일반식품",
          "일반식품",
          "일반식품",
          "일반식품",
          "일반식품",
          "일반식품",
          "일반식품",
          "일반식품",
          "일반식품",
          "일반식품",
          "일반식품",
          "일반식품",
          "일반식품",
          "일반식품",
          "일반식품",
          "일반식품",
          "일반식품",
          "일반식품",
          "일반식품",
          "일반식품",
          "일반식품",
          "일반식품",
          "일반식품",
          "일반식품",
          "일반식품",
          "일반식품",
          "일반식품",
          "일반식품",
          "일반식품",
          "일반식품",
          "일반식품",
          "일반식품",
          "일반식품",
          "일반식품",
          "일반식품",
          "일반식품",
          "일반식품",
          "일반식품",
          "일반식품",
          "일반식품",
          "일반식품",
          "일반식품",
          "일반식품",
          "일반식품",
          "일반식품",
          "일반식품",
          "일반식품",
          "일반식품",
          "일반식품",
          "일반식품",
          "일반식품",
          "일반식품",
          "일반식품",
          "일반식품",
          "일반식품",
          "일반식품",
          "일반식품",
          "일반식품",
          "일반식품",
          "일반식품",
          "일반식품",
          "일반식품",
          "일반식품",
          "일반식품",
          "일반식품",
          "일반식품",
          "일반식품",
          "일반식품",
          "일반식품",
          "일반식품",
          "일반식품",
          "일반식품",
          "일반식품",
          "일반식품",
          "일반식품",
          "일반식품",
          "일반식품",
          "주방가전",
          "주방가전",
          "주방가전",
          "주방가전",
          "주방가전",
          "주방가전",
          "주방가전",
          "주방가전",
          "주방가전",
          "주방가전",
          "주방가전",
          "주방가전",
          "주방가전",
          "주방가전",
          "주방가전",
          "주방가전",
          "주방가전",
          "주방가전",
          "주방가전",
          "주방가전",
          "주방가전",
          "주방가전",
          "주방가전",
          "주방가전",
          "주방가전",
          "주방가전",
          "주방가전",
          "주방가전",
          "주방가전",
          "주방가전",
          "주방가전",
          "주방가전",
          "주방가전",
          "주방가전",
          "주방가전",
          "주방가전",
          "주방가전",
          "주방가전",
          "주방가전",
          "주방가전",
          "주방가전",
          "주방가전",
          "주방가전",
          "주방가전",
          "주방용품",
          "주방용품",
          "주방용품",
          "주방용품",
          "주방용품",
          "주방용품",
          "주방용품",
          "주방용품",
          "주방용품",
          "주방용품",
          "주방용품",
          "주방용품",
          "주방용품",
          "주방용품",
          "주방용품",
          "주방용품",
          "주방용품",
          "주방용품",
          "주방용품",
          "주방용품",
          "주방용품",
          "주방용품",
          "주방용품",
          "주방용품",
          "주방용품",
          "주방용품",
          "주방용품",
          "주방용품",
          "주방용품",
          "주방용품",
          "주방용품",
          "주방용품",
          "주방용품",
          "주방용품",
          "주방용품",
          "주방용품",
          "주방용품",
          "주방용품",
          "주방용품",
          "주방용품",
          "주방용품",
          "주방용품",
          "주방용품",
          "주방용품",
          "주방용품",
          "주방용품",
          "주방용품",
          "주방용품",
          "주방용품",
          "주방용품",
          "주방용품",
          "주방용품",
          "주방용품",
          "주방용품",
          "주방용품",
          "주방용품",
          "주방용품",
          "주방용품",
          "주방용품",
          "주방용품",
          "주방용품",
          "주방용품",
          "주방용품",
          "주방용품",
          "주방용품",
          "주방용품",
          "주방용품",
          "주방용품",
          "주방용품",
          "주방용품",
          "주방용품",
          "주방용품",
          "주방용품",
          "주방용품",
          "주방용품",
          "주방용품",
          "주방용품",
          "주방용품",
          "주방용품",
          "주방용품",
          "주방용품",
          "주방용품",
          "주방용품",
          "주방용품",
          "주방용품",
          "침구",
          "침구",
          "침구",
          "침구",
          "침구",
          "침구",
          "침구",
          "침구",
          "침구",
          "침구",
          "침구",
          "침구",
          "침구",
          "침구",
          "침구",
          "침구",
          "침구",
          "침구",
          "침구",
          "침구",
          "침구",
          "침구",
          "침구",
          "침구",
          "침구",
          "침구",
          "침구",
          "침구",
          "침구",
          "침구",
          "침구",
          "침구",
          "캐쥬얼",
          "캐쥬얼",
          "캐쥬얼",
          "캐쥬얼",
          "캐쥬얼",
          "캐쥬얼",
          "캐쥬얼",
          "캐쥬얼",
          "캐쥬얼",
          "캐쥬얼",
          "캐쥬얼",
          "캐쥬얼",
          "캐쥬얼",
          "캐쥬얼",
          "캐쥬얼",
          "캐쥬얼",
          "캐쥬얼",
          "캐쥬얼",
          "캐쥬얼",
          "캐쥬얼",
          "캐쥬얼",
          "캐쥬얼",
          "캐쥬얼",
          "캐쥬얼",
          "캐쥬얼",
          "캐쥬얼",
          "캐쥬얼",
          "캐쥬얼",
          "캐쥬얼",
          "캐쥬얼",
          "캐쥬얼",
          "캐쥬얼",
          "캐쥬얼",
          "캐쥬얼",
          "캐쥬얼",
          "키즈/유아동",
          "키즈/유아동",
          "키즈/유아동",
          "키즈/유아동",
          "키즈/유아동",
          "키즈/유아동",
          "키즈/유아동",
          "키즈/유아동",
          "키즈/유아동",
          "키즈/유아동",
          "키즈/유아동",
          "키즈/유아동",
          "키즈/유아동",
          "키즈/유아동",
          "키즈/유아동",
          "키즈/유아동",
          "키즈/유아동",
          "키즈/유아동",
          "키즈/유아동",
          "키즈/유아동",
          "키즈/유아동",
          "키즈/유아동",
          "키즈/유아동",
          "키즈/유아동",
          "키즈/유아동",
          "키즈/유아동",
          "키즈/유아동",
          "키즈/유아동",
          "키즈/유아동",
          "키즈/유아동",
          "키즈/유아동",
          "키즈/유아동",
          "키즈/유아동",
          "패션잡화",
          "패션잡화",
          "패션잡화",
          "패션잡화",
          "패션잡화",
          "패션잡화",
          "패션잡화",
          "패션잡화",
          "패션잡화",
          "패션잡화",
          "패션잡화",
          "패션잡화",
          "패션잡화",
          "패션잡화",
          "패션잡화",
          "패션잡화",
          "패션잡화",
          "패션잡화",
          "패션잡화",
          "패션잡화",
          "패션잡화",
          "패션잡화",
          "패션잡화",
          "패션잡화",
          "패션잡화",
          "패션잡화",
          "패션잡화",
          "패션잡화",
          "패션잡화",
          "패션잡화",
          "패션잡화",
          "패션잡화",
          "패션잡화",
          "패션잡화",
          "패션잡화",
          "패션잡화",
          "패션잡화",
          "패션잡화",
          "패션잡화",
          "패션잡화",
          "패션잡화",
          "패션잡화",
          "패션잡화",
          "패션잡화",
          "패션잡화",
          "패션잡화",
          "패션잡화",
          "패션잡화",
          "패션잡화",
          "패션잡화",
          "패션잡화",
          "패션잡화",
          "패션잡화",
          "패션잡화"
         ],
         "legendgroup": "",
         "name": "",
         "showlegend": true,
         "type": "pie",
         "values": [
          1,
          42,
          3,
          1,
          4,
          2,
          1,
          1,
          9,
          2,
          1,
          1,
          2,
          3,
          5,
          1,
          1,
          24,
          4,
          2,
          1,
          4,
          28,
          26,
          12,
          1,
          1,
          1,
          1,
          1,
          11,
          2,
          2,
          2,
          1,
          76,
          18,
          1,
          45,
          4,
          3,
          2,
          174,
          4,
          5,
          4,
          6,
          90,
          32,
          5,
          1,
          520,
          21,
          5,
          50,
          1,
          19,
          512,
          48,
          28,
          1,
          1,
          41,
          7,
          35,
          1,
          2,
          241,
          130,
          667,
          6230,
          138,
          2,
          181,
          193,
          127,
          2354,
          28,
          1,
          2,
          4,
          144,
          13,
          8,
          7,
          1,
          1,
          1,
          32,
          63,
          1,
          6805,
          4,
          2975,
          262,
          200,
          12,
          25,
          87,
          14,
          12,
          5,
          16,
          380,
          55,
          1,
          2,
          672,
          4,
          24,
          15,
          61,
          194,
          2,
          127,
          19,
          27,
          51,
          198,
          1,
          4,
          8,
          10,
          4,
          25,
          1,
          8,
          8,
          1,
          3,
          2,
          2,
          36,
          1,
          1,
          27,
          8,
          4,
          9,
          1,
          1,
          7,
          9,
          1,
          6,
          7,
          5,
          4,
          5,
          11,
          13,
          171,
          421,
          60,
          117,
          512,
          831,
          148,
          679,
          2,
          1,
          2,
          8,
          28,
          72,
          121,
          5,
          5,
          30,
          5,
          18,
          11,
          42,
          141,
          45,
          1,
          45,
          34,
          6,
          3,
          105,
          6,
          157,
          1,
          787,
          446,
          4,
          2,
          236,
          5,
          1,
          12,
          14,
          50,
          10,
          2,
          24,
          2,
          42,
          8,
          8,
          1,
          1,
          107,
          108,
          26,
          8,
          2,
          13,
          7,
          1,
          4,
          2,
          2,
          1,
          3,
          2002,
          126,
          17,
          1,
          4,
          5,
          2,
          2,
          1,
          1,
          17,
          11,
          1,
          42,
          31,
          32,
          1,
          13,
          28,
          1,
          312,
          1,
          10,
          1,
          70,
          6,
          1,
          2,
          118,
          8,
          7,
          9,
          6,
          35,
          2,
          28,
          11,
          51,
          48,
          6,
          98,
          21,
          2,
          3,
          24,
          21,
          1,
          35,
          119,
          2,
          1,
          60,
          15,
          1,
          30,
          2,
          8,
          2,
          1,
          5,
          2,
          3,
          215,
          11,
          226,
          1,
          4,
          15,
          7,
          179,
          138,
          1,
          651,
          3249,
          21,
          1535,
          3268,
          303,
          1197,
          236,
          9,
          274,
          10,
          1,
          1,
          43,
          15,
          6,
          2,
          84,
          3,
          8,
          386,
          1,
          59,
          42,
          4611,
          8,
          1,
          18,
          411,
          4,
          7,
          1,
          179,
          17,
          93,
          245,
          2,
          127,
          8,
          1214,
          25,
          111,
          1,
          75,
          1,
          242,
          29,
          2,
          2,
          77,
          3,
          344,
          35,
          177,
          729,
          440,
          40,
          30,
          538,
          16,
          2,
          5,
          2,
          22,
          22,
          104,
          12,
          7,
          2523,
          5,
          3,
          22,
          110,
          54,
          32,
          8,
          42,
          1,
          240,
          3,
          1358,
          170,
          1,
          10,
          42,
          1,
          2,
          57,
          9,
          539,
          1,
          450,
          2,
          5,
          1,
          2,
          157,
          64,
          23,
          34,
          208,
          1,
          3,
          10,
          692,
          6,
          13,
          2,
          12,
          137,
          28,
          14,
          2,
          3,
          23,
          8,
          224,
          1,
          12,
          2,
          84,
          1,
          4,
          4,
          13,
          544,
          23,
          70,
          1,
          2,
          29,
          41,
          102,
          24,
          2,
          28,
          75,
          1,
          21,
          5,
          9,
          10,
          18,
          25,
          125,
          1,
          1,
          14,
          2,
          6,
          5,
          1,
          159,
          5,
          56,
          89,
          1,
          363,
          87,
          261,
          13,
          3,
          159,
          31,
          20,
          2,
          6,
          1,
          33,
          17,
          3,
          3,
          25,
          5,
          1,
          3,
          2,
          2,
          1,
          5,
          5,
          2,
          22,
          975,
          3,
          1,
          4,
          7,
          59,
          2,
          186,
          12,
          241,
          4,
          6,
          12,
          1,
          15,
          3,
          28,
          1,
          45,
          4,
          1,
          1,
          1,
          74,
          1,
          10,
          30,
          109,
          47,
          1,
          1,
          2,
          1,
          12,
          4,
          5,
          12,
          2,
          1,
          1,
          19,
          199,
          8,
          227,
          416,
          2,
          2,
          68,
          1,
          13,
          8,
          8,
          10,
          37,
          1,
          2,
          12,
          3,
          27,
          3,
          11,
          3,
          4,
          6,
          2,
          1,
          46,
          1,
          60,
          4,
          113,
          7,
          25,
          2,
          3,
          38,
          446,
          30,
          4,
          636,
          27,
          2,
          26,
          1,
          212,
          56,
          13,
          6,
          5,
          4,
          7,
          3,
          1,
          1,
          194,
          12,
          12,
          4,
          10,
          2,
          1,
          7,
          1,
          1,
          4,
          160,
          2,
          1,
          27,
          26,
          74,
          12,
          2,
          7,
          7,
          80,
          3,
          1,
          2,
          1,
          1,
          106,
          3,
          3,
          55,
          101,
          29,
          6,
          41,
          1,
          7,
          95,
          2,
          29,
          3,
          1,
          8,
          25,
          5,
          455,
          2,
          1,
          1,
          2,
          42,
          24,
          1,
          5,
          77,
          111,
          154,
          75,
          89,
          11,
          5,
          1,
          4,
          20,
          7,
          109,
          2,
          2,
          32,
          2,
          2,
          1,
          1,
          2,
          1,
          82,
          7,
          24,
          133,
          1,
          26,
          12,
          368,
          8,
          10,
          43,
          33,
          1946,
          3103,
          4,
          1,
          394,
          8,
          41,
          119,
          15,
          27,
          27,
          8,
          5021,
          145,
          491,
          19,
          4,
          96,
          54,
          53,
          115,
          61,
          71,
          4,
          16,
          264,
          22,
          192,
          15,
          223,
          44,
          2,
          330,
          7,
          3,
          3,
          64,
          22,
          2,
          1105,
          11,
          2,
          33,
          146,
          2,
          2,
          10,
          4,
          969,
          1,
          3,
          1,
          12,
          2,
          23,
          8,
          2,
          84,
          7,
          28,
          5,
          193,
          2,
          14,
          23,
          5,
          195,
          1,
          1,
          40,
          436,
          9,
          11,
          71,
          25,
          82,
          7,
          3,
          2,
          2,
          1,
          1,
          1,
          3,
          140,
          20,
          78,
          4,
          15,
          3,
          18,
          2,
          16,
          267,
          1,
          5,
          18,
          2,
          2,
          1,
          1,
          19,
          2,
          9,
          1,
          15,
          12,
          1,
          2,
          501,
          17,
          1,
          2,
          1,
          99,
          1,
          38,
          1,
          1,
          21,
          360,
          97,
          46,
          5,
          3,
          3,
          179,
          2,
          1,
          429,
          32,
          3,
          2,
          845,
          3,
          1,
          7,
          68,
          10,
          2,
          1,
          3,
          7,
          11,
          1,
          2,
          2,
          4,
          634,
          14,
          674,
          47,
          1,
          3,
          15,
          69,
          148,
          200,
          1,
          22,
          1,
          1,
          4,
          39,
          2,
          2,
          814,
          530,
          9,
          4,
          138,
          202,
          564,
          580,
          35,
          15,
          165,
          52,
          154,
          1254,
          126,
          3,
          17,
          15,
          3,
          19,
          146,
          1209,
          99,
          3,
          2,
          54,
          16,
          14289,
          212,
          10,
          6,
          2,
          37,
          28,
          2,
          22,
          181,
          12,
          14,
          9,
          49,
          167,
          8,
          31,
          410,
          3408,
          12,
          7,
          317,
          12,
          25,
          46,
          159,
          13,
          2,
          19,
          984,
          10,
          5,
          201,
          19,
          42,
          31,
          6,
          3,
          34,
          10,
          2,
          491,
          222,
          422,
          374,
          32,
          17,
          3,
          57,
          249,
          1691,
          210,
          7,
          1,
          21,
          2,
          362,
          2,
          82,
          133,
          261,
          58,
          3,
          6,
          114,
          14,
          62,
          166,
          26,
          8,
          3,
          53,
          1,
          5,
          799,
          26,
          50,
          26,
          10,
          239,
          8,
          807,
          259,
          7,
          93,
          2,
          394,
          8,
          13,
          2,
          127,
          140,
          800,
          3,
          9,
          122,
          1,
          56,
          73,
          1,
          69,
          6,
          1,
          31,
          34,
          34,
          22,
          2,
          4,
          2,
          7,
          5,
          203,
          1,
          71,
          8,
          151,
          3,
          1,
          7,
          560,
          32,
          4,
          7,
          7,
          8,
          9,
          18,
          3,
          3,
          299,
          5,
          648,
          79,
          27,
          30,
          1,
          10,
          1,
          2,
          153,
          3,
          1,
          17,
          1,
          4,
          41390,
          3,
          1,
          37,
          13,
          5,
          264,
          36,
          2,
          256,
          67,
          5,
          45,
          3,
          185,
          164,
          271,
          90,
          91,
          6,
          4,
          12,
          15,
          2,
          129,
          23,
          2,
          166,
          2,
          2,
          2,
          88,
          2,
          9,
          8,
          321,
          3,
          53,
          1097,
          2,
          2,
          9,
          99,
          6,
          24,
          22,
          109,
          25,
          8,
          18,
          11,
          139,
          9,
          163,
          38,
          1,
          6,
          20,
          22,
          1,
          30,
          294,
          11,
          52,
          5,
          19,
          40,
          15,
          54,
          2,
          109,
          2,
          1,
          43,
          6,
          9,
          2,
          10,
          12,
          38,
          125,
          114,
          3,
          186,
          17,
          7092,
          986,
          9,
          15,
          3,
          34,
          106,
          83,
          104,
          9,
          1,
          32,
          67,
          44,
          28,
          2,
          49,
          98,
          280,
          45,
          14,
          37,
          12,
          3,
          2,
          16,
          6,
          18,
          3,
          436,
          75,
          11,
          9,
          285,
          2,
          15,
          590,
          53,
          51,
          2,
          62,
          14,
          3,
          1233,
          89,
          2,
          22,
          58,
          4,
          1,
          489,
          23,
          11,
          4,
          2,
          124,
          36,
          1,
          2,
          76,
          9,
          1,
          1,
          42,
          6,
          8,
          2,
          7937,
          563,
          1,
          6,
          13,
          18,
          15,
          6,
          9,
          314,
          55,
          25,
          1,
          4,
          631,
          2,
          2,
          69,
          3,
          2,
          39,
          2,
          1,
          10,
          21,
          4,
          13,
          1,
          47,
          1,
          2,
          1,
          1,
          9,
          1,
          69,
          69,
          1,
          353,
          234,
          129,
          17,
          18,
          54,
          1,
          18,
          51,
          4,
          3,
          25,
          44,
          7,
          208,
          3,
          6,
          3,
          2,
          2,
          24,
          1,
          1,
          42,
          119,
          118,
          3,
          4,
          60,
          26,
          9,
          46,
          3,
          1,
          6,
          24,
          16,
          101,
          1,
          349,
          1,
          19,
          23,
          27,
          2,
          134,
          2,
          49,
          14,
          7,
          25,
          5,
          3,
          40,
          1,
          7,
          1,
          6,
          4,
          1,
          28,
          2,
          1,
          2,
          1,
          4,
          5,
          5,
          1,
          7,
          4,
          17,
          4,
          1,
          2,
          175,
          46,
          3,
          7,
          8,
          2,
          10,
          6,
          1,
          207,
          33,
          9,
          24,
          1,
          2,
          42,
          5,
          39,
          4,
          18,
          297,
          14,
          1,
          8,
          30,
          2,
          3,
          2,
          92,
          9,
          2,
          1,
          3,
          7,
          1,
          1,
          4,
          71,
          1,
          35,
          4,
          3,
          1,
          1,
          1,
          1,
          7,
          13,
          2,
          39,
          7,
          5,
          75,
          5,
          2,
          11,
          23,
          17,
          10,
          48,
          4,
          23,
          2,
          3,
          2,
          13,
          57,
          936,
          16,
          12,
          1,
          2,
          3,
          1,
          2,
          5,
          9,
          9,
          581,
          136,
          33,
          92,
          25,
          39,
          45,
          14,
          70,
          239,
          1,
          4,
          308,
          63,
          780,
          320,
          258,
          4,
          1,
          1,
          243,
          8,
          1,
          2,
          1,
          142,
          31,
          1,
          2,
          5,
          4,
          29,
          6,
          17,
          499,
          4,
          4,
          2,
          6,
          1,
          4,
          22,
          446,
          1,
          7,
          1,
          2,
          2,
          1,
          2,
          1,
          1,
          16,
          20,
          1284,
          1,
          1,
          29,
          77,
          10,
          35,
          1,
          1188,
          8,
          1,
          30,
          1,
          36,
          2,
          5,
          119,
          2,
          76,
          2,
          141,
          4,
          1,
          3,
          30,
          16,
          2,
          28,
          3,
          3,
          1,
          54,
          44,
          12,
          3,
          2,
          1,
          6,
          5,
          1,
          3978,
          7,
          32,
          5,
          21,
          1,
          2,
          2,
          5,
          1,
          3
         ]
        }
       ],
       "layout": {
        "height": 600,
        "legend": {
         "tracegroupgap": 0
        },
        "template": {
         "data": {
          "bar": [
           {
            "error_x": {
             "color": "#2a3f5f"
            },
            "error_y": {
             "color": "#2a3f5f"
            },
            "marker": {
             "line": {
              "color": "#E5ECF6",
              "width": 0.5
             },
             "pattern": {
              "fillmode": "overlay",
              "size": 10,
              "solidity": 0.2
             }
            },
            "type": "bar"
           }
          ],
          "barpolar": [
           {
            "marker": {
             "line": {
              "color": "#E5ECF6",
              "width": 0.5
             },
             "pattern": {
              "fillmode": "overlay",
              "size": 10,
              "solidity": 0.2
             }
            },
            "type": "barpolar"
           }
          ],
          "carpet": [
           {
            "aaxis": {
             "endlinecolor": "#2a3f5f",
             "gridcolor": "white",
             "linecolor": "white",
             "minorgridcolor": "white",
             "startlinecolor": "#2a3f5f"
            },
            "baxis": {
             "endlinecolor": "#2a3f5f",
             "gridcolor": "white",
             "linecolor": "white",
             "minorgridcolor": "white",
             "startlinecolor": "#2a3f5f"
            },
            "type": "carpet"
           }
          ],
          "choropleth": [
           {
            "colorbar": {
             "outlinewidth": 0,
             "ticks": ""
            },
            "type": "choropleth"
           }
          ],
          "contour": [
           {
            "colorbar": {
             "outlinewidth": 0,
             "ticks": ""
            },
            "colorscale": [
             [
              0,
              "#0d0887"
             ],
             [
              0.1111111111111111,
              "#46039f"
             ],
             [
              0.2222222222222222,
              "#7201a8"
             ],
             [
              0.3333333333333333,
              "#9c179e"
             ],
             [
              0.4444444444444444,
              "#bd3786"
             ],
             [
              0.5555555555555556,
              "#d8576b"
             ],
             [
              0.6666666666666666,
              "#ed7953"
             ],
             [
              0.7777777777777778,
              "#fb9f3a"
             ],
             [
              0.8888888888888888,
              "#fdca26"
             ],
             [
              1,
              "#f0f921"
             ]
            ],
            "type": "contour"
           }
          ],
          "contourcarpet": [
           {
            "colorbar": {
             "outlinewidth": 0,
             "ticks": ""
            },
            "type": "contourcarpet"
           }
          ],
          "heatmap": [
           {
            "colorbar": {
             "outlinewidth": 0,
             "ticks": ""
            },
            "colorscale": [
             [
              0,
              "#0d0887"
             ],
             [
              0.1111111111111111,
              "#46039f"
             ],
             [
              0.2222222222222222,
              "#7201a8"
             ],
             [
              0.3333333333333333,
              "#9c179e"
             ],
             [
              0.4444444444444444,
              "#bd3786"
             ],
             [
              0.5555555555555556,
              "#d8576b"
             ],
             [
              0.6666666666666666,
              "#ed7953"
             ],
             [
              0.7777777777777778,
              "#fb9f3a"
             ],
             [
              0.8888888888888888,
              "#fdca26"
             ],
             [
              1,
              "#f0f921"
             ]
            ],
            "type": "heatmap"
           }
          ],
          "heatmapgl": [
           {
            "colorbar": {
             "outlinewidth": 0,
             "ticks": ""
            },
            "colorscale": [
             [
              0,
              "#0d0887"
             ],
             [
              0.1111111111111111,
              "#46039f"
             ],
             [
              0.2222222222222222,
              "#7201a8"
             ],
             [
              0.3333333333333333,
              "#9c179e"
             ],
             [
              0.4444444444444444,
              "#bd3786"
             ],
             [
              0.5555555555555556,
              "#d8576b"
             ],
             [
              0.6666666666666666,
              "#ed7953"
             ],
             [
              0.7777777777777778,
              "#fb9f3a"
             ],
             [
              0.8888888888888888,
              "#fdca26"
             ],
             [
              1,
              "#f0f921"
             ]
            ],
            "type": "heatmapgl"
           }
          ],
          "histogram": [
           {
            "marker": {
             "pattern": {
              "fillmode": "overlay",
              "size": 10,
              "solidity": 0.2
             }
            },
            "type": "histogram"
           }
          ],
          "histogram2d": [
           {
            "colorbar": {
             "outlinewidth": 0,
             "ticks": ""
            },
            "colorscale": [
             [
              0,
              "#0d0887"
             ],
             [
              0.1111111111111111,
              "#46039f"
             ],
             [
              0.2222222222222222,
              "#7201a8"
             ],
             [
              0.3333333333333333,
              "#9c179e"
             ],
             [
              0.4444444444444444,
              "#bd3786"
             ],
             [
              0.5555555555555556,
              "#d8576b"
             ],
             [
              0.6666666666666666,
              "#ed7953"
             ],
             [
              0.7777777777777778,
              "#fb9f3a"
             ],
             [
              0.8888888888888888,
              "#fdca26"
             ],
             [
              1,
              "#f0f921"
             ]
            ],
            "type": "histogram2d"
           }
          ],
          "histogram2dcontour": [
           {
            "colorbar": {
             "outlinewidth": 0,
             "ticks": ""
            },
            "colorscale": [
             [
              0,
              "#0d0887"
             ],
             [
              0.1111111111111111,
              "#46039f"
             ],
             [
              0.2222222222222222,
              "#7201a8"
             ],
             [
              0.3333333333333333,
              "#9c179e"
             ],
             [
              0.4444444444444444,
              "#bd3786"
             ],
             [
              0.5555555555555556,
              "#d8576b"
             ],
             [
              0.6666666666666666,
              "#ed7953"
             ],
             [
              0.7777777777777778,
              "#fb9f3a"
             ],
             [
              0.8888888888888888,
              "#fdca26"
             ],
             [
              1,
              "#f0f921"
             ]
            ],
            "type": "histogram2dcontour"
           }
          ],
          "mesh3d": [
           {
            "colorbar": {
             "outlinewidth": 0,
             "ticks": ""
            },
            "type": "mesh3d"
           }
          ],
          "parcoords": [
           {
            "line": {
             "colorbar": {
              "outlinewidth": 0,
              "ticks": ""
             }
            },
            "type": "parcoords"
           }
          ],
          "pie": [
           {
            "automargin": true,
            "type": "pie"
           }
          ],
          "scatter": [
           {
            "fillpattern": {
             "fillmode": "overlay",
             "size": 10,
             "solidity": 0.2
            },
            "type": "scatter"
           }
          ],
          "scatter3d": [
           {
            "line": {
             "colorbar": {
              "outlinewidth": 0,
              "ticks": ""
             }
            },
            "marker": {
             "colorbar": {
              "outlinewidth": 0,
              "ticks": ""
             }
            },
            "type": "scatter3d"
           }
          ],
          "scattercarpet": [
           {
            "marker": {
             "colorbar": {
              "outlinewidth": 0,
              "ticks": ""
             }
            },
            "type": "scattercarpet"
           }
          ],
          "scattergeo": [
           {
            "marker": {
             "colorbar": {
              "outlinewidth": 0,
              "ticks": ""
             }
            },
            "type": "scattergeo"
           }
          ],
          "scattergl": [
           {
            "marker": {
             "colorbar": {
              "outlinewidth": 0,
              "ticks": ""
             }
            },
            "type": "scattergl"
           }
          ],
          "scattermapbox": [
           {
            "marker": {
             "colorbar": {
              "outlinewidth": 0,
              "ticks": ""
             }
            },
            "type": "scattermapbox"
           }
          ],
          "scatterpolar": [
           {
            "marker": {
             "colorbar": {
              "outlinewidth": 0,
              "ticks": ""
             }
            },
            "type": "scatterpolar"
           }
          ],
          "scatterpolargl": [
           {
            "marker": {
             "colorbar": {
              "outlinewidth": 0,
              "ticks": ""
             }
            },
            "type": "scatterpolargl"
           }
          ],
          "scatterternary": [
           {
            "marker": {
             "colorbar": {
              "outlinewidth": 0,
              "ticks": ""
             }
            },
            "type": "scatterternary"
           }
          ],
          "surface": [
           {
            "colorbar": {
             "outlinewidth": 0,
             "ticks": ""
            },
            "colorscale": [
             [
              0,
              "#0d0887"
             ],
             [
              0.1111111111111111,
              "#46039f"
             ],
             [
              0.2222222222222222,
              "#7201a8"
             ],
             [
              0.3333333333333333,
              "#9c179e"
             ],
             [
              0.4444444444444444,
              "#bd3786"
             ],
             [
              0.5555555555555556,
              "#d8576b"
             ],
             [
              0.6666666666666666,
              "#ed7953"
             ],
             [
              0.7777777777777778,
              "#fb9f3a"
             ],
             [
              0.8888888888888888,
              "#fdca26"
             ],
             [
              1,
              "#f0f921"
             ]
            ],
            "type": "surface"
           }
          ],
          "table": [
           {
            "cells": {
             "fill": {
              "color": "#EBF0F8"
             },
             "line": {
              "color": "white"
             }
            },
            "header": {
             "fill": {
              "color": "#C8D4E3"
             },
             "line": {
              "color": "white"
             }
            },
            "type": "table"
           }
          ]
         },
         "layout": {
          "annotationdefaults": {
           "arrowcolor": "#2a3f5f",
           "arrowhead": 0,
           "arrowwidth": 1
          },
          "autotypenumbers": "strict",
          "coloraxis": {
           "colorbar": {
            "outlinewidth": 0,
            "ticks": ""
           }
          },
          "colorscale": {
           "diverging": [
            [
             0,
             "#8e0152"
            ],
            [
             0.1,
             "#c51b7d"
            ],
            [
             0.2,
             "#de77ae"
            ],
            [
             0.3,
             "#f1b6da"
            ],
            [
             0.4,
             "#fde0ef"
            ],
            [
             0.5,
             "#f7f7f7"
            ],
            [
             0.6,
             "#e6f5d0"
            ],
            [
             0.7,
             "#b8e186"
            ],
            [
             0.8,
             "#7fbc41"
            ],
            [
             0.9,
             "#4d9221"
            ],
            [
             1,
             "#276419"
            ]
           ],
           "sequential": [
            [
             0,
             "#0d0887"
            ],
            [
             0.1111111111111111,
             "#46039f"
            ],
            [
             0.2222222222222222,
             "#7201a8"
            ],
            [
             0.3333333333333333,
             "#9c179e"
            ],
            [
             0.4444444444444444,
             "#bd3786"
            ],
            [
             0.5555555555555556,
             "#d8576b"
            ],
            [
             0.6666666666666666,
             "#ed7953"
            ],
            [
             0.7777777777777778,
             "#fb9f3a"
            ],
            [
             0.8888888888888888,
             "#fdca26"
            ],
            [
             1,
             "#f0f921"
            ]
           ],
           "sequentialminus": [
            [
             0,
             "#0d0887"
            ],
            [
             0.1111111111111111,
             "#46039f"
            ],
            [
             0.2222222222222222,
             "#7201a8"
            ],
            [
             0.3333333333333333,
             "#9c179e"
            ],
            [
             0.4444444444444444,
             "#bd3786"
            ],
            [
             0.5555555555555556,
             "#d8576b"
            ],
            [
             0.6666666666666666,
             "#ed7953"
            ],
            [
             0.7777777777777778,
             "#fb9f3a"
            ],
            [
             0.8888888888888888,
             "#fdca26"
            ],
            [
             1,
             "#f0f921"
            ]
           ]
          },
          "colorway": [
           "#636efa",
           "#EF553B",
           "#00cc96",
           "#ab63fa",
           "#FFA15A",
           "#19d3f3",
           "#FF6692",
           "#B6E880",
           "#FF97FF",
           "#FECB52"
          ],
          "font": {
           "color": "#2a3f5f"
          },
          "geo": {
           "bgcolor": "white",
           "lakecolor": "white",
           "landcolor": "#E5ECF6",
           "showlakes": true,
           "showland": true,
           "subunitcolor": "white"
          },
          "hoverlabel": {
           "align": "left"
          },
          "hovermode": "closest",
          "mapbox": {
           "style": "light"
          },
          "paper_bgcolor": "white",
          "plot_bgcolor": "#E5ECF6",
          "polar": {
           "angularaxis": {
            "gridcolor": "white",
            "linecolor": "white",
            "ticks": ""
           },
           "bgcolor": "#E5ECF6",
           "radialaxis": {
            "gridcolor": "white",
            "linecolor": "white",
            "ticks": ""
           }
          },
          "scene": {
           "xaxis": {
            "backgroundcolor": "#E5ECF6",
            "gridcolor": "white",
            "gridwidth": 2,
            "linecolor": "white",
            "showbackground": true,
            "ticks": "",
            "zerolinecolor": "white"
           },
           "yaxis": {
            "backgroundcolor": "#E5ECF6",
            "gridcolor": "white",
            "gridwidth": 2,
            "linecolor": "white",
            "showbackground": true,
            "ticks": "",
            "zerolinecolor": "white"
           },
           "zaxis": {
            "backgroundcolor": "#E5ECF6",
            "gridcolor": "white",
            "gridwidth": 2,
            "linecolor": "white",
            "showbackground": true,
            "ticks": "",
            "zerolinecolor": "white"
           }
          },
          "shapedefaults": {
           "line": {
            "color": "#2a3f5f"
           }
          },
          "ternary": {
           "aaxis": {
            "gridcolor": "white",
            "linecolor": "white",
            "ticks": ""
           },
           "baxis": {
            "gridcolor": "white",
            "linecolor": "white",
            "ticks": ""
           },
           "bgcolor": "#E5ECF6",
           "caxis": {
            "gridcolor": "white",
            "linecolor": "white",
            "ticks": ""
           }
          },
          "title": {
           "x": 0.05
          },
          "xaxis": {
           "automargin": true,
           "gridcolor": "white",
           "linecolor": "white",
           "ticks": "",
           "title": {
            "standoff": 15
           },
           "zerolinecolor": "white",
           "zerolinewidth": 2
          },
          "yaxis": {
           "automargin": true,
           "gridcolor": "white",
           "linecolor": "white",
           "ticks": "",
           "title": {
            "standoff": 15
           },
           "zerolinecolor": "white",
           "zerolinewidth": 2
          }
         }
        },
        "title": {
         "text": "카테고리 별 판매 수량"
        },
        "width": 800
       }
      }
     },
     "metadata": {},
     "output_type": "display_data"
    }
   ],
   "source": [
    "## 카테고리별 판매 수량 분석\n",
    "category_summary = customer.groupby(['item_category','item_name'])['qty'].sum().reset_index()\n",
    "\n",
    "# 도넛 차트 생성\n",
    "fig = px.pie(category_summary, values='qty', names='item_category', title='카테고리 별 판매 수량', hole=0.4)\n",
    "fig.update_layout(width=800, height=600)\n",
    "# 차트 표시\n",
    "fig.show()"
   ]
  },
  {
   "cell_type": "markdown",
   "metadata": {},
   "source": [
    "**일반 식품, 건강식품, 뷰티, 레포츠 패션, 생활 용품** 등 생필품과 화장품의 비율이 높은 것을 알 수 있다.\\\n",
    "판매량 상위 제품들은 단가가 보통 낮기 때문에 위와같은 경향을 보이는 것으로 추측된다."
   ]
  },
  {
   "cell_type": "code",
   "execution_count": 25,
   "metadata": {},
   "outputs": [
    {
     "data": {
      "application/vnd.plotly.v1+json": {
       "config": {
        "plotlyServerURL": "https://plot.ly"
       },
       "data": [
        {
         "domain": {
          "x": [
           0,
           0.2888888888888889
          ],
          "y": [
           0,
           1
          ]
         },
         "hole": 0.4,
         "hoverinfo": "label+percent+name",
         "labels": [
          "가구/인테리어",
          "가구/인테리어",
          "가구/인테리어",
          "가구/인테리어",
          "가구/인테리어",
          "가구/인테리어",
          "가구/인테리어",
          "가구/인테리어",
          "가구/인테리어",
          "가구/인테리어",
          "가구/인테리어",
          "가구/인테리어",
          "가구/인테리어",
          "가구/인테리어",
          "가구/인테리어",
          "가구/인테리어",
          "가구/인테리어",
          "가구/인테리어",
          "가구/인테리어",
          "가구/인테리어",
          "가구/인테리어",
          "가구/인테리어",
          "가구/인테리어",
          "가구/인테리어",
          "가구/인테리어",
          "가구/인테리어",
          "가구/인테리어",
          "가구/인테리어",
          "가구/인테리어",
          "가구/인테리어",
          "가구/인테리어",
          "가구/인테리어",
          "가구/인테리어",
          "가구/인테리어",
          "가구/인테리어",
          "가구/인테리어",
          "가구/인테리어",
          "가구/인테리어",
          "가구/인테리어",
          "가구/인테리어",
          "가구/인테리어",
          "가구/인테리어",
          "가구/인테리어",
          "가구/인테리어",
          "가구/인테리어",
          "가구/인테리어",
          "가구/인테리어",
          "가구/인테리어",
          "가구/인테리어",
          "가구/인테리어",
          "건강식품",
          "건강식품",
          "건강식품",
          "건강식품",
          "건강식품",
          "건강식품",
          "건강식품",
          "건강식품",
          "건강식품",
          "건강식품",
          "건강식품",
          "건강식품",
          "건강식품",
          "건강식품",
          "건강식품",
          "건강식품",
          "건강식품",
          "건강식품",
          "건강식품",
          "건강식품",
          "건강식품",
          "건강식품",
          "건강식품",
          "건강식품",
          "건강식품",
          "건강식품",
          "건강식품",
          "건강식품",
          "건강식품",
          "건강식품",
          "건강식품",
          "건강식품",
          "건강식품",
          "건강식품",
          "건강식품",
          "건강식품",
          "건강식품",
          "건강식품",
          "건강식품",
          "건강식품",
          "건강식품",
          "건강식품",
          "건강식품",
          "건강식품",
          "건강식품",
          "건강식품",
          "건강식품",
          "건강식품",
          "건강식품",
          "건강식품",
          "건강식품",
          "건강식품",
          "건강식품",
          "건강식품",
          "건강식품",
          "건강식품",
          "건강식품",
          "건강식품",
          "건강식품",
          "건강식품",
          "건강식품",
          "건강식품",
          "건강식품",
          "건강식품",
          "건강식품",
          "건강식품",
          "건강식품",
          "건강식품",
          "건강식품",
          "건강식품",
          "건강식품",
          "건강식품",
          "건강식품",
          "건강식품",
          "건강식품",
          "건강식품",
          "건강식품",
          "건강식품",
          "남성의류",
          "남성의류",
          "남성의류",
          "남성의류",
          "남성의류",
          "남성의류",
          "남성의류",
          "남성의류",
          "남성의류",
          "남성의류",
          "남성의류",
          "남성의류",
          "남성의류",
          "남성의류",
          "남성의류",
          "남성의류",
          "남성의류",
          "남성의류",
          "남성의류",
          "남성의류",
          "남성의류",
          "남성의류",
          "남성의류",
          "남성의류",
          "남성의류",
          "남성의류",
          "남성의류",
          "남성의류",
          "남성의류",
          "남성의류",
          "대형가전",
          "대형가전",
          "대형가전",
          "대형가전",
          "대형가전",
          "대형가전",
          "대형가전",
          "대형가전",
          "대형가전",
          "대형가전",
          "대형가전",
          "대형가전",
          "대형가전",
          "대형가전",
          "대형가전",
          "대형가전",
          "대형가전",
          "대형가전",
          "대형가전",
          "대형가전",
          "대형가전",
          "대형가전",
          "대형가전",
          "대형가전",
          "대형가전",
          "대형가전",
          "대형가전",
          "대형가전",
          "대형가전",
          "대형가전",
          "대형가전",
          "대형가전",
          "대형가전",
          "대형가전",
          "대형가전",
          "대형가전",
          "대형가전",
          "대형가전",
          "대형가전",
          "대형가전",
          "대형가전",
          "대형가전",
          "대형가전",
          "대형가전",
          "대형가전",
          "대형가전",
          "대형가전",
          "대형가전",
          "대형가전",
          "대형가전",
          "대형가전",
          "대형가전",
          "레저/스포츠",
          "레저/스포츠",
          "레저/스포츠",
          "레저/스포츠",
          "레저/스포츠",
          "레저/스포츠",
          "레저/스포츠",
          "레저/스포츠",
          "레저/스포츠",
          "레저/스포츠",
          "레저/스포츠",
          "레저/스포츠",
          "레저/스포츠",
          "레저/스포츠",
          "레저/스포츠",
          "레저/스포츠",
          "레저/스포츠",
          "레저/스포츠",
          "레저/스포츠",
          "레저/스포츠",
          "레저/스포츠",
          "레저/스포츠",
          "레저/스포츠",
          "레저/스포츠",
          "레저/스포츠",
          "레저/스포츠",
          "레저/스포츠",
          "레저/스포츠",
          "레저/스포츠",
          "레저/스포츠",
          "레저/스포츠",
          "레저/스포츠",
          "레저/스포츠",
          "레저/스포츠",
          "레저/스포츠",
          "레저/스포츠",
          "레저/스포츠",
          "레저/스포츠",
          "레저/스포츠",
          "레저/스포츠",
          "레저/스포츠",
          "레포츠패션",
          "레포츠패션",
          "레포츠패션",
          "레포츠패션",
          "레포츠패션",
          "레포츠패션",
          "레포츠패션",
          "레포츠패션",
          "레포츠패션",
          "레포츠패션",
          "레포츠패션",
          "레포츠패션",
          "레포츠패션",
          "레포츠패션",
          "레포츠패션",
          "레포츠패션",
          "레포츠패션",
          "레포츠패션",
          "레포츠패션",
          "레포츠패션",
          "레포츠패션",
          "레포츠패션",
          "레포츠패션",
          "레포츠패션",
          "레포츠패션",
          "레포츠패션",
          "레포츠패션",
          "레포츠패션",
          "레포츠패션",
          "레포츠패션",
          "레포츠패션",
          "레포츠패션",
          "레포츠패션",
          "레포츠패션",
          "레포츠패션",
          "레포츠패션",
          "레포츠패션",
          "레포츠패션",
          "레포츠패션",
          "레포츠패션",
          "레포츠패션",
          "레포츠패션",
          "레포츠패션",
          "레포츠패션",
          "레포츠패션",
          "레포츠패션",
          "레포츠패션",
          "레포츠패션",
          "레포츠패션",
          "레포츠패션",
          "레포츠패션",
          "레포츠패션",
          "레포츠패션",
          "레포츠패션",
          "레포츠패션",
          "레포츠패션",
          "레포츠패션",
          "레포츠패션",
          "레포츠패션",
          "반려용품",
          "반려용품",
          "반려용품",
          "반려용품",
          "반려용품",
          "반려용품",
          "반려용품",
          "반려용품",
          "뷰티",
          "뷰티",
          "뷰티",
          "뷰티",
          "뷰티",
          "뷰티",
          "뷰티",
          "뷰티",
          "뷰티",
          "뷰티",
          "뷰티",
          "뷰티",
          "뷰티",
          "뷰티",
          "뷰티",
          "뷰티",
          "뷰티",
          "뷰티",
          "뷰티",
          "뷰티",
          "뷰티",
          "뷰티",
          "뷰티",
          "뷰티",
          "뷰티",
          "뷰티",
          "뷰티",
          "뷰티",
          "뷰티",
          "뷰티",
          "뷰티",
          "뷰티",
          "뷰티",
          "뷰티",
          "뷰티",
          "뷰티",
          "뷰티",
          "뷰티",
          "뷰티",
          "뷰티",
          "뷰티",
          "뷰티",
          "뷰티",
          "뷰티",
          "뷰티",
          "뷰티",
          "뷰티",
          "뷰티",
          "뷰티",
          "뷰티",
          "뷰티",
          "뷰티",
          "뷰티",
          "뷰티",
          "뷰티",
          "뷰티",
          "뷰티",
          "뷰티",
          "뷰티",
          "뷰티",
          "뷰티",
          "뷰티",
          "뷰티",
          "뷰티",
          "뷰티",
          "뷰티",
          "뷰티",
          "뷰티",
          "뷰티",
          "뷰티",
          "뷰티",
          "뷰티",
          "뷰티",
          "뷰티",
          "뷰티",
          "상품권",
          "생활가전",
          "생활가전",
          "생활가전",
          "생활가전",
          "생활가전",
          "생활가전",
          "생활가전",
          "생활가전",
          "생활가전",
          "생활가전",
          "생활가전",
          "생활가전",
          "생활가전",
          "생활가전",
          "생활가전",
          "생활가전",
          "생활가전",
          "생활가전",
          "생활가전",
          "생활가전",
          "생활가전",
          "생활가전",
          "생활가전",
          "생활가전",
          "생활가전",
          "생활가전",
          "생활가전",
          "생활가전",
          "생활가전",
          "생활가전",
          "생활가전",
          "생활가전",
          "생활가전",
          "생활가전",
          "생활가전",
          "생활가전",
          "생활가전",
          "생활가전",
          "생활가전",
          "생활가전",
          "생활가전",
          "생활가전",
          "생활가전",
          "생활가전",
          "생활가전",
          "생활가전",
          "생활가전",
          "생활가전",
          "생활가전",
          "생활가전",
          "생활가전",
          "생활가전",
          "생활가전",
          "생활가전",
          "생활가전",
          "생활가전",
          "생활가전",
          "생활가전",
          "생활가전",
          "생활가전",
          "생활가전",
          "생활가전",
          "생활가전",
          "생활가전",
          "생활가전",
          "생활가전",
          "생활가전",
          "생활가전",
          "생활가전",
          "생활가전",
          "생활가전",
          "생활가전",
          "생활가전",
          "생활가전",
          "생활가전",
          "생활가전",
          "생활가전",
          "생활가전",
          "생활가전",
          "생활가전",
          "생활가전",
          "생활가전",
          "생활가전",
          "생활가전",
          "생활가전",
          "생활가전",
          "생활가전",
          "생활가전",
          "생활가전",
          "생활가전",
          "생활가전",
          "생활가전",
          "생활가전",
          "생활가전",
          "생활가전",
          "생활가전",
          "생활가전",
          "생활가전",
          "생활가전",
          "생활가전",
          "생활가전",
          "생활가전",
          "생활가전",
          "생활가전",
          "생활가전",
          "생활가전",
          "생활가전",
          "생활가전",
          "생활용품",
          "생활용품",
          "생활용품",
          "생활용품",
          "생활용품",
          "생활용품",
          "생활용품",
          "생활용품",
          "생활용품",
          "생활용품",
          "생활용품",
          "생활용품",
          "생활용품",
          "생활용품",
          "생활용품",
          "생활용품",
          "생활용품",
          "생활용품",
          "생활용품",
          "생활용품",
          "생활용품",
          "생활용품",
          "생활용품",
          "생활용품",
          "생활용품",
          "생활용품",
          "생활용품",
          "생활용품",
          "생활용품",
          "생활용품",
          "생활용품",
          "생활용품",
          "생활용품",
          "생활용품",
          "생활용품",
          "생활용품",
          "생활용품",
          "생활용품",
          "생활용품",
          "생활용품",
          "생활용품",
          "생활용품",
          "생활용품",
          "생활용품",
          "생활용품",
          "생활용품",
          "생활용품",
          "생활용품",
          "생활용품",
          "생활용품",
          "생활용품",
          "생활용품",
          "생활용품",
          "생활용품",
          "생활용품",
          "생활용품",
          "생활용품",
          "생활용품",
          "생활용품",
          "생활용품",
          "생활용품",
          "생활용품",
          "생활용품",
          "생활용품",
          "생활용품",
          "생활용품",
          "생활용품",
          "생활용품",
          "생활용품",
          "생활용품",
          "생활용품",
          "생활용품",
          "생활용품",
          "생활용품",
          "생활용품",
          "생활용품",
          "생활용품",
          "생활용품",
          "생활용품",
          "생활용품",
          "생활용품",
          "생활용품",
          "생활용품",
          "생활용품",
          "생활용품",
          "생활용품",
          "생활용품",
          "생활용품",
          "생활용품",
          "생활용품",
          "생활용품",
          "생활용품",
          "생활용품",
          "생활용품",
          "생활용품",
          "생활용품",
          "생활용품",
          "생활용품",
          "생활용품",
          "생활용품",
          "생활용품",
          "생활용품",
          "생활용품",
          "생활용품",
          "생활용품",
          "생활용품",
          "생활용품",
          "생활용품",
          "생활용품",
          "생활용품",
          "생활용품",
          "생활용품",
          "생활용품",
          "생활용품",
          "생활용품",
          "생활용품",
          "생활용품",
          "생활용품",
          "생활용품",
          "생활용품",
          "생활용품",
          "생활용품",
          "생활용품",
          "생활용품",
          "생활용품",
          "생활용품",
          "생활용품",
          "생활용품",
          "생활용품",
          "생활용품",
          "생활용품",
          "생활용품",
          "생활용품",
          "생활용품",
          "생활용품",
          "생활용품",
          "생활용품",
          "생활용품",
          "생활용품",
          "생활용품",
          "생활용품",
          "생활용품",
          "생활용품",
          "생활용품",
          "생활용품",
          "생활용품",
          "생활용품",
          "생활용품",
          "생활용품",
          "생활용품",
          "생활용품",
          "생활용품",
          "생활용품",
          "생활용품",
          "생활용품",
          "생활용품",
          "생활용품",
          "생활용품",
          "생활용품",
          "생활용품",
          "생활용품",
          "생활용품",
          "생활용품",
          "생활용품",
          "생활용품",
          "생활용품",
          "생활용품",
          "생활용품",
          "생활용품",
          "생활용품",
          "생활용품",
          "생활용품",
          "생활용품",
          "생활용품",
          "생활용품",
          "생활용품",
          "생활용품",
          "생활용품",
          "생활용품",
          "생활용품",
          "생활용품",
          "생활용품",
          "생활용품",
          "언더웨어",
          "언더웨어",
          "언더웨어",
          "언더웨어",
          "언더웨어",
          "언더웨어",
          "언더웨어",
          "언더웨어",
          "언더웨어",
          "언더웨어",
          "언더웨어",
          "언더웨어",
          "언더웨어",
          "언더웨어",
          "언더웨어",
          "언더웨어",
          "언더웨어",
          "언더웨어",
          "언더웨어",
          "언더웨어",
          "언더웨어",
          "언더웨어",
          "언더웨어",
          "언더웨어",
          "언더웨어",
          "언더웨어",
          "언더웨어",
          "언더웨어",
          "언더웨어",
          "언더웨어",
          "언더웨어",
          "언더웨어",
          "언더웨어",
          "언더웨어",
          "언더웨어",
          "언더웨어",
          "언더웨어",
          "언더웨어",
          "언더웨어",
          "언더웨어",
          "언더웨어",
          "언더웨어",
          "언더웨어",
          "언더웨어",
          "언더웨어",
          "언더웨어",
          "언더웨어",
          "언더웨어",
          "언더웨어",
          "언더웨어",
          "언더웨어",
          "언더웨어",
          "언더웨어",
          "언더웨어",
          "언더웨어",
          "언더웨어",
          "언더웨어",
          "언더웨어",
          "언더웨어",
          "언더웨어",
          "언더웨어",
          "언더웨어",
          "언더웨어",
          "언더웨어",
          "언더웨어",
          "언더웨어",
          "언더웨어",
          "언더웨어",
          "언더웨어",
          "여성의류",
          "여성의류",
          "여성의류",
          "여성의류",
          "여성의류",
          "여성의류",
          "여성의류",
          "여성의류",
          "여성의류",
          "여성의류",
          "여성의류",
          "여성의류",
          "여성의류",
          "여성의류",
          "여성의류",
          "여성의류",
          "여성의류",
          "여성의류",
          "여성의류",
          "여성의류",
          "여성의류",
          "여성의류",
          "여성의류",
          "여성의류",
          "여성의류",
          "여성의류",
          "여성의류",
          "여성의류",
          "여성의류",
          "여성의류",
          "여성의류",
          "여성의류",
          "여성의류",
          "여성의류",
          "여성의류",
          "여성의류",
          "여성의류",
          "여성의류",
          "여성의류",
          "여성의류",
          "여성의류",
          "여성의류",
          "여성의류",
          "여성의류",
          "여성의류",
          "여성의류",
          "여성의류",
          "여성의류",
          "여성의류",
          "여성의류",
          "여성의류",
          "여성의류",
          "여성의류",
          "여성의류",
          "여성의류",
          "여성의류",
          "여성의류",
          "여성의류",
          "여성의류",
          "여성의류",
          "여성의류",
          "여성의류",
          "여성의류",
          "여성의류",
          "여성의류",
          "여성의류",
          "여성의류",
          "여성의류",
          "여성의류",
          "여성의류",
          "여성의류",
          "여성의류",
          "여성의류",
          "여성의류",
          "여성의류",
          "여성의류",
          "여성의류",
          "여성의류",
          "여성의류",
          "여성의류",
          "여성의류",
          "여성의류",
          "여성의류",
          "여성의류",
          "여성의류",
          "여성의류",
          "여성의류",
          "여성의류",
          "여성의류",
          "여성의류",
          "여성의류",
          "여성의류",
          "여성의류",
          "여성의류",
          "여성의류",
          "여성의류",
          "여성의류",
          "여성의류",
          "여행",
          "여행",
          "일반식품",
          "일반식품",
          "일반식품",
          "일반식품",
          "일반식품",
          "일반식품",
          "일반식품",
          "일반식품",
          "일반식품",
          "일반식품",
          "일반식품",
          "일반식품",
          "일반식품",
          "일반식품",
          "일반식품",
          "일반식품",
          "일반식품",
          "일반식품",
          "일반식품",
          "일반식품",
          "일반식품",
          "일반식품",
          "일반식품",
          "일반식품",
          "일반식품",
          "일반식품",
          "일반식품",
          "일반식품",
          "일반식품",
          "일반식품",
          "일반식품",
          "일반식품",
          "일반식품",
          "일반식품",
          "일반식품",
          "일반식품",
          "일반식품",
          "일반식품",
          "일반식품",
          "일반식품",
          "일반식품",
          "일반식품",
          "일반식품",
          "일반식품",
          "일반식품",
          "일반식품",
          "일반식품",
          "일반식품",
          "일반식품",
          "일반식품",
          "일반식품",
          "일반식품",
          "일반식품",
          "일반식품",
          "일반식품",
          "일반식품",
          "일반식품",
          "일반식품",
          "일반식품",
          "일반식품",
          "일반식품",
          "일반식품",
          "일반식품",
          "일반식품",
          "일반식품",
          "일반식품",
          "일반식품",
          "일반식품",
          "일반식품",
          "일반식품",
          "일반식품",
          "일반식품",
          "일반식품",
          "일반식품",
          "일반식품",
          "일반식품",
          "일반식품",
          "일반식품",
          "일반식품",
          "일반식품",
          "일반식품",
          "일반식품",
          "일반식품",
          "일반식품",
          "일반식품",
          "일반식품",
          "일반식품",
          "일반식품",
          "일반식품",
          "일반식품",
          "일반식품",
          "일반식품",
          "일반식품",
          "일반식품",
          "일반식품",
          "일반식품",
          "일반식품",
          "일반식품",
          "일반식품",
          "일반식품",
          "일반식품",
          "일반식품",
          "일반식품",
          "일반식품",
          "일반식품",
          "일반식품",
          "일반식품",
          "일반식품",
          "일반식품",
          "일반식품",
          "일반식품",
          "일반식품",
          "일반식품",
          "일반식품",
          "일반식품",
          "일반식품",
          "일반식품",
          "일반식품",
          "일반식품",
          "일반식품",
          "일반식품",
          "일반식품",
          "일반식품",
          "일반식품",
          "일반식품",
          "일반식품",
          "일반식품",
          "일반식품",
          "일반식품",
          "일반식품",
          "일반식품",
          "일반식품",
          "일반식품",
          "일반식품",
          "일반식품",
          "일반식품",
          "일반식품",
          "일반식품",
          "일반식품",
          "일반식품",
          "일반식품",
          "일반식품",
          "일반식품",
          "일반식품",
          "일반식품",
          "일반식품",
          "일반식품",
          "일반식품",
          "일반식품",
          "일반식품",
          "일반식품",
          "일반식품",
          "일반식품",
          "일반식품",
          "일반식품",
          "일반식품",
          "일반식품",
          "일반식품",
          "일반식품",
          "일반식품",
          "일반식품",
          "일반식품",
          "일반식품",
          "일반식품",
          "일반식품",
          "일반식품",
          "일반식품",
          "일반식품",
          "일반식품",
          "일반식품",
          "일반식품",
          "일반식품",
          "일반식품",
          "일반식품",
          "일반식품",
          "일반식품",
          "일반식품",
          "일반식품",
          "일반식품",
          "일반식품",
          "일반식품",
          "일반식품",
          "일반식품",
          "일반식품",
          "일반식품",
          "일반식품",
          "일반식품",
          "일반식품",
          "일반식품",
          "일반식품",
          "일반식품",
          "일반식품",
          "일반식품",
          "일반식품",
          "일반식품",
          "일반식품",
          "일반식품",
          "일반식품",
          "일반식품",
          "일반식품",
          "일반식품",
          "일반식품",
          "일반식품",
          "일반식품",
          "일반식품",
          "일반식품",
          "일반식품",
          "일반식품",
          "일반식품",
          "일반식품",
          "일반식품",
          "일반식품",
          "일반식품",
          "일반식품",
          "일반식품",
          "일반식품",
          "일반식품",
          "일반식품",
          "일반식품",
          "일반식품",
          "일반식품",
          "일반식품",
          "일반식품",
          "일반식품",
          "일반식품",
          "일반식품",
          "일반식품",
          "일반식품",
          "일반식품",
          "일반식품",
          "일반식품",
          "일반식품",
          "일반식품",
          "일반식품",
          "일반식품",
          "일반식품",
          "일반식품",
          "일반식품",
          "일반식품",
          "일반식품",
          "일반식품",
          "일반식품",
          "일반식품",
          "일반식품",
          "일반식품",
          "일반식품",
          "일반식품",
          "일반식품",
          "일반식품",
          "일반식품",
          "일반식품",
          "일반식품",
          "일반식품",
          "일반식품",
          "일반식품",
          "일반식품",
          "일반식품",
          "일반식품",
          "일반식품",
          "일반식품",
          "일반식품",
          "일반식품",
          "일반식품",
          "일반식품",
          "일반식품",
          "일반식품",
          "일반식품",
          "일반식품",
          "일반식품",
          "일반식품",
          "일반식품",
          "일반식품",
          "일반식품",
          "일반식품",
          "일반식품",
          "일반식품",
          "일반식품",
          "일반식품",
          "일반식품",
          "일반식품",
          "일반식품",
          "일반식품",
          "일반식품",
          "일반식품",
          "일반식품",
          "일반식품",
          "일반식품",
          "일반식품",
          "일반식품",
          "일반식품",
          "일반식품",
          "일반식품",
          "일반식품",
          "일반식품",
          "일반식품",
          "일반식품",
          "일반식품",
          "일반식품",
          "일반식품",
          "일반식품",
          "일반식품",
          "일반식품",
          "일반식품",
          "일반식품",
          "일반식품",
          "일반식품",
          "일반식품",
          "일반식품",
          "일반식품",
          "일반식품",
          "일반식품",
          "일반식품",
          "일반식품",
          "일반식품",
          "일반식품",
          "일반식품",
          "일반식품",
          "일반식품",
          "일반식품",
          "일반식품",
          "일반식품",
          "일반식품",
          "일반식품",
          "일반식품",
          "일반식품",
          "일반식품",
          "일반식품",
          "일반식품",
          "일반식품",
          "일반식품",
          "일반식품",
          "일반식품",
          "일반식품",
          "일반식품",
          "일반식품",
          "일반식품",
          "일반식품",
          "일반식품",
          "일반식품",
          "일반식품",
          "일반식품",
          "일반식품",
          "일반식품",
          "일반식품",
          "일반식품",
          "일반식품",
          "일반식품",
          "일반식품",
          "일반식품",
          "일반식품",
          "일반식품",
          "일반식품",
          "일반식품",
          "일반식품",
          "일반식품",
          "일반식품",
          "일반식품",
          "일반식품",
          "일반식품",
          "일반식품",
          "일반식품",
          "일반식품",
          "일반식품",
          "일반식품",
          "일반식품",
          "일반식품",
          "일반식품",
          "일반식품",
          "일반식품",
          "일반식품",
          "일반식품",
          "일반식품",
          "주방가전",
          "주방가전",
          "주방가전",
          "주방가전",
          "주방가전",
          "주방가전",
          "주방가전",
          "주방가전",
          "주방가전",
          "주방가전",
          "주방가전",
          "주방가전",
          "주방가전",
          "주방가전",
          "주방가전",
          "주방가전",
          "주방가전",
          "주방가전",
          "주방가전",
          "주방가전",
          "주방가전",
          "주방가전",
          "주방가전",
          "주방가전",
          "주방가전",
          "주방가전",
          "주방가전",
          "주방가전",
          "주방가전",
          "주방가전",
          "주방가전",
          "주방가전",
          "주방가전",
          "주방가전",
          "주방가전",
          "주방가전",
          "주방가전",
          "주방가전",
          "주방가전",
          "주방가전",
          "주방가전",
          "주방가전",
          "주방가전",
          "주방가전",
          "주방가전",
          "주방가전",
          "주방가전",
          "주방용품",
          "주방용품",
          "주방용품",
          "주방용품",
          "주방용품",
          "주방용품",
          "주방용품",
          "주방용품",
          "주방용품",
          "주방용품",
          "주방용품",
          "주방용품",
          "주방용품",
          "주방용품",
          "주방용품",
          "주방용품",
          "주방용품",
          "주방용품",
          "주방용품",
          "주방용품",
          "주방용품",
          "주방용품",
          "주방용품",
          "주방용품",
          "주방용품",
          "주방용품",
          "주방용품",
          "주방용품",
          "주방용품",
          "주방용품",
          "주방용품",
          "주방용품",
          "주방용품",
          "주방용품",
          "주방용품",
          "주방용품",
          "주방용품",
          "주방용품",
          "주방용품",
          "주방용품",
          "주방용품",
          "주방용품",
          "주방용품",
          "주방용품",
          "주방용품",
          "주방용품",
          "주방용품",
          "주방용품",
          "주방용품",
          "주방용품",
          "주방용품",
          "주방용품",
          "주방용품",
          "주방용품",
          "주방용품",
          "주방용품",
          "주방용품",
          "주방용품",
          "주방용품",
          "주방용품",
          "주방용품",
          "주방용품",
          "주방용품",
          "주방용품",
          "주방용품",
          "주방용품",
          "주방용품",
          "주방용품",
          "주방용품",
          "주방용품",
          "주방용품",
          "주방용품",
          "주방용품",
          "주방용품",
          "주방용품",
          "주방용품",
          "주방용품",
          "주방용품",
          "주방용품",
          "주방용품",
          "주방용품",
          "주방용품",
          "주방용품",
          "주방용품",
          "주방용품",
          "주방용품",
          "주방용품",
          "침구",
          "침구",
          "침구",
          "침구",
          "침구",
          "침구",
          "침구",
          "침구",
          "침구",
          "침구",
          "침구",
          "침구",
          "침구",
          "침구",
          "침구",
          "침구",
          "침구",
          "침구",
          "침구",
          "침구",
          "침구",
          "침구",
          "침구",
          "침구",
          "침구",
          "침구",
          "침구",
          "침구",
          "침구",
          "침구",
          "침구",
          "침구",
          "캐쥬얼",
          "캐쥬얼",
          "캐쥬얼",
          "캐쥬얼",
          "캐쥬얼",
          "캐쥬얼",
          "캐쥬얼",
          "캐쥬얼",
          "캐쥬얼",
          "캐쥬얼",
          "캐쥬얼",
          "캐쥬얼",
          "캐쥬얼",
          "캐쥬얼",
          "캐쥬얼",
          "캐쥬얼",
          "캐쥬얼",
          "캐쥬얼",
          "캐쥬얼",
          "캐쥬얼",
          "캐쥬얼",
          "캐쥬얼",
          "캐쥬얼",
          "캐쥬얼",
          "캐쥬얼",
          "캐쥬얼",
          "캐쥬얼",
          "캐쥬얼",
          "캐쥬얼",
          "캐쥬얼",
          "캐쥬얼",
          "캐쥬얼",
          "캐쥬얼",
          "캐쥬얼",
          "캐쥬얼",
          "키즈/유아동",
          "키즈/유아동",
          "키즈/유아동",
          "키즈/유아동",
          "키즈/유아동",
          "키즈/유아동",
          "키즈/유아동",
          "키즈/유아동",
          "키즈/유아동",
          "키즈/유아동",
          "키즈/유아동",
          "키즈/유아동",
          "키즈/유아동",
          "키즈/유아동",
          "키즈/유아동",
          "키즈/유아동",
          "키즈/유아동",
          "키즈/유아동",
          "키즈/유아동",
          "키즈/유아동",
          "키즈/유아동",
          "키즈/유아동",
          "키즈/유아동",
          "키즈/유아동",
          "키즈/유아동",
          "키즈/유아동",
          "키즈/유아동",
          "키즈/유아동",
          "키즈/유아동",
          "키즈/유아동",
          "키즈/유아동",
          "키즈/유아동",
          "키즈/유아동",
          "패션잡화",
          "패션잡화",
          "패션잡화",
          "패션잡화",
          "패션잡화",
          "패션잡화",
          "패션잡화",
          "패션잡화",
          "패션잡화",
          "패션잡화",
          "패션잡화",
          "패션잡화",
          "패션잡화",
          "패션잡화",
          "패션잡화",
          "패션잡화",
          "패션잡화",
          "패션잡화",
          "패션잡화",
          "패션잡화",
          "패션잡화",
          "패션잡화",
          "패션잡화",
          "패션잡화",
          "패션잡화",
          "패션잡화",
          "패션잡화",
          "패션잡화",
          "패션잡화",
          "패션잡화",
          "패션잡화",
          "패션잡화",
          "패션잡화",
          "패션잡화",
          "패션잡화",
          "패션잡화",
          "패션잡화",
          "패션잡화",
          "패션잡화",
          "패션잡화",
          "패션잡화",
          "패션잡화",
          "패션잡화",
          "패션잡화",
          "패션잡화",
          "패션잡화",
          "패션잡화",
          "패션잡화",
          "패션잡화",
          "패션잡화",
          "패션잡화",
          "패션잡화",
          "패션잡화",
          "패션잡화",
          "패션잡화",
          "패션잡화",
          "패션잡화",
          "패션잡화",
          "패션잡화",
          "패션잡화",
          "패션잡화",
          "패션잡화"
         ],
         "name": "General",
         "type": "pie",
         "values": [
          119610,
          2091600,
          2774110,
          173000,
          303620,
          39800,
          23660,
          51220,
          1644200,
          53360,
          5000,
          36020,
          3773400,
          2435000,
          346810,
          263480,
          21810,
          2429350,
          1505000,
          85810,
          12920,
          205680,
          8800,
          1909150,
          3309620,
          881480,
          94770,
          19470,
          62910,
          3900,
          108590,
          405800,
          128840,
          104800,
          136320,
          5040,
          6219670,
          1397920,
          44900,
          437910,
          157940,
          132770,
          8240,
          95706960,
          102600,
          83570,
          1335450,
          365080,
          41186780,
          16733820,
          53210,
          18310,
          96327880,
          1801110,
          123190,
          1255830,
          27460,
          1871560,
          38340190,
          1777110,
          929060,
          48900,
          22240,
          1433420,
          164910,
          629820,
          35060,
          35800,
          10588240,
          17013450,
          14465100,
          293800,
          244219430,
          592517310,
          27493000,
          96160,
          34296590,
          45508500,
          4938730,
          2024100,
          289739290,
          2418270,
          9900,
          23660,
          52800,
          107920,
          6535500,
          482420,
          995300,
          327500,
          9410,
          9310,
          35910,
          4249530,
          10160700,
          198000,
          3713100,
          991097390,
          782000,
          13924870,
          351920940,
          7102450,
          48889290,
          208220,
          642000,
          3966210,
          2386720,
          537800,
          528260,
          4593000,
          49327240,
          1285950,
          268000,
          78410,
          7775780,
          77052680,
          27600,
          26100,
          3231250,
          614710,
          18425800,
          25075900,
          596000,
          26957360,
          2523200,
          916140,
          5533920,
          39223620,
          269000,
          88360,
          161180,
          250660,
          45400,
          322570,
          136670,
          158510,
          53920,
          18810,
          137040,
          35800,
          68560,
          416270,
          52920,
          16900,
          1979990,
          381100,
          66230,
          130410,
          51210,
          16560,
          161720,
          197490,
          17030,
          80780,
          127930,
          172600,
          192000,
          194000,
          1464400,
          12886260,
          33464690,
          487650290,
          32534400,
          22638800,
          15067500,
          36975740,
          526644400,
          481145190,
          219818400,
          14265800,
          488085400,
          1640640,
          551000,
          2907900,
          1200570,
          17950980,
          81956940,
          16109350,
          188330,
          2281730,
          11846160,
          1038750,
          4296580,
          639690,
          59437040,
          4718600,
          269278940,
          56713350,
          1238400,
          61453400,
          52928370,
          4717440,
          238220,
          158077940,
          845170,
          180680000,
          46500,
          383503470,
          31100950,
          700890,
          1891550,
          26275100,
          2353940,
          935500,
          1767950,
          11079010,
          24421910,
          1327450,
          116260,
          7868120,
          414000,
          948150,
          718200,
          3376360,
          170000,
          3000,
          32893980,
          2360310,
          527440,
          791970,
          554000,
          66760,
          850820,
          28900,
          59600,
          24590,
          50160,
          8270,
          20580,
          207278420,
          9698180,
          78310,
          198000,
          542000,
          291700,
          13500,
          57600,
          16900,
          9500,
          58660,
          210890,
          5230,
          3696860,
          443110,
          360580,
          59000,
          210700,
          1590850,
          69800,
          19937400,
          7030,
          4568000,
          29000,
          3023300,
          159000,
          215400,
          58310,
          55686960,
          1051510,
          2453000,
          3183210,
          186600,
          154510,
          21800,
          3165910,
          274690,
          2937650,
          326610,
          395900,
          3709250,
          1333450,
          41700,
          12200,
          378860,
          201280,
          33660,
          2657050,
          1590240,
          38900,
          69000,
          4028720,
          1157310,
          36000,
          1467140,
          288600,
          94000,
          48550,
          8900,
          109870,
          19960,
          37200,
          24664870,
          994880,
          8830680,
          5510,
          50400,
          117220,
          257110,
          14951680,
          6089700,
          29700,
          30116180,
          218162490,
          586810,
          49260230,
          157126060,
          21094480,
          62234970,
          6997750,
          435030,
          1284810,
          90000,
          10900,
          1200,
          68500,
          19500,
          165120,
          82840,
          4981990,
          22940,
          394110,
          38901180,
          28410,
          824830,
          1440080,
          266487520,
          156560,
          21800,
          1038880,
          45163610,
          208600,
          40180,
          750,
          9696770,
          6981850,
          3771250,
          5689710,
          64640,
          5021330,
          438500,
          65137630,
          128330,
          2958170,
          8590,
          593390,
          16000,
          6685860,
          326310,
          16260,
          24320,
          702830,
          88340,
          66014740,
          935440,
          2049740,
          74483450,
          33873100,
          790660,
          874050,
          49803520,
          294850,
          53010,
          121310,
          353090,
          59980,
          375200,
          771270,
          14388550,
          566160,
          152400,
          170638360,
          13160,
          62700,
          223660,
          5693650,
          1251040,
          2261555,
          447810,
          627980,
          5700,
          4034960,
          17345470,
          58880,
          82970,
          97636820,
          879700,
          29900,
          1842850,
          3606402,
          12800,
          118000,
          2922500,
          88680,
          25074500,
          731990,
          370487780,
          35580,
          96500,
          39000,
          86830,
          41464510,
          298340,
          7450050,
          12828300,
          13344960,
          139649290,
          135150,
          115630,
          8300550,
          518691120,
          7938240,
          8284230,
          436440,
          6791470,
          159200,
          10103680,
          217200,
          897550,
          143320,
          160010,
          845210,
          1097300,
          6849880,
          10275070,
          890,
          2075590,
          22800,
          63197060,
          35000,
          138940,
          775480,
          170050,
          2227650,
          41259160,
          4802000,
          30040200,
          19800,
          24520,
          14599590,
          7042030,
          1637700,
          3968630,
          15562630,
          19790,
          37960080,
          99862610,
          1417140,
          6697710,
          79260,
          147700,
          341050,
          1711090,
          522100,
          21507300,
          48596400,
          182235640,
          19900,
          16800,
          488210,
          341940,
          75480,
          1713500,
          136900,
          6095410,
          178980,
          108835530,
          24217770,
          26460,
          181737880,
          5648300,
          18495780,
          1005400,
          135700,
          18510790,
          9530770,
          951390,
          2009090,
          23560,
          987200,
          37050,
          21860330,
          566180,
          105180,
          67220,
          466790,
          141570,
          768650,
          378810,
          17600,
          30640,
          22900,
          102900,
          696800,
          47000,
          1363220,
          127794910,
          105830,
          13300,
          116620,
          125540,
          34925050,
          16170,
          1200590,
          118010,
          2148000,
          15600,
          132500,
          343800,
          28900,
          114020,
          142100,
          39980,
          51840,
          731780,
          87800,
          21800,
          11900,
          108000,
          580310,
          37900,
          48210,
          452970,
          659800,
          453500,
          4450,
          11880,
          5040,
          5300,
          33820,
          55460,
          107940,
          798370,
          1140,
          49830,
          15900,
          149560,
          12001590,
          391200,
          8732750,
          4362755,
          337000,
          5810,
          1495350,
          5700,
          823940,
          229570,
          79890,
          306300,
          543200,
          17960,
          85800,
          167560,
          178670,
          265070,
          11480,
          115540,
          141780,
          23630,
          1046050,
          12700,
          49220,
          389910,
          2950,
          2933350,
          36410,
          14940,
          148690,
          100190,
          89610,
          40080,
          761770,
          5655180,
          197600,
          207620,
          6440830,
          3041960,
          124800,
          364280,
          3790,
          2489230,
          29900,
          484370,
          560100,
          245900,
          24580,
          14290,
          256690,
          286910,
          5400,
          2000,
          489640,
          310230,
          38900,
          154420,
          113600,
          42000,
          17400,
          5300,
          595640,
          98000,
          34820,
          19560,
          10024040,
          11600,
          15110,
          303870,
          30530,
          408720,
          298930,
          94660,
          16000,
          76300,
          57000,
          388930,
          9110,
          5690,
          21800,
          690,
          4320,
          126720,
          22700,
          79530,
          3626000,
          1297410,
          164260,
          457000,
          5175890,
          36900,
          97470,
          1019570,
          6680,
          489740,
          7200,
          44800,
          508180,
          208160,
          229660,
          2570730,
          24800,
          6460,
          7320,
          6780,
          1163480,
          314450,
          25820,
          91070,
          3578910,
          975400,
          8424220,
          2937070,
          555060,
          858210,
          13720,
          25900,
          86000,
          186050,
          396300,
          1000960,
          87520,
          1900,
          154650,
          2194370,
          63860,
          9100,
          11800,
          1100,
          20000,
          11900,
          11019800,
          426640,
          1866280,
          579410,
          16900,
          1044350,
          184210,
          5564690,
          94600,
          484720,
          81270,
          4029370,
          568120,
          6191500,
          45148010,
          155001120,
          37620,
          7140,
          963830,
          63200,
          490210,
          494020,
          31900,
          666670,
          478300,
          518530,
          11476560,
          48640540,
          9101000,
          1871590,
          4404710,
          1309110,
          275600,
          275600,
          3098410,
          3872300,
          3574860,
          2152080,
          3264390,
          250450,
          40730,
          161560,
          12718430,
          83410,
          12836240,
          86500,
          620200,
          157620,
          3800,
          709960,
          50210,
          24800,
          34120,
          112500,
          128100,
          7480,
          79686170,
          210540,
          10520,
          205930,
          6044440,
          16960,
          111810,
          79000,
          20760,
          19900,
          52254005,
          4900,
          10830,
          6560,
          79740,
          1880,
          79170,
          62870,
          10640,
          549640,
          61300,
          281160,
          144500,
          206930,
          9442880,
          119800,
          121580,
          205070,
          144900,
          9421980,
          9900,
          142200,
          3798200,
          50008430,
          1236000,
          255250,
          2974280,
          282000,
          427370,
          101170,
          27850,
          31420,
          5800,
          4750,
          10000,
          50000,
          16920,
          7012110,
          579010,
          3017520,
          159620,
          175820,
          59340,
          99740,
          53360,
          174850,
          1159620,
          76000,
          26800,
          698430,
          45120,
          25800,
          53070,
          52910,
          222380,
          6270,
          1008630,
          5870,
          2185600,
          24640,
          318510,
          42330,
          25920,
          24603770,
          204540,
          28000,
          9700,
          13800,
          5106230,
          5610,
          2480870,
          28900,
          19900,
          981530,
          23435720,
          5231570,
          1425650,
          124330,
          5400,
          11700,
          8478720,
          7200,
          10000,
          19654920,
          1826360,
          63560,
          77800,
          30835600,
          109160,
          16800,
          215770,
          397150,
          159650,
          24920,
          17820,
          55080,
          103800,
          179380,
          39800,
          15020,
          37520,
          114980,
          22914760,
          153600,
          28989190,
          2597130,
          4750,
          42800,
          330270,
          2264740,
          5941410,
          10664280,
          14610,
          2134200,
          46550,
          49900,
          121730,
          2211630,
          711600,
          26800,
          69208270,
          13753652,
          24800,
          311360,
          16280,
          2645250,
          15215968,
          417420,
          34441130,
          212310,
          35683540,
          351700,
          203560,
          1542600,
          1501450,
          1987370,
          314920,
          6880450,
          8202270,
          2282290,
          93780,
          33730,
          189880,
          20700,
          379000,
          4021980,
          6414860,
          26954740,
          486200,
          2609208,
          3000,
          25270,
          3346690,
          435060,
          211354520,
          12284140,
          397700,
          143070,
          44620,
          1851480,
          958660,
          7600,
          113380,
          2967160,
          465060,
          123420,
          108440,
          1720320,
          4540260,
          216180,
          1778560,
          8113770,
          47186015,
          317400,
          187620,
          538050,
          293840,
          277530,
          1125170,
          1743280,
          326390,
          51420,
          126720,
          4974170,
          114280,
          151610,
          2438890,
          288220,
          364010,
          981920,
          216450,
          37100,
          170740,
          162900,
          32070,
          5421640,
          4558920,
          4786610,
          1824270,
          478170,
          629750,
          94820,
          670130,
          2615050,
          69920,
          78682240,
          1936690,
          118900,
          27460,
          916440,
          33800,
          16874470,
          37800,
          779280,
          3354850,
          13432178,
          154570,
          1578490,
          28500,
          37000,
          20200,
          3137446,
          620130,
          764310,
          1849310,
          298100,
          16720,
          104700,
          1919140,
          51900,
          108800,
          45454090,
          369570,
          2468690,
          325640,
          161790,
          2930790,
          47430,
          11490680,
          17280730,
          1316110,
          157320,
          618410,
          26040,
          3025700,
          680400,
          191270,
          228020,
          73330,
          1334450,
          1557790,
          33683804,
          44700,
          192870,
          1254940,
          10900,
          2189070,
          1375760,
          18100,
          1225460,
          1679510,
          6750,
          99500,
          37810,
          2279830,
          502220,
          1623318,
          641840,
          19800,
          55200,
          48860,
          244460,
          20900,
          407020,
          507590,
          2800,
          2936350,
          414220,
          2541240,
          68990,
          13210,
          46300,
          114000,
          24039240,
          1250810,
          53640,
          196520,
          380080,
          119450,
          50990,
          933660,
          85230,
          44120,
          3023390,
          244060,
          5601800,
          23103556,
          1133540,
          336920,
          504400,
          14500,
          156760,
          42660,
          31400,
          616440,
          152710,
          28410,
          16400,
          424950,
          58900,
          67600,
          163092010,
          1913500,
          318600,
          32210,
          1632350,
          79610,
          74450,
          11666300,
          103790,
          43710,
          5467780,
          2648590,
          281230,
          2221840,
          65280,
          11911140,
          1657660,
          498990,
          13771940,
          540880,
          1622250,
          215930,
          146780,
          12920,
          170120,
          298600,
          9740,
          1641840,
          30310,
          583180,
          16920,
          2737135,
          860660,
          61590,
          21860,
          121040,
          2841940,
          13200,
          104310,
          181300,
          352910,
          9786560,
          41500,
          837120,
          986020,
          35930410,
          96800,
          87110,
          237460,
          17138000,
          32900,
          851690,
          534170,
          1749660,
          191120,
          400148,
          115500,
          203530,
          105170,
          7731570,
          269100,
          3585130,
          586660,
          85500,
          248920,
          1775580,
          156610,
          14900,
          764110,
          7737760,
          152640,
          1882850,
          19150,
          546400,
          29730,
          1748620,
          559440,
          1954450,
          24000,
          979920,
          3950380,
          70810,
          33360,
          2423060,
          19020,
          279630,
          86350,
          193030,
          75800,
          411030,
          451250,
          1100770,
          633340,
          98970,
          6354370,
          240870,
          269502740,
          23428350,
          1726080,
          100960,
          123950,
          498480,
          58400,
          113410,
          1656230,
          1391630,
          4099870,
          233720,
          8690,
          600860,
          1360700,
          2143360,
          555530,
          223690,
          21900,
          18900,
          283870,
          2660440,
          13925710,
          637660,
          627830,
          707750,
          701870,
          168360,
          51800,
          217610,
          114020,
          628200,
          7040,
          10772540,
          1331200,
          168630,
          38720,
          5742467,
          19960,
          268500,
          2425540,
          3056830,
          1946010,
          329360,
          1748060,
          328860,
          166800,
          18434220,
          1968793,
          161500,
          488430,
          962580,
          9350,
          14460,
          12291920,
          344620,
          142610,
          4000,
          33800,
          5933342,
          579020,
          10580,
          72590,
          1452340,
          535768,
          853300,
          26510,
          35410,
          742540,
          227760,
          32180,
          22710,
          298072250,
          12134350,
          8000,
          95400,
          164770,
          97770,
          833550,
          159930,
          320940,
          3423550,
          435540,
          229180,
          5610,
          1862680,
          131476070,
          78630,
          166420,
          10556300,
          321440,
          39800,
          258000,
          2138830,
          51800,
          10250,
          652000,
          1212110,
          100510,
          1045300,
          30900,
          3322990,
          75050,
          158800,
          23900,
          119000,
          1781000,
          59000,
          6530270,
          4723670,
          814660,
          47618890,
          21900,
          32755140,
          7230850,
          2200170,
          3576900,
          5368700,
          125000,
          485620,
          2186270,
          3952950,
          380240,
          65860,
          3679260,
          7159600,
          485200,
          1921590,
          256060,
          672250,
          245240,
          65560,
          41800,
          955770,
          39800,
          12900,
          2617960,
          6531930,
          188390,
          68700,
          7040,
          372960,
          5155130,
          259840,
          49040,
          177550,
          71700,
          16000,
          30900,
          850030,
          356960,
          1927610,
          10900,
          28018910,
          10900,
          63800,
          211630,
          609100,
          34800,
          628280,
          19800,
          105170,
          269300,
          461200,
          2129520,
          49660,
          317850,
          3596600,
          3520,
          50340,
          5900,
          43800,
          29480,
          10900,
          69190,
          172800,
          5300,
          24200,
          7900,
          117050,
          273760,
          34500,
          1200,
          143940,
          1169250,
          145700,
          17800,
          9900,
          13800,
          15941060,
          720500,
          107100,
          326970,
          646700,
          56940,
          39800,
          38280,
          30900,
          424510,
          148120,
          1035970,
          146360,
          954430,
          6560,
          126170,
          2409570,
          44480,
          1543840,
          102300,
          1133020,
          40151290,
          46030,
          19900,
          273560,
          1984030,
          24800,
          126300,
          76900,
          2104340,
          344900,
          75810,
          57000,
          73220,
          126520,
          66740,
          36010,
          226600,
          1403900,
          16900,
          2808315,
          67600,
          159590,
          16900,
          18110,
          23350,
          75050,
          169550,
          544780,
          84810,
          1739840,
          198570,
          194380,
          7721930,
          143840,
          89800,
          603900,
          2828960,
          279230,
          245490,
          1230070,
          108810,
          4316210,
          45800,
          32700,
          16920,
          76700,
          2384450,
          52473740,
          203110,
          820000,
          9900,
          32300,
          49270,
          11800,
          5800,
          31700,
          43650,
          100670,
          28271530,
          5788130,
          1611730,
          5494870,
          1008550,
          1493290,
          1977830,
          827600,
          2641170,
          12147420,
          24900,
          22600,
          9823510,
          2391220,
          30458170,
          12266860,
          11990650,
          149970,
          8080,
          15200,
          6411120,
          390600,
          7900,
          13590,
          3690,
          1740520,
          778850,
          12820,
          9800,
          9700,
          92270,
          249400,
          71180,
          134020,
          20362890,
          47100,
          22600,
          11880,
          17760,
          29900,
          101000,
          178650,
          16234350,
          6900,
          49200,
          12250,
          15510,
          540000,
          35900,
          44850,
          56050,
          401800,
          2511000,
          702780,
          864668730,
          31900,
          1151000,
          10333570,
          1951710,
          70000,
          4704290,
          14300,
          76500,
          44679710,
          326500,
          65000,
          25800,
          5900,
          122760,
          1206520,
          98660,
          475200,
          5706760,
          136900,
          4339490,
          19800,
          20070,
          6925510,
          349680,
          281100,
          41710,
          10320,
          3926970,
          1030200,
          4905130,
          7420,
          719130,
          158090,
          280650,
          95070,
          73510,
          5818350,
          243740,
          36030,
          1268050,
          177640,
          29530,
          94520,
          243160,
          19900,
          199735640,
          328300,
          1083590,
          169950,
          78800,
          128630,
          1203100,
          41320,
          555060,
          48130,
          197000,
          5580,
          103820
         ]
        },
        {
         "domain": {
          "x": [
           0.35555555555555557,
           0.6444444444444445
          ],
          "y": [
           0,
           1
          ]
         },
         "hole": 0.4,
         "hoverinfo": "label+percent+name",
         "labels": [
          "가구/인테리어",
          "가구/인테리어",
          "가구/인테리어",
          "가구/인테리어",
          "가구/인테리어",
          "가구/인테리어",
          "가구/인테리어",
          "가구/인테리어",
          "가구/인테리어",
          "가구/인테리어",
          "가구/인테리어",
          "가구/인테리어",
          "가구/인테리어",
          "가구/인테리어",
          "건강식품",
          "건강식품",
          "건강식품",
          "건강식품",
          "건강식품",
          "건강식품",
          "건강식품",
          "건강식품",
          "건강식품",
          "건강식품",
          "건강식품",
          "건강식품",
          "건강식품",
          "건강식품",
          "건강식품",
          "건강식품",
          "건강식품",
          "건강식품",
          "건강식품",
          "건강식품",
          "건강식품",
          "건강식품",
          "건강식품",
          "건강식품",
          "건강식품",
          "건강식품",
          "건강식품",
          "건강식품",
          "건강식품",
          "건강식품",
          "건강식품",
          "건강식품",
          "건강식품",
          "남성의류",
          "남성의류",
          "남성의류",
          "남성의류",
          "남성의류",
          "남성의류",
          "대형가전",
          "대형가전",
          "대형가전",
          "대형가전",
          "대형가전",
          "대형가전",
          "대형가전",
          "대형가전",
          "대형가전",
          "대형가전",
          "대형가전",
          "레저/스포츠",
          "레저/스포츠",
          "레저/스포츠",
          "레저/스포츠",
          "레저/스포츠",
          "레저/스포츠",
          "레저/스포츠",
          "레저/스포츠",
          "레저/스포츠",
          "레저/스포츠",
          "레저/스포츠",
          "레포츠패션",
          "레포츠패션",
          "레포츠패션",
          "레포츠패션",
          "레포츠패션",
          "레포츠패션",
          "레포츠패션",
          "레포츠패션",
          "레포츠패션",
          "레포츠패션",
          "레포츠패션",
          "레포츠패션",
          "레포츠패션",
          "레포츠패션",
          "레포츠패션",
          "레포츠패션",
          "레포츠패션",
          "레포츠패션",
          "레포츠패션",
          "레포츠패션",
          "레포츠패션",
          "뷰티",
          "뷰티",
          "뷰티",
          "뷰티",
          "뷰티",
          "뷰티",
          "뷰티",
          "뷰티",
          "뷰티",
          "뷰티",
          "뷰티",
          "뷰티",
          "뷰티",
          "뷰티",
          "뷰티",
          "뷰티",
          "뷰티",
          "뷰티",
          "뷰티",
          "뷰티",
          "뷰티",
          "뷰티",
          "뷰티",
          "뷰티",
          "뷰티",
          "생활가전",
          "생활가전",
          "생활가전",
          "생활가전",
          "생활가전",
          "생활가전",
          "생활가전",
          "생활가전",
          "생활가전",
          "생활가전",
          "생활가전",
          "생활가전",
          "생활가전",
          "생활가전",
          "생활가전",
          "생활가전",
          "생활가전",
          "생활가전",
          "생활가전",
          "생활가전",
          "생활가전",
          "생활가전",
          "생활가전",
          "생활가전",
          "생활가전",
          "생활가전",
          "생활가전",
          "생활가전",
          "생활가전",
          "생활가전",
          "생활가전",
          "생활가전",
          "생활용품",
          "생활용품",
          "생활용품",
          "생활용품",
          "생활용품",
          "생활용품",
          "생활용품",
          "생활용품",
          "생활용품",
          "생활용품",
          "생활용품",
          "생활용품",
          "생활용품",
          "생활용품",
          "생활용품",
          "생활용품",
          "생활용품",
          "생활용품",
          "생활용품",
          "생활용품",
          "생활용품",
          "생활용품",
          "생활용품",
          "생활용품",
          "생활용품",
          "생활용품",
          "생활용품",
          "생활용품",
          "생활용품",
          "생활용품",
          "생활용품",
          "생활용품",
          "생활용품",
          "생활용품",
          "생활용품",
          "생활용품",
          "생활용품",
          "생활용품",
          "생활용품",
          "생활용품",
          "생활용품",
          "생활용품",
          "생활용품",
          "생활용품",
          "생활용품",
          "생활용품",
          "생활용품",
          "생활용품",
          "언더웨어",
          "언더웨어",
          "언더웨어",
          "언더웨어",
          "언더웨어",
          "언더웨어",
          "언더웨어",
          "언더웨어",
          "언더웨어",
          "언더웨어",
          "언더웨어",
          "언더웨어",
          "언더웨어",
          "언더웨어",
          "언더웨어",
          "언더웨어",
          "언더웨어",
          "언더웨어",
          "언더웨어",
          "언더웨어",
          "여성의류",
          "여성의류",
          "여성의류",
          "여성의류",
          "여성의류",
          "여성의류",
          "여성의류",
          "여성의류",
          "여성의류",
          "여성의류",
          "여성의류",
          "여성의류",
          "여성의류",
          "여성의류",
          "여성의류",
          "여성의류",
          "여성의류",
          "여성의류",
          "여성의류",
          "여성의류",
          "여성의류",
          "여성의류",
          "여성의류",
          "여성의류",
          "여성의류",
          "여성의류",
          "여성의류",
          "여성의류",
          "여성의류",
          "여성의류",
          "여성의류",
          "여성의류",
          "여성의류",
          "여성의류",
          "여성의류",
          "여행",
          "일반식품",
          "일반식품",
          "일반식품",
          "일반식품",
          "일반식품",
          "일반식품",
          "일반식품",
          "일반식품",
          "일반식품",
          "일반식품",
          "일반식품",
          "일반식품",
          "일반식품",
          "일반식품",
          "일반식품",
          "일반식품",
          "일반식품",
          "일반식품",
          "일반식품",
          "일반식품",
          "일반식품",
          "일반식품",
          "일반식품",
          "일반식품",
          "일반식품",
          "일반식품",
          "일반식품",
          "일반식품",
          "일반식품",
          "일반식품",
          "일반식품",
          "일반식품",
          "일반식품",
          "일반식품",
          "일반식품",
          "일반식품",
          "일반식품",
          "일반식품",
          "일반식품",
          "일반식품",
          "일반식품",
          "일반식품",
          "일반식품",
          "일반식품",
          "일반식품",
          "일반식품",
          "일반식품",
          "일반식품",
          "일반식품",
          "일반식품",
          "일반식품",
          "일반식품",
          "일반식품",
          "일반식품",
          "일반식품",
          "일반식품",
          "일반식품",
          "일반식품",
          "일반식품",
          "일반식품",
          "일반식품",
          "일반식품",
          "일반식품",
          "일반식품",
          "일반식품",
          "일반식품",
          "일반식품",
          "일반식품",
          "일반식품",
          "일반식품",
          "일반식품",
          "일반식품",
          "일반식품",
          "일반식품",
          "일반식품",
          "일반식품",
          "일반식품",
          "일반식품",
          "일반식품",
          "일반식품",
          "일반식품",
          "일반식품",
          "일반식품",
          "일반식품",
          "일반식품",
          "일반식품",
          "일반식품",
          "일반식품",
          "일반식품",
          "일반식품",
          "일반식품",
          "일반식품",
          "일반식품",
          "일반식품",
          "일반식품",
          "일반식품",
          "일반식품",
          "일반식품",
          "일반식품",
          "일반식품",
          "일반식품",
          "일반식품",
          "일반식품",
          "주방가전",
          "주방가전",
          "주방가전",
          "주방가전",
          "주방가전",
          "주방가전",
          "주방가전",
          "주방가전",
          "주방가전",
          "주방가전",
          "주방가전",
          "주방가전",
          "주방가전",
          "주방가전",
          "주방가전",
          "주방가전",
          "주방가전",
          "주방가전",
          "주방가전",
          "주방가전",
          "주방가전",
          "주방가전",
          "주방용품",
          "주방용품",
          "주방용품",
          "주방용품",
          "주방용품",
          "주방용품",
          "주방용품",
          "주방용품",
          "주방용품",
          "주방용품",
          "주방용품",
          "주방용품",
          "주방용품",
          "주방용품",
          "주방용품",
          "주방용품",
          "주방용품",
          "주방용품",
          "주방용품",
          "주방용품",
          "주방용품",
          "침구",
          "침구",
          "침구",
          "침구",
          "캐쥬얼",
          "캐쥬얼",
          "캐쥬얼",
          "캐쥬얼",
          "캐쥬얼",
          "캐쥬얼",
          "캐쥬얼",
          "캐쥬얼",
          "캐쥬얼",
          "캐쥬얼",
          "캐쥬얼",
          "캐쥬얼",
          "캐쥬얼",
          "캐쥬얼",
          "캐쥬얼",
          "캐쥬얼",
          "캐쥬얼",
          "캐쥬얼",
          "캐쥬얼",
          "키즈/유아동",
          "패션잡화",
          "패션잡화",
          "패션잡화",
          "패션잡화",
          "패션잡화",
          "패션잡화",
          "패션잡화",
          "패션잡화",
          "패션잡화",
          "패션잡화",
          "패션잡화",
          "패션잡화",
          "패션잡화",
          "패션잡화",
          "패션잡화",
          "패션잡화",
          "패션잡화"
         ],
         "name": "TV",
         "type": "pie",
         "values": [
          2774110,
          1644200,
          2435000,
          263480,
          2429350,
          1505000,
          1909150,
          881480,
          6219670,
          1397920,
          95706960,
          365080,
          41186780,
          16733820,
          96327880,
          1801110,
          17013450,
          14465100,
          244219430,
          27493000,
          34296590,
          45508500,
          4938730,
          289739290,
          2418270,
          52800,
          995300,
          4249530,
          10160700,
          198000,
          991097390,
          782000,
          351920940,
          48889290,
          2386720,
          528260,
          4593000,
          49327240,
          268000,
          77052680,
          3231250,
          18425800,
          25075900,
          596000,
          26957360,
          2523200,
          39223620,
          269000,
          52920,
          1979990,
          381100,
          192000,
          194000,
          22638800,
          36975740,
          526644400,
          14265800,
          17950980,
          11846160,
          4718600,
          269278940,
          1891550,
          935500,
          11079010,
          718200,
          554000,
          850820,
          207278420,
          9698180,
          542000,
          291700,
          3696860,
          1590850,
          69800,
          19937400,
          3023300,
          1051510,
          2937650,
          3709250,
          1333450,
          2657050,
          4028720,
          1157310,
          1467140,
          288600,
          24664870,
          8830680,
          14951680,
          6089700,
          30116180,
          218162490,
          49260230,
          157126060,
          21094480,
          62234970,
          6997750,
          4981990,
          394110,
          38901180,
          266487520,
          45163610,
          9696770,
          3771250,
          5021330,
          438500,
          65137630,
          66014740,
          74483450,
          33873100,
          53010,
          353090,
          14388550,
          170638360,
          2261555,
          447810,
          17345470,
          97636820,
          1842850,
          3606402,
          118000,
          2922500,
          86830,
          298340,
          7450050,
          135150,
          159200,
          10103680,
          897550,
          1097300,
          10275070,
          2075590,
          138940,
          775480,
          2227650,
          41259160,
          4802000,
          7042030,
          3968630,
          147700,
          1711090,
          48596400,
          341940,
          6095410,
          5648300,
          18495780,
          1005400,
          951390,
          2009090,
          21860330,
          102900,
          1363220,
          13300,
          125540,
          108000,
          798370,
          49830,
          12001590,
          391200,
          8732750,
          337000,
          823940,
          85800,
          178670,
          141780,
          1046050,
          2933350,
          207620,
          3041960,
          29900,
          256690,
          286910,
          38900,
          595640,
          98000,
          34820,
          10024040,
          298930,
          3626000,
          457000,
          5175890,
          508180,
          1163480,
          25820,
          3578910,
          8424220,
          2937070,
          858210,
          396300,
          87520,
          154650,
          2194370,
          63860,
          11019800,
          426640,
          1866280,
          1044350,
          5564690,
          484720,
          4029370,
          45148010,
          155001120,
          518530,
          48640540,
          9101000,
          4404710,
          1309110,
          275600,
          3098410,
          3872300,
          3574860,
          2152080,
          3264390,
          12718430,
          12836240,
          79686170,
          6044440,
          111810,
          52254005,
          144500,
          9442880,
          9421980,
          3798200,
          50008430,
          1236000,
          2974280,
          7012110,
          579010,
          3017520,
          159620,
          698430,
          52910,
          1008630,
          2185600,
          318510,
          24603770,
          28000,
          5106230,
          2480870,
          981530,
          23435720,
          5231570,
          1425650,
          8478720,
          19654920,
          1826360,
          77800,
          30835600,
          22914760,
          28989190,
          2597130,
          2264740,
          5941410,
          10664280,
          2134200,
          49900,
          2211630,
          711600,
          69208270,
          311360,
          15215968,
          34441130,
          35683540,
          1501450,
          1987370,
          6880450,
          2282290,
          26954740,
          2609208,
          3346690,
          435060,
          12284140,
          958660,
          465060,
          1778560,
          69920,
          78682240,
          916440,
          16874470,
          13432178,
          1578490,
          3137446,
          620130,
          1919140,
          51900,
          45454090,
          2468690,
          17280730,
          680400,
          191270,
          73330,
          33683804,
          2189070,
          1679510,
          99500,
          2279830,
          1623318,
          507590,
          2936350,
          414220,
          114000,
          1250810,
          196520,
          380080,
          933660,
          244060,
          23103556,
          424950,
          58900,
          1913500,
          1632350,
          2648590,
          281230,
          2221840,
          11911140,
          13771940,
          1622250,
          583180,
          860660,
          121040,
          9786560,
          35930410,
          87110,
          851690,
          400148,
          7731570,
          269100,
          248920,
          1882850,
          1748620,
          559440,
          1954450,
          3950380,
          33360,
          2423060,
          86350,
          193030,
          633340,
          98970,
          1726080,
          498480,
          58400,
          4099870,
          2143360,
          223690,
          18900,
          627830,
          701870,
          168360,
          628200,
          268500,
          3056830,
          1946010,
          1748060,
          5933342,
          535768,
          853300,
          35410,
          227760,
          833550,
          320940,
          166420,
          10556300,
          39800,
          258000,
          2138830,
          652000,
          1045300,
          3322990,
          158800,
          119000,
          1781000,
          6530270,
          4723670,
          32755140,
          7230850,
          2200170,
          3576900,
          5368700,
          3952950,
          3679260,
          7159600,
          672250,
          39800,
          2617960,
          6531930,
          5155130,
          28018910,
          461200,
          2129520,
          317850,
          3596600,
          29480,
          1169250,
          15941060,
          30900,
          1035970,
          954430,
          126170,
          2409570,
          1543840,
          1133020,
          40151290,
          273560,
          2808315,
          159590,
          7721930,
          2828960,
          4316210,
          2384450,
          52473740,
          820000,
          28271530,
          5788130,
          1611730,
          5494870,
          1008550,
          1493290,
          1977830,
          827600,
          2641170,
          12147420,
          9823510,
          2391220,
          30458170,
          12266860,
          11990650,
          540000,
          401800,
          2511000,
          1151000,
          44679710,
          1206520,
          5706760,
          136900,
          4339490,
          6925510,
          281100,
          1030200,
          280650,
          5818350,
          199735640,
          78800,
          1203100,
          197000
         ]
        },
        {
         "domain": {
          "x": [
           0.7111111111111111,
           1
          ],
          "y": [
           0,
           1
          ]
         },
         "hole": 0.4,
         "hoverinfo": "label+percent+name",
         "labels": [
          "가구/인테리어",
          "가구/인테리어",
          "가구/인테리어",
          "가구/인테리어",
          "가구/인테리어",
          "가구/인테리어",
          "가구/인테리어",
          "가구/인테리어",
          "가구/인테리어",
          "가구/인테리어",
          "가구/인테리어",
          "가구/인테리어",
          "가구/인테리어",
          "가구/인테리어",
          "가구/인테리어",
          "가구/인테리어",
          "가구/인테리어",
          "가구/인테리어",
          "가구/인테리어",
          "가구/인테리어",
          "가구/인테리어",
          "가구/인테리어",
          "가구/인테리어",
          "가구/인테리어",
          "가구/인테리어",
          "가구/인테리어",
          "가구/인테리어",
          "가구/인테리어",
          "가구/인테리어",
          "가구/인테리어",
          "가구/인테리어",
          "가구/인테리어",
          "가구/인테리어",
          "가구/인테리어",
          "가구/인테리어",
          "가구/인테리어",
          "건강식품",
          "건강식품",
          "건강식품",
          "건강식품",
          "건강식품",
          "건강식품",
          "건강식품",
          "건강식품",
          "건강식품",
          "건강식품",
          "건강식품",
          "건강식품",
          "건강식품",
          "건강식품",
          "건강식품",
          "건강식품",
          "건강식품",
          "건강식품",
          "건강식품",
          "건강식품",
          "건강식품",
          "건강식품",
          "건강식품",
          "건강식품",
          "건강식품",
          "건강식품",
          "건강식품",
          "건강식품",
          "건강식품",
          "건강식품",
          "건강식품",
          "건강식품",
          "건강식품",
          "건강식품",
          "건강식품",
          "건강식품",
          "건강식품",
          "건강식품",
          "건강식품",
          "건강식품",
          "건강식품",
          "건강식품",
          "건강식품",
          "건강식품",
          "건강식품",
          "남성의류",
          "남성의류",
          "남성의류",
          "남성의류",
          "남성의류",
          "남성의류",
          "남성의류",
          "남성의류",
          "남성의류",
          "남성의류",
          "남성의류",
          "남성의류",
          "남성의류",
          "남성의류",
          "남성의류",
          "남성의류",
          "남성의류",
          "남성의류",
          "남성의류",
          "남성의류",
          "남성의류",
          "남성의류",
          "남성의류",
          "남성의류",
          "대형가전",
          "대형가전",
          "대형가전",
          "대형가전",
          "대형가전",
          "대형가전",
          "대형가전",
          "대형가전",
          "대형가전",
          "대형가전",
          "대형가전",
          "대형가전",
          "대형가전",
          "대형가전",
          "대형가전",
          "대형가전",
          "대형가전",
          "대형가전",
          "대형가전",
          "대형가전",
          "대형가전",
          "대형가전",
          "대형가전",
          "대형가전",
          "대형가전",
          "대형가전",
          "대형가전",
          "대형가전",
          "대형가전",
          "대형가전",
          "대형가전",
          "대형가전",
          "대형가전",
          "대형가전",
          "대형가전",
          "대형가전",
          "대형가전",
          "대형가전",
          "대형가전",
          "대형가전",
          "대형가전",
          "레저/스포츠",
          "레저/스포츠",
          "레저/스포츠",
          "레저/스포츠",
          "레저/스포츠",
          "레저/스포츠",
          "레저/스포츠",
          "레저/스포츠",
          "레저/스포츠",
          "레저/스포츠",
          "레저/스포츠",
          "레저/스포츠",
          "레저/스포츠",
          "레저/스포츠",
          "레저/스포츠",
          "레저/스포츠",
          "레저/스포츠",
          "레저/스포츠",
          "레저/스포츠",
          "레저/스포츠",
          "레저/스포츠",
          "레저/스포츠",
          "레저/스포츠",
          "레저/스포츠",
          "레저/스포츠",
          "레저/스포츠",
          "레저/스포츠",
          "레저/스포츠",
          "레저/스포츠",
          "레저/스포츠",
          "레포츠패션",
          "레포츠패션",
          "레포츠패션",
          "레포츠패션",
          "레포츠패션",
          "레포츠패션",
          "레포츠패션",
          "레포츠패션",
          "레포츠패션",
          "레포츠패션",
          "레포츠패션",
          "레포츠패션",
          "레포츠패션",
          "레포츠패션",
          "레포츠패션",
          "레포츠패션",
          "레포츠패션",
          "레포츠패션",
          "레포츠패션",
          "레포츠패션",
          "레포츠패션",
          "레포츠패션",
          "레포츠패션",
          "레포츠패션",
          "레포츠패션",
          "레포츠패션",
          "레포츠패션",
          "레포츠패션",
          "레포츠패션",
          "레포츠패션",
          "레포츠패션",
          "레포츠패션",
          "레포츠패션",
          "레포츠패션",
          "레포츠패션",
          "레포츠패션",
          "레포츠패션",
          "레포츠패션",
          "반려용품",
          "반려용품",
          "반려용품",
          "반려용품",
          "반려용품",
          "반려용품",
          "반려용품",
          "반려용품",
          "뷰티",
          "뷰티",
          "뷰티",
          "뷰티",
          "뷰티",
          "뷰티",
          "뷰티",
          "뷰티",
          "뷰티",
          "뷰티",
          "뷰티",
          "뷰티",
          "뷰티",
          "뷰티",
          "뷰티",
          "뷰티",
          "뷰티",
          "뷰티",
          "뷰티",
          "뷰티",
          "뷰티",
          "뷰티",
          "뷰티",
          "뷰티",
          "뷰티",
          "뷰티",
          "뷰티",
          "뷰티",
          "뷰티",
          "뷰티",
          "뷰티",
          "뷰티",
          "뷰티",
          "뷰티",
          "뷰티",
          "뷰티",
          "뷰티",
          "뷰티",
          "뷰티",
          "뷰티",
          "뷰티",
          "뷰티",
          "뷰티",
          "뷰티",
          "뷰티",
          "뷰티",
          "뷰티",
          "뷰티",
          "뷰티",
          "뷰티",
          "상품권",
          "생활가전",
          "생활가전",
          "생활가전",
          "생활가전",
          "생활가전",
          "생활가전",
          "생활가전",
          "생활가전",
          "생활가전",
          "생활가전",
          "생활가전",
          "생활가전",
          "생활가전",
          "생활가전",
          "생활가전",
          "생활가전",
          "생활가전",
          "생활가전",
          "생활가전",
          "생활가전",
          "생활가전",
          "생활가전",
          "생활가전",
          "생활가전",
          "생활가전",
          "생활가전",
          "생활가전",
          "생활가전",
          "생활가전",
          "생활가전",
          "생활가전",
          "생활가전",
          "생활가전",
          "생활가전",
          "생활가전",
          "생활가전",
          "생활가전",
          "생활가전",
          "생활가전",
          "생활가전",
          "생활가전",
          "생활가전",
          "생활가전",
          "생활가전",
          "생활가전",
          "생활가전",
          "생활가전",
          "생활가전",
          "생활가전",
          "생활가전",
          "생활가전",
          "생활가전",
          "생활가전",
          "생활가전",
          "생활가전",
          "생활가전",
          "생활가전",
          "생활가전",
          "생활가전",
          "생활가전",
          "생활가전",
          "생활가전",
          "생활가전",
          "생활가전",
          "생활가전",
          "생활가전",
          "생활가전",
          "생활가전",
          "생활가전",
          "생활가전",
          "생활가전",
          "생활가전",
          "생활가전",
          "생활가전",
          "생활가전",
          "생활가전",
          "생활용품",
          "생활용품",
          "생활용품",
          "생활용품",
          "생활용품",
          "생활용품",
          "생활용품",
          "생활용품",
          "생활용품",
          "생활용품",
          "생활용품",
          "생활용품",
          "생활용품",
          "생활용품",
          "생활용품",
          "생활용품",
          "생활용품",
          "생활용품",
          "생활용품",
          "생활용품",
          "생활용품",
          "생활용품",
          "생활용품",
          "생활용품",
          "생활용품",
          "생활용품",
          "생활용품",
          "생활용품",
          "생활용품",
          "생활용품",
          "생활용품",
          "생활용품",
          "생활용품",
          "생활용품",
          "생활용품",
          "생활용품",
          "생활용품",
          "생활용품",
          "생활용품",
          "생활용품",
          "생활용품",
          "생활용품",
          "생활용품",
          "생활용품",
          "생활용품",
          "생활용품",
          "생활용품",
          "생활용품",
          "생활용품",
          "생활용품",
          "생활용품",
          "생활용품",
          "생활용품",
          "생활용품",
          "생활용품",
          "생활용품",
          "생활용품",
          "생활용품",
          "생활용품",
          "생활용품",
          "생활용품",
          "생활용품",
          "생활용품",
          "생활용품",
          "생활용품",
          "생활용품",
          "생활용품",
          "생활용품",
          "생활용품",
          "생활용품",
          "생활용품",
          "생활용품",
          "생활용품",
          "생활용품",
          "생활용품",
          "생활용품",
          "생활용품",
          "생활용품",
          "생활용품",
          "생활용품",
          "생활용품",
          "생활용품",
          "생활용품",
          "생활용품",
          "생활용품",
          "생활용품",
          "생활용품",
          "생활용품",
          "생활용품",
          "생활용품",
          "생활용품",
          "생활용품",
          "생활용품",
          "생활용품",
          "생활용품",
          "생활용품",
          "생활용품",
          "생활용품",
          "생활용품",
          "생활용품",
          "생활용품",
          "생활용품",
          "생활용품",
          "생활용품",
          "생활용품",
          "생활용품",
          "생활용품",
          "생활용품",
          "생활용품",
          "생활용품",
          "생활용품",
          "생활용품",
          "생활용품",
          "생활용품",
          "생활용품",
          "생활용품",
          "생활용품",
          "생활용품",
          "생활용품",
          "생활용품",
          "생활용품",
          "생활용품",
          "생활용품",
          "생활용품",
          "생활용품",
          "생활용품",
          "생활용품",
          "생활용품",
          "생활용품",
          "생활용품",
          "생활용품",
          "생활용품",
          "생활용품",
          "생활용품",
          "생활용품",
          "언더웨어",
          "언더웨어",
          "언더웨어",
          "언더웨어",
          "언더웨어",
          "언더웨어",
          "언더웨어",
          "언더웨어",
          "언더웨어",
          "언더웨어",
          "언더웨어",
          "언더웨어",
          "언더웨어",
          "언더웨어",
          "언더웨어",
          "언더웨어",
          "언더웨어",
          "언더웨어",
          "언더웨어",
          "언더웨어",
          "언더웨어",
          "언더웨어",
          "언더웨어",
          "언더웨어",
          "언더웨어",
          "언더웨어",
          "언더웨어",
          "언더웨어",
          "언더웨어",
          "언더웨어",
          "언더웨어",
          "언더웨어",
          "언더웨어",
          "언더웨어",
          "언더웨어",
          "언더웨어",
          "언더웨어",
          "언더웨어",
          "언더웨어",
          "언더웨어",
          "언더웨어",
          "언더웨어",
          "언더웨어",
          "언더웨어",
          "언더웨어",
          "언더웨어",
          "언더웨어",
          "언더웨어",
          "언더웨어",
          "여성의류",
          "여성의류",
          "여성의류",
          "여성의류",
          "여성의류",
          "여성의류",
          "여성의류",
          "여성의류",
          "여성의류",
          "여성의류",
          "여성의류",
          "여성의류",
          "여성의류",
          "여성의류",
          "여성의류",
          "여성의류",
          "여성의류",
          "여성의류",
          "여성의류",
          "여성의류",
          "여성의류",
          "여성의류",
          "여성의류",
          "여성의류",
          "여성의류",
          "여성의류",
          "여성의류",
          "여성의류",
          "여성의류",
          "여성의류",
          "여성의류",
          "여성의류",
          "여성의류",
          "여성의류",
          "여성의류",
          "여성의류",
          "여성의류",
          "여성의류",
          "여성의류",
          "여성의류",
          "여성의류",
          "여성의류",
          "여성의류",
          "여성의류",
          "여성의류",
          "여성의류",
          "여성의류",
          "여성의류",
          "여성의류",
          "여성의류",
          "여성의류",
          "여성의류",
          "여성의류",
          "여성의류",
          "여성의류",
          "여성의류",
          "여성의류",
          "여성의류",
          "여성의류",
          "여성의류",
          "여성의류",
          "여성의류",
          "여성의류",
          "여행",
          "일반식품",
          "일반식품",
          "일반식품",
          "일반식품",
          "일반식품",
          "일반식품",
          "일반식품",
          "일반식품",
          "일반식품",
          "일반식품",
          "일반식품",
          "일반식품",
          "일반식품",
          "일반식품",
          "일반식품",
          "일반식품",
          "일반식품",
          "일반식품",
          "일반식품",
          "일반식품",
          "일반식품",
          "일반식품",
          "일반식품",
          "일반식품",
          "일반식품",
          "일반식품",
          "일반식품",
          "일반식품",
          "일반식품",
          "일반식품",
          "일반식품",
          "일반식품",
          "일반식품",
          "일반식품",
          "일반식품",
          "일반식품",
          "일반식품",
          "일반식품",
          "일반식품",
          "일반식품",
          "일반식품",
          "일반식품",
          "일반식품",
          "일반식품",
          "일반식품",
          "일반식품",
          "일반식품",
          "일반식품",
          "일반식품",
          "일반식품",
          "일반식품",
          "일반식품",
          "일반식품",
          "일반식품",
          "일반식품",
          "일반식품",
          "일반식품",
          "일반식품",
          "일반식품",
          "일반식품",
          "일반식품",
          "일반식품",
          "일반식품",
          "일반식품",
          "일반식품",
          "일반식품",
          "일반식품",
          "일반식품",
          "일반식품",
          "일반식품",
          "일반식품",
          "일반식품",
          "일반식품",
          "일반식품",
          "일반식품",
          "일반식품",
          "일반식품",
          "일반식품",
          "일반식품",
          "일반식품",
          "일반식품",
          "일반식품",
          "일반식품",
          "일반식품",
          "일반식품",
          "일반식품",
          "일반식품",
          "일반식품",
          "일반식품",
          "일반식품",
          "일반식품",
          "일반식품",
          "일반식품",
          "일반식품",
          "일반식품",
          "일반식품",
          "일반식품",
          "일반식품",
          "일반식품",
          "일반식품",
          "일반식품",
          "일반식품",
          "일반식품",
          "일반식품",
          "일반식품",
          "일반식품",
          "일반식품",
          "일반식품",
          "일반식품",
          "일반식품",
          "일반식품",
          "일반식품",
          "일반식품",
          "일반식품",
          "일반식품",
          "일반식품",
          "일반식품",
          "일반식품",
          "일반식품",
          "일반식품",
          "일반식품",
          "일반식품",
          "일반식품",
          "일반식품",
          "일반식품",
          "일반식품",
          "일반식품",
          "일반식품",
          "일반식품",
          "일반식품",
          "일반식품",
          "일반식품",
          "일반식품",
          "일반식품",
          "일반식품",
          "일반식품",
          "일반식품",
          "일반식품",
          "일반식품",
          "일반식품",
          "일반식품",
          "일반식품",
          "일반식품",
          "일반식품",
          "일반식품",
          "일반식품",
          "일반식품",
          "일반식품",
          "일반식품",
          "일반식품",
          "일반식품",
          "일반식품",
          "일반식품",
          "일반식품",
          "일반식품",
          "일반식품",
          "일반식품",
          "일반식품",
          "일반식품",
          "일반식품",
          "일반식품",
          "일반식품",
          "일반식품",
          "일반식품",
          "일반식품",
          "일반식품",
          "일반식품",
          "일반식품",
          "일반식품",
          "일반식품",
          "일반식품",
          "일반식품",
          "일반식품",
          "일반식품",
          "일반식품",
          "일반식품",
          "일반식품",
          "일반식품",
          "일반식품",
          "일반식품",
          "일반식품",
          "일반식품",
          "일반식품",
          "일반식품",
          "일반식품",
          "일반식품",
          "일반식품",
          "일반식품",
          "일반식품",
          "일반식품",
          "일반식품",
          "일반식품",
          "일반식품",
          "일반식품",
          "일반식품",
          "일반식품",
          "일반식품",
          "일반식품",
          "일반식품",
          "일반식품",
          "일반식품",
          "일반식품",
          "일반식품",
          "일반식품",
          "일반식품",
          "일반식품",
          "일반식품",
          "일반식품",
          "일반식품",
          "일반식품",
          "일반식품",
          "일반식품",
          "일반식품",
          "일반식품",
          "일반식품",
          "일반식품",
          "일반식품",
          "일반식품",
          "일반식품",
          "일반식품",
          "일반식품",
          "일반식품",
          "일반식품",
          "일반식품",
          "일반식품",
          "일반식품",
          "일반식품",
          "일반식품",
          "일반식품",
          "일반식품",
          "일반식품",
          "일반식품",
          "일반식품",
          "일반식품",
          "일반식품",
          "일반식품",
          "일반식품",
          "일반식품",
          "일반식품",
          "일반식품",
          "일반식품",
          "일반식품",
          "일반식품",
          "일반식품",
          "일반식품",
          "일반식품",
          "일반식품",
          "일반식품",
          "일반식품",
          "일반식품",
          "일반식품",
          "일반식품",
          "일반식품",
          "일반식품",
          "일반식품",
          "일반식품",
          "일반식품",
          "일반식품",
          "일반식품",
          "일반식품",
          "일반식품",
          "일반식품",
          "일반식품",
          "일반식품",
          "일반식품",
          "일반식품",
          "일반식품",
          "일반식품",
          "일반식품",
          "주방가전",
          "주방가전",
          "주방가전",
          "주방가전",
          "주방가전",
          "주방가전",
          "주방가전",
          "주방가전",
          "주방가전",
          "주방가전",
          "주방가전",
          "주방가전",
          "주방가전",
          "주방가전",
          "주방가전",
          "주방가전",
          "주방가전",
          "주방가전",
          "주방가전",
          "주방가전",
          "주방가전",
          "주방가전",
          "주방가전",
          "주방가전",
          "주방가전",
          "주방용품",
          "주방용품",
          "주방용품",
          "주방용품",
          "주방용품",
          "주방용품",
          "주방용품",
          "주방용품",
          "주방용품",
          "주방용품",
          "주방용품",
          "주방용품",
          "주방용품",
          "주방용품",
          "주방용품",
          "주방용품",
          "주방용품",
          "주방용품",
          "주방용품",
          "주방용품",
          "주방용품",
          "주방용품",
          "주방용품",
          "주방용품",
          "주방용품",
          "주방용품",
          "주방용품",
          "주방용품",
          "주방용품",
          "주방용품",
          "주방용품",
          "주방용품",
          "주방용품",
          "주방용품",
          "주방용품",
          "주방용품",
          "주방용품",
          "주방용품",
          "주방용품",
          "주방용품",
          "주방용품",
          "주방용품",
          "주방용품",
          "주방용품",
          "주방용품",
          "주방용품",
          "주방용품",
          "주방용품",
          "주방용품",
          "주방용품",
          "주방용품",
          "주방용품",
          "주방용품",
          "주방용품",
          "주방용품",
          "주방용품",
          "주방용품",
          "주방용품",
          "주방용품",
          "주방용품",
          "주방용품",
          "주방용품",
          "주방용품",
          "주방용품",
          "주방용품",
          "주방용품",
          "침구",
          "침구",
          "침구",
          "침구",
          "침구",
          "침구",
          "침구",
          "침구",
          "침구",
          "침구",
          "침구",
          "침구",
          "침구",
          "침구",
          "침구",
          "침구",
          "침구",
          "침구",
          "침구",
          "침구",
          "침구",
          "침구",
          "침구",
          "침구",
          "침구",
          "침구",
          "침구",
          "침구",
          "캐쥬얼",
          "캐쥬얼",
          "캐쥬얼",
          "캐쥬얼",
          "캐쥬얼",
          "캐쥬얼",
          "캐쥬얼",
          "캐쥬얼",
          "캐쥬얼",
          "캐쥬얼",
          "캐쥬얼",
          "캐쥬얼",
          "캐쥬얼",
          "캐쥬얼",
          "캐쥬얼",
          "캐쥬얼",
          "키즈/유아동",
          "키즈/유아동",
          "키즈/유아동",
          "키즈/유아동",
          "키즈/유아동",
          "키즈/유아동",
          "키즈/유아동",
          "키즈/유아동",
          "키즈/유아동",
          "키즈/유아동",
          "키즈/유아동",
          "키즈/유아동",
          "키즈/유아동",
          "키즈/유아동",
          "키즈/유아동",
          "키즈/유아동",
          "키즈/유아동",
          "키즈/유아동",
          "키즈/유아동",
          "키즈/유아동",
          "키즈/유아동",
          "키즈/유아동",
          "키즈/유아동",
          "키즈/유아동",
          "키즈/유아동",
          "키즈/유아동",
          "키즈/유아동",
          "키즈/유아동",
          "키즈/유아동",
          "키즈/유아동",
          "키즈/유아동",
          "키즈/유아동",
          "패션잡화",
          "패션잡화",
          "패션잡화",
          "패션잡화",
          "패션잡화",
          "패션잡화",
          "패션잡화",
          "패션잡화",
          "패션잡화",
          "패션잡화",
          "패션잡화",
          "패션잡화",
          "패션잡화",
          "패션잡화",
          "패션잡화",
          "패션잡화",
          "패션잡화",
          "패션잡화",
          "패션잡화",
          "패션잡화",
          "패션잡화",
          "패션잡화",
          "패션잡화",
          "패션잡화",
          "패션잡화",
          "패션잡화",
          "패션잡화",
          "패션잡화",
          "패션잡화",
          "패션잡화",
          "패션잡화",
          "패션잡화",
          "패션잡화",
          "패션잡화",
          "패션잡화",
          "패션잡화",
          "패션잡화",
          "패션잡화",
          "패션잡화",
          "패션잡화",
          "패션잡화",
          "패션잡화",
          "패션잡화",
          "패션잡화",
          "패션잡화"
         ],
         "name": "Mobile",
         "type": "pie",
         "values": [
          119610,
          2091600,
          173000,
          303620,
          39800,
          23660,
          51220,
          53360,
          5000,
          36020,
          3773400,
          346810,
          21810,
          85810,
          12920,
          205680,
          8800,
          3309620,
          94770,
          19470,
          62910,
          3900,
          108590,
          405800,
          128840,
          104800,
          136320,
          5040,
          44900,
          437910,
          157940,
          132770,
          8240,
          102600,
          83570,
          1335450,
          53210,
          18310,
          123190,
          1255830,
          27460,
          1871560,
          38340190,
          1777110,
          929060,
          48900,
          22240,
          1433420,
          164910,
          629820,
          35060,
          35800,
          10588240,
          293800,
          592517310,
          96160,
          2024100,
          9900,
          23660,
          107920,
          6535500,
          482420,
          327500,
          9410,
          9310,
          35910,
          3713100,
          13924870,
          7102450,
          208220,
          642000,
          3966210,
          537800,
          1285950,
          78410,
          7775780,
          27600,
          26100,
          614710,
          916140,
          5533920,
          88360,
          161180,
          250660,
          45400,
          322570,
          136670,
          158510,
          53920,
          18810,
          137040,
          35800,
          68560,
          416270,
          16900,
          66230,
          130410,
          51210,
          16560,
          161720,
          197490,
          17030,
          80780,
          127930,
          172600,
          1464400,
          12886260,
          33464690,
          487650290,
          32534400,
          15067500,
          481145190,
          219818400,
          488085400,
          1640640,
          551000,
          2907900,
          1200570,
          81956940,
          16109350,
          188330,
          2281730,
          1038750,
          4296580,
          639690,
          59437040,
          56713350,
          1238400,
          61453400,
          52928370,
          4717440,
          238220,
          158077940,
          845170,
          180680000,
          46500,
          383503470,
          31100950,
          700890,
          26275100,
          2353940,
          1767950,
          24421910,
          1327450,
          116260,
          7868120,
          414000,
          948150,
          3376360,
          170000,
          3000,
          32893980,
          2360310,
          527440,
          791970,
          66760,
          28900,
          59600,
          24590,
          50160,
          8270,
          20580,
          78310,
          198000,
          13500,
          57600,
          16900,
          9500,
          58660,
          210890,
          5230,
          443110,
          360580,
          59000,
          210700,
          7030,
          4568000,
          29000,
          159000,
          215400,
          58310,
          55686960,
          2453000,
          3183210,
          186600,
          154510,
          21800,
          3165910,
          274690,
          326610,
          395900,
          41700,
          12200,
          378860,
          201280,
          33660,
          1590240,
          38900,
          69000,
          36000,
          94000,
          48550,
          8900,
          109870,
          19960,
          37200,
          994880,
          5510,
          50400,
          117220,
          257110,
          29700,
          586810,
          435030,
          1284810,
          90000,
          10900,
          1200,
          68500,
          19500,
          165120,
          82840,
          22940,
          28410,
          824830,
          1440080,
          156560,
          21800,
          1038880,
          208600,
          40180,
          750,
          6981850,
          5689710,
          64640,
          128330,
          2958170,
          8590,
          593390,
          16000,
          6685860,
          326310,
          16260,
          24320,
          702830,
          88340,
          935440,
          2049740,
          790660,
          874050,
          49803520,
          294850,
          121310,
          59980,
          375200,
          771270,
          566160,
          152400,
          13160,
          62700,
          223660,
          5693650,
          1251040,
          627980,
          5700,
          4034960,
          58880,
          82970,
          879700,
          29900,
          12800,
          88680,
          25074500,
          731990,
          370487780,
          35580,
          96500,
          39000,
          41464510,
          12828300,
          13344960,
          139649290,
          115630,
          8300550,
          518691120,
          7938240,
          8284230,
          436440,
          6791470,
          217200,
          143320,
          160010,
          845210,
          6849880,
          890,
          22800,
          63197060,
          35000,
          170050,
          30040200,
          19800,
          24520,
          14599590,
          1637700,
          15562630,
          19790,
          37960080,
          99862610,
          1417140,
          6697710,
          79260,
          341050,
          522100,
          21507300,
          182235640,
          19900,
          16800,
          488210,
          75480,
          1713500,
          136900,
          178980,
          108835530,
          24217770,
          26460,
          181737880,
          135700,
          18510790,
          9530770,
          23560,
          987200,
          37050,
          566180,
          105180,
          67220,
          466790,
          141570,
          768650,
          378810,
          17600,
          30640,
          22900,
          696800,
          47000,
          127794910,
          105830,
          116620,
          34925050,
          16170,
          1200590,
          118010,
          2148000,
          15600,
          132500,
          343800,
          28900,
          114020,
          142100,
          39980,
          51840,
          731780,
          87800,
          21800,
          11900,
          580310,
          37900,
          48210,
          452970,
          659800,
          453500,
          4450,
          11880,
          5040,
          5300,
          33820,
          55460,
          107940,
          1140,
          15900,
          149560,
          4362755,
          5810,
          1495350,
          5700,
          229570,
          79890,
          306300,
          543200,
          17960,
          167560,
          265070,
          11480,
          115540,
          23630,
          12700,
          49220,
          389910,
          2950,
          36410,
          14940,
          148690,
          100190,
          89610,
          40080,
          761770,
          5655180,
          197600,
          6440830,
          124800,
          364280,
          3790,
          2489230,
          484370,
          560100,
          245900,
          24580,
          14290,
          5400,
          2000,
          489640,
          310230,
          154420,
          113600,
          42000,
          17400,
          5300,
          19560,
          11600,
          15110,
          303870,
          30530,
          408720,
          94660,
          16000,
          76300,
          57000,
          388930,
          9110,
          5690,
          21800,
          690,
          4320,
          126720,
          22700,
          79530,
          1297410,
          164260,
          36900,
          97470,
          1019570,
          6680,
          489740,
          7200,
          44800,
          208160,
          229660,
          2570730,
          24800,
          6460,
          7320,
          6780,
          314450,
          91070,
          975400,
          555060,
          13720,
          25900,
          86000,
          186050,
          1000960,
          1900,
          9100,
          11800,
          1100,
          20000,
          11900,
          579410,
          16900,
          184210,
          94600,
          81270,
          568120,
          6191500,
          37620,
          7140,
          963830,
          63200,
          490210,
          494020,
          31900,
          666670,
          478300,
          11476560,
          1871590,
          275600,
          250450,
          40730,
          161560,
          83410,
          86500,
          620200,
          157620,
          3800,
          709960,
          50210,
          24800,
          34120,
          112500,
          128100,
          7480,
          210540,
          10520,
          205930,
          16960,
          79000,
          20760,
          19900,
          4900,
          10830,
          6560,
          79740,
          1880,
          79170,
          62870,
          10640,
          549640,
          61300,
          281160,
          206930,
          119800,
          121580,
          205070,
          144900,
          9900,
          142200,
          255250,
          282000,
          427370,
          101170,
          27850,
          31420,
          5800,
          4750,
          10000,
          50000,
          16920,
          175820,
          59340,
          99740,
          53360,
          174850,
          1159620,
          76000,
          26800,
          45120,
          25800,
          53070,
          222380,
          6270,
          5870,
          24640,
          42330,
          25920,
          204540,
          9700,
          13800,
          5610,
          28900,
          19900,
          124330,
          5400,
          11700,
          7200,
          10000,
          63560,
          109160,
          16800,
          215770,
          397150,
          159650,
          24920,
          17820,
          55080,
          103800,
          179380,
          39800,
          15020,
          37520,
          114980,
          153600,
          4750,
          42800,
          330270,
          14610,
          46550,
          121730,
          26800,
          13753652,
          24800,
          16280,
          2645250,
          417420,
          212310,
          351700,
          203560,
          1542600,
          314920,
          8202270,
          93780,
          33730,
          189880,
          20700,
          379000,
          4021980,
          6414860,
          486200,
          3000,
          25270,
          211354520,
          397700,
          143070,
          44620,
          1851480,
          7600,
          113380,
          2967160,
          123420,
          108440,
          1720320,
          4540260,
          216180,
          8113770,
          47186015,
          317400,
          187620,
          538050,
          293840,
          277530,
          1125170,
          1743280,
          326390,
          51420,
          126720,
          4974170,
          114280,
          151610,
          2438890,
          288220,
          364010,
          981920,
          216450,
          37100,
          170740,
          162900,
          32070,
          5421640,
          4558920,
          4786610,
          1824270,
          478170,
          629750,
          94820,
          670130,
          2615050,
          1936690,
          118900,
          27460,
          33800,
          37800,
          779280,
          3354850,
          154570,
          28500,
          37000,
          20200,
          764310,
          1849310,
          298100,
          16720,
          104700,
          108800,
          369570,
          325640,
          161790,
          2930790,
          47430,
          11490680,
          1316110,
          157320,
          618410,
          26040,
          3025700,
          228020,
          1334450,
          1557790,
          44700,
          192870,
          1254940,
          10900,
          1375760,
          18100,
          1225460,
          6750,
          37810,
          502220,
          641840,
          19800,
          55200,
          48860,
          244460,
          20900,
          407020,
          2800,
          2541240,
          68990,
          13210,
          46300,
          24039240,
          53640,
          119450,
          50990,
          85230,
          44120,
          3023390,
          5601800,
          1133540,
          336920,
          504400,
          14500,
          156760,
          42660,
          31400,
          616440,
          152710,
          28410,
          16400,
          67600,
          163092010,
          318600,
          32210,
          79610,
          74450,
          11666300,
          103790,
          43710,
          5467780,
          65280,
          1657660,
          498990,
          540880,
          215930,
          146780,
          12920,
          170120,
          298600,
          9740,
          1641840,
          30310,
          16920,
          2737135,
          61590,
          21860,
          2841940,
          13200,
          104310,
          181300,
          352910,
          41500,
          837120,
          986020,
          96800,
          237460,
          17138000,
          32900,
          534170,
          1749660,
          191120,
          115500,
          203530,
          105170,
          3585130,
          586660,
          85500,
          1775580,
          156610,
          14900,
          764110,
          7737760,
          152640,
          19150,
          546400,
          29730,
          24000,
          979920,
          70810,
          19020,
          279630,
          75800,
          411030,
          451250,
          1100770,
          6354370,
          240870,
          269502740,
          23428350,
          100960,
          123950,
          113410,
          1656230,
          1391630,
          233720,
          8690,
          600860,
          1360700,
          555530,
          21900,
          283870,
          2660440,
          13925710,
          637660,
          707750,
          51800,
          217610,
          114020,
          7040,
          10772540,
          1331200,
          168630,
          38720,
          5742467,
          19960,
          2425540,
          329360,
          328860,
          166800,
          18434220,
          1968793,
          161500,
          488430,
          962580,
          9350,
          14460,
          12291920,
          344620,
          142610,
          4000,
          33800,
          579020,
          10580,
          72590,
          1452340,
          26510,
          742540,
          32180,
          22710,
          298072250,
          12134350,
          8000,
          95400,
          164770,
          97770,
          159930,
          3423550,
          435540,
          229180,
          5610,
          1862680,
          131476070,
          78630,
          321440,
          51800,
          10250,
          1212110,
          100510,
          30900,
          75050,
          23900,
          59000,
          814660,
          47618890,
          21900,
          125000,
          485620,
          2186270,
          380240,
          65860,
          485200,
          1921590,
          256060,
          245240,
          65560,
          41800,
          955770,
          12900,
          188390,
          68700,
          7040,
          372960,
          259840,
          49040,
          177550,
          71700,
          16000,
          30900,
          850030,
          356960,
          1927610,
          10900,
          10900,
          63800,
          211630,
          609100,
          34800,
          628280,
          19800,
          105170,
          269300,
          49660,
          3520,
          50340,
          5900,
          43800,
          10900,
          69190,
          172800,
          5300,
          24200,
          7900,
          117050,
          273760,
          34500,
          1200,
          143940,
          145700,
          17800,
          9900,
          13800,
          720500,
          107100,
          326970,
          646700,
          56940,
          39800,
          38280,
          424510,
          148120,
          146360,
          6560,
          44480,
          102300,
          46030,
          19900,
          1984030,
          24800,
          126300,
          76900,
          2104340,
          344900,
          75810,
          57000,
          73220,
          126520,
          66740,
          36010,
          226600,
          1403900,
          16900,
          67600,
          16900,
          18110,
          23350,
          75050,
          169550,
          544780,
          84810,
          1739840,
          198570,
          194380,
          143840,
          89800,
          603900,
          279230,
          245490,
          1230070,
          108810,
          45800,
          32700,
          16920,
          76700,
          203110,
          9900,
          32300,
          49270,
          11800,
          5800,
          31700,
          43650,
          100670,
          24900,
          22600,
          149970,
          8080,
          15200,
          6411120,
          390600,
          7900,
          13590,
          3690,
          1740520,
          778850,
          12820,
          9800,
          9700,
          92270,
          249400,
          71180,
          134020,
          20362890,
          47100,
          22600,
          11880,
          17760,
          29900,
          101000,
          178650,
          16234350,
          6900,
          49200,
          12250,
          15510,
          35900,
          44850,
          56050,
          702780,
          864668730,
          31900,
          10333570,
          1951710,
          70000,
          4704290,
          14300,
          76500,
          326500,
          65000,
          25800,
          5900,
          122760,
          98660,
          475200,
          19800,
          20070,
          349680,
          41710,
          10320,
          3926970,
          4905130,
          7420,
          719130,
          158090,
          95070,
          73510,
          243740,
          36030,
          1268050,
          177640,
          29530,
          94520,
          243160,
          19900,
          328300,
          1083590,
          169950,
          128630,
          41320,
          555060,
          48130,
          5580,
          103820
         ]
        }
       ],
       "layout": {
        "annotations": [
         {
          "font": {
           "size": 12
          },
          "showarrow": false,
          "text": "General",
          "x": 0.11,
          "y": 0.5
         },
         {
          "font": {
           "size": 12
          },
          "showarrow": false,
          "text": "TV",
          "x": 0.5,
          "y": 0.5
         },
         {
          "font": {
           "size": 12
          },
          "showarrow": false,
          "text": "Mobile",
          "x": 0.89,
          "y": 0.5
         }
        ],
        "height": 600,
        "template": {
         "data": {
          "bar": [
           {
            "error_x": {
             "color": "#2a3f5f"
            },
            "error_y": {
             "color": "#2a3f5f"
            },
            "marker": {
             "line": {
              "color": "#E5ECF6",
              "width": 0.5
             },
             "pattern": {
              "fillmode": "overlay",
              "size": 10,
              "solidity": 0.2
             }
            },
            "type": "bar"
           }
          ],
          "barpolar": [
           {
            "marker": {
             "line": {
              "color": "#E5ECF6",
              "width": 0.5
             },
             "pattern": {
              "fillmode": "overlay",
              "size": 10,
              "solidity": 0.2
             }
            },
            "type": "barpolar"
           }
          ],
          "carpet": [
           {
            "aaxis": {
             "endlinecolor": "#2a3f5f",
             "gridcolor": "white",
             "linecolor": "white",
             "minorgridcolor": "white",
             "startlinecolor": "#2a3f5f"
            },
            "baxis": {
             "endlinecolor": "#2a3f5f",
             "gridcolor": "white",
             "linecolor": "white",
             "minorgridcolor": "white",
             "startlinecolor": "#2a3f5f"
            },
            "type": "carpet"
           }
          ],
          "choropleth": [
           {
            "colorbar": {
             "outlinewidth": 0,
             "ticks": ""
            },
            "type": "choropleth"
           }
          ],
          "contour": [
           {
            "colorbar": {
             "outlinewidth": 0,
             "ticks": ""
            },
            "colorscale": [
             [
              0,
              "#0d0887"
             ],
             [
              0.1111111111111111,
              "#46039f"
             ],
             [
              0.2222222222222222,
              "#7201a8"
             ],
             [
              0.3333333333333333,
              "#9c179e"
             ],
             [
              0.4444444444444444,
              "#bd3786"
             ],
             [
              0.5555555555555556,
              "#d8576b"
             ],
             [
              0.6666666666666666,
              "#ed7953"
             ],
             [
              0.7777777777777778,
              "#fb9f3a"
             ],
             [
              0.8888888888888888,
              "#fdca26"
             ],
             [
              1,
              "#f0f921"
             ]
            ],
            "type": "contour"
           }
          ],
          "contourcarpet": [
           {
            "colorbar": {
             "outlinewidth": 0,
             "ticks": ""
            },
            "type": "contourcarpet"
           }
          ],
          "heatmap": [
           {
            "colorbar": {
             "outlinewidth": 0,
             "ticks": ""
            },
            "colorscale": [
             [
              0,
              "#0d0887"
             ],
             [
              0.1111111111111111,
              "#46039f"
             ],
             [
              0.2222222222222222,
              "#7201a8"
             ],
             [
              0.3333333333333333,
              "#9c179e"
             ],
             [
              0.4444444444444444,
              "#bd3786"
             ],
             [
              0.5555555555555556,
              "#d8576b"
             ],
             [
              0.6666666666666666,
              "#ed7953"
             ],
             [
              0.7777777777777778,
              "#fb9f3a"
             ],
             [
              0.8888888888888888,
              "#fdca26"
             ],
             [
              1,
              "#f0f921"
             ]
            ],
            "type": "heatmap"
           }
          ],
          "heatmapgl": [
           {
            "colorbar": {
             "outlinewidth": 0,
             "ticks": ""
            },
            "colorscale": [
             [
              0,
              "#0d0887"
             ],
             [
              0.1111111111111111,
              "#46039f"
             ],
             [
              0.2222222222222222,
              "#7201a8"
             ],
             [
              0.3333333333333333,
              "#9c179e"
             ],
             [
              0.4444444444444444,
              "#bd3786"
             ],
             [
              0.5555555555555556,
              "#d8576b"
             ],
             [
              0.6666666666666666,
              "#ed7953"
             ],
             [
              0.7777777777777778,
              "#fb9f3a"
             ],
             [
              0.8888888888888888,
              "#fdca26"
             ],
             [
              1,
              "#f0f921"
             ]
            ],
            "type": "heatmapgl"
           }
          ],
          "histogram": [
           {
            "marker": {
             "pattern": {
              "fillmode": "overlay",
              "size": 10,
              "solidity": 0.2
             }
            },
            "type": "histogram"
           }
          ],
          "histogram2d": [
           {
            "colorbar": {
             "outlinewidth": 0,
             "ticks": ""
            },
            "colorscale": [
             [
              0,
              "#0d0887"
             ],
             [
              0.1111111111111111,
              "#46039f"
             ],
             [
              0.2222222222222222,
              "#7201a8"
             ],
             [
              0.3333333333333333,
              "#9c179e"
             ],
             [
              0.4444444444444444,
              "#bd3786"
             ],
             [
              0.5555555555555556,
              "#d8576b"
             ],
             [
              0.6666666666666666,
              "#ed7953"
             ],
             [
              0.7777777777777778,
              "#fb9f3a"
             ],
             [
              0.8888888888888888,
              "#fdca26"
             ],
             [
              1,
              "#f0f921"
             ]
            ],
            "type": "histogram2d"
           }
          ],
          "histogram2dcontour": [
           {
            "colorbar": {
             "outlinewidth": 0,
             "ticks": ""
            },
            "colorscale": [
             [
              0,
              "#0d0887"
             ],
             [
              0.1111111111111111,
              "#46039f"
             ],
             [
              0.2222222222222222,
              "#7201a8"
             ],
             [
              0.3333333333333333,
              "#9c179e"
             ],
             [
              0.4444444444444444,
              "#bd3786"
             ],
             [
              0.5555555555555556,
              "#d8576b"
             ],
             [
              0.6666666666666666,
              "#ed7953"
             ],
             [
              0.7777777777777778,
              "#fb9f3a"
             ],
             [
              0.8888888888888888,
              "#fdca26"
             ],
             [
              1,
              "#f0f921"
             ]
            ],
            "type": "histogram2dcontour"
           }
          ],
          "mesh3d": [
           {
            "colorbar": {
             "outlinewidth": 0,
             "ticks": ""
            },
            "type": "mesh3d"
           }
          ],
          "parcoords": [
           {
            "line": {
             "colorbar": {
              "outlinewidth": 0,
              "ticks": ""
             }
            },
            "type": "parcoords"
           }
          ],
          "pie": [
           {
            "automargin": true,
            "type": "pie"
           }
          ],
          "scatter": [
           {
            "fillpattern": {
             "fillmode": "overlay",
             "size": 10,
             "solidity": 0.2
            },
            "type": "scatter"
           }
          ],
          "scatter3d": [
           {
            "line": {
             "colorbar": {
              "outlinewidth": 0,
              "ticks": ""
             }
            },
            "marker": {
             "colorbar": {
              "outlinewidth": 0,
              "ticks": ""
             }
            },
            "type": "scatter3d"
           }
          ],
          "scattercarpet": [
           {
            "marker": {
             "colorbar": {
              "outlinewidth": 0,
              "ticks": ""
             }
            },
            "type": "scattercarpet"
           }
          ],
          "scattergeo": [
           {
            "marker": {
             "colorbar": {
              "outlinewidth": 0,
              "ticks": ""
             }
            },
            "type": "scattergeo"
           }
          ],
          "scattergl": [
           {
            "marker": {
             "colorbar": {
              "outlinewidth": 0,
              "ticks": ""
             }
            },
            "type": "scattergl"
           }
          ],
          "scattermapbox": [
           {
            "marker": {
             "colorbar": {
              "outlinewidth": 0,
              "ticks": ""
             }
            },
            "type": "scattermapbox"
           }
          ],
          "scatterpolar": [
           {
            "marker": {
             "colorbar": {
              "outlinewidth": 0,
              "ticks": ""
             }
            },
            "type": "scatterpolar"
           }
          ],
          "scatterpolargl": [
           {
            "marker": {
             "colorbar": {
              "outlinewidth": 0,
              "ticks": ""
             }
            },
            "type": "scatterpolargl"
           }
          ],
          "scatterternary": [
           {
            "marker": {
             "colorbar": {
              "outlinewidth": 0,
              "ticks": ""
             }
            },
            "type": "scatterternary"
           }
          ],
          "surface": [
           {
            "colorbar": {
             "outlinewidth": 0,
             "ticks": ""
            },
            "colorscale": [
             [
              0,
              "#0d0887"
             ],
             [
              0.1111111111111111,
              "#46039f"
             ],
             [
              0.2222222222222222,
              "#7201a8"
             ],
             [
              0.3333333333333333,
              "#9c179e"
             ],
             [
              0.4444444444444444,
              "#bd3786"
             ],
             [
              0.5555555555555556,
              "#d8576b"
             ],
             [
              0.6666666666666666,
              "#ed7953"
             ],
             [
              0.7777777777777778,
              "#fb9f3a"
             ],
             [
              0.8888888888888888,
              "#fdca26"
             ],
             [
              1,
              "#f0f921"
             ]
            ],
            "type": "surface"
           }
          ],
          "table": [
           {
            "cells": {
             "fill": {
              "color": "#EBF0F8"
             },
             "line": {
              "color": "white"
             }
            },
            "header": {
             "fill": {
              "color": "#C8D4E3"
             },
             "line": {
              "color": "white"
             }
            },
            "type": "table"
           }
          ]
         },
         "layout": {
          "annotationdefaults": {
           "arrowcolor": "#2a3f5f",
           "arrowhead": 0,
           "arrowwidth": 1
          },
          "autotypenumbers": "strict",
          "coloraxis": {
           "colorbar": {
            "outlinewidth": 0,
            "ticks": ""
           }
          },
          "colorscale": {
           "diverging": [
            [
             0,
             "#8e0152"
            ],
            [
             0.1,
             "#c51b7d"
            ],
            [
             0.2,
             "#de77ae"
            ],
            [
             0.3,
             "#f1b6da"
            ],
            [
             0.4,
             "#fde0ef"
            ],
            [
             0.5,
             "#f7f7f7"
            ],
            [
             0.6,
             "#e6f5d0"
            ],
            [
             0.7,
             "#b8e186"
            ],
            [
             0.8,
             "#7fbc41"
            ],
            [
             0.9,
             "#4d9221"
            ],
            [
             1,
             "#276419"
            ]
           ],
           "sequential": [
            [
             0,
             "#0d0887"
            ],
            [
             0.1111111111111111,
             "#46039f"
            ],
            [
             0.2222222222222222,
             "#7201a8"
            ],
            [
             0.3333333333333333,
             "#9c179e"
            ],
            [
             0.4444444444444444,
             "#bd3786"
            ],
            [
             0.5555555555555556,
             "#d8576b"
            ],
            [
             0.6666666666666666,
             "#ed7953"
            ],
            [
             0.7777777777777778,
             "#fb9f3a"
            ],
            [
             0.8888888888888888,
             "#fdca26"
            ],
            [
             1,
             "#f0f921"
            ]
           ],
           "sequentialminus": [
            [
             0,
             "#0d0887"
            ],
            [
             0.1111111111111111,
             "#46039f"
            ],
            [
             0.2222222222222222,
             "#7201a8"
            ],
            [
             0.3333333333333333,
             "#9c179e"
            ],
            [
             0.4444444444444444,
             "#bd3786"
            ],
            [
             0.5555555555555556,
             "#d8576b"
            ],
            [
             0.6666666666666666,
             "#ed7953"
            ],
            [
             0.7777777777777778,
             "#fb9f3a"
            ],
            [
             0.8888888888888888,
             "#fdca26"
            ],
            [
             1,
             "#f0f921"
            ]
           ]
          },
          "colorway": [
           "#636efa",
           "#EF553B",
           "#00cc96",
           "#ab63fa",
           "#FFA15A",
           "#19d3f3",
           "#FF6692",
           "#B6E880",
           "#FF97FF",
           "#FECB52"
          ],
          "font": {
           "color": "#2a3f5f"
          },
          "geo": {
           "bgcolor": "white",
           "lakecolor": "white",
           "landcolor": "#E5ECF6",
           "showlakes": true,
           "showland": true,
           "subunitcolor": "white"
          },
          "hoverlabel": {
           "align": "left"
          },
          "hovermode": "closest",
          "mapbox": {
           "style": "light"
          },
          "paper_bgcolor": "white",
          "plot_bgcolor": "#E5ECF6",
          "polar": {
           "angularaxis": {
            "gridcolor": "white",
            "linecolor": "white",
            "ticks": ""
           },
           "bgcolor": "#E5ECF6",
           "radialaxis": {
            "gridcolor": "white",
            "linecolor": "white",
            "ticks": ""
           }
          },
          "scene": {
           "xaxis": {
            "backgroundcolor": "#E5ECF6",
            "gridcolor": "white",
            "gridwidth": 2,
            "linecolor": "white",
            "showbackground": true,
            "ticks": "",
            "zerolinecolor": "white"
           },
           "yaxis": {
            "backgroundcolor": "#E5ECF6",
            "gridcolor": "white",
            "gridwidth": 2,
            "linecolor": "white",
            "showbackground": true,
            "ticks": "",
            "zerolinecolor": "white"
           },
           "zaxis": {
            "backgroundcolor": "#E5ECF6",
            "gridcolor": "white",
            "gridwidth": 2,
            "linecolor": "white",
            "showbackground": true,
            "ticks": "",
            "zerolinecolor": "white"
           }
          },
          "shapedefaults": {
           "line": {
            "color": "#2a3f5f"
           }
          },
          "ternary": {
           "aaxis": {
            "gridcolor": "white",
            "linecolor": "white",
            "ticks": ""
           },
           "baxis": {
            "gridcolor": "white",
            "linecolor": "white",
            "ticks": ""
           },
           "bgcolor": "#E5ECF6",
           "caxis": {
            "gridcolor": "white",
            "linecolor": "white",
            "ticks": ""
           }
          },
          "title": {
           "x": 0.05
          },
          "xaxis": {
           "automargin": true,
           "gridcolor": "white",
           "linecolor": "white",
           "ticks": "",
           "title": {
            "standoff": 15
           },
           "zerolinecolor": "white",
           "zerolinewidth": 2
          },
          "yaxis": {
           "automargin": true,
           "gridcolor": "white",
           "linecolor": "white",
           "ticks": "",
           "title": {
            "standoff": 15
           },
           "zerolinecolor": "white",
           "zerolinewidth": 2
          }
         }
        },
        "title": {
         "text": "카테고리 별 매출 비교"
        },
        "width": 1200
       }
      }
     },
     "metadata": {},
     "output_type": "display_data"
    }
   ],
   "source": [
    "# Preparing DataFrames\n",
    "import pandas as pd\n",
    "import plotly.graph_objects as go\n",
    "from plotly.subplots import make_subplots\n",
    "\n",
    "category_amount = customer.groupby(['item_category', 'item_name','channel'])['paid_amount'].sum().reset_index()\n",
    "category_amount_tv = category_amount[category_amount['channel'] == 'TV'].reset_index()\n",
    "category_amount_mobile =  category_amount[category_amount['channel'] == 'Mobile'].reset_index()\n",
    "\n",
    "# Creating subplots\n",
    "fig = make_subplots(rows=1, cols=3, specs=[[{'type':'domain'}, {'type':'domain'}, {'type':'domain'}]])\n",
    "\n",
    "# Adding the first pie chart\n",
    "fig.add_trace(go.Pie(labels=category_amount['item_category'], values=category_amount['paid_amount'], name=\"General\"),\n",
    "              1, 1)\n",
    "\n",
    "# Adding the second pie chart\n",
    "fig.add_trace(go.Pie(labels=category_amount_tv['item_category'], values=category_amount_tv['paid_amount'], name=\"TV\"),\n",
    "              1, 2)\n",
    "\n",
    "# Adding the third pie chart\n",
    "fig.add_trace(go.Pie(labels=category_amount_mobile['item_category'], values=category_amount_mobile['paid_amount'], name=\"Mobile\"),\n",
    "              1, 3)\n",
    "\n",
    "# Updating layout for better display\n",
    "fig.update_traces(hole=0.4, hoverinfo=\"label+percent+name\")\n",
    "\n",
    "fig.update_layout(\n",
    "    title_text=\"카테고리 별 매출 비교\",\n",
    "    annotations=[dict(text='General', x=0.11, y=0.5, font_size=12, showarrow=False),\n",
    "                 dict(text='TV', x=0.50, y=0.5, font_size=12, showarrow=False),\n",
    "                 dict(text='Mobile', x=0.89, y=0.5, font_size=12, showarrow=False)],\n",
    "    width=1200,\n",
    "    height=600\n",
    ")\n",
    "\n",
    "# Show plot\n",
    "fig.show()"
   ]
  },
  {
   "cell_type": "markdown",
   "metadata": {},
   "source": [
    "전체 매출 순위는 **대형가전, 건강식품, 생활가전, 일반 식품, 패션잡화** 등으로 나타났다.\\\n",
    "대형 가전, 생활가전의 판매 비율은 2%이지만, 제품 특성 상 판매단가가 높기때문에 이러한 경향이 나타나는 것으로 보임.\n",
    "\n",
    "### TV 홈쇼핑의 주력 상품은 **건강식품, 뷰티**, 모바일 샵의 주력 상품은 **생활가전, 대형가전**으로 플랫폼 별 주력 상품이 존재하는 것을 알 수 있음.\n",
    "\n",
    "**키즈/유아제품, 여행용품, 반려동물용품, 침구류, 상품권** 카테고리는 판매량과 매출이 모두 저조한것으로 나타남."
   ]
  },
  {
   "cell_type": "markdown",
   "metadata": {},
   "source": [
    ">카테고리 별 판매 아이템 순위"
   ]
  },
  {
   "cell_type": "code",
   "execution_count": 26,
   "metadata": {},
   "outputs": [
    {
     "data": {
      "text/html": [
       "<div>\n",
       "<style scoped>\n",
       "    .dataframe tbody tr th:only-of-type {\n",
       "        vertical-align: middle;\n",
       "    }\n",
       "\n",
       "    .dataframe tbody tr th {\n",
       "        vertical-align: top;\n",
       "    }\n",
       "\n",
       "    .dataframe thead th {\n",
       "        text-align: right;\n",
       "    }\n",
       "</style>\n",
       "<table border=\"1\" class=\"dataframe\">\n",
       "  <thead>\n",
       "    <tr style=\"text-align: right;\">\n",
       "      <th></th>\n",
       "      <th>item_category</th>\n",
       "      <th>item_name</th>\n",
       "    </tr>\n",
       "  </thead>\n",
       "  <tbody>\n",
       "    <tr>\n",
       "      <th>0</th>\n",
       "      <td>가구/인테리어</td>\n",
       "      <td>[침대, 황토침대, 의자, 인테리어장식품, 황토카우치, 사무용, 리클라이너소파, 인...</td>\n",
       "    </tr>\n",
       "    <tr>\n",
       "      <th>1</th>\n",
       "      <td>건강식품</td>\n",
       "      <td>[오메가3, 유산균, 루테인, 농축액, 콜라겐, 기타 건강식품, 흑염소즙, 녹용즙,...</td>\n",
       "    </tr>\n",
       "    <tr>\n",
       "      <th>2</th>\n",
       "      <td>남성의류</td>\n",
       "      <td>[셔츠, 반팔티, 라운드넥, 데님/스트레이트팬츠, 재킷, 긴팔티, 면/치노팬츠, 카...</td>\n",
       "    </tr>\n",
       "    <tr>\n",
       "      <th>3</th>\n",
       "      <td>대형가전</td>\n",
       "      <td>[냉장고/냉동고, 일반세탁기, 드럼세탁기, 냉장고, 일반압력밥솥, LED TV, 전...</td>\n",
       "    </tr>\n",
       "    <tr>\n",
       "      <th>4</th>\n",
       "      <td>레저/스포츠</td>\n",
       "      <td>[베개, 훌라후프, 기타골프용품, 선글라스, 기타용품, 진동운동기, 해먹, 타이어/...</td>\n",
       "    </tr>\n",
       "    <tr>\n",
       "      <th>5</th>\n",
       "      <td>레포츠패션</td>\n",
       "      <td>[트랙수트, 티셔츠, 트레킹화, 팬츠, 캐쥬얼화, 패딩점퍼, 플리스재킷, 윈드재킷,...</td>\n",
       "    </tr>\n",
       "    <tr>\n",
       "      <th>6</th>\n",
       "      <td>반려용품</td>\n",
       "      <td>[강아지 간식, 강아지 사료, 고양이 간식(캔/파우치), 목욕/위생/미용용품, 강아...</td>\n",
       "    </tr>\n",
       "    <tr>\n",
       "      <th>7</th>\n",
       "      <td>뷰티</td>\n",
       "      <td>[기초세트, 파운데이션, 세럼, 남성기초세트, 마스크팩, 염색제, 네일세트, 미스트...</td>\n",
       "    </tr>\n",
       "    <tr>\n",
       "      <th>8</th>\n",
       "      <td>상품권</td>\n",
       "      <td>[모바일 상품권]</td>\n",
       "    </tr>\n",
       "    <tr>\n",
       "      <th>9</th>\n",
       "      <td>생활가전</td>\n",
       "      <td>[핸디형청소기, 드럼세탁기, LED TV, 일반세탁기, 블루투스이어폰, 전기면도기,...</td>\n",
       "    </tr>\n",
       "    <tr>\n",
       "      <th>10</th>\n",
       "      <td>생활용품</td>\n",
       "      <td>[황사마스크, 화장지, 주방세제/베이킹소다, 샴푸/비누/핸드워시, 생리대, 항균마스...</td>\n",
       "    </tr>\n",
       "    <tr>\n",
       "      <th>11</th>\n",
       "      <td>언더웨어</td>\n",
       "      <td>[드로즈, 언더셔츠, 이지웨어, 나시/홈웨어, 런닝, 스타킹 세트, 브라탑패키지, ...</td>\n",
       "    </tr>\n",
       "    <tr>\n",
       "      <th>12</th>\n",
       "      <td>여성의류</td>\n",
       "      <td>[점퍼, 트렌치코트, 트레이닝세트, 밴딩팬츠, 원피스, 가죽재킷, 수트세트, 팬츠,...</td>\n",
       "    </tr>\n",
       "    <tr>\n",
       "      <th>13</th>\n",
       "      <td>여행</td>\n",
       "      <td>[숙박권, 코펠/식기]</td>\n",
       "    </tr>\n",
       "    <tr>\n",
       "      <th>14</th>\n",
       "      <td>일반식품</td>\n",
       "      <td>[생수, 기타 간편/즉석식품, 김치, 건강음료, 탄산수, 고구마, 오렌지, LA갈비...</td>\n",
       "    </tr>\n",
       "    <tr>\n",
       "      <th>15</th>\n",
       "      <td>주방가전</td>\n",
       "      <td>[IH압력밥솥, 일반압력밥솥, 전기그릴, 전기냄비, 에어프라이어, 고속블렌더, 커피...</td>\n",
       "    </tr>\n",
       "    <tr>\n",
       "      <th>16</th>\n",
       "      <td>주방용품</td>\n",
       "      <td>[밀폐용기, 프라이팬, 자동회전냄비, 비닐백/지퍼백/호일/랩, 그릴팬, 기타, 주방...</td>\n",
       "    </tr>\n",
       "    <tr>\n",
       "      <th>17</th>\n",
       "      <td>침구</td>\n",
       "      <td>[베개/베개커버, 침구세트, 패드(킹/퀸), 카페트, 이불패드세트(퀸/킹), 소파커...</td>\n",
       "    </tr>\n",
       "    <tr>\n",
       "      <th>18</th>\n",
       "      <td>캐쥬얼</td>\n",
       "      <td>[데님, 티셔츠, 밴딩팬츠, 패딩점퍼, 트랙수트, 팬츠, 점퍼, 상하의세트, 수트세...</td>\n",
       "    </tr>\n",
       "    <tr>\n",
       "      <th>19</th>\n",
       "      <td>키즈/유아동</td>\n",
       "      <td>[이유식, 분유, 기저귀, 물티슈, 베이비샤워젤/바디워시, 바디로션/크림, 베이비크...</td>\n",
       "    </tr>\n",
       "    <tr>\n",
       "      <th>20</th>\n",
       "      <td>패션잡화</td>\n",
       "      <td>[캐주얼화, 로퍼, 골드바/코인, 샌들, 방한화, 백팩세트, 앵클부츠, 돌선물, 모...</td>\n",
       "    </tr>\n",
       "  </tbody>\n",
       "</table>\n",
       "</div>"
      ],
      "text/plain": [
       "   item_category                                          item_name\n",
       "0        가구/인테리어  [침대, 황토침대, 의자, 인테리어장식품, 황토카우치, 사무용, 리클라이너소파, 인...\n",
       "1           건강식품  [오메가3, 유산균, 루테인, 농축액, 콜라겐, 기타 건강식품, 흑염소즙, 녹용즙,...\n",
       "2           남성의류  [셔츠, 반팔티, 라운드넥, 데님/스트레이트팬츠, 재킷, 긴팔티, 면/치노팬츠, 카...\n",
       "3           대형가전  [냉장고/냉동고, 일반세탁기, 드럼세탁기, 냉장고, 일반압력밥솥, LED TV, 전...\n",
       "4         레저/스포츠  [베개, 훌라후프, 기타골프용품, 선글라스, 기타용품, 진동운동기, 해먹, 타이어/...\n",
       "5          레포츠패션  [트랙수트, 티셔츠, 트레킹화, 팬츠, 캐쥬얼화, 패딩점퍼, 플리스재킷, 윈드재킷,...\n",
       "6           반려용품  [강아지 간식, 강아지 사료, 고양이 간식(캔/파우치), 목욕/위생/미용용품, 강아...\n",
       "7             뷰티  [기초세트, 파운데이션, 세럼, 남성기초세트, 마스크팩, 염색제, 네일세트, 미스트...\n",
       "8            상품권                                          [모바일 상품권]\n",
       "9           생활가전  [핸디형청소기, 드럼세탁기, LED TV, 일반세탁기, 블루투스이어폰, 전기면도기,...\n",
       "10          생활용품  [황사마스크, 화장지, 주방세제/베이킹소다, 샴푸/비누/핸드워시, 생리대, 항균마스...\n",
       "11          언더웨어  [드로즈, 언더셔츠, 이지웨어, 나시/홈웨어, 런닝, 스타킹 세트, 브라탑패키지, ...\n",
       "12          여성의류  [점퍼, 트렌치코트, 트레이닝세트, 밴딩팬츠, 원피스, 가죽재킷, 수트세트, 팬츠,...\n",
       "13            여행                                       [숙박권, 코펠/식기]\n",
       "14          일반식품  [생수, 기타 간편/즉석식품, 김치, 건강음료, 탄산수, 고구마, 오렌지, LA갈비...\n",
       "15          주방가전  [IH압력밥솥, 일반압력밥솥, 전기그릴, 전기냄비, 에어프라이어, 고속블렌더, 커피...\n",
       "16          주방용품  [밀폐용기, 프라이팬, 자동회전냄비, 비닐백/지퍼백/호일/랩, 그릴팬, 기타, 주방...\n",
       "17            침구  [베개/베개커버, 침구세트, 패드(킹/퀸), 카페트, 이불패드세트(퀸/킹), 소파커...\n",
       "18           캐쥬얼  [데님, 티셔츠, 밴딩팬츠, 패딩점퍼, 트랙수트, 팬츠, 점퍼, 상하의세트, 수트세...\n",
       "19        키즈/유아동  [이유식, 분유, 기저귀, 물티슈, 베이비샤워젤/바디워시, 바디로션/크림, 베이비크...\n",
       "20          패션잡화  [캐주얼화, 로퍼, 골드바/코인, 샌들, 방한화, 백팩세트, 앵클부츠, 돌선물, 모..."
      ]
     },
     "execution_count": 26,
     "metadata": {},
     "output_type": "execute_result"
    }
   ],
   "source": [
    "# 카테고리 별 판매 품목 순위\n",
    "item_counts = customer.groupby(['item_category', 'item_name']).size().reset_index(name='counts')\n",
    "\n",
    "item_counts_sorted = item_counts.sort_values(by=['item_category', 'counts'], ascending=[True, False])\n",
    "\n",
    "category_detail = item_counts_sorted.groupby('item_category')['item_name'].agg(list).reset_index()\n",
    "\n",
    "category_detail"
   ]
  },
  {
   "cell_type": "markdown",
   "metadata": {},
   "source": [
    "> 카테고리별 매출 트렌드 분석 (Z차트)"
   ]
  },
  {
   "cell_type": "markdown",
   "metadata": {},
   "source": [
    "다잇다의 주력 상품인 **대형가전/생활가전/건강식품/일반식품/뷰티/패션잡화** 카테고리의 매출 트렌드를 분석해봄으로써 향후 마케팅 전략 수랍 도움을 주고자 함\\\n",
    "**2021-01부터 2021-06의 6개월의 데이터가 일별로 존재하므로, 15일을 기준으로 전반기 후반기로 나누도록 하며, 이동합계 계산을 위해 2021년 3월 이후의 2분기 데이터를 활용하기로 함**\n"
   ]
  },
  {
   "cell_type": "code",
   "execution_count": 27,
   "metadata": {},
   "outputs": [
    {
     "data": {
      "text/html": [
       "<div>\n",
       "<style scoped>\n",
       "    .dataframe tbody tr th:only-of-type {\n",
       "        vertical-align: middle;\n",
       "    }\n",
       "\n",
       "    .dataframe tbody tr th {\n",
       "        vertical-align: top;\n",
       "    }\n",
       "\n",
       "    .dataframe thead th {\n",
       "        text-align: right;\n",
       "    }\n",
       "</style>\n",
       "<table border=\"1\" class=\"dataframe\">\n",
       "  <thead>\n",
       "    <tr style=\"text-align: right;\">\n",
       "      <th></th>\n",
       "      <th>item_category</th>\n",
       "      <th>order_date</th>\n",
       "      <th>paid_amount</th>\n",
       "    </tr>\n",
       "  </thead>\n",
       "  <tbody>\n",
       "    <tr>\n",
       "      <th>0</th>\n",
       "      <td>가구/인테리어</td>\n",
       "      <td>2021-01-01</td>\n",
       "      <td>537200</td>\n",
       "    </tr>\n",
       "    <tr>\n",
       "      <th>1</th>\n",
       "      <td>가구/인테리어</td>\n",
       "      <td>2021-01-02</td>\n",
       "      <td>1674000</td>\n",
       "    </tr>\n",
       "    <tr>\n",
       "      <th>2</th>\n",
       "      <td>가구/인테리어</td>\n",
       "      <td>2021-01-03</td>\n",
       "      <td>698000</td>\n",
       "    </tr>\n",
       "    <tr>\n",
       "      <th>3</th>\n",
       "      <td>가구/인테리어</td>\n",
       "      <td>2021-01-04</td>\n",
       "      <td>60620</td>\n",
       "    </tr>\n",
       "    <tr>\n",
       "      <th>4</th>\n",
       "      <td>가구/인테리어</td>\n",
       "      <td>2021-01-06</td>\n",
       "      <td>79900</td>\n",
       "    </tr>\n",
       "    <tr>\n",
       "      <th>...</th>\n",
       "      <td>...</td>\n",
       "      <td>...</td>\n",
       "      <td>...</td>\n",
       "    </tr>\n",
       "    <tr>\n",
       "      <th>3077</th>\n",
       "      <td>패션잡화</td>\n",
       "      <td>2021-06-20</td>\n",
       "      <td>5325270</td>\n",
       "    </tr>\n",
       "    <tr>\n",
       "      <th>3078</th>\n",
       "      <td>패션잡화</td>\n",
       "      <td>2021-06-21</td>\n",
       "      <td>5285800</td>\n",
       "    </tr>\n",
       "    <tr>\n",
       "      <th>3079</th>\n",
       "      <td>패션잡화</td>\n",
       "      <td>2021-06-22</td>\n",
       "      <td>10204200</td>\n",
       "    </tr>\n",
       "    <tr>\n",
       "      <th>3080</th>\n",
       "      <td>패션잡화</td>\n",
       "      <td>2021-06-23</td>\n",
       "      <td>3350460</td>\n",
       "    </tr>\n",
       "    <tr>\n",
       "      <th>3081</th>\n",
       "      <td>패션잡화</td>\n",
       "      <td>2021-06-24</td>\n",
       "      <td>7317520</td>\n",
       "    </tr>\n",
       "  </tbody>\n",
       "</table>\n",
       "<p>3082 rows × 3 columns</p>\n",
       "</div>"
      ],
      "text/plain": [
       "     item_category order_date  paid_amount\n",
       "0          가구/인테리어 2021-01-01       537200\n",
       "1          가구/인테리어 2021-01-02      1674000\n",
       "2          가구/인테리어 2021-01-03       698000\n",
       "3          가구/인테리어 2021-01-04        60620\n",
       "4          가구/인테리어 2021-01-06        79900\n",
       "...            ...        ...          ...\n",
       "3077          패션잡화 2021-06-20      5325270\n",
       "3078          패션잡화 2021-06-21      5285800\n",
       "3079          패션잡화 2021-06-22     10204200\n",
       "3080          패션잡화 2021-06-23      3350460\n",
       "3081          패션잡화 2021-06-24      7317520\n",
       "\n",
       "[3082 rows x 3 columns]"
      ]
     },
     "execution_count": 27,
     "metadata": {},
     "output_type": "execute_result"
    }
   ],
   "source": [
    "z_chart_df = customer.groupby(['item_category','order_date'])['paid_amount'].sum().reset_index()\n",
    "z_chart_df"
   ]
  },
  {
   "cell_type": "code",
   "execution_count": 28,
   "metadata": {},
   "outputs": [
    {
     "data": {
      "text/html": [
       "<div>\n",
       "<style scoped>\n",
       "    .dataframe tbody tr th:only-of-type {\n",
       "        vertical-align: middle;\n",
       "    }\n",
       "\n",
       "    .dataframe tbody tr th {\n",
       "        vertical-align: top;\n",
       "    }\n",
       "\n",
       "    .dataframe thead th {\n",
       "        text-align: right;\n",
       "    }\n",
       "</style>\n",
       "<table border=\"1\" class=\"dataframe\">\n",
       "  <thead>\n",
       "    <tr style=\"text-align: right;\">\n",
       "      <th></th>\n",
       "      <th>item_category</th>\n",
       "      <th>year_month</th>\n",
       "      <th>period</th>\n",
       "      <th>paid_amount</th>\n",
       "      <th>order_date</th>\n",
       "    </tr>\n",
       "  </thead>\n",
       "  <tbody>\n",
       "    <tr>\n",
       "      <th>0</th>\n",
       "      <td>가구/인테리어</td>\n",
       "      <td>2021-01</td>\n",
       "      <td>전반기</td>\n",
       "      <td>11055790</td>\n",
       "      <td>2021-01-15</td>\n",
       "    </tr>\n",
       "    <tr>\n",
       "      <th>1</th>\n",
       "      <td>가구/인테리어</td>\n",
       "      <td>2021-01</td>\n",
       "      <td>후반기</td>\n",
       "      <td>15001950</td>\n",
       "      <td>2021-01-31</td>\n",
       "    </tr>\n",
       "    <tr>\n",
       "      <th>2</th>\n",
       "      <td>가구/인테리어</td>\n",
       "      <td>2021-02</td>\n",
       "      <td>전반기</td>\n",
       "      <td>9995610</td>\n",
       "      <td>2021-02-15</td>\n",
       "    </tr>\n",
       "    <tr>\n",
       "      <th>3</th>\n",
       "      <td>가구/인테리어</td>\n",
       "      <td>2021-02</td>\n",
       "      <td>후반기</td>\n",
       "      <td>20538400</td>\n",
       "      <td>2021-02-28</td>\n",
       "    </tr>\n",
       "    <tr>\n",
       "      <th>4</th>\n",
       "      <td>가구/인테리어</td>\n",
       "      <td>2021-03</td>\n",
       "      <td>전반기</td>\n",
       "      <td>13685180</td>\n",
       "      <td>2021-03-15</td>\n",
       "    </tr>\n",
       "    <tr>\n",
       "      <th>...</th>\n",
       "      <td>...</td>\n",
       "      <td>...</td>\n",
       "      <td>...</td>\n",
       "      <td>...</td>\n",
       "      <td>...</td>\n",
       "    </tr>\n",
       "    <tr>\n",
       "      <th>236</th>\n",
       "      <td>패션잡화</td>\n",
       "      <td>2021-04</td>\n",
       "      <td>후반기</td>\n",
       "      <td>122165550</td>\n",
       "      <td>2021-04-30</td>\n",
       "    </tr>\n",
       "    <tr>\n",
       "      <th>237</th>\n",
       "      <td>패션잡화</td>\n",
       "      <td>2021-05</td>\n",
       "      <td>전반기</td>\n",
       "      <td>117099890</td>\n",
       "      <td>2021-05-15</td>\n",
       "    </tr>\n",
       "    <tr>\n",
       "      <th>238</th>\n",
       "      <td>패션잡화</td>\n",
       "      <td>2021-05</td>\n",
       "      <td>후반기</td>\n",
       "      <td>144382000</td>\n",
       "      <td>2021-05-31</td>\n",
       "    </tr>\n",
       "    <tr>\n",
       "      <th>239</th>\n",
       "      <td>패션잡화</td>\n",
       "      <td>2021-06</td>\n",
       "      <td>전반기</td>\n",
       "      <td>128778820</td>\n",
       "      <td>2021-06-15</td>\n",
       "    </tr>\n",
       "    <tr>\n",
       "      <th>240</th>\n",
       "      <td>패션잡화</td>\n",
       "      <td>2021-06</td>\n",
       "      <td>후반기</td>\n",
       "      <td>67208080</td>\n",
       "      <td>2021-06-24</td>\n",
       "    </tr>\n",
       "  </tbody>\n",
       "</table>\n",
       "<p>241 rows × 5 columns</p>\n",
       "</div>"
      ],
      "text/plain": [
       "    item_category year_month period  paid_amount order_date\n",
       "0         가구/인테리어    2021-01    전반기     11055790 2021-01-15\n",
       "1         가구/인테리어    2021-01    후반기     15001950 2021-01-31\n",
       "2         가구/인테리어    2021-02    전반기      9995610 2021-02-15\n",
       "3         가구/인테리어    2021-02    후반기     20538400 2021-02-28\n",
       "4         가구/인테리어    2021-03    전반기     13685180 2021-03-15\n",
       "..            ...        ...    ...          ...        ...\n",
       "236          패션잡화    2021-04    후반기    122165550 2021-04-30\n",
       "237          패션잡화    2021-05    전반기    117099890 2021-05-15\n",
       "238          패션잡화    2021-05    후반기    144382000 2021-05-31\n",
       "239          패션잡화    2021-06    전반기    128778820 2021-06-15\n",
       "240          패션잡화    2021-06    후반기     67208080 2021-06-24\n",
       "\n",
       "[241 rows x 5 columns]"
      ]
     },
     "execution_count": 28,
     "metadata": {},
     "output_type": "execute_result"
    }
   ],
   "source": [
    "def classify_date(date):\n",
    "    if date.day <= 15:\n",
    "        return '전반기'\n",
    "    else:\n",
    "        return '후반기'\n",
    "\n",
    "# 새 열 'period'에 조건에 따른 값을 할당\n",
    "z_chart_df['period'] = z_chart_df['order_date'].apply(classify_date)\n",
    "\n",
    "# '년-월' 열 생성\n",
    "z_chart_df['year_month'] = z_chart_df['order_date'].dt.to_period('M')\n",
    "\n",
    "# 각 '년-월', '전반기/후반기' 기준으로 그룹화하여 집계\n",
    "# 여기서는 'amount'의 합계와 각 그룹의 최댓값 'order_date'를 계산\n",
    "aggregated_data = z_chart_df.groupby(['item_category','year_month', 'period']).agg({\n",
    "    'paid_amount': 'sum',\n",
    "    'order_date': 'max'\n",
    "}).reset_index()\n",
    "\n",
    "# 결과 확인\n",
    "aggregated_data"
   ]
  },
  {
   "cell_type": "markdown",
   "metadata": {},
   "source": [
    ">EDA 결과"
   ]
  },
  {
   "cell_type": "markdown",
   "metadata": {},
   "source": [
    "#### 다잇다 플랫폼의 매출액은 2021년 1월부터 7월까지 소폭으로 꾸준히 성장해왔음.\n",
    "\n",
    "요일별 매출량은\\\n",
    "주말에 비해 평일 매출량이 **1.4**배에서 **2배**가량으로 높은것으로 나타남.\n",
    "\n",
    "\n",
    "   고객의 평균 연령대는 **40,50대**이며 **특히 35세이상의 여성회원이 주로 사용하는것으로 나타남.**\n",
    "\n",
    "\n",
    "   약 20개의 아이템 카테고리, 1000여개의 판매 상품이 존재하지만\n",
    "주력 상품은 **대형가전, 생활가전, 건강식품, 뷰티, 일반식품**이며,\\\n",
    "채널 별 주력 상품의 차이가 존재함.\n",
    "- TV 채널 : 대형가전, 생활가전\n",
    "- Mobile 채널 : 건강식품, 뷰티\n",
    "\n",
    "\n",
    "또한, **TV채널**의 경우 판매량은 많지만, **일회성 구매 고객 수가 약 85%로 매우 높았으며**,\\\n",
    "**Mobile채널**의 경우 판매량은 **TV채널**보다 작지만, **재구매율이 약 57%로 높은 고정 회원을 가지고있음을 알수있음** \n"
   ]
  },
  {
   "cell_type": "markdown",
   "metadata": {},
   "source": [
    "## **다잇다 플랫폼의 추가 구매 유도를 위한 분석방법론**\n",
    "---\n",
    "**RFM 분석을 통한 유저 구매 활동성 분석**"
   ]
  },
  {
   "cell_type": "markdown",
   "metadata": {},
   "source": [
    "**RFM 세 가지 구성요소**<br>\n",
    "<br>\n",
    "- 구매 최근성(Recency) : 마지막 구매 시점이 언제인지를 나타내는 변수로써 산업에 따라 다소 차이가 있지만 일반적으로 최근에 구매한 고객일수록 현재의 관계가 유의 하다고 판단할 수 있음.\n",
    "- 구매 빈도(Frequency) : 정해진 기간 동안 얼마나 자주 구매했는지를 나타내는 변수로써 동일한 기간 동안 구매횟수가 많을수록 높은 점수를 부과하며, 고객의 구매/이용활동성 판단이 가능\n",
    "- 구매 금액(Monetary) : 일정 기간 동안에 고객의 총 구매 금액을 나타내는 변수로써, 구매액이 높을 수록 높은 점수를 획득을 할 수 있으나, 지나치게 높은 구매액이 존재할 경우 상한선을 두는 것이 RFM 지수 왜곡을 방지할 수 있음."
   ]
  },
  {
   "cell_type": "markdown",
   "metadata": {},
   "source": [
    "분기별로 구매고객을 나누어 2021년 1분기에 비해 2021년 2분기의 고객 RFM 지수의 변화 분석\n",
    "\n",
    "- 2021년 6월 기준으로 지난 3개월간 RFM 지수를 측정\n",
    "- 2021년 3월 기준으로 지난 3개월간 RFM 지수를 측정"
   ]
  },
  {
   "cell_type": "markdown",
   "metadata": {},
   "source": [
    "> 분석용 dataset 생성"
   ]
  },
  {
   "cell_type": "code",
   "execution_count": 29,
   "metadata": {},
   "outputs": [
    {
     "data": {
      "text/html": [
       "<div>\n",
       "<style scoped>\n",
       "    .dataframe tbody tr th:only-of-type {\n",
       "        vertical-align: middle;\n",
       "    }\n",
       "\n",
       "    .dataframe tbody tr th {\n",
       "        vertical-align: top;\n",
       "    }\n",
       "\n",
       "    .dataframe thead th {\n",
       "        text-align: right;\n",
       "    }\n",
       "</style>\n",
       "<table border=\"1\" class=\"dataframe\">\n",
       "  <thead>\n",
       "    <tr style=\"text-align: right;\">\n",
       "      <th></th>\n",
       "      <th>customer_no</th>\n",
       "      <th>age</th>\n",
       "      <th>gender</th>\n",
       "      <th>order_no</th>\n",
       "      <th>order_date</th>\n",
       "      <th>channel</th>\n",
       "      <th>item_category</th>\n",
       "      <th>item_code</th>\n",
       "      <th>item_name</th>\n",
       "      <th>price</th>\n",
       "      <th>qty</th>\n",
       "      <th>order_amount</th>\n",
       "      <th>discount_amount</th>\n",
       "      <th>paid_amount</th>\n",
       "      <th>day_of_week</th>\n",
       "      <th>age_grp</th>\n",
       "    </tr>\n",
       "  </thead>\n",
       "  <tbody>\n",
       "    <tr>\n",
       "      <th>0</th>\n",
       "      <td>2021059651101</td>\n",
       "      <td>68.0</td>\n",
       "      <td>9</td>\n",
       "      <td>202106072433746</td>\n",
       "      <td>2021-06-07</td>\n",
       "      <td>TV</td>\n",
       "      <td>캐쥬얼</td>\n",
       "      <td>323421750</td>\n",
       "      <td>밴딩팬츠</td>\n",
       "      <td>49900</td>\n",
       "      <td>1</td>\n",
       "      <td>49900</td>\n",
       "      <td>4990</td>\n",
       "      <td>44910</td>\n",
       "      <td>Monday</td>\n",
       "      <td>65over</td>\n",
       "    </tr>\n",
       "    <tr>\n",
       "      <th>1</th>\n",
       "      <td>2018069800502</td>\n",
       "      <td>49.0</td>\n",
       "      <td>2</td>\n",
       "      <td>202105311957155</td>\n",
       "      <td>2021-05-31</td>\n",
       "      <td>TV</td>\n",
       "      <td>레포츠패션</td>\n",
       "      <td>323516657</td>\n",
       "      <td>트랙수트</td>\n",
       "      <td>39000</td>\n",
       "      <td>1</td>\n",
       "      <td>39000</td>\n",
       "      <td>1000</td>\n",
       "      <td>38000</td>\n",
       "      <td>Monday</td>\n",
       "      <td>45-50</td>\n",
       "    </tr>\n",
       "    <tr>\n",
       "      <th>2</th>\n",
       "      <td>2019073300103</td>\n",
       "      <td>35.0</td>\n",
       "      <td>1</td>\n",
       "      <td>202105138020462</td>\n",
       "      <td>2021-05-13</td>\n",
       "      <td>TV</td>\n",
       "      <td>뷰티</td>\n",
       "      <td>323393459</td>\n",
       "      <td>기초세트</td>\n",
       "      <td>72000</td>\n",
       "      <td>2</td>\n",
       "      <td>144000</td>\n",
       "      <td>27600</td>\n",
       "      <td>116400</td>\n",
       "      <td>Thursday</td>\n",
       "      <td>35-40</td>\n",
       "    </tr>\n",
       "    <tr>\n",
       "      <th>3</th>\n",
       "      <td>2020075283364</td>\n",
       "      <td>41.0</td>\n",
       "      <td>9</td>\n",
       "      <td>202106171444319</td>\n",
       "      <td>2021-06-17</td>\n",
       "      <td>TV</td>\n",
       "      <td>건강식품</td>\n",
       "      <td>323420069</td>\n",
       "      <td>유산균</td>\n",
       "      <td>119000</td>\n",
       "      <td>2</td>\n",
       "      <td>238000</td>\n",
       "      <td>72920</td>\n",
       "      <td>165080</td>\n",
       "      <td>Thursday</td>\n",
       "      <td>41-45</td>\n",
       "    </tr>\n",
       "    <tr>\n",
       "      <th>4</th>\n",
       "      <td>2020104780765</td>\n",
       "      <td>46.0</td>\n",
       "      <td>1</td>\n",
       "      <td>202106024431989</td>\n",
       "      <td>2021-06-02</td>\n",
       "      <td>TV</td>\n",
       "      <td>일반식품</td>\n",
       "      <td>321820178</td>\n",
       "      <td>건강주스</td>\n",
       "      <td>45900</td>\n",
       "      <td>1</td>\n",
       "      <td>45900</td>\n",
       "      <td>2290</td>\n",
       "      <td>43610</td>\n",
       "      <td>Wednesday</td>\n",
       "      <td>45-50</td>\n",
       "    </tr>\n",
       "    <tr>\n",
       "      <th>...</th>\n",
       "      <td>...</td>\n",
       "      <td>...</td>\n",
       "      <td>...</td>\n",
       "      <td>...</td>\n",
       "      <td>...</td>\n",
       "      <td>...</td>\n",
       "      <td>...</td>\n",
       "      <td>...</td>\n",
       "      <td>...</td>\n",
       "      <td>...</td>\n",
       "      <td>...</td>\n",
       "      <td>...</td>\n",
       "      <td>...</td>\n",
       "      <td>...</td>\n",
       "      <td>...</td>\n",
       "      <td>...</td>\n",
       "    </tr>\n",
       "    <tr>\n",
       "      <th>147306</th>\n",
       "      <td>2021010562805</td>\n",
       "      <td>45.0</td>\n",
       "      <td>9</td>\n",
       "      <td>202106018639694</td>\n",
       "      <td>2021-06-01</td>\n",
       "      <td>TV</td>\n",
       "      <td>건강식품</td>\n",
       "      <td>323492393</td>\n",
       "      <td>유산균</td>\n",
       "      <td>99000</td>\n",
       "      <td>3</td>\n",
       "      <td>297000</td>\n",
       "      <td>17700</td>\n",
       "      <td>279300</td>\n",
       "      <td>Tuesday</td>\n",
       "      <td>45-50</td>\n",
       "    </tr>\n",
       "    <tr>\n",
       "      <th>147307</th>\n",
       "      <td>2019124982759</td>\n",
       "      <td>40.0</td>\n",
       "      <td>2</td>\n",
       "      <td>202104155934763</td>\n",
       "      <td>2021-04-15</td>\n",
       "      <td>TV</td>\n",
       "      <td>뷰티</td>\n",
       "      <td>321803513</td>\n",
       "      <td>파운데이션</td>\n",
       "      <td>69900</td>\n",
       "      <td>20</td>\n",
       "      <td>1398000</td>\n",
       "      <td>346400</td>\n",
       "      <td>1051600</td>\n",
       "      <td>Thursday</td>\n",
       "      <td>41-45</td>\n",
       "    </tr>\n",
       "    <tr>\n",
       "      <th>147308</th>\n",
       "      <td>2019083044089</td>\n",
       "      <td>38.0</td>\n",
       "      <td>2</td>\n",
       "      <td>202104026508012</td>\n",
       "      <td>2021-04-02</td>\n",
       "      <td>Mobile</td>\n",
       "      <td>일반식품</td>\n",
       "      <td>320105539</td>\n",
       "      <td>생수</td>\n",
       "      <td>3360</td>\n",
       "      <td>1</td>\n",
       "      <td>3360</td>\n",
       "      <td>0</td>\n",
       "      <td>3360</td>\n",
       "      <td>Friday</td>\n",
       "      <td>35-40</td>\n",
       "    </tr>\n",
       "    <tr>\n",
       "      <th>147309</th>\n",
       "      <td>2019010788799</td>\n",
       "      <td>67.0</td>\n",
       "      <td>1</td>\n",
       "      <td>202103247950735</td>\n",
       "      <td>2021-03-24</td>\n",
       "      <td>Mobile</td>\n",
       "      <td>일반식품</td>\n",
       "      <td>321742510</td>\n",
       "      <td>커피믹스</td>\n",
       "      <td>23500</td>\n",
       "      <td>1</td>\n",
       "      <td>23500</td>\n",
       "      <td>0</td>\n",
       "      <td>23500</td>\n",
       "      <td>Wednesday</td>\n",
       "      <td>65over</td>\n",
       "    </tr>\n",
       "    <tr>\n",
       "      <th>147310</th>\n",
       "      <td>2016105844716</td>\n",
       "      <td>57.0</td>\n",
       "      <td>2</td>\n",
       "      <td>202105140486768</td>\n",
       "      <td>2021-05-14</td>\n",
       "      <td>Mobile</td>\n",
       "      <td>뷰티</td>\n",
       "      <td>323477903</td>\n",
       "      <td>구강/위생용품</td>\n",
       "      <td>9900</td>\n",
       "      <td>1</td>\n",
       "      <td>9900</td>\n",
       "      <td>1980</td>\n",
       "      <td>7920</td>\n",
       "      <td>Friday</td>\n",
       "      <td>56-60</td>\n",
       "    </tr>\n",
       "  </tbody>\n",
       "</table>\n",
       "<p>147247 rows × 16 columns</p>\n",
       "</div>"
      ],
      "text/plain": [
       "          customer_no   age  gender         order_no order_date channel  \\\n",
       "0       2021059651101  68.0       9  202106072433746 2021-06-07      TV   \n",
       "1       2018069800502  49.0       2  202105311957155 2021-05-31      TV   \n",
       "2       2019073300103  35.0       1  202105138020462 2021-05-13      TV   \n",
       "3       2020075283364  41.0       9  202106171444319 2021-06-17      TV   \n",
       "4       2020104780765  46.0       1  202106024431989 2021-06-02      TV   \n",
       "...               ...   ...     ...              ...        ...     ...   \n",
       "147306  2021010562805  45.0       9  202106018639694 2021-06-01      TV   \n",
       "147307  2019124982759  40.0       2  202104155934763 2021-04-15      TV   \n",
       "147308  2019083044089  38.0       2  202104026508012 2021-04-02  Mobile   \n",
       "147309  2019010788799  67.0       1  202103247950735 2021-03-24  Mobile   \n",
       "147310  2016105844716  57.0       2  202105140486768 2021-05-14  Mobile   \n",
       "\n",
       "       item_category  item_code item_name   price  qty  order_amount  \\\n",
       "0                캐쥬얼  323421750      밴딩팬츠   49900    1         49900   \n",
       "1              레포츠패션  323516657      트랙수트   39000    1         39000   \n",
       "2                 뷰티  323393459      기초세트   72000    2        144000   \n",
       "3               건강식품  323420069       유산균  119000    2        238000   \n",
       "4               일반식품  321820178      건강주스   45900    1         45900   \n",
       "...              ...        ...       ...     ...  ...           ...   \n",
       "147306          건강식품  323492393       유산균   99000    3        297000   \n",
       "147307            뷰티  321803513     파운데이션   69900   20       1398000   \n",
       "147308          일반식품  320105539        생수    3360    1          3360   \n",
       "147309          일반식품  321742510      커피믹스   23500    1         23500   \n",
       "147310            뷰티  323477903   구강/위생용품    9900    1          9900   \n",
       "\n",
       "        discount_amount  paid_amount day_of_week age_grp  \n",
       "0                  4990        44910      Monday  65over  \n",
       "1                  1000        38000      Monday   45-50  \n",
       "2                 27600       116400    Thursday   35-40  \n",
       "3                 72920       165080    Thursday   41-45  \n",
       "4                  2290        43610   Wednesday   45-50  \n",
       "...                 ...          ...         ...     ...  \n",
       "147306            17700       279300     Tuesday   45-50  \n",
       "147307           346400      1051600    Thursday   41-45  \n",
       "147308                0         3360      Friday   35-40  \n",
       "147309                0        23500   Wednesday  65over  \n",
       "147310             1980         7920      Friday   56-60  \n",
       "\n",
       "[147247 rows x 16 columns]"
      ]
     },
     "execution_count": 29,
     "metadata": {},
     "output_type": "execute_result"
    }
   ],
   "source": [
    "customer_model = customer\n",
    "customer_model"
   ]
  },
  {
   "cell_type": "code",
   "execution_count": 30,
   "metadata": {},
   "outputs": [
    {
     "name": "stdout",
     "output_type": "stream",
     "text": [
      "2021-01-01T00:00:00.000000000\n",
      "2021-03-31T00:00:00.000000000\n",
      "2021-04-01T00:00:00.000000000\n",
      "2021-06-24T00:00:00.000000000\n"
     ]
    }
   ],
   "source": [
    "# RFM 분석 데이터프레임 생성\n",
    "rfm_now = customer_model.query(\"'2021-01-01' <= order_date < '2021-04-01'\")\n",
    "rfm_before = customer_model.query(\"'2021-04-01' <= order_date <= '2021-06-24'\")\n",
    "\n",
    "# 2013년 12월 기준 RFM 데이터의 시작일자와 종료일자 확인\n",
    "print(min(rfm_now['order_date'].unique()))\n",
    "print(max(rfm_now['order_date'].unique()))\n",
    "\n",
    "# 2013년 06월 기준 RFM 데이터의 시작일자와 종료일자 확인\n",
    "print(min(rfm_before['order_date'].unique()))\n",
    "print(max(rfm_before['order_date'].unique()))"
   ]
  },
  {
   "cell_type": "markdown",
   "metadata": {},
   "source": [
    "구매 날짜가 2021-01-01 부터 2021-03-31의 1분기 고객 데이터와\\\n",
    "구매 날짜가 2021-04-01 부터 2021-06-24의 2분기 고객 데이터를 생성했다.\n"
   ]
  },
  {
   "cell_type": "markdown",
   "metadata": {},
   "source": [
    "> recency(구매 최근성), monetary(구매 금액), frequency(구매 빈도) 파생변수 생성"
   ]
  },
  {
   "cell_type": "code",
   "execution_count": 31,
   "metadata": {},
   "outputs": [
    {
     "name": "stdout",
     "output_type": "stream",
     "text": [
      "2021-03-31 00:00:00\n",
      "2021-06-24 00:00:00\n"
     ]
    }
   ],
   "source": [
    "# 각 기간의 RFM 최근성 기준 측정 기준일\n",
    "now_std_date = max(rfm_now['order_date'])\n",
    "before_std_date = max(rfm_before['order_date'])\n",
    "\n",
    "print(now_std_date)\n",
    "print(before_std_date)"
   ]
  },
  {
   "cell_type": "code",
   "execution_count": 32,
   "metadata": {},
   "outputs": [
    {
     "data": {
      "text/html": [
       "<div>\n",
       "<style scoped>\n",
       "    .dataframe tbody tr th:only-of-type {\n",
       "        vertical-align: middle;\n",
       "    }\n",
       "\n",
       "    .dataframe tbody tr th {\n",
       "        vertical-align: top;\n",
       "    }\n",
       "\n",
       "    .dataframe thead th {\n",
       "        text-align: right;\n",
       "    }\n",
       "</style>\n",
       "<table border=\"1\" class=\"dataframe\">\n",
       "  <thead>\n",
       "    <tr style=\"text-align: right;\">\n",
       "      <th></th>\n",
       "      <th>recency</th>\n",
       "      <th>monetary</th>\n",
       "      <th>frequency</th>\n",
       "    </tr>\n",
       "    <tr>\n",
       "      <th>customer_no</th>\n",
       "      <th></th>\n",
       "      <th></th>\n",
       "      <th></th>\n",
       "    </tr>\n",
       "  </thead>\n",
       "  <tbody>\n",
       "    <tr>\n",
       "      <th>2015010000596</th>\n",
       "      <td>75</td>\n",
       "      <td>46130</td>\n",
       "      <td>1</td>\n",
       "    </tr>\n",
       "    <tr>\n",
       "      <th>2015010000652</th>\n",
       "      <td>25</td>\n",
       "      <td>10930</td>\n",
       "      <td>1</td>\n",
       "    </tr>\n",
       "    <tr>\n",
       "      <th>2015010001152</th>\n",
       "      <td>8</td>\n",
       "      <td>178070</td>\n",
       "      <td>4</td>\n",
       "    </tr>\n",
       "    <tr>\n",
       "      <th>2015010001213</th>\n",
       "      <td>34</td>\n",
       "      <td>59020</td>\n",
       "      <td>1</td>\n",
       "    </tr>\n",
       "    <tr>\n",
       "      <th>2015010001954</th>\n",
       "      <td>28</td>\n",
       "      <td>38900</td>\n",
       "      <td>1</td>\n",
       "    </tr>\n",
       "    <tr>\n",
       "      <th>...</th>\n",
       "      <td>...</td>\n",
       "      <td>...</td>\n",
       "      <td>...</td>\n",
       "    </tr>\n",
       "    <tr>\n",
       "      <th>2021037763588</th>\n",
       "      <td>0</td>\n",
       "      <td>118000</td>\n",
       "      <td>1</td>\n",
       "    </tr>\n",
       "    <tr>\n",
       "      <th>2021037779592</th>\n",
       "      <td>0</td>\n",
       "      <td>69000</td>\n",
       "      <td>1</td>\n",
       "    </tr>\n",
       "    <tr>\n",
       "      <th>2021037788733</th>\n",
       "      <td>0</td>\n",
       "      <td>69000</td>\n",
       "      <td>1</td>\n",
       "    </tr>\n",
       "    <tr>\n",
       "      <th>2021037798087</th>\n",
       "      <td>0</td>\n",
       "      <td>69900</td>\n",
       "      <td>1</td>\n",
       "    </tr>\n",
       "    <tr>\n",
       "      <th>2021037798607</th>\n",
       "      <td>0</td>\n",
       "      <td>68900</td>\n",
       "      <td>1</td>\n",
       "    </tr>\n",
       "  </tbody>\n",
       "</table>\n",
       "<p>37838 rows × 3 columns</p>\n",
       "</div>"
      ],
      "text/plain": [
       "               recency  monetary  frequency\n",
       "customer_no                                \n",
       "2015010000596       75     46130          1\n",
       "2015010000652       25     10930          1\n",
       "2015010001152        8    178070          4\n",
       "2015010001213       34     59020          1\n",
       "2015010001954       28     38900          1\n",
       "...                ...       ...        ...\n",
       "2021037763588        0    118000          1\n",
       "2021037779592        0     69000          1\n",
       "2021037788733        0     69000          1\n",
       "2021037798087        0     69900          1\n",
       "2021037798607        0     68900          1\n",
       "\n",
       "[37838 rows x 3 columns]"
      ]
     },
     "execution_count": 32,
     "metadata": {},
     "output_type": "execute_result"
    }
   ],
   "source": [
    "# now 기준\n",
    "rfm_user_now = rfm_now.groupby('customer_no').agg({\n",
    "    'order_date': lambda x: (now_std_date - x.max()).days,\n",
    "    'paid_amount': lambda x: x.sum(),\n",
    "    'order_no': lambda x: x.nunique()\n",
    "})\n",
    "\n",
    "# 컬럼 이름 변경\n",
    "rfm_user_now.columns = ['recency', 'monetary', 'frequency']\n",
    "\n",
    "# 결과 출력\n",
    "rfm_user_now"
   ]
  },
  {
   "cell_type": "code",
   "execution_count": 33,
   "metadata": {},
   "outputs": [
    {
     "data": {
      "text/html": [
       "<div>\n",
       "<style scoped>\n",
       "    .dataframe tbody tr th:only-of-type {\n",
       "        vertical-align: middle;\n",
       "    }\n",
       "\n",
       "    .dataframe tbody tr th {\n",
       "        vertical-align: top;\n",
       "    }\n",
       "\n",
       "    .dataframe thead th {\n",
       "        text-align: right;\n",
       "    }\n",
       "</style>\n",
       "<table border=\"1\" class=\"dataframe\">\n",
       "  <thead>\n",
       "    <tr style=\"text-align: right;\">\n",
       "      <th></th>\n",
       "      <th>recency</th>\n",
       "      <th>monetary</th>\n",
       "      <th>frequency</th>\n",
       "    </tr>\n",
       "    <tr>\n",
       "      <th>customer_no</th>\n",
       "      <th></th>\n",
       "      <th></th>\n",
       "      <th></th>\n",
       "    </tr>\n",
       "  </thead>\n",
       "  <tbody>\n",
       "    <tr>\n",
       "      <th>2015010000596</th>\n",
       "      <td>21</td>\n",
       "      <td>28410</td>\n",
       "      <td>1</td>\n",
       "    </tr>\n",
       "    <tr>\n",
       "      <th>2015010001152</th>\n",
       "      <td>30</td>\n",
       "      <td>143820</td>\n",
       "      <td>2</td>\n",
       "    </tr>\n",
       "    <tr>\n",
       "      <th>2015010004299</th>\n",
       "      <td>71</td>\n",
       "      <td>560150</td>\n",
       "      <td>1</td>\n",
       "    </tr>\n",
       "    <tr>\n",
       "      <th>2015010004451</th>\n",
       "      <td>17</td>\n",
       "      <td>48900</td>\n",
       "      <td>1</td>\n",
       "    </tr>\n",
       "    <tr>\n",
       "      <th>2015010005813</th>\n",
       "      <td>35</td>\n",
       "      <td>14900</td>\n",
       "      <td>1</td>\n",
       "    </tr>\n",
       "    <tr>\n",
       "      <th>...</th>\n",
       "      <td>...</td>\n",
       "      <td>...</td>\n",
       "      <td>...</td>\n",
       "    </tr>\n",
       "    <tr>\n",
       "      <th>2021069984125</th>\n",
       "      <td>20</td>\n",
       "      <td>38000</td>\n",
       "      <td>1</td>\n",
       "    </tr>\n",
       "    <tr>\n",
       "      <th>2021069986151</th>\n",
       "      <td>20</td>\n",
       "      <td>38000</td>\n",
       "      <td>1</td>\n",
       "    </tr>\n",
       "    <tr>\n",
       "      <th>2021069994005</th>\n",
       "      <td>16</td>\n",
       "      <td>32300</td>\n",
       "      <td>1</td>\n",
       "    </tr>\n",
       "    <tr>\n",
       "      <th>2021069994853</th>\n",
       "      <td>20</td>\n",
       "      <td>34100</td>\n",
       "      <td>1</td>\n",
       "    </tr>\n",
       "    <tr>\n",
       "      <th>2021069995629</th>\n",
       "      <td>15</td>\n",
       "      <td>38000</td>\n",
       "      <td>1</td>\n",
       "    </tr>\n",
       "  </tbody>\n",
       "</table>\n",
       "<p>46216 rows × 3 columns</p>\n",
       "</div>"
      ],
      "text/plain": [
       "               recency  monetary  frequency\n",
       "customer_no                                \n",
       "2015010000596       21     28410          1\n",
       "2015010001152       30    143820          2\n",
       "2015010004299       71    560150          1\n",
       "2015010004451       17     48900          1\n",
       "2015010005813       35     14900          1\n",
       "...                ...       ...        ...\n",
       "2021069984125       20     38000          1\n",
       "2021069986151       20     38000          1\n",
       "2021069994005       16     32300          1\n",
       "2021069994853       20     34100          1\n",
       "2021069995629       15     38000          1\n",
       "\n",
       "[46216 rows x 3 columns]"
      ]
     },
     "execution_count": 33,
     "metadata": {},
     "output_type": "execute_result"
    }
   ],
   "source": [
    "# before 기준\n",
    "rfm_user_before = rfm_before.groupby('customer_no').agg({\n",
    "    'order_date': lambda x: (before_std_date - x.max()).days,\n",
    "    'paid_amount': lambda x: x.sum(),\n",
    "    'order_no': lambda x: x.nunique()\n",
    "})\n",
    "\n",
    "# 컬럼 이름 변경\n",
    "rfm_user_before.columns = ['recency', 'monetary', 'frequency']\n",
    "\n",
    "# 결과 출력\n",
    "rfm_user_before"
   ]
  },
  {
   "cell_type": "markdown",
   "metadata": {},
   "source": [
    "**RFM 지수** 측정을 위해 각 요소별 레벨을 부여합니다."
   ]
  },
  {
   "cell_type": "code",
   "execution_count": 34,
   "metadata": {},
   "outputs": [
    {
     "data": {
      "text/html": [
       "<div>\n",
       "<style scoped>\n",
       "    .dataframe tbody tr th:only-of-type {\n",
       "        vertical-align: middle;\n",
       "    }\n",
       "\n",
       "    .dataframe tbody tr th {\n",
       "        vertical-align: top;\n",
       "    }\n",
       "\n",
       "    .dataframe thead th {\n",
       "        text-align: right;\n",
       "    }\n",
       "</style>\n",
       "<table border=\"1\" class=\"dataframe\">\n",
       "  <thead>\n",
       "    <tr style=\"text-align: right;\">\n",
       "      <th></th>\n",
       "      <th>customer_no</th>\n",
       "      <th>recency</th>\n",
       "      <th>monetary</th>\n",
       "      <th>frequency</th>\n",
       "      <th>recency_score</th>\n",
       "      <th>monetary_score</th>\n",
       "      <th>frequency_score</th>\n",
       "      <th>rm_index</th>\n",
       "    </tr>\n",
       "  </thead>\n",
       "  <tbody>\n",
       "    <tr>\n",
       "      <th>0</th>\n",
       "      <td>2015010000596</td>\n",
       "      <td>75</td>\n",
       "      <td>46130</td>\n",
       "      <td>1</td>\n",
       "      <td>1</td>\n",
       "      <td>2</td>\n",
       "      <td>1</td>\n",
       "      <td>12</td>\n",
       "    </tr>\n",
       "    <tr>\n",
       "      <th>1</th>\n",
       "      <td>2015010000652</td>\n",
       "      <td>25</td>\n",
       "      <td>10930</td>\n",
       "      <td>1</td>\n",
       "      <td>2</td>\n",
       "      <td>1</td>\n",
       "      <td>1</td>\n",
       "      <td>21</td>\n",
       "    </tr>\n",
       "    <tr>\n",
       "      <th>2</th>\n",
       "      <td>2015010001152</td>\n",
       "      <td>8</td>\n",
       "      <td>178070</td>\n",
       "      <td>4</td>\n",
       "      <td>3</td>\n",
       "      <td>3</td>\n",
       "      <td>3</td>\n",
       "      <td>33</td>\n",
       "    </tr>\n",
       "    <tr>\n",
       "      <th>3</th>\n",
       "      <td>2015010001213</td>\n",
       "      <td>34</td>\n",
       "      <td>59020</td>\n",
       "      <td>1</td>\n",
       "      <td>2</td>\n",
       "      <td>3</td>\n",
       "      <td>1</td>\n",
       "      <td>23</td>\n",
       "    </tr>\n",
       "    <tr>\n",
       "      <th>4</th>\n",
       "      <td>2015010001954</td>\n",
       "      <td>28</td>\n",
       "      <td>38900</td>\n",
       "      <td>1</td>\n",
       "      <td>2</td>\n",
       "      <td>2</td>\n",
       "      <td>1</td>\n",
       "      <td>22</td>\n",
       "    </tr>\n",
       "    <tr>\n",
       "      <th>5</th>\n",
       "      <td>2015010004451</td>\n",
       "      <td>69</td>\n",
       "      <td>68000</td>\n",
       "      <td>1</td>\n",
       "      <td>1</td>\n",
       "      <td>3</td>\n",
       "      <td>1</td>\n",
       "      <td>13</td>\n",
       "    </tr>\n",
       "    <tr>\n",
       "      <th>6</th>\n",
       "      <td>2015010008884</td>\n",
       "      <td>5</td>\n",
       "      <td>105700</td>\n",
       "      <td>3</td>\n",
       "      <td>3</td>\n",
       "      <td>3</td>\n",
       "      <td>3</td>\n",
       "      <td>33</td>\n",
       "    </tr>\n",
       "    <tr>\n",
       "      <th>7</th>\n",
       "      <td>2015010076812</td>\n",
       "      <td>50</td>\n",
       "      <td>48900</td>\n",
       "      <td>1</td>\n",
       "      <td>1</td>\n",
       "      <td>2</td>\n",
       "      <td>1</td>\n",
       "      <td>12</td>\n",
       "    </tr>\n",
       "    <tr>\n",
       "      <th>8</th>\n",
       "      <td>2015020015123</td>\n",
       "      <td>72</td>\n",
       "      <td>127200</td>\n",
       "      <td>1</td>\n",
       "      <td>1</td>\n",
       "      <td>3</td>\n",
       "      <td>1</td>\n",
       "      <td>13</td>\n",
       "    </tr>\n",
       "    <tr>\n",
       "      <th>9</th>\n",
       "      <td>2015020082265</td>\n",
       "      <td>69</td>\n",
       "      <td>58900</td>\n",
       "      <td>1</td>\n",
       "      <td>1</td>\n",
       "      <td>2</td>\n",
       "      <td>1</td>\n",
       "      <td>12</td>\n",
       "    </tr>\n",
       "  </tbody>\n",
       "</table>\n",
       "</div>"
      ],
      "text/plain": [
       "     customer_no  recency  monetary  frequency recency_score monetary_score  \\\n",
       "0  2015010000596       75     46130          1             1              2   \n",
       "1  2015010000652       25     10930          1             2              1   \n",
       "2  2015010001152        8    178070          4             3              3   \n",
       "3  2015010001213       34     59020          1             2              3   \n",
       "4  2015010001954       28     38900          1             2              2   \n",
       "5  2015010004451       69     68000          1             1              3   \n",
       "6  2015010008884        5    105700          3             3              3   \n",
       "7  2015010076812       50     48900          1             1              2   \n",
       "8  2015020015123       72    127200          1             1              3   \n",
       "9  2015020082265       69     58900          1             1              2   \n",
       "\n",
       "   frequency_score rm_index  \n",
       "0                1       12  \n",
       "1                1       21  \n",
       "2                3       33  \n",
       "3                1       23  \n",
       "4                1       22  \n",
       "5                1       13  \n",
       "6                3       33  \n",
       "7                1       12  \n",
       "8                1       13  \n",
       "9                1       12  "
      ]
     },
     "execution_count": 34,
     "metadata": {},
     "output_type": "execute_result"
    }
   ],
   "source": [
    "# now 기준\n",
    "rfm_user_now['recency_score'] = pd.qcut(rfm_user_now['recency'], 3, labels=[3, 2, 1])\n",
    "rfm_user_now['monetary_score'] = pd.qcut(rfm_user_now['monetary'], 3, labels=[1, 2, 3])\n",
    "\n",
    "# Frequency 점수 계산\n",
    "rfm_user_now['frequency_score'] = rfm_user_now['frequency'].apply(lambda x: 1 if x == 1 else (2 if x == 2 else 3))\n",
    "rfm_user_now['rm_index'] = rfm_user_now['recency_score'].astype(str) + rfm_user_now['monetary_score'].astype(str)\n",
    "rfm_user_now.reset_index(inplace=True)\n",
    "rfm_user_now.head(10)"
   ]
  },
  {
   "cell_type": "code",
   "execution_count": 35,
   "metadata": {},
   "outputs": [
    {
     "data": {
      "text/html": [
       "<div>\n",
       "<style scoped>\n",
       "    .dataframe tbody tr th:only-of-type {\n",
       "        vertical-align: middle;\n",
       "    }\n",
       "\n",
       "    .dataframe tbody tr th {\n",
       "        vertical-align: top;\n",
       "    }\n",
       "\n",
       "    .dataframe thead th {\n",
       "        text-align: right;\n",
       "    }\n",
       "</style>\n",
       "<table border=\"1\" class=\"dataframe\">\n",
       "  <thead>\n",
       "    <tr style=\"text-align: right;\">\n",
       "      <th></th>\n",
       "      <th>customer_no</th>\n",
       "      <th>recency</th>\n",
       "      <th>monetary</th>\n",
       "      <th>frequency</th>\n",
       "      <th>recency_score</th>\n",
       "      <th>monetary_score</th>\n",
       "      <th>frequency_score</th>\n",
       "      <th>rm_index</th>\n",
       "    </tr>\n",
       "  </thead>\n",
       "  <tbody>\n",
       "    <tr>\n",
       "      <th>0</th>\n",
       "      <td>2015010000596</td>\n",
       "      <td>21</td>\n",
       "      <td>28410</td>\n",
       "      <td>1</td>\n",
       "      <td>3</td>\n",
       "      <td>2</td>\n",
       "      <td>1</td>\n",
       "      <td>32</td>\n",
       "    </tr>\n",
       "    <tr>\n",
       "      <th>1</th>\n",
       "      <td>2015010001152</td>\n",
       "      <td>30</td>\n",
       "      <td>143820</td>\n",
       "      <td>2</td>\n",
       "      <td>2</td>\n",
       "      <td>3</td>\n",
       "      <td>2</td>\n",
       "      <td>23</td>\n",
       "    </tr>\n",
       "    <tr>\n",
       "      <th>2</th>\n",
       "      <td>2015010004299</td>\n",
       "      <td>71</td>\n",
       "      <td>560150</td>\n",
       "      <td>1</td>\n",
       "      <td>1</td>\n",
       "      <td>3</td>\n",
       "      <td>1</td>\n",
       "      <td>13</td>\n",
       "    </tr>\n",
       "    <tr>\n",
       "      <th>3</th>\n",
       "      <td>2015010004451</td>\n",
       "      <td>17</td>\n",
       "      <td>48900</td>\n",
       "      <td>1</td>\n",
       "      <td>3</td>\n",
       "      <td>2</td>\n",
       "      <td>1</td>\n",
       "      <td>32</td>\n",
       "    </tr>\n",
       "    <tr>\n",
       "      <th>4</th>\n",
       "      <td>2015010005813</td>\n",
       "      <td>35</td>\n",
       "      <td>14900</td>\n",
       "      <td>1</td>\n",
       "      <td>2</td>\n",
       "      <td>1</td>\n",
       "      <td>1</td>\n",
       "      <td>21</td>\n",
       "    </tr>\n",
       "    <tr>\n",
       "      <th>5</th>\n",
       "      <td>2015010008884</td>\n",
       "      <td>13</td>\n",
       "      <td>11900</td>\n",
       "      <td>1</td>\n",
       "      <td>3</td>\n",
       "      <td>1</td>\n",
       "      <td>1</td>\n",
       "      <td>31</td>\n",
       "    </tr>\n",
       "    <tr>\n",
       "      <th>6</th>\n",
       "      <td>2015010009464</td>\n",
       "      <td>20</td>\n",
       "      <td>41420</td>\n",
       "      <td>1</td>\n",
       "      <td>3</td>\n",
       "      <td>2</td>\n",
       "      <td>1</td>\n",
       "      <td>32</td>\n",
       "    </tr>\n",
       "    <tr>\n",
       "      <th>7</th>\n",
       "      <td>2015010034753</td>\n",
       "      <td>47</td>\n",
       "      <td>38000</td>\n",
       "      <td>1</td>\n",
       "      <td>2</td>\n",
       "      <td>2</td>\n",
       "      <td>1</td>\n",
       "      <td>22</td>\n",
       "    </tr>\n",
       "    <tr>\n",
       "      <th>8</th>\n",
       "      <td>2015020012649</td>\n",
       "      <td>26</td>\n",
       "      <td>48550</td>\n",
       "      <td>1</td>\n",
       "      <td>2</td>\n",
       "      <td>2</td>\n",
       "      <td>1</td>\n",
       "      <td>22</td>\n",
       "    </tr>\n",
       "    <tr>\n",
       "      <th>9</th>\n",
       "      <td>2015020059941</td>\n",
       "      <td>14</td>\n",
       "      <td>97000</td>\n",
       "      <td>2</td>\n",
       "      <td>3</td>\n",
       "      <td>3</td>\n",
       "      <td>2</td>\n",
       "      <td>33</td>\n",
       "    </tr>\n",
       "  </tbody>\n",
       "</table>\n",
       "</div>"
      ],
      "text/plain": [
       "     customer_no  recency  monetary  frequency recency_score monetary_score  \\\n",
       "0  2015010000596       21     28410          1             3              2   \n",
       "1  2015010001152       30    143820          2             2              3   \n",
       "2  2015010004299       71    560150          1             1              3   \n",
       "3  2015010004451       17     48900          1             3              2   \n",
       "4  2015010005813       35     14900          1             2              1   \n",
       "5  2015010008884       13     11900          1             3              1   \n",
       "6  2015010009464       20     41420          1             3              2   \n",
       "7  2015010034753       47     38000          1             2              2   \n",
       "8  2015020012649       26     48550          1             2              2   \n",
       "9  2015020059941       14     97000          2             3              3   \n",
       "\n",
       "   frequency_score rm_index  \n",
       "0                1       32  \n",
       "1                2       23  \n",
       "2                1       13  \n",
       "3                1       32  \n",
       "4                1       21  \n",
       "5                1       31  \n",
       "6                1       32  \n",
       "7                1       22  \n",
       "8                1       22  \n",
       "9                2       33  "
      ]
     },
     "execution_count": 35,
     "metadata": {},
     "output_type": "execute_result"
    }
   ],
   "source": [
    "# before 기준\n",
    "rfm_user_before['recency_score'] = pd.qcut(rfm_user_before['recency'], 3, labels=[3, 2, 1])\n",
    "rfm_user_before['monetary_score'] = pd.qcut(rfm_user_before['monetary'], 3, labels=[1, 2, 3])\n",
    "# Frequency 점수 계산\n",
    "rfm_user_before['frequency_score'] = rfm_user_before['frequency'].apply(lambda x: 1 if x == 1 else (2 if x == 2 else 3))\n",
    "rfm_user_before['rm_index'] = rfm_user_before['recency_score'].astype(str) + rfm_user_before['monetary_score'].astype(str)\n",
    "rfm_user_before.reset_index(inplace=True)\n",
    "rfm_user_before.head(10)"
   ]
  },
  {
   "cell_type": "markdown",
   "metadata": {},
   "source": [
    "DATA 특성상, frequency(구매 횟수)의 비율이 1,2인 경우가 압도적으로 많아 데이터를 균등하게 나눌 수 없어\\\n",
    "구매횟수가 1일경우 1점, 2일경우 2점, 나머지일 경우 3점을 부여함."
   ]
  },
  {
   "cell_type": "markdown",
   "metadata": {},
   "source": [
    ">RFM 지수 분석"
   ]
  },
  {
   "cell_type": "code",
   "execution_count": 36,
   "metadata": {},
   "outputs": [
    {
     "name": "stdout",
     "output_type": "stream",
     "text": [
      "2021년 2분기 기준 Recency 스코어 구간\n",
      "  recency_score  recency\n",
      "0             3        0\n",
      "1             2       17\n",
      "2             1       44\n",
      "\n",
      "2021년 1분기 기준 Recency 스코어 구간\n",
      "  recency_score  recency\n",
      "0             3        0\n",
      "1             2       23\n",
      "2             1       54\n"
     ]
    }
   ],
   "source": [
    "# 각 스코어별 기준 라인 비교\n",
    "## recency_score\n",
    "print(\"2021년 2분기 기준 Recency 스코어 구간\")\n",
    "print(rfm_user_now.groupby(['recency_score'])['recency'].min().reset_index())\n",
    "print()\n",
    "print(\"2021년 1분기 기준 Recency 스코어 구간\")\n",
    "print(rfm_user_before.groupby(['recency_score'])['recency'].min().reset_index())"
   ]
  },
  {
   "cell_type": "markdown",
   "metadata": {},
   "source": [
    "구매 최근성의 경우 2분기가 1분기에 비해 최신성이 약 1~2주 증가했다고 볼 수 있음.\\\n",
    "이는 다잇다 플랫폼이 재구매까지 걸리는 시간을 단축시키고 구매활동성을 증겨시켰다고 해석됨"
   ]
  },
  {
   "cell_type": "code",
   "execution_count": 37,
   "metadata": {},
   "outputs": [
    {
     "name": "stdout",
     "output_type": "stream",
     "text": [
      "2021년 2분기 기준 Monetary 스코어 구간\n",
      "  monetary_score  monetary\n",
      "0              1       190\n",
      "1              2     28920\n",
      "2              3     58920\n",
      "\n",
      "2021년 1분기 기준 Monetary 스코어 구간\n",
      "  monetary_score  monetary\n",
      "0              1       150\n",
      "1              2     20890\n",
      "2              3     55270\n"
     ]
    }
   ],
   "source": [
    "# 각 스코어별 기준 라인\n",
    "## monetary_score\n",
    "print(\"2021년 2분기 기준 Monetary 스코어 구간\")\n",
    "print(rfm_user_now.groupby(['monetary_score'])['monetary'].min().reset_index())\n",
    "print()\n",
    "print(\"2021년 1분기 기준 Monetary 스코어 구간\")\n",
    "print(rfm_user_before.groupby(['monetary_score'])['monetary'].min().reset_index())"
   ]
  },
  {
   "cell_type": "markdown",
   "metadata": {},
   "source": [
    "구매 금액 또한 1분기에 비해 상승한것을 볼 수 있음.\\\n",
    "특히 스코어 2의 고객의 경우 구매금액이 크게 상승한것으로 나타남."
   ]
  },
  {
   "cell_type": "code",
   "execution_count": 38,
   "metadata": {},
   "outputs": [
    {
     "name": "stdout",
     "output_type": "stream",
     "text": [
      "2021년 2분기 기준 Frequency 스코어 구간\n",
      "   frequency_score  frequency\n",
      "0                1          1\n",
      "1                2          2\n",
      "2                3          3\n",
      "\n",
      "2021년 1분기 기준 Frequency 스코어 구간\n",
      "   frequency_score  frequency\n",
      "0                1          1\n",
      "1                2          2\n",
      "2                3          3\n"
     ]
    }
   ],
   "source": [
    "# 각 스코어별 기준 라인\n",
    "## frequency_score\n",
    "print(\"2021년 2분기 기준 Frequency 스코어 구간\")\n",
    "print(rfm_user_now.groupby(['frequency_score'])['frequency'].min().reset_index())\n",
    "print()\n",
    "print(\"2021년 1분기 기준 Frequency 스코어 구간\")\n",
    "print(rfm_user_before.groupby(['frequency_score'])['frequency'].min().reset_index())"
   ]
  },
  {
   "cell_type": "markdown",
   "metadata": {},
   "source": [
    "구매 빈도의 경우, 데이터의 분포가 2분기와 1분기의 차이가 없는것으로 나타남.\\\n",
    "하지만 이것은 데이터 분포가 고르지 못하기 떄문에 발생한것으로 추정됨.\\\n",
    "**구매 빈도의 경우 RFM분석에 큰 영향을 주지 못할 것**"
   ]
  },
  {
   "cell_type": "markdown",
   "metadata": {},
   "source": [
    "> RFM 지수 별 고객 세그먼트 분류\n",
    "\n",
    "frequency의 경우, 1과 2의 비중이 너무 높기때문에 분석에 포함시키기에 적합하지 않다고 판단,\\\n",
    "구매 금액과 구매 최근성을 바탕으로 세그먼트를 분류함.\n",
    "\n",
    "**RM지수**\n",
    "- 11 = 휴먼상태 집단\n",
    "- 31, 21 = 최신성이 존재하지만, 구매 금액이 적어 구매 유도 전략이 필요한 집단\n",
    "- 12, 13 = 구매 금액이 크지만, 최신성이 낮아 Win-Back 전략을 통해 플랫폼 재사용을 유도해야 하는 집단\n",
    "- 32, 23, 22 = 우수고객 집단\n",
    "- 33 = 최우수고객 집단"
   ]
  },
  {
   "cell_type": "code",
   "execution_count": 39,
   "metadata": {},
   "outputs": [
    {
     "data": {
      "text/html": [
       "<div>\n",
       "<style scoped>\n",
       "    .dataframe tbody tr th:only-of-type {\n",
       "        vertical-align: middle;\n",
       "    }\n",
       "\n",
       "    .dataframe tbody tr th {\n",
       "        vertical-align: top;\n",
       "    }\n",
       "\n",
       "    .dataframe thead th {\n",
       "        text-align: right;\n",
       "    }\n",
       "</style>\n",
       "<table border=\"1\" class=\"dataframe\">\n",
       "  <thead>\n",
       "    <tr style=\"text-align: right;\">\n",
       "      <th></th>\n",
       "      <th>rm_index</th>\n",
       "      <th>customer_count</th>\n",
       "      <th>category</th>\n",
       "    </tr>\n",
       "  </thead>\n",
       "  <tbody>\n",
       "    <tr>\n",
       "      <th>0</th>\n",
       "      <td>11</td>\n",
       "      <td>2683</td>\n",
       "      <td>5_휴면</td>\n",
       "    </tr>\n",
       "    <tr>\n",
       "      <th>1</th>\n",
       "      <td>12</td>\n",
       "      <td>4904</td>\n",
       "      <td>3_윈백대상</td>\n",
       "    </tr>\n",
       "    <tr>\n",
       "      <th>2</th>\n",
       "      <td>13</td>\n",
       "      <td>4753</td>\n",
       "      <td>3_윈백대상</td>\n",
       "    </tr>\n",
       "    <tr>\n",
       "      <th>3</th>\n",
       "      <td>21</td>\n",
       "      <td>4454</td>\n",
       "      <td>4_최신성존재_구매필요</td>\n",
       "    </tr>\n",
       "    <tr>\n",
       "      <th>4</th>\n",
       "      <td>22</td>\n",
       "      <td>4509</td>\n",
       "      <td>2_우수</td>\n",
       "    </tr>\n",
       "    <tr>\n",
       "      <th>5</th>\n",
       "      <td>23</td>\n",
       "      <td>3423</td>\n",
       "      <td>2_우수</td>\n",
       "    </tr>\n",
       "    <tr>\n",
       "      <th>6</th>\n",
       "      <td>31</td>\n",
       "      <td>5764</td>\n",
       "      <td>4_최신성존재_구매필요</td>\n",
       "    </tr>\n",
       "    <tr>\n",
       "      <th>7</th>\n",
       "      <td>32</td>\n",
       "      <td>3493</td>\n",
       "      <td>2_우수</td>\n",
       "    </tr>\n",
       "    <tr>\n",
       "      <th>8</th>\n",
       "      <td>33</td>\n",
       "      <td>3855</td>\n",
       "      <td>1_최우수</td>\n",
       "    </tr>\n",
       "  </tbody>\n",
       "</table>\n",
       "</div>"
      ],
      "text/plain": [
       "  rm_index  customer_count      category\n",
       "0       11            2683          5_휴면\n",
       "1       12            4904        3_윈백대상\n",
       "2       13            4753        3_윈백대상\n",
       "3       21            4454  4_최신성존재_구매필요\n",
       "4       22            4509          2_우수\n",
       "5       23            3423          2_우수\n",
       "6       31            5764  4_최신성존재_구매필요\n",
       "7       32            3493          2_우수\n",
       "8       33            3855         1_최우수"
      ]
     },
     "execution_count": 39,
     "metadata": {},
     "output_type": "execute_result"
    }
   ],
   "source": [
    "def categorize_customer(score):\n",
    "    if score == '33' :\n",
    "        return '1_최우수'\n",
    "    elif score in ['32', '23', '22']:\n",
    "        return '2_우수'\n",
    "    elif score in ['12', '13']:\n",
    "        return '3_윈백대상'\n",
    "    elif score in ['31', '21']:\n",
    "        return '4_최신성존재_구매필요'\n",
    "    elif score in ['11']:\n",
    "        return '5_휴면'\n",
    "    \n",
    "    \n",
    "rm_index_now = rfm_user_now.groupby('rm_index')['customer_no'].nunique().reset_index().rename({'customer_no':'customer_count'}, axis=1)\n",
    "rm_index_now['category'] = rm_index_now['rm_index'].apply(categorize_customer)\n",
    "\n",
    "# 확인\n",
    "rm_index_now"
   ]
  },
  {
   "cell_type": "code",
   "execution_count": 40,
   "metadata": {},
   "outputs": [
    {
     "data": {
      "text/html": [
       "<div>\n",
       "<style scoped>\n",
       "    .dataframe tbody tr th:only-of-type {\n",
       "        vertical-align: middle;\n",
       "    }\n",
       "\n",
       "    .dataframe tbody tr th {\n",
       "        vertical-align: top;\n",
       "    }\n",
       "\n",
       "    .dataframe thead th {\n",
       "        text-align: right;\n",
       "    }\n",
       "</style>\n",
       "<table border=\"1\" class=\"dataframe\">\n",
       "  <thead>\n",
       "    <tr style=\"text-align: right;\">\n",
       "      <th></th>\n",
       "      <th>rm_index</th>\n",
       "      <th>customer_count</th>\n",
       "      <th>category</th>\n",
       "    </tr>\n",
       "  </thead>\n",
       "  <tbody>\n",
       "    <tr>\n",
       "      <th>0</th>\n",
       "      <td>11</td>\n",
       "      <td>4781</td>\n",
       "      <td>5_휴면</td>\n",
       "    </tr>\n",
       "    <tr>\n",
       "      <th>1</th>\n",
       "      <td>12</td>\n",
       "      <td>5705</td>\n",
       "      <td>3_윈백대상</td>\n",
       "    </tr>\n",
       "    <tr>\n",
       "      <th>2</th>\n",
       "      <td>13</td>\n",
       "      <td>4676</td>\n",
       "      <td>3_윈백대상</td>\n",
       "    </tr>\n",
       "    <tr>\n",
       "      <th>3</th>\n",
       "      <td>21</td>\n",
       "      <td>5634</td>\n",
       "      <td>4_최신성존재_구매필요</td>\n",
       "    </tr>\n",
       "    <tr>\n",
       "      <th>4</th>\n",
       "      <td>22</td>\n",
       "      <td>4827</td>\n",
       "      <td>2_우수</td>\n",
       "    </tr>\n",
       "    <tr>\n",
       "      <th>5</th>\n",
       "      <td>23</td>\n",
       "      <td>5073</td>\n",
       "      <td>2_우수</td>\n",
       "    </tr>\n",
       "    <tr>\n",
       "      <th>6</th>\n",
       "      <td>31</td>\n",
       "      <td>4993</td>\n",
       "      <td>4_최신성존재_구매필요</td>\n",
       "    </tr>\n",
       "    <tr>\n",
       "      <th>7</th>\n",
       "      <td>32</td>\n",
       "      <td>4872</td>\n",
       "      <td>2_우수</td>\n",
       "    </tr>\n",
       "    <tr>\n",
       "      <th>8</th>\n",
       "      <td>33</td>\n",
       "      <td>5655</td>\n",
       "      <td>1_최우수</td>\n",
       "    </tr>\n",
       "  </tbody>\n",
       "</table>\n",
       "</div>"
      ],
      "text/plain": [
       "  rm_index  customer_count      category\n",
       "0       11            4781          5_휴면\n",
       "1       12            5705        3_윈백대상\n",
       "2       13            4676        3_윈백대상\n",
       "3       21            5634  4_최신성존재_구매필요\n",
       "4       22            4827          2_우수\n",
       "5       23            5073          2_우수\n",
       "6       31            4993  4_최신성존재_구매필요\n",
       "7       32            4872          2_우수\n",
       "8       33            5655         1_최우수"
      ]
     },
     "execution_count": 40,
     "metadata": {},
     "output_type": "execute_result"
    }
   ],
   "source": [
    "def categorize_customer(score):\n",
    "    if score == '33' :\n",
    "        return '1_최우수'\n",
    "    elif score in ['32', '23', '22']:\n",
    "        return '2_우수'\n",
    "    elif score in ['12', '13']:\n",
    "        return '3_윈백대상'\n",
    "    elif score in ['31', '21']:\n",
    "        return '4_최신성존재_구매필요'\n",
    "    elif score in ['11']:\n",
    "        return '5_휴면'\n",
    "    \n",
    "    \n",
    "rm_index_before = rfm_user_before.groupby('rm_index')['customer_no'].nunique().reset_index().rename({'customer_no':'customer_count'}, axis=1)\n",
    "rm_index_before['category'] = rm_index_before['rm_index'].apply(categorize_customer)\n",
    "\n",
    "# 확인\n",
    "rm_index_before"
   ]
  },
  {
   "cell_type": "markdown",
   "metadata": {},
   "source": [
    ">고객 세그먼트 시각화"
   ]
  },
  {
   "cell_type": "code",
   "execution_count": 41,
   "metadata": {},
   "outputs": [
    {
     "data": {
      "application/vnd.plotly.v1+json": {
       "config": {
        "plotlyServerURL": "https://plot.ly"
       },
       "data": [
        {
         "branchvalues": "total",
         "customdata": [
          [
           3855
          ],
          [
           11425
          ],
          [
           9657
          ],
          [
           10218
          ],
          [
           2683
          ]
         ],
         "domain": {
          "x": [
           0,
           1
          ],
          "y": [
           0,
           1
          ]
         },
         "hovertemplate": "%{label}<br>고객 수: %{customdata[0]}",
         "ids": [
          "1_최우수",
          "2_우수",
          "3_윈백대상",
          "4_최신성존재_구매필요",
          "5_휴면"
         ],
         "labels": [
          "1_최우수",
          "2_우수",
          "3_윈백대상",
          "4_최신성존재_구매필요",
          "5_휴면"
         ],
         "name": "",
         "parents": [
          "",
          "",
          "",
          "",
          ""
         ],
         "type": "treemap",
         "values": [
          3855,
          11425,
          9657,
          10218,
          2683
         ]
        }
       ],
       "layout": {
        "legend": {
         "tracegroupgap": 0
        },
        "margin": {
         "t": 60
        },
        "template": {
         "data": {
          "bar": [
           {
            "error_x": {
             "color": "#2a3f5f"
            },
            "error_y": {
             "color": "#2a3f5f"
            },
            "marker": {
             "line": {
              "color": "#E5ECF6",
              "width": 0.5
             },
             "pattern": {
              "fillmode": "overlay",
              "size": 10,
              "solidity": 0.2
             }
            },
            "type": "bar"
           }
          ],
          "barpolar": [
           {
            "marker": {
             "line": {
              "color": "#E5ECF6",
              "width": 0.5
             },
             "pattern": {
              "fillmode": "overlay",
              "size": 10,
              "solidity": 0.2
             }
            },
            "type": "barpolar"
           }
          ],
          "carpet": [
           {
            "aaxis": {
             "endlinecolor": "#2a3f5f",
             "gridcolor": "white",
             "linecolor": "white",
             "minorgridcolor": "white",
             "startlinecolor": "#2a3f5f"
            },
            "baxis": {
             "endlinecolor": "#2a3f5f",
             "gridcolor": "white",
             "linecolor": "white",
             "minorgridcolor": "white",
             "startlinecolor": "#2a3f5f"
            },
            "type": "carpet"
           }
          ],
          "choropleth": [
           {
            "colorbar": {
             "outlinewidth": 0,
             "ticks": ""
            },
            "type": "choropleth"
           }
          ],
          "contour": [
           {
            "colorbar": {
             "outlinewidth": 0,
             "ticks": ""
            },
            "colorscale": [
             [
              0,
              "#0d0887"
             ],
             [
              0.1111111111111111,
              "#46039f"
             ],
             [
              0.2222222222222222,
              "#7201a8"
             ],
             [
              0.3333333333333333,
              "#9c179e"
             ],
             [
              0.4444444444444444,
              "#bd3786"
             ],
             [
              0.5555555555555556,
              "#d8576b"
             ],
             [
              0.6666666666666666,
              "#ed7953"
             ],
             [
              0.7777777777777778,
              "#fb9f3a"
             ],
             [
              0.8888888888888888,
              "#fdca26"
             ],
             [
              1,
              "#f0f921"
             ]
            ],
            "type": "contour"
           }
          ],
          "contourcarpet": [
           {
            "colorbar": {
             "outlinewidth": 0,
             "ticks": ""
            },
            "type": "contourcarpet"
           }
          ],
          "heatmap": [
           {
            "colorbar": {
             "outlinewidth": 0,
             "ticks": ""
            },
            "colorscale": [
             [
              0,
              "#0d0887"
             ],
             [
              0.1111111111111111,
              "#46039f"
             ],
             [
              0.2222222222222222,
              "#7201a8"
             ],
             [
              0.3333333333333333,
              "#9c179e"
             ],
             [
              0.4444444444444444,
              "#bd3786"
             ],
             [
              0.5555555555555556,
              "#d8576b"
             ],
             [
              0.6666666666666666,
              "#ed7953"
             ],
             [
              0.7777777777777778,
              "#fb9f3a"
             ],
             [
              0.8888888888888888,
              "#fdca26"
             ],
             [
              1,
              "#f0f921"
             ]
            ],
            "type": "heatmap"
           }
          ],
          "heatmapgl": [
           {
            "colorbar": {
             "outlinewidth": 0,
             "ticks": ""
            },
            "colorscale": [
             [
              0,
              "#0d0887"
             ],
             [
              0.1111111111111111,
              "#46039f"
             ],
             [
              0.2222222222222222,
              "#7201a8"
             ],
             [
              0.3333333333333333,
              "#9c179e"
             ],
             [
              0.4444444444444444,
              "#bd3786"
             ],
             [
              0.5555555555555556,
              "#d8576b"
             ],
             [
              0.6666666666666666,
              "#ed7953"
             ],
             [
              0.7777777777777778,
              "#fb9f3a"
             ],
             [
              0.8888888888888888,
              "#fdca26"
             ],
             [
              1,
              "#f0f921"
             ]
            ],
            "type": "heatmapgl"
           }
          ],
          "histogram": [
           {
            "marker": {
             "pattern": {
              "fillmode": "overlay",
              "size": 10,
              "solidity": 0.2
             }
            },
            "type": "histogram"
           }
          ],
          "histogram2d": [
           {
            "colorbar": {
             "outlinewidth": 0,
             "ticks": ""
            },
            "colorscale": [
             [
              0,
              "#0d0887"
             ],
             [
              0.1111111111111111,
              "#46039f"
             ],
             [
              0.2222222222222222,
              "#7201a8"
             ],
             [
              0.3333333333333333,
              "#9c179e"
             ],
             [
              0.4444444444444444,
              "#bd3786"
             ],
             [
              0.5555555555555556,
              "#d8576b"
             ],
             [
              0.6666666666666666,
              "#ed7953"
             ],
             [
              0.7777777777777778,
              "#fb9f3a"
             ],
             [
              0.8888888888888888,
              "#fdca26"
             ],
             [
              1,
              "#f0f921"
             ]
            ],
            "type": "histogram2d"
           }
          ],
          "histogram2dcontour": [
           {
            "colorbar": {
             "outlinewidth": 0,
             "ticks": ""
            },
            "colorscale": [
             [
              0,
              "#0d0887"
             ],
             [
              0.1111111111111111,
              "#46039f"
             ],
             [
              0.2222222222222222,
              "#7201a8"
             ],
             [
              0.3333333333333333,
              "#9c179e"
             ],
             [
              0.4444444444444444,
              "#bd3786"
             ],
             [
              0.5555555555555556,
              "#d8576b"
             ],
             [
              0.6666666666666666,
              "#ed7953"
             ],
             [
              0.7777777777777778,
              "#fb9f3a"
             ],
             [
              0.8888888888888888,
              "#fdca26"
             ],
             [
              1,
              "#f0f921"
             ]
            ],
            "type": "histogram2dcontour"
           }
          ],
          "mesh3d": [
           {
            "colorbar": {
             "outlinewidth": 0,
             "ticks": ""
            },
            "type": "mesh3d"
           }
          ],
          "parcoords": [
           {
            "line": {
             "colorbar": {
              "outlinewidth": 0,
              "ticks": ""
             }
            },
            "type": "parcoords"
           }
          ],
          "pie": [
           {
            "automargin": true,
            "type": "pie"
           }
          ],
          "scatter": [
           {
            "fillpattern": {
             "fillmode": "overlay",
             "size": 10,
             "solidity": 0.2
            },
            "type": "scatter"
           }
          ],
          "scatter3d": [
           {
            "line": {
             "colorbar": {
              "outlinewidth": 0,
              "ticks": ""
             }
            },
            "marker": {
             "colorbar": {
              "outlinewidth": 0,
              "ticks": ""
             }
            },
            "type": "scatter3d"
           }
          ],
          "scattercarpet": [
           {
            "marker": {
             "colorbar": {
              "outlinewidth": 0,
              "ticks": ""
             }
            },
            "type": "scattercarpet"
           }
          ],
          "scattergeo": [
           {
            "marker": {
             "colorbar": {
              "outlinewidth": 0,
              "ticks": ""
             }
            },
            "type": "scattergeo"
           }
          ],
          "scattergl": [
           {
            "marker": {
             "colorbar": {
              "outlinewidth": 0,
              "ticks": ""
             }
            },
            "type": "scattergl"
           }
          ],
          "scattermapbox": [
           {
            "marker": {
             "colorbar": {
              "outlinewidth": 0,
              "ticks": ""
             }
            },
            "type": "scattermapbox"
           }
          ],
          "scatterpolar": [
           {
            "marker": {
             "colorbar": {
              "outlinewidth": 0,
              "ticks": ""
             }
            },
            "type": "scatterpolar"
           }
          ],
          "scatterpolargl": [
           {
            "marker": {
             "colorbar": {
              "outlinewidth": 0,
              "ticks": ""
             }
            },
            "type": "scatterpolargl"
           }
          ],
          "scatterternary": [
           {
            "marker": {
             "colorbar": {
              "outlinewidth": 0,
              "ticks": ""
             }
            },
            "type": "scatterternary"
           }
          ],
          "surface": [
           {
            "colorbar": {
             "outlinewidth": 0,
             "ticks": ""
            },
            "colorscale": [
             [
              0,
              "#0d0887"
             ],
             [
              0.1111111111111111,
              "#46039f"
             ],
             [
              0.2222222222222222,
              "#7201a8"
             ],
             [
              0.3333333333333333,
              "#9c179e"
             ],
             [
              0.4444444444444444,
              "#bd3786"
             ],
             [
              0.5555555555555556,
              "#d8576b"
             ],
             [
              0.6666666666666666,
              "#ed7953"
             ],
             [
              0.7777777777777778,
              "#fb9f3a"
             ],
             [
              0.8888888888888888,
              "#fdca26"
             ],
             [
              1,
              "#f0f921"
             ]
            ],
            "type": "surface"
           }
          ],
          "table": [
           {
            "cells": {
             "fill": {
              "color": "#EBF0F8"
             },
             "line": {
              "color": "white"
             }
            },
            "header": {
             "fill": {
              "color": "#C8D4E3"
             },
             "line": {
              "color": "white"
             }
            },
            "type": "table"
           }
          ]
         },
         "layout": {
          "annotationdefaults": {
           "arrowcolor": "#2a3f5f",
           "arrowhead": 0,
           "arrowwidth": 1
          },
          "autotypenumbers": "strict",
          "coloraxis": {
           "colorbar": {
            "outlinewidth": 0,
            "ticks": ""
           }
          },
          "colorscale": {
           "diverging": [
            [
             0,
             "#8e0152"
            ],
            [
             0.1,
             "#c51b7d"
            ],
            [
             0.2,
             "#de77ae"
            ],
            [
             0.3,
             "#f1b6da"
            ],
            [
             0.4,
             "#fde0ef"
            ],
            [
             0.5,
             "#f7f7f7"
            ],
            [
             0.6,
             "#e6f5d0"
            ],
            [
             0.7,
             "#b8e186"
            ],
            [
             0.8,
             "#7fbc41"
            ],
            [
             0.9,
             "#4d9221"
            ],
            [
             1,
             "#276419"
            ]
           ],
           "sequential": [
            [
             0,
             "#0d0887"
            ],
            [
             0.1111111111111111,
             "#46039f"
            ],
            [
             0.2222222222222222,
             "#7201a8"
            ],
            [
             0.3333333333333333,
             "#9c179e"
            ],
            [
             0.4444444444444444,
             "#bd3786"
            ],
            [
             0.5555555555555556,
             "#d8576b"
            ],
            [
             0.6666666666666666,
             "#ed7953"
            ],
            [
             0.7777777777777778,
             "#fb9f3a"
            ],
            [
             0.8888888888888888,
             "#fdca26"
            ],
            [
             1,
             "#f0f921"
            ]
           ],
           "sequentialminus": [
            [
             0,
             "#0d0887"
            ],
            [
             0.1111111111111111,
             "#46039f"
            ],
            [
             0.2222222222222222,
             "#7201a8"
            ],
            [
             0.3333333333333333,
             "#9c179e"
            ],
            [
             0.4444444444444444,
             "#bd3786"
            ],
            [
             0.5555555555555556,
             "#d8576b"
            ],
            [
             0.6666666666666666,
             "#ed7953"
            ],
            [
             0.7777777777777778,
             "#fb9f3a"
            ],
            [
             0.8888888888888888,
             "#fdca26"
            ],
            [
             1,
             "#f0f921"
            ]
           ]
          },
          "colorway": [
           "#636efa",
           "#EF553B",
           "#00cc96",
           "#ab63fa",
           "#FFA15A",
           "#19d3f3",
           "#FF6692",
           "#B6E880",
           "#FF97FF",
           "#FECB52"
          ],
          "font": {
           "color": "#2a3f5f"
          },
          "geo": {
           "bgcolor": "white",
           "lakecolor": "white",
           "landcolor": "#E5ECF6",
           "showlakes": true,
           "showland": true,
           "subunitcolor": "white"
          },
          "hoverlabel": {
           "align": "left"
          },
          "hovermode": "closest",
          "mapbox": {
           "style": "light"
          },
          "paper_bgcolor": "white",
          "plot_bgcolor": "#E5ECF6",
          "polar": {
           "angularaxis": {
            "gridcolor": "white",
            "linecolor": "white",
            "ticks": ""
           },
           "bgcolor": "#E5ECF6",
           "radialaxis": {
            "gridcolor": "white",
            "linecolor": "white",
            "ticks": ""
           }
          },
          "scene": {
           "xaxis": {
            "backgroundcolor": "#E5ECF6",
            "gridcolor": "white",
            "gridwidth": 2,
            "linecolor": "white",
            "showbackground": true,
            "ticks": "",
            "zerolinecolor": "white"
           },
           "yaxis": {
            "backgroundcolor": "#E5ECF6",
            "gridcolor": "white",
            "gridwidth": 2,
            "linecolor": "white",
            "showbackground": true,
            "ticks": "",
            "zerolinecolor": "white"
           },
           "zaxis": {
            "backgroundcolor": "#E5ECF6",
            "gridcolor": "white",
            "gridwidth": 2,
            "linecolor": "white",
            "showbackground": true,
            "ticks": "",
            "zerolinecolor": "white"
           }
          },
          "shapedefaults": {
           "line": {
            "color": "#2a3f5f"
           }
          },
          "ternary": {
           "aaxis": {
            "gridcolor": "white",
            "linecolor": "white",
            "ticks": ""
           },
           "baxis": {
            "gridcolor": "white",
            "linecolor": "white",
            "ticks": ""
           },
           "bgcolor": "#E5ECF6",
           "caxis": {
            "gridcolor": "white",
            "linecolor": "white",
            "ticks": ""
           }
          },
          "title": {
           "x": 0.05
          },
          "xaxis": {
           "automargin": true,
           "gridcolor": "white",
           "linecolor": "white",
           "ticks": "",
           "title": {
            "standoff": 15
           },
           "zerolinecolor": "white",
           "zerolinewidth": 2
          },
          "yaxis": {
           "automargin": true,
           "gridcolor": "white",
           "linecolor": "white",
           "ticks": "",
           "title": {
            "standoff": 15
           },
           "zerolinecolor": "white",
           "zerolinewidth": 2
          }
         }
        },
        "title": {
         "text": "2021년 2분기 기준 RM 세그먼트 단위 고객 수 현황"
        }
       }
      }
     },
     "metadata": {},
     "output_type": "display_data"
    }
   ],
   "source": [
    "# 차트 그리기 (now)\n",
    "# 트리맵 차트 시각화\n",
    "fig = px.treemap(rm_index_now,\n",
    "                 path = ['category'],\n",
    "                 values = 'customer_count',\n",
    "                 color_continuous_scale = 'viridis',\n",
    "                 custom_data=['customer_count'])\n",
    "\n",
    "# 트리맵에 데이터 표시\n",
    "for trace in fig.data:\n",
    "    trace.hovertemplate = '%{label}<br>고객 수: %{customdata[0]}'  # 'customer_count'를 '고객 수'로 변경\n",
    "\n",
    "# 차트 타이틀 추가\n",
    "fig.update_layout(title_text='2021년 2분기 기준 RM 세그먼트 단위 고객 수 현황')\n",
    "\n",
    "fig.show()"
   ]
  },
  {
   "cell_type": "code",
   "execution_count": 42,
   "metadata": {},
   "outputs": [
    {
     "data": {
      "application/vnd.plotly.v1+json": {
       "config": {
        "plotlyServerURL": "https://plot.ly"
       },
       "data": [
        {
         "branchvalues": "total",
         "customdata": [
          [
           5655
          ],
          [
           14772
          ],
          [
           10381
          ],
          [
           10627
          ],
          [
           4781
          ]
         ],
         "domain": {
          "x": [
           0,
           1
          ],
          "y": [
           0,
           1
          ]
         },
         "hovertemplate": "%{label}<br>고객 수: %{customdata[0]}",
         "ids": [
          "1_최우수",
          "2_우수",
          "3_윈백대상",
          "4_최신성존재_구매필요",
          "5_휴면"
         ],
         "labels": [
          "1_최우수",
          "2_우수",
          "3_윈백대상",
          "4_최신성존재_구매필요",
          "5_휴면"
         ],
         "name": "",
         "parents": [
          "",
          "",
          "",
          "",
          ""
         ],
         "type": "treemap",
         "values": [
          5655,
          14772,
          10381,
          10627,
          4781
         ]
        }
       ],
       "layout": {
        "legend": {
         "tracegroupgap": 0
        },
        "margin": {
         "t": 60
        },
        "template": {
         "data": {
          "bar": [
           {
            "error_x": {
             "color": "#2a3f5f"
            },
            "error_y": {
             "color": "#2a3f5f"
            },
            "marker": {
             "line": {
              "color": "#E5ECF6",
              "width": 0.5
             },
             "pattern": {
              "fillmode": "overlay",
              "size": 10,
              "solidity": 0.2
             }
            },
            "type": "bar"
           }
          ],
          "barpolar": [
           {
            "marker": {
             "line": {
              "color": "#E5ECF6",
              "width": 0.5
             },
             "pattern": {
              "fillmode": "overlay",
              "size": 10,
              "solidity": 0.2
             }
            },
            "type": "barpolar"
           }
          ],
          "carpet": [
           {
            "aaxis": {
             "endlinecolor": "#2a3f5f",
             "gridcolor": "white",
             "linecolor": "white",
             "minorgridcolor": "white",
             "startlinecolor": "#2a3f5f"
            },
            "baxis": {
             "endlinecolor": "#2a3f5f",
             "gridcolor": "white",
             "linecolor": "white",
             "minorgridcolor": "white",
             "startlinecolor": "#2a3f5f"
            },
            "type": "carpet"
           }
          ],
          "choropleth": [
           {
            "colorbar": {
             "outlinewidth": 0,
             "ticks": ""
            },
            "type": "choropleth"
           }
          ],
          "contour": [
           {
            "colorbar": {
             "outlinewidth": 0,
             "ticks": ""
            },
            "colorscale": [
             [
              0,
              "#0d0887"
             ],
             [
              0.1111111111111111,
              "#46039f"
             ],
             [
              0.2222222222222222,
              "#7201a8"
             ],
             [
              0.3333333333333333,
              "#9c179e"
             ],
             [
              0.4444444444444444,
              "#bd3786"
             ],
             [
              0.5555555555555556,
              "#d8576b"
             ],
             [
              0.6666666666666666,
              "#ed7953"
             ],
             [
              0.7777777777777778,
              "#fb9f3a"
             ],
             [
              0.8888888888888888,
              "#fdca26"
             ],
             [
              1,
              "#f0f921"
             ]
            ],
            "type": "contour"
           }
          ],
          "contourcarpet": [
           {
            "colorbar": {
             "outlinewidth": 0,
             "ticks": ""
            },
            "type": "contourcarpet"
           }
          ],
          "heatmap": [
           {
            "colorbar": {
             "outlinewidth": 0,
             "ticks": ""
            },
            "colorscale": [
             [
              0,
              "#0d0887"
             ],
             [
              0.1111111111111111,
              "#46039f"
             ],
             [
              0.2222222222222222,
              "#7201a8"
             ],
             [
              0.3333333333333333,
              "#9c179e"
             ],
             [
              0.4444444444444444,
              "#bd3786"
             ],
             [
              0.5555555555555556,
              "#d8576b"
             ],
             [
              0.6666666666666666,
              "#ed7953"
             ],
             [
              0.7777777777777778,
              "#fb9f3a"
             ],
             [
              0.8888888888888888,
              "#fdca26"
             ],
             [
              1,
              "#f0f921"
             ]
            ],
            "type": "heatmap"
           }
          ],
          "heatmapgl": [
           {
            "colorbar": {
             "outlinewidth": 0,
             "ticks": ""
            },
            "colorscale": [
             [
              0,
              "#0d0887"
             ],
             [
              0.1111111111111111,
              "#46039f"
             ],
             [
              0.2222222222222222,
              "#7201a8"
             ],
             [
              0.3333333333333333,
              "#9c179e"
             ],
             [
              0.4444444444444444,
              "#bd3786"
             ],
             [
              0.5555555555555556,
              "#d8576b"
             ],
             [
              0.6666666666666666,
              "#ed7953"
             ],
             [
              0.7777777777777778,
              "#fb9f3a"
             ],
             [
              0.8888888888888888,
              "#fdca26"
             ],
             [
              1,
              "#f0f921"
             ]
            ],
            "type": "heatmapgl"
           }
          ],
          "histogram": [
           {
            "marker": {
             "pattern": {
              "fillmode": "overlay",
              "size": 10,
              "solidity": 0.2
             }
            },
            "type": "histogram"
           }
          ],
          "histogram2d": [
           {
            "colorbar": {
             "outlinewidth": 0,
             "ticks": ""
            },
            "colorscale": [
             [
              0,
              "#0d0887"
             ],
             [
              0.1111111111111111,
              "#46039f"
             ],
             [
              0.2222222222222222,
              "#7201a8"
             ],
             [
              0.3333333333333333,
              "#9c179e"
             ],
             [
              0.4444444444444444,
              "#bd3786"
             ],
             [
              0.5555555555555556,
              "#d8576b"
             ],
             [
              0.6666666666666666,
              "#ed7953"
             ],
             [
              0.7777777777777778,
              "#fb9f3a"
             ],
             [
              0.8888888888888888,
              "#fdca26"
             ],
             [
              1,
              "#f0f921"
             ]
            ],
            "type": "histogram2d"
           }
          ],
          "histogram2dcontour": [
           {
            "colorbar": {
             "outlinewidth": 0,
             "ticks": ""
            },
            "colorscale": [
             [
              0,
              "#0d0887"
             ],
             [
              0.1111111111111111,
              "#46039f"
             ],
             [
              0.2222222222222222,
              "#7201a8"
             ],
             [
              0.3333333333333333,
              "#9c179e"
             ],
             [
              0.4444444444444444,
              "#bd3786"
             ],
             [
              0.5555555555555556,
              "#d8576b"
             ],
             [
              0.6666666666666666,
              "#ed7953"
             ],
             [
              0.7777777777777778,
              "#fb9f3a"
             ],
             [
              0.8888888888888888,
              "#fdca26"
             ],
             [
              1,
              "#f0f921"
             ]
            ],
            "type": "histogram2dcontour"
           }
          ],
          "mesh3d": [
           {
            "colorbar": {
             "outlinewidth": 0,
             "ticks": ""
            },
            "type": "mesh3d"
           }
          ],
          "parcoords": [
           {
            "line": {
             "colorbar": {
              "outlinewidth": 0,
              "ticks": ""
             }
            },
            "type": "parcoords"
           }
          ],
          "pie": [
           {
            "automargin": true,
            "type": "pie"
           }
          ],
          "scatter": [
           {
            "fillpattern": {
             "fillmode": "overlay",
             "size": 10,
             "solidity": 0.2
            },
            "type": "scatter"
           }
          ],
          "scatter3d": [
           {
            "line": {
             "colorbar": {
              "outlinewidth": 0,
              "ticks": ""
             }
            },
            "marker": {
             "colorbar": {
              "outlinewidth": 0,
              "ticks": ""
             }
            },
            "type": "scatter3d"
           }
          ],
          "scattercarpet": [
           {
            "marker": {
             "colorbar": {
              "outlinewidth": 0,
              "ticks": ""
             }
            },
            "type": "scattercarpet"
           }
          ],
          "scattergeo": [
           {
            "marker": {
             "colorbar": {
              "outlinewidth": 0,
              "ticks": ""
             }
            },
            "type": "scattergeo"
           }
          ],
          "scattergl": [
           {
            "marker": {
             "colorbar": {
              "outlinewidth": 0,
              "ticks": ""
             }
            },
            "type": "scattergl"
           }
          ],
          "scattermapbox": [
           {
            "marker": {
             "colorbar": {
              "outlinewidth": 0,
              "ticks": ""
             }
            },
            "type": "scattermapbox"
           }
          ],
          "scatterpolar": [
           {
            "marker": {
             "colorbar": {
              "outlinewidth": 0,
              "ticks": ""
             }
            },
            "type": "scatterpolar"
           }
          ],
          "scatterpolargl": [
           {
            "marker": {
             "colorbar": {
              "outlinewidth": 0,
              "ticks": ""
             }
            },
            "type": "scatterpolargl"
           }
          ],
          "scatterternary": [
           {
            "marker": {
             "colorbar": {
              "outlinewidth": 0,
              "ticks": ""
             }
            },
            "type": "scatterternary"
           }
          ],
          "surface": [
           {
            "colorbar": {
             "outlinewidth": 0,
             "ticks": ""
            },
            "colorscale": [
             [
              0,
              "#0d0887"
             ],
             [
              0.1111111111111111,
              "#46039f"
             ],
             [
              0.2222222222222222,
              "#7201a8"
             ],
             [
              0.3333333333333333,
              "#9c179e"
             ],
             [
              0.4444444444444444,
              "#bd3786"
             ],
             [
              0.5555555555555556,
              "#d8576b"
             ],
             [
              0.6666666666666666,
              "#ed7953"
             ],
             [
              0.7777777777777778,
              "#fb9f3a"
             ],
             [
              0.8888888888888888,
              "#fdca26"
             ],
             [
              1,
              "#f0f921"
             ]
            ],
            "type": "surface"
           }
          ],
          "table": [
           {
            "cells": {
             "fill": {
              "color": "#EBF0F8"
             },
             "line": {
              "color": "white"
             }
            },
            "header": {
             "fill": {
              "color": "#C8D4E3"
             },
             "line": {
              "color": "white"
             }
            },
            "type": "table"
           }
          ]
         },
         "layout": {
          "annotationdefaults": {
           "arrowcolor": "#2a3f5f",
           "arrowhead": 0,
           "arrowwidth": 1
          },
          "autotypenumbers": "strict",
          "coloraxis": {
           "colorbar": {
            "outlinewidth": 0,
            "ticks": ""
           }
          },
          "colorscale": {
           "diverging": [
            [
             0,
             "#8e0152"
            ],
            [
             0.1,
             "#c51b7d"
            ],
            [
             0.2,
             "#de77ae"
            ],
            [
             0.3,
             "#f1b6da"
            ],
            [
             0.4,
             "#fde0ef"
            ],
            [
             0.5,
             "#f7f7f7"
            ],
            [
             0.6,
             "#e6f5d0"
            ],
            [
             0.7,
             "#b8e186"
            ],
            [
             0.8,
             "#7fbc41"
            ],
            [
             0.9,
             "#4d9221"
            ],
            [
             1,
             "#276419"
            ]
           ],
           "sequential": [
            [
             0,
             "#0d0887"
            ],
            [
             0.1111111111111111,
             "#46039f"
            ],
            [
             0.2222222222222222,
             "#7201a8"
            ],
            [
             0.3333333333333333,
             "#9c179e"
            ],
            [
             0.4444444444444444,
             "#bd3786"
            ],
            [
             0.5555555555555556,
             "#d8576b"
            ],
            [
             0.6666666666666666,
             "#ed7953"
            ],
            [
             0.7777777777777778,
             "#fb9f3a"
            ],
            [
             0.8888888888888888,
             "#fdca26"
            ],
            [
             1,
             "#f0f921"
            ]
           ],
           "sequentialminus": [
            [
             0,
             "#0d0887"
            ],
            [
             0.1111111111111111,
             "#46039f"
            ],
            [
             0.2222222222222222,
             "#7201a8"
            ],
            [
             0.3333333333333333,
             "#9c179e"
            ],
            [
             0.4444444444444444,
             "#bd3786"
            ],
            [
             0.5555555555555556,
             "#d8576b"
            ],
            [
             0.6666666666666666,
             "#ed7953"
            ],
            [
             0.7777777777777778,
             "#fb9f3a"
            ],
            [
             0.8888888888888888,
             "#fdca26"
            ],
            [
             1,
             "#f0f921"
            ]
           ]
          },
          "colorway": [
           "#636efa",
           "#EF553B",
           "#00cc96",
           "#ab63fa",
           "#FFA15A",
           "#19d3f3",
           "#FF6692",
           "#B6E880",
           "#FF97FF",
           "#FECB52"
          ],
          "font": {
           "color": "#2a3f5f"
          },
          "geo": {
           "bgcolor": "white",
           "lakecolor": "white",
           "landcolor": "#E5ECF6",
           "showlakes": true,
           "showland": true,
           "subunitcolor": "white"
          },
          "hoverlabel": {
           "align": "left"
          },
          "hovermode": "closest",
          "mapbox": {
           "style": "light"
          },
          "paper_bgcolor": "white",
          "plot_bgcolor": "#E5ECF6",
          "polar": {
           "angularaxis": {
            "gridcolor": "white",
            "linecolor": "white",
            "ticks": ""
           },
           "bgcolor": "#E5ECF6",
           "radialaxis": {
            "gridcolor": "white",
            "linecolor": "white",
            "ticks": ""
           }
          },
          "scene": {
           "xaxis": {
            "backgroundcolor": "#E5ECF6",
            "gridcolor": "white",
            "gridwidth": 2,
            "linecolor": "white",
            "showbackground": true,
            "ticks": "",
            "zerolinecolor": "white"
           },
           "yaxis": {
            "backgroundcolor": "#E5ECF6",
            "gridcolor": "white",
            "gridwidth": 2,
            "linecolor": "white",
            "showbackground": true,
            "ticks": "",
            "zerolinecolor": "white"
           },
           "zaxis": {
            "backgroundcolor": "#E5ECF6",
            "gridcolor": "white",
            "gridwidth": 2,
            "linecolor": "white",
            "showbackground": true,
            "ticks": "",
            "zerolinecolor": "white"
           }
          },
          "shapedefaults": {
           "line": {
            "color": "#2a3f5f"
           }
          },
          "ternary": {
           "aaxis": {
            "gridcolor": "white",
            "linecolor": "white",
            "ticks": ""
           },
           "baxis": {
            "gridcolor": "white",
            "linecolor": "white",
            "ticks": ""
           },
           "bgcolor": "#E5ECF6",
           "caxis": {
            "gridcolor": "white",
            "linecolor": "white",
            "ticks": ""
           }
          },
          "title": {
           "x": 0.05
          },
          "xaxis": {
           "automargin": true,
           "gridcolor": "white",
           "linecolor": "white",
           "ticks": "",
           "title": {
            "standoff": 15
           },
           "zerolinecolor": "white",
           "zerolinewidth": 2
          },
          "yaxis": {
           "automargin": true,
           "gridcolor": "white",
           "linecolor": "white",
           "ticks": "",
           "title": {
            "standoff": 15
           },
           "zerolinecolor": "white",
           "zerolinewidth": 2
          }
         }
        },
        "title": {
         "text": "2021년 1분기 기준 RM 세그먼트 단위 고객 수 현황"
        }
       }
      }
     },
     "metadata": {},
     "output_type": "display_data"
    }
   ],
   "source": [
    "# 차트 그리기 (이전)\n",
    "# 트리맵 차트 시각화\n",
    "fig = px.treemap(rm_index_before,\n",
    "                 path = ['category'],\n",
    "                 values = 'customer_count',\n",
    "                 color_continuous_scale = 'viridis',\n",
    "                 custom_data=['customer_count'])\n",
    "\n",
    "# 트리맵에 데이터 표시\n",
    "for trace in fig.data:\n",
    "    trace.hovertemplate = '%{label}<br>고객 수: %{customdata[0]}'  # 'customer_count'를 '고객 수'로 변경\n",
    "\n",
    "# 차트 타이틀 추가\n",
    "fig.update_layout(title_text='2021년 1분기 기준 RM 세그먼트 단위 고객 수 현황')\n",
    "\n",
    "fig.show()"
   ]
  },
  {
   "cell_type": "markdown",
   "metadata": {},
   "source": [
    "> 구매 활동성 비교분석\n",
    "\n",
    "1분기와 2분기에 모두 구매한 이력을 가지고 있는 고객을 대상으로\\\n",
    "RFM지수에 가중치를 부여해 RFM점수를 환산하고 분기별 RFM점수를 비교해 구매 활동성의 변화를 분석해보도록함.\\\n",
    "가중치의 경우, 다소 신뢰성이 떨어지는 구매 빈도에 0.2를 부여하고 구매주기, 구매금액에 0.4씩 부여해 산정함. "
   ]
  },
  {
   "cell_type": "code",
   "execution_count": 43,
   "metadata": {},
   "outputs": [],
   "source": [
    "# 2021년 6월 기준\n",
    "rfm_user_now['overall_score'] = rfm_user_now['recency_score'].astype(int)*0.4 + rfm_user_now['monetary_score'].astype(int)*0.4 + rfm_user_now['frequency_score'].astype(int)*0.2\n",
    "\n",
    "# 2021년 3월 기준\n",
    "rfm_user_before['overall_score'] = rfm_user_before['recency_score'].astype(int)*0.4 + rfm_user_before['monetary_score'].astype(int)*0.4 + rfm_user_before['frequency_score'].astype(int)*0.2"
   ]
  },
  {
   "cell_type": "code",
   "execution_count": 44,
   "metadata": {},
   "outputs": [
    {
     "data": {
      "text/html": [
       "<div>\n",
       "<style scoped>\n",
       "    .dataframe tbody tr th:only-of-type {\n",
       "        vertical-align: middle;\n",
       "    }\n",
       "\n",
       "    .dataframe tbody tr th {\n",
       "        vertical-align: top;\n",
       "    }\n",
       "\n",
       "    .dataframe thead th {\n",
       "        text-align: right;\n",
       "    }\n",
       "</style>\n",
       "<table border=\"1\" class=\"dataframe\">\n",
       "  <thead>\n",
       "    <tr style=\"text-align: right;\">\n",
       "      <th></th>\n",
       "      <th>customer_no</th>\n",
       "      <th>now_score</th>\n",
       "      <th>before_score</th>\n",
       "      <th>score_status</th>\n",
       "    </tr>\n",
       "  </thead>\n",
       "  <tbody>\n",
       "    <tr>\n",
       "      <th>0</th>\n",
       "      <td>2015010000596</td>\n",
       "      <td>1.4</td>\n",
       "      <td>2.2</td>\n",
       "      <td>3_하락</td>\n",
       "    </tr>\n",
       "    <tr>\n",
       "      <th>1</th>\n",
       "      <td>2015010001152</td>\n",
       "      <td>3.0</td>\n",
       "      <td>2.4</td>\n",
       "      <td>1_상승</td>\n",
       "    </tr>\n",
       "    <tr>\n",
       "      <th>2</th>\n",
       "      <td>2015010004451</td>\n",
       "      <td>1.8</td>\n",
       "      <td>2.2</td>\n",
       "      <td>3_하락</td>\n",
       "    </tr>\n",
       "    <tr>\n",
       "      <th>3</th>\n",
       "      <td>2015010008884</td>\n",
       "      <td>3.0</td>\n",
       "      <td>1.8</td>\n",
       "      <td>1_상승</td>\n",
       "    </tr>\n",
       "    <tr>\n",
       "      <th>4</th>\n",
       "      <td>2015020094111</td>\n",
       "      <td>2.4</td>\n",
       "      <td>3.0</td>\n",
       "      <td>3_하락</td>\n",
       "    </tr>\n",
       "    <tr>\n",
       "      <th>...</th>\n",
       "      <td>...</td>\n",
       "      <td>...</td>\n",
       "      <td>...</td>\n",
       "      <td>...</td>\n",
       "    </tr>\n",
       "    <tr>\n",
       "      <th>12023</th>\n",
       "      <td>2021037472523</td>\n",
       "      <td>2.6</td>\n",
       "      <td>2.6</td>\n",
       "      <td>1_상승</td>\n",
       "    </tr>\n",
       "    <tr>\n",
       "      <th>12024</th>\n",
       "      <td>2021037475676</td>\n",
       "      <td>2.6</td>\n",
       "      <td>1.8</td>\n",
       "      <td>1_상승</td>\n",
       "    </tr>\n",
       "    <tr>\n",
       "      <th>12025</th>\n",
       "      <td>2021037499556</td>\n",
       "      <td>2.6</td>\n",
       "      <td>2.6</td>\n",
       "      <td>1_상승</td>\n",
       "    </tr>\n",
       "    <tr>\n",
       "      <th>12026</th>\n",
       "      <td>2021037499951</td>\n",
       "      <td>2.6</td>\n",
       "      <td>2.6</td>\n",
       "      <td>1_상승</td>\n",
       "    </tr>\n",
       "    <tr>\n",
       "      <th>12027</th>\n",
       "      <td>2021037501624</td>\n",
       "      <td>2.6</td>\n",
       "      <td>2.6</td>\n",
       "      <td>1_상승</td>\n",
       "    </tr>\n",
       "  </tbody>\n",
       "</table>\n",
       "<p>12028 rows × 4 columns</p>\n",
       "</div>"
      ],
      "text/plain": [
       "         customer_no  now_score  before_score score_status\n",
       "0      2015010000596        1.4           2.2         3_하락\n",
       "1      2015010001152        3.0           2.4         1_상승\n",
       "2      2015010004451        1.8           2.2         3_하락\n",
       "3      2015010008884        3.0           1.8         1_상승\n",
       "4      2015020094111        2.4           3.0         3_하락\n",
       "...              ...        ...           ...          ...\n",
       "12023  2021037472523        2.6           2.6         1_상승\n",
       "12024  2021037475676        2.6           1.8         1_상승\n",
       "12025  2021037499556        2.6           2.6         1_상승\n",
       "12026  2021037499951        2.6           2.6         1_상승\n",
       "12027  2021037501624        2.6           2.6         1_상승\n",
       "\n",
       "[12028 rows x 4 columns]"
      ]
     },
     "execution_count": 44,
     "metadata": {},
     "output_type": "execute_result"
    }
   ],
   "source": [
    "# 오버롤 비교 데이터프레임 생성 (단, 양 기간 비교를 위해 inner join으로 연결)\n",
    "merged_df = pd.merge(rfm_user_now[['customer_no', 'overall_score']], rfm_user_before[['customer_no', 'overall_score']], on='customer_no', how='inner')\n",
    "merged_df = merged_df.rename(columns={'overall_score_x': 'now_score', 'overall_score_y': 'before_score'})\n",
    "merged_df['score_status'] = np.where(merged_df['now_score'] > merged_df['before_score'], '1_상승',\n",
    "                                     np.where(merged_df['now_score'] == merged_df['before_score'], '2_동일', '3_하락'))\n",
    "merged_df"
   ]
  },
  {
   "cell_type": "code",
   "execution_count": 45,
   "metadata": {},
   "outputs": [
    {
     "data": {
      "text/html": [
       "<div>\n",
       "<style scoped>\n",
       "    .dataframe tbody tr th:only-of-type {\n",
       "        vertical-align: middle;\n",
       "    }\n",
       "\n",
       "    .dataframe tbody tr th {\n",
       "        vertical-align: top;\n",
       "    }\n",
       "\n",
       "    .dataframe thead th {\n",
       "        text-align: right;\n",
       "    }\n",
       "</style>\n",
       "<table border=\"1\" class=\"dataframe\">\n",
       "  <thead>\n",
       "    <tr style=\"text-align: right;\">\n",
       "      <th></th>\n",
       "      <th>score_status</th>\n",
       "      <th>고객 수</th>\n",
       "    </tr>\n",
       "  </thead>\n",
       "  <tbody>\n",
       "    <tr>\n",
       "      <th>0</th>\n",
       "      <td>1_상승</td>\n",
       "      <td>4845</td>\n",
       "    </tr>\n",
       "    <tr>\n",
       "      <th>1</th>\n",
       "      <td>2_동일</td>\n",
       "      <td>2224</td>\n",
       "    </tr>\n",
       "    <tr>\n",
       "      <th>2</th>\n",
       "      <td>3_하락</td>\n",
       "      <td>4959</td>\n",
       "    </tr>\n",
       "    <tr>\n",
       "      <th>3</th>\n",
       "      <td>Total</td>\n",
       "      <td>12028</td>\n",
       "    </tr>\n",
       "  </tbody>\n",
       "</table>\n",
       "</div>"
      ],
      "text/plain": [
       "  score_status   고객 수\n",
       "0         1_상승   4845\n",
       "1         2_동일   2224\n",
       "2         3_하락   4959\n",
       "3        Total  12028"
      ]
     },
     "execution_count": 45,
     "metadata": {},
     "output_type": "execute_result"
    }
   ],
   "source": [
    "# 상태별 고객 수 확인\n",
    "score_stat = merged_df.groupby(['score_status'])['customer_no'].nunique().reset_index().rename({'customer_no':'고객 수'}, axis=1)\n",
    "\n",
    "# 고객 수 합계 추가\n",
    "score_stat = score_stat.append({'score_status': 'Total', '고객 수': score_stat['고객 수'].sum()}, ignore_index=True)\n",
    "\n",
    "# 결과 출력\n",
    "score_stat"
   ]
  },
  {
   "cell_type": "markdown",
   "metadata": {},
   "source": [
    "> 결과 정리\n",
    "\n",
    "다잇다 플랫폼은 높은 구매활동성을 가진(우수, 최우수)고객층을 상당수 보유하고 있지만,\\\n",
    "2분기에 들어서 이들의 비율이 소폭 감소한것으로 나타났음.\n",
    "\n",
    "하지만 휴면고객의 비중이 낮아지고 새로운 고객의 수가 증가하는 긍정적인면 또한 존재하는것으로 나타남.\n",
    "\n",
    "다잇다 플랫폼은 \n",
    "\n",
    "- 구매활동성이 높은 고객을 유지하기 위한 멤버십 전략 \n",
    "- 돌아온 휴면 고객과 구매 금액이 적은 고객들에게 마케팅 전략\n",
    "- 구매 최신성이 높은 고객에게 재구매 유도 전략\n",
    "\n",
    "위와같은 전략을 수립함으로써 고객의 추가 구매를 유도해 볼 수 있을 것임.\n",
    "\n"
   ]
  }
 ],
 "metadata": {
  "kernelspec": {
   "display_name": "base",
   "language": "python",
   "name": "python3"
  },
  "language_info": {
   "codemirror_mode": {
    "name": "ipython",
    "version": 3
   },
   "file_extension": ".py",
   "mimetype": "text/x-python",
   "name": "python",
   "nbconvert_exporter": "python",
   "pygments_lexer": "ipython3",
   "version": "3.9.13"
  }
 },
 "nbformat": 4,
 "nbformat_minor": 2
}
